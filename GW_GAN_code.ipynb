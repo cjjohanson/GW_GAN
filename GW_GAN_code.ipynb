{
  "nbformat": 4,
  "nbformat_minor": 0,
  "metadata": {
    "colab": {
      "provenance": [],
      "authorship_tag": "ABX9TyMfbjn/cn9hJIurKGelo2xy",
      "include_colab_link": true
    },
    "kernelspec": {
      "name": "python3",
      "display_name": "Python 3"
    },
    "language_info": {
      "name": "python"
    },
    "gpuClass": "premium",
    "accelerator": "GPU"
  },
  "cells": [
    {
      "cell_type": "markdown",
      "metadata": {
        "id": "view-in-github",
        "colab_type": "text"
      },
      "source": [
        "<a href=\"https://colab.research.google.com/github/cjjohanson/GW_GAN/blob/main/GW_GAN_code.ipynb\" target=\"_parent\"><img src=\"https://colab.research.google.com/assets/colab-badge.svg\" alt=\"Open In Colab\"/></a>"
      ]
    },
    {
      "cell_type": "code",
      "source": [
        "import time\n",
        "import numpy as np\n",
        "import torch\n",
        "import torch.nn as nn\n",
        "from torch.autograd.variable import Variable\n",
        "import torch.optim as optim\n",
        "import os\n",
        "from tqdm import tqdm\n",
        "import matplotlib.pyplot as plt\n",
        "import json\n",
        "from google.colab import drive\n",
        "drive.mount('/content/gdrive')\n"
      ],
      "metadata": {
        "id": "fLUfPZCvWApb",
        "colab": {
          "base_uri": "https://localhost:8080/"
        },
        "outputId": "91a0fb13-2a88-410e-d85a-ed34cd85faba"
      },
      "execution_count": 1,
      "outputs": [
        {
          "output_type": "stream",
          "name": "stdout",
          "text": [
            "Mounted at /content/gdrive\n"
          ]
        }
      ]
    },
    {
      "cell_type": "code",
      "source": [
        "# use GPU if available and check cuda device\n",
        "if torch.cuda.is_available():\n",
        "    device = torch.device(\"cuda:0\")\n",
        "    cuda = True\n",
        "    print(\"Number of GPU's: \", torch.cuda.device_count())\n",
        "    print(\"GPU name: \", torch.cuda.get_device_name(0))\n",
        "else:\n",
        "    device = torch.device(\"cpu\")\n",
        "    cuda = False\n",
        "    print(\"No GPU found !\")"
      ],
      "metadata": {
        "colab": {
          "base_uri": "https://localhost:8080/"
        },
        "id": "6yDdmjH39mXV",
        "outputId": "86e94fd2-d4ed-4855-ef0d-a4c46e6f124e"
      },
      "execution_count": 2,
      "outputs": [
        {
          "output_type": "stream",
          "name": "stdout",
          "text": [
            "Number of GPU's:  1\n",
            "GPU name:  NVIDIA A100-SXM4-40GB\n"
          ]
        }
      ]
    },
    {
      "cell_type": "code",
      "source": [
        "# parameters for the size of the training sets\n",
        "\n",
        "# how many samples in training data\n",
        "train_data_length = 1024\n",
        "# how many samples in each piece of training data\n",
        "sample_rate = 1024\n",
        "# how big each batch is\n",
        "batch_size = 32"
      ],
      "metadata": {
        "id": "ETNAt24CwFvV"
      },
      "execution_count": 3,
      "outputs": []
    },
    {
      "cell_type": "code",
      "source": [
        "# create gaussian pulse training data (i.e., \"real\" data)\n",
        "\n",
        "def gaussianpulse(sample_rate,n_signals):\n",
        "    '''\n",
        "    Returns an numpy array where n_signals is the\n",
        "    number of signals and sample_rate is how many\n",
        "    numbers are sampled within a given signal.\n",
        "    '''\n",
        "    t = np.linspace(0,1,sample_rate)\n",
        "    t_0 =  np.random.uniform(0.4,0.6,n_signals)\n",
        "    tau = np.random.uniform(1.0/100.0,1.0/20.0,n_signals)\n",
        "    t_0 = np.expand_dims(t_0,axis = 1)\n",
        "    tau = np.expand_dims(tau,axis = 1)\n",
        "    h_1 = np.exp(-(t-t_0)**2/(tau**2))\n",
        "    return torch.tensor(h_1)\n",
        "\n",
        "# generate the data\n",
        "gaussian_pulse_training_data = gaussianpulse(sample_rate, train_data_length)\n",
        "gaussian_pulse_training_data = gaussian_pulse_training_data.to(device)\n",
        "\n",
        "gaussian_pulse_train_set = [\n",
        "    gaussian_pulse_training_data[i] for i in range(train_data_length)\n",
        "]\n",
        "\n",
        "# load the training data into DataLoader object\n",
        "gaussian_pulse_train_loader = torch.utils.data.DataLoader(\n",
        "    gaussian_pulse_train_set, batch_size=batch_size, shuffle=True\n",
        ")"
      ],
      "metadata": {
        "id": "07vxeglMaMIK"
      },
      "execution_count": 4,
      "outputs": []
    },
    {
      "cell_type": "code",
      "source": [
        "# create sine wave training data (i.e., \"real\" data)\n",
        "\n",
        "def sine_wave(num_samples, sampling_rate, duration):\n",
        "  \"\"\"\n",
        "  Creates a matrix of different sine waves bound by a frequence multiplier of\n",
        "  4 to 4.25 and a vertical shift between -0.5 and 0.5\n",
        "\n",
        "  num_samples: number of samples to create\n",
        "  sampling_rate: the number of samples for a given observation\n",
        "  duration: how long the observation lasts (in seconds)\n",
        "\n",
        "  \"\"\"\n",
        "  # represents time series\n",
        "  time_points = np.arange(0, duration, 2/sampling_rate)\n",
        "  # matrix of zero for broadcasting\n",
        "  zero_matrix = np.zeros((num_samples, sampling_rate))\n",
        "  # full matrix with (num_samples X sampling_rate) matrix where each row is\n",
        "  # a time series of 0 to 2 seconds sampling_rate samples\n",
        "  full_matrix = time_points + zero_matrix\n",
        "\n",
        "  # create an array of values to alter the frequency\n",
        "  phase_multiplier = np.random.uniform(low=4, high=4.5, size=(num_samples, 1))\n",
        "  # create an array of values to vertically shift the waves\n",
        "  shift = np.random.uniform(low=-0.5, high=0.5, size=(num_samples, 1))\n",
        "\n",
        "  # combine all parts to make final matrix\n",
        "  final_matrix = np.sin(phase_multiplier * full_matrix * np.pi) + shift\n",
        "\n",
        "  return final_matrix\n",
        "\n",
        "\n",
        "# generate the data\n",
        "sine_wave_training_data = sine_wave(num_samples=train_data_length,\n",
        "                                    sampling_rate=sample_rate, duration=2)\n",
        "sine_wave_training_data = sine_wave_training_data.to(device)\n",
        "\n",
        "sine_wave_train_set = [\n",
        "    sine_wave_training_data[i] for i in range(train_data_length)\n",
        "]\n",
        "\n",
        "# load the training data into DataLoader object\n",
        "sine_wave_train_loader = torch.utils.data.DataLoader(\n",
        "    sine_wave_train_set, batch_size=batch_size, shuffle=True\n",
        ")"
      ],
      "metadata": {
        "id": "lG6rAMCXwybz"
      },
      "execution_count": 5,
      "outputs": []
    },
    {
      "cell_type": "code",
      "source": [
        "# print out model architecture to text file for presentation\n",
        "\n",
        "def write_model_architecture_to_file(model, file_name):\n",
        "  '''\n",
        "  Prints model architecture to text file, first deletes file if it exists\n",
        "  to avoid appending\n",
        "\n",
        "  model: PyTorch model\n",
        "  file_name: text file to send the model architecture to\n",
        "  file_dir: directory where the text file should be stored\n",
        "  '''\n",
        "  if file_name:\n",
        "    os.remove(file_name)\n",
        "\n",
        "  print(model, file=open(file_name, 'w'))"
      ],
      "metadata": {
        "id": "5M99-uSVozxM"
      },
      "execution_count": null,
      "outputs": []
    },
    {
      "cell_type": "code",
      "source": [
        "class GenerativeNet(torch.nn.Module):\n",
        "\t\"\"\"\n",
        "\tClass for the generator network for the CTGAN, implemented as a :class:`~torch:torch.nn.Module`. It is composed by a fully connected convolutional neural network.\n",
        "\t\"\"\"\n",
        "\tdef __init__(self, num_features, latent_size):\n",
        "\t\tsuper(GenerativeNet, self).__init__()\n",
        "\t\tself.main = nn.Sequential(\n",
        "            nn.ConvTranspose1d(in_channels=latent_size, \n",
        "\t\t\t\t\t\t\t\t\t\t\t\t\t\t\tout_channels=num_features*32, kernel_size=58, \n",
        "\t\t\t\t\t\t\t\t\t\t\t\t\t\t\tstride=1, padding=0),\n",
        "            nn.BatchNorm1d(num_features*32),\n",
        "            nn.LeakyReLU(0.2, inplace=True),\n",
        "\n",
        "            nn.ConvTranspose1d(in_channels=num_features*32, \n",
        "\t\t\t\t\t\t\t\t\t\t\t\t\t\t\tout_channels=num_features*16, kernel_size=4, \n",
        "\t\t\t\t\t\t\t\t\t\t\t\t\t\t\tstride=1, padding=0),\n",
        "            nn.BatchNorm1d(num_features*16),\n",
        "            nn.LeakyReLU(0.2, inplace=True),\n",
        "\n",
        "\n",
        "            nn.ConvTranspose1d(in_channels=num_features*16, \n",
        "\t\t\t\t\t\t\t\t\t\t\t\t\t\t\tout_channels=num_features*8, kernel_size=4, \n",
        "\t\t\t\t\t\t\t\t\t\t\t\t\t\t\tstride=1, padding=0),\n",
        "            nn.BatchNorm1d(num_features*8),\n",
        "            nn.LeakyReLU(0.2, inplace=True),\n",
        "\n",
        "            nn.ConvTranspose1d(in_channels=num_features*8, \n",
        "                               out_channels=num_features*4, kernel_size=4, \n",
        "                               stride=2, padding=1),\n",
        "            nn.BatchNorm1d(num_features*4),\n",
        "            nn.LeakyReLU(0.2, inplace=True),\n",
        "\n",
        "            nn.ConvTranspose1d(in_channels=num_features*4, \n",
        "                               out_channels=num_features*2, kernel_size=4, \n",
        "                               stride=2, padding=1),\n",
        "            nn.BatchNorm1d(num_features*2),\n",
        "            nn.LeakyReLU(0.2, inplace=True),\n",
        "\n",
        "            nn.ConvTranspose1d(in_channels=num_features*2, \n",
        "                               out_channels=num_features, kernel_size=4, \n",
        "                               stride=2, padding=1),\n",
        "            nn.BatchNorm1d(num_features),\n",
        "            nn.LeakyReLU(0.2, inplace=True),\n",
        "\n",
        "            nn.ConvTranspose1d(in_channels=num_features, out_channels=1, \n",
        "                               kernel_size=4, stride=2, padding=1, bias=False),\n",
        "            nn.Tanh()\n",
        "        )\n",
        "\n",
        "\tdef forward(self, x):\n",
        "\t\t\"\"\"\n",
        "\t\tGiven a stretch of random noise, it transforms it into a glitch\n",
        "\t\t\"\"\"\n",
        "\t\treturn self.main(x)\n"
      ],
      "metadata": {
        "id": "jEk8piXkFav3"
      },
      "execution_count": 6,
      "outputs": []
    },
    {
      "cell_type": "code",
      "source": [
        "# THIS IS THE DISCRIMINATOR FROM GENGLI\n",
        "\n",
        "################################\n",
        "#   Create the Discriminator   #\n",
        "################################\n",
        "\n",
        "\n",
        "class DiscriminativeNet(torch.nn.Module):\n",
        "\t\"\"\"\n",
        "\tClass for the discriminator network for the CTGAN, implemented as a :class:`~torch:torch.nn`. It is composed by a fully connected convolutional neural network.\n",
        "\t\"\"\"\n",
        "\t\n",
        "\tdef __init__(self, dropout_rate, num_features, batch_size):\n",
        "\n",
        "\t\tsuper(DiscriminativeNet, self).__init__()\n",
        "\n",
        "\t\tself.batch_size = batch_size\n",
        "\n",
        "\t\tself.conv1 = nn.Sequential(\n",
        "\t\t\tnn.utils.spectral_norm\n",
        "\t\t\t(nn.Conv1d(in_channels=1, out_channels=num_features,\n",
        "\t\t\t\t\t   kernel_size=5, stride=2, padding=1, bias=False)),\n",
        "\t\t\tnn.LeakyReLU(0.2, inplace=True))\n",
        "\t\tself.conv2 = nn.Sequential(\n",
        "\t\t\tnn.utils.spectral_norm\n",
        "\t\t\t(nn.Conv1d(in_channels=num_features, out_channels=num_features*2,\n",
        "\t\t\t\t\t   kernel_size=5, stride=2, padding=0, bias=False)),\n",
        "\t\t\tnn.Dropout(p=dropout_rate, inplace=True),\n",
        "\t\t\tnn.LeakyReLU(0.2, inplace=True))\n",
        "\t\tself.conv3 = nn.Sequential(\n",
        "\t\t\tnn.utils.spectral_norm\n",
        "\t\t\t(nn.Conv1d(in_channels=num_features*2,\n",
        "\t\t\t\t\t   out_channels=num_features*4,\n",
        "\t\t\t\t\t   kernel_size=5, stride=2, padding=0, bias=False)),\n",
        "\t\t\tnn.Dropout(p=dropout_rate, inplace=True),\n",
        "\t\t\tnn.LeakyReLU(0.2, inplace=True))\n",
        "\t\tself.conv4 = nn.Sequential(\n",
        "\t\t\tnn.utils.spectral_norm\n",
        "\t\t\t(nn.Conv1d(in_channels=num_features*4,\n",
        "\t\t\t\t\t   out_channels=num_features*8,\n",
        "\t\t\t\t\t   kernel_size=5, stride=2, padding=0, bias=False)),\n",
        "\t\t\tnn.Dropout(p=dropout_rate, inplace=True),\n",
        "\t\t\tnn.LeakyReLU(0.2, inplace=True))\n",
        "\t\tself.conv5 = nn.Sequential(\n",
        "\t\t\tnn.utils.spectral_norm\n",
        "\t\t\t(nn.Conv1d(in_channels=num_features*8,\n",
        "\t\t\t\t\t   out_channels=num_features*16,\n",
        "\t\t\t\t\t   kernel_size=5, stride=2, padding=0, bias=False)),\n",
        "\t\t\tnn.Dropout(p=dropout_rate, inplace=True),\n",
        "\t\t\tnn.LeakyReLU(0.2, inplace=True))\n",
        "\t\tself.conv6 = nn.Sequential(\n",
        "\t\t\tnn.utils.spectral_norm\n",
        "\t\t\t(nn.Conv1d(in_channels=num_features*16,\n",
        "\t\t\t\t\t   out_channels=num_features*32,\n",
        "\t\t\t\t\t   kernel_size=5, stride=2, padding=0, bias=False)),\n",
        "\t\t\tnn.Dropout(p=dropout_rate, inplace=True),\n",
        "\t\t\tnn.LeakyReLU(0.2, inplace=True))\n",
        "\t\tself.conv7 = nn.Sequential(\n",
        "\t\t\tnn.utils.spectral_norm\n",
        "\t\t\t(nn.Conv1d(in_channels=num_features*32,\n",
        "\t\t\t\t\t   out_channels=1, kernel_size=13,\n",
        "\t\t\t\t\t   stride=2, padding=0, bias=False)),\n",
        "\t\t\tnn.Flatten())\n",
        "\n",
        "\tdef forward(self, x):\n",
        "\t\t\"\"\"\n",
        "\t\tGiven a time series, it returns a classification score of whether the input is real or fake.\n",
        "\t\t\"\"\"\n",
        "\t\tx = self.conv1(x)\n",
        "\t\tx = self.conv2(x)\n",
        "\t\tx = self.conv3(x)\n",
        "\t\tx = self.conv4(x)\n",
        "\t\tx = self.conv5(x)\n",
        "\t\tx_ = self.conv6(x)\n",
        "\t\tx = self.conv7(x_)\n",
        "\t\tx_ = x_.view(self.batch_size, -1)\n",
        "\n",
        "\t\treturn x, x_\n"
      ],
      "metadata": {
        "id": "KF5d63Wf34pb"
      },
      "execution_count": 7,
      "outputs": []
    },
    {
      "cell_type": "code",
      "source": [
        "######################################################\n",
        "#   Weights initialization called on netG and netD   #\n",
        "######################################################\n",
        "\n",
        "\n",
        "def init_weights(m):\n",
        "\n",
        "\tclassname = m.__class__.__name__\n",
        "\n",
        "\tif classname.find('Conv') != -1:\n",
        "\t\tm.weight.data.normal_(0.00, 0.02)\n",
        "\n",
        "\telif classname.find('BatchNorm') != -1:\n",
        "\t\tm.weight.data.normal_(1.00, 0.02)\n",
        "\n",
        "\n",
        "def init_weights2(m):\n",
        "\n",
        "\tclassname = m.__class__.__name__\n",
        "\n",
        "\tif classname.find('Conv') != -1:  # or classname.find('BatchNorm') != -1:\n",
        "\t\tm.weight.data.normal_(0.00, 0.02)\n",
        "\telif classname.find('LayerNorm') != -1:\n",
        "\t\tm.weight.data.normal_(1.00, 0.02)\n"
      ],
      "metadata": {
        "id": "RB9AA7CMV28s"
      },
      "execution_count": 8,
      "outputs": []
    },
    {
      "cell_type": "code",
      "source": [
        "############################\n",
        "#   Training information   #\n",
        "############################\n",
        "\n",
        "# Number of training epochs\n",
        "num_epochs = 500\n",
        "\n",
        "# Number of iterations of the Discriminator per iteration of the Generator\n",
        "ncycles_D = 5\n",
        "\n",
        "# Loss weight for the gradient penalty\n",
        "lambda_gp = 5\n",
        "\n",
        "# Consistency term parameters\n",
        "lambda_ct = 5\n",
        "M = 0.1\n",
        "\n",
        "# Learning rate for optimizers\n",
        "lr_D = 0.0001\n",
        "lr_G = 0.0001\n",
        "\n",
        "# # Number of features/channels\n",
        "num_features = 64\n",
        "\n",
        "# Dropout rate\n",
        "dropout_rate = 0.6\n",
        "\n",
        "# Length random vector\n",
        "length_noise = 100\n",
        "\n",
        "# # Create fixed noise to generate glitches if safety_glitch == True\n",
        "# fixed_noise = torch.randn((batch_size, 1, length_noise), device=device)\n",
        "# Create fixed noise to generate glitches if safety_glitch == True\n",
        "fixed_noise = torch.randn((batch_size, length_noise, 1), device=device)\n",
        "\n",
        "# Parameters of rROF\n",
        "tol = 0.0000001\n",
        "lam = 0.5\n",
        "beta = 1\n",
        "h = 1\n",
        "params = [h, beta, lam, tol]\n",
        "\n",
        "# Create a fixed glitch for sanity check:\n",
        "safety_glitch = True\n",
        "\n",
        "# Save CTGAN state\n",
        "save_state = False\n",
        "\n",
        "# Store losses\n",
        "store_loss = False\n",
        "\n",
        "# directory to save training outputs\n",
        "save_dir = '/content/gdrive/MyDrive/GAN/'\n"
      ],
      "metadata": {
        "id": "vY6hxglliXT-"
      },
      "execution_count": 9,
      "outputs": []
    },
    {
      "cell_type": "code",
      "source": [
        "# set up the generator and discriminator for gaussian pulse\n",
        "gen_gaussian = GenerativeNet(num_features=num_features, \n",
        "                    latent_size=length_noise).to(device)\n",
        "gen_gaussian.apply(init_weights)\n",
        "# print out model architecture to file for presentation\n",
        "# only do this once for any generator and once for any discriminator\n",
        "# because all of the models below use the same architecture\n",
        "file_name = 'gen_architecture.txt'\n",
        "write_model_architecture_to_file(model=gen_gaussian, file_name=file_name)\n",
        "\n",
        "disc_gaussian = DiscriminativeNet(dropout_rate=dropout_rate, num_features=num_features, \n",
        "                         batch_size=batch_size).to(device)\n",
        "disc_gaussian.apply(init_weights2)\n",
        "file_name = 'disc_architecture.txt'\n",
        "write_model_architecture_to_file(model=disc_gaussian, file_name=file_name)\n",
        "\n",
        "\n",
        "# set up the generator and discriminator for sine wave\n",
        "gen_sine = GenerativeNet(num_features=num_features, \n",
        "                    latent_size=length_noise).to(device)\n",
        "gen_sine.apply(init_weights)\n",
        "\n",
        "disc_sine = DiscriminativeNet(dropout_rate=dropout_rate, num_features=num_features, \n",
        "                         batch_size=batch_size).to(device)\n",
        "disc_sine.apply(init_weights2)\n"
      ],
      "metadata": {
        "colab": {
          "base_uri": "https://localhost:8080/"
        },
        "id": "WUOX1ReN9T9l",
        "outputId": "32c9f390-3012-4870-d4cf-aa7a1c1ecabd"
      },
      "execution_count": 10,
      "outputs": [
        {
          "output_type": "execute_result",
          "data": {
            "text/plain": [
              "DiscriminativeNet(\n",
              "  (conv1): Sequential(\n",
              "    (0): Conv1d(1, 64, kernel_size=(5,), stride=(2,), padding=(1,), bias=False)\n",
              "    (1): LeakyReLU(negative_slope=0.2, inplace=True)\n",
              "  )\n",
              "  (conv2): Sequential(\n",
              "    (0): Conv1d(64, 128, kernel_size=(5,), stride=(2,), bias=False)\n",
              "    (1): Dropout(p=0.6, inplace=True)\n",
              "    (2): LeakyReLU(negative_slope=0.2, inplace=True)\n",
              "  )\n",
              "  (conv3): Sequential(\n",
              "    (0): Conv1d(128, 256, kernel_size=(5,), stride=(2,), bias=False)\n",
              "    (1): Dropout(p=0.6, inplace=True)\n",
              "    (2): LeakyReLU(negative_slope=0.2, inplace=True)\n",
              "  )\n",
              "  (conv4): Sequential(\n",
              "    (0): Conv1d(256, 512, kernel_size=(5,), stride=(2,), bias=False)\n",
              "    (1): Dropout(p=0.6, inplace=True)\n",
              "    (2): LeakyReLU(negative_slope=0.2, inplace=True)\n",
              "  )\n",
              "  (conv5): Sequential(\n",
              "    (0): Conv1d(512, 1024, kernel_size=(5,), stride=(2,), bias=False)\n",
              "    (1): Dropout(p=0.6, inplace=True)\n",
              "    (2): LeakyReLU(negative_slope=0.2, inplace=True)\n",
              "  )\n",
              "  (conv6): Sequential(\n",
              "    (0): Conv1d(1024, 2048, kernel_size=(5,), stride=(2,), bias=False)\n",
              "    (1): Dropout(p=0.6, inplace=True)\n",
              "    (2): LeakyReLU(negative_slope=0.2, inplace=True)\n",
              "  )\n",
              "  (conv7): Sequential(\n",
              "    (0): Conv1d(2048, 1, kernel_size=(13,), stride=(2,), bias=False)\n",
              "    (1): Flatten(start_dim=1, end_dim=-1)\n",
              "  )\n",
              ")"
            ]
          },
          "metadata": {},
          "execution_count": 10
        }
      ]
    },
    {
      "cell_type": "code",
      "source": [
        "#####################\n",
        "#   Training Loop   #\n",
        "#####################\n",
        "\n",
        "if torch.cuda.is_available():\n",
        "\tcuda = True\n",
        "else:\n",
        "\tcuda = False\n",
        "\n",
        "Tensor = torch.cuda.FloatTensor if cuda else torch.FloatTensor\n",
        "\n",
        "\n",
        "def training_loop(num_epochs, data_loader, ncycles_D, lambda_gp,\n",
        "\t\t\t\t  lambda_ct, M, batch_size, length_noise, device, netD,\n",
        "\t\t\t\t  netG, lr_D, lr_G, fixed_noise, safety_glitch, \n",
        "\t\t\t\t\ttraining_performance_dict, save_dir=None, save_file_name=None,\n",
        "\t\t\t\t\tsafety_glitch_file_name=None):\n",
        "\t\"\"\"\n",
        "\tTraining and validation loops for CTGAN.\n",
        "\t\n",
        "\tParameters\n",
        "\t----------\n",
        "\tnum_epochs: int\n",
        "\t\tnumber of training epochs\n",
        "\tdata_loader: torch.utils.data.DataLoader\n",
        "\t\tTorch data loader holding the training data\n",
        "\tncycles_D: int\n",
        "\t\tNumber of iterations of the Discriminator per iteration of the Generator\n",
        "\tlambda_gp: float\n",
        "\t\tGradient Penalty (GP) parameter\n",
        "\tlambda_ct: float\n",
        "\t\tConsistency Term (CT) parameter\n",
        "\tM: float\n",
        "\t\tConstant parameter involved in the computation of the Consistency Term (CT). Recommended values are between 0 and 0.2.\n",
        "\tbatch_size: int \n",
        "\t\tNumber of batches for each iteration\n",
        "\tlength_noise: int \n",
        "\t\tSize of the noise vector\n",
        "\tdevice: torch.device\n",
        "\t\tTorch device object. It is recommended to initialize it with a GPU\n",
        "\tnetD: gengli.ctgan.DiscriminativeNet\n",
        "\t\tDiscriminator network\n",
        "\tnetG: gengli.ctgan.GenerativeNet\n",
        "\t\tGenerator network\n",
        "\tlr_D: float \n",
        "\t\tLearning rate for the discriminator\n",
        "\tlr_G: float\n",
        "\t\tLearning rate for the generator\n",
        "\tfixed_noise: torch.tensor\n",
        "\t\tTensor holding fixed noise for sanity check\n",
        "\tsafety_glitch: bool\n",
        "\t\tSanity check for model. We create fixed noise to generate glitches if True.\n",
        "\ttraining_performance_dict: dictionary\n",
        "\t\tDictionary used to store training performance data to be plotted later\n",
        "\tsave_dir: str\n",
        "\t\tDirectory where the training performance data will be saved to\n",
        "\tsave_file_name: str\n",
        "\t\tFile name where the training performance data will be saved to\n",
        "\tsafety_glitch_file_name:\n",
        "\t\tFile name where the safety glitches are save in a numpy file\n",
        "\t\"\"\"\n",
        "\n",
        "\t\n",
        "\t# create numpy array to save safety glitch outputs\n",
        "\tsafety_glitch_output_data = list()\n",
        "\n",
        "\t# Set optimizer\n",
        "\toptimizerD = optim.RMSprop(netD.parameters(), lr=lr_D)\n",
        "\toptimizerG = optim.RMSprop(netG.parameters(), lr=lr_G)\n",
        "\n",
        "\t# Lists to keep track of progress\n",
        "\tG_losses = list()\n",
        "\tD_losses = list()\n",
        "\tD_real_losses = list()\n",
        "\tD_fake_losses = list()\n",
        "\tD_gp_losses = list()\n",
        "\tD_ct_losses = list()\n",
        "\n",
        "\t# Training loop, loops on epochs\n",
        "\n",
        "\tfor epoch in tqdm(range(num_epochs), desc = 'CT-GAN training loop'):\n",
        "\n",
        "\t\titers = 0\n",
        "\t\ttimer_start = time.time()\n",
        "\n",
        "\t\t# For each batch in the data\n",
        "\t\tfor batch_real in data_loader:\n",
        "\n",
        "\t\t\t# Iterate ncycles_D times over the Discriminator\n",
        "\t\t\tfor j in np.arange(ncycles_D):\n",
        "\n",
        "\t\t\t\t# (1) Update D network  #\n",
        "\n",
        "\t\t\t\t# Train with all-real batch\n",
        "\t\t\t\t# Zeroing the gradients\n",
        "\t\t\t\tnetD.zero_grad()\n",
        "\t\t\t\t# Real batch generation\n",
        "\t\t\t\tdata_real = batch_real.view(batch_size, 1, -1)\n",
        "\t\t\t\tdata_real = data_real.to(device)\n",
        "\t\t\t\tdata_real = data_real.float()  #casting to float #FIXME: is this ok also for GPU?\n",
        "\t\t\t\t# Forward pass real batch through D\n",
        "\t\t\t\tD_real, D_real_ = netD(data_real)\n",
        "\t\t\t\tD_real = D_real.view(-1)\n",
        "\t\t\t\t# Calculate loss on all-real batch\n",
        "\t\t\t\terrD_real = torch.mean(D_real)\n",
        "\n",
        "\t\t\t\t# Train with all-fake batch\n",
        "\t\t\t\t# Generate batch of latent vectors\n",
        "\t\t\t\tnoise = torch.randn((batch_size, length_noise, 1),\n",
        "\t\t\t\t\t\t\t\t\tdevice=device)\n",
        "\t\t\t\t# Generate fake image batch with G\n",
        "\t\t\t\tdata_fake = netG(noise)\n",
        "\t\t\t\t# Classify all fake batch with D\n",
        "\t\t\t\tD_fake, D_fake_ = netD(data_fake)\n",
        "\t\t\t\tD_fake = D_fake.view(-1)\n",
        "\t\t\t\t# Calculate D's loss on the all-fake batch\n",
        "\t\t\t\terrD_fake = torch.mean(D_fake)\n",
        "\n",
        "\t\t\t\t# Compute gradient penalty\n",
        "\t\t\t\tGP = compute_gradient_penalty(netD, data_real, data_fake)\n",
        "\n",
        "\t\t\t\t# Compute consistency term\n",
        "\t\t\t\tCT = compute_consistency_term(netD, data_real, M)\n",
        "\n",
        "\t\t\t\t# Add the gradients from the all-real and all-fake\n",
        "\t\t\t\t# batches + gradient penalty\n",
        "\t\t\t\terrD = -errD_real + errD_fake + lambda_gp*GP + lambda_ct*CT\n",
        "\n",
        "\t\t\t\t# Backward propagation of total loss and Update D\n",
        "\t\t\t\terrD.backward()\n",
        "\t\t\t\toptimizerD.step()\n",
        "\n",
        "\t\t\t#########################\n",
        "\t\t\t# (2) Update G network  #\n",
        "\t\t\t#########################\n",
        "\t\t\t# Zeroing the gradients\n",
        "\t\t\tnetG.zero_grad()\n",
        "\t\t\t# Creating noise\n",
        "\t\t\tnoise2 = torch.randn((batch_size, length_noise, 1), device=device)\n",
        "\t\t\t# Forward pass through G\n",
        "\t\t\tfake2 = netG(noise2)\n",
        "\t\t\t# Since we updated D, perform a forward pass of\n",
        "\t\t\t# all-fake batch through D\n",
        "\t\t\toutput, output_ = netD(fake2)\n",
        "\t\t\toutput = output.view(-1)\n",
        "\t\t\t# Calculate G's loss based on this output\n",
        "\t\t\terrG = -torch.mean(output)\n",
        "\t\t\t# Backward propagation of the loss and Update G\n",
        "\t\t\terrG.backward()\n",
        "\t\t\toptimizerG.step()\n",
        "\n",
        "\t\t\t# Save Losses for plotting later\n",
        "\t\t\tG_losses.append(errG.item())\n",
        "\t\t\tD_losses.append(errD.item())\n",
        "\t\t\tD_real_losses.append(-errD_real.item())\n",
        "\t\t\tD_fake_losses.append(errD_fake.item())\n",
        "\t\t\tD_gp_losses.append(lambda_gp*GP.item())\n",
        "\t\t\tD_ct_losses.append(lambda_ct*CT.item())\n",
        "\n",
        "\t\t\titers += 1\n",
        "\n",
        "\t\t# Output training stats\n",
        "\t\tbegin = epoch*len(data_loader)\n",
        "\t\tend = (epoch+1)*len(data_loader)\n",
        "\t\terror_D = np.mean(D_losses[begin:end])\n",
        "\t\terror_G = np.mean(G_losses[begin:end])\n",
        "\t\terror_D_real = np.mean(D_real_losses[begin:end])\n",
        "\t\terror_D_fake = np.mean(D_fake_losses[begin:end])\n",
        "\t\terror_D_gp = np.mean(D_gp_losses[begin:end])\n",
        "\t\terror_D_ct = np.mean(D_ct_losses[begin:end])\n",
        "\t\ttimer_end = time.time()\n",
        "\n",
        "\t\tprint('[%d/%d] Loss_D: %.3f | Loss_G: %.3f | Loss D real : %.3f | Loss D fake : %.3f | Loss D GP : %.3f | Loss D CT : %.3f | Time : %.3f' % (epoch+1, num_epochs, error_D, error_G, error_D_real, error_D_fake, error_D_gp, error_D_ct, np.mean(timer_end-timer_start)))\n",
        "\n",
        "\t\t# Add performance data to training performance dictionary\n",
        "\t\ttraining_performance_dict[epoch] = dict(\n",
        "\t\t\t\tdiscriminator_error = error_D,\n",
        "\t\t\t\tgenerator_error = error_G,\n",
        "\t\t\t\tdiscriminator_error_real = error_D_real,\n",
        "\t\t\t\tdiscriminator_error_fake = error_D_fake,\n",
        "\t\t\t\tdiscriminator_error_gp = error_D_gp,\n",
        "\t\t\t\tdiscriminator_error_ct = error_D_ct\n",
        "\t\t)\n",
        "\n",
        "\t\t# use the safety glitch as a constant point of comparison to check the\n",
        "\t\t# training across epochs\n",
        "\t\tif safety_glitch:\n",
        "\t\t\tfake = netG(fixed_noise).detach().cpu().numpy()\n",
        "\t\t\t# training_performance_dict[epoch]['safety_glitch_output'] = fake\n",
        "\t\t\tsafety_glitch_output_data.append(fake)\n",
        "\n",
        "\t# save this data to a json file and put said json in folder for later \n",
        "\t# analysis\n",
        "\tif save_dir != None and save_file_name != None:\n",
        "\t\twith open(save_dir + save_file_name, 'w') as f:\n",
        "\t\t\tjson.dump(training_performance_dict, f)\n",
        "\t\t\tf.close()\n",
        "\t \n",
        "\tif safety_glitch_file_name:\n",
        "\t\tnp.asarray(safety_glitch_output_data)\n",
        "\t\tnp.save(save_dir + safety_glitch_file_name, safety_glitch_output_data)\n",
        "\n",
        "\n",
        "def compute_gradient_penalty(D, real_samples, fake_samples):\n",
        "\t\"\"\"\n",
        "\t\tFunction that computes gradient penalty.\n",
        "\n",
        "\tParameters\n",
        "\t-----------\n",
        "\tD: gengli.ctgan.DiscriminativeNet\n",
        "\t\tDiscriminator network\n",
        "\treal_samples: torch.tensor\n",
        "\t\tBatch of samples taken from the real glitches\n",
        "\tfake_samples: torch.tensor\n",
        "\t\tBatch of samples generated by the Generator network\n",
        "\n",
        "\tReturns\n",
        "\t-------\n",
        "\tgradient_penalty: float\n",
        "\t\tGradient penalty (GP) term from the Discriminator loss\n",
        "\n",
        "\t\"\"\"\n",
        "\t# Random weight term for interpolation between real and fake samples\n",
        "\talpha = Tensor(np.random.uniform(0, 1, (real_samples.size(0), 1, 1)))\n",
        "\n",
        "\t# Get random interpolation between real and fake samples\n",
        "\tinterpolates = (alpha * real_samples + ((1 - alpha) * fake_samples))\n",
        "\tinterpolates = interpolates.requires_grad_(True)\n",
        "\n",
        "\td_interpolates, d_interpolates_ = D(interpolates)\n",
        "\tfake = Variable(Tensor(real_samples.shape[0], 1).fill_(1.0),\n",
        "\t\t\t\t\trequires_grad=False)\n",
        "\n",
        "\t# Get gradient w.r.t. interpolates\n",
        "\tgradients = torch.autograd.grad(outputs=d_interpolates,\n",
        "\t\t\t\t\t\t\t\t\tinputs=interpolates,\n",
        "\t\t\t\t\t\t\t\t\tgrad_outputs=fake,\n",
        "\t\t\t\t\t\t\t\t\tcreate_graph=True,\n",
        "\t\t\t\t\t\t\t\t\tretain_graph=True,\n",
        "\t\t\t\t\t\t\t\t\tonly_inputs=True)[0]\n",
        "\n",
        "\tgradients = gradients.view(gradients.size(0), -1)\n",
        "\n",
        "\tgradient_penalty = ((gradients.norm(2, dim=1) - 1)**2).mean()\n",
        "\n",
        "\treturn gradient_penalty\n",
        "\n",
        "\n",
        "def compute_consistency_term(D, real_data, M):\n",
        "\t\"\"\"\n",
        "\n",
        "\tParameters\n",
        "\t----------\n",
        "\tD: gengli.ctgan.DiscriminativeNet\n",
        "\t\tDiscriminator network\n",
        "\treal_data: torch.tensor\n",
        "\t\tBatch of samples taken from the real glitches\n",
        "\tM: float\n",
        "\t\tConstant parameter involved in the computation of the Consistency Term (CT). Recommended values are between 0 and 0.2.\n",
        "\n",
        "\tReturns\n",
        "\t-------\n",
        "\tconsistency_term: float\n",
        "\t\tConsistency Term (CT) from the Discriminator loss\n",
        "\n",
        "\t\"\"\"\n",
        "\td1, d_1 = D(real_data)\n",
        "\td2, d_2 = D(real_data)\n",
        "\n",
        "\tfirst_term = (d1 - d2).norm(2, dim=1)\n",
        "\tsecond_term = (d_1 - d_2).norm(2, dim=1)\n",
        "\n",
        "\tconsistency_term = first_term + 0.1 * second_term - M\n",
        "\n",
        "\tfor i, item in enumerate(consistency_term):\n",
        "\n",
        "\t\tif (item < 0):\n",
        "\t\t\tconsistency_term[i] = 0\n",
        "\tmean_consistency_term = consistency_term.mean()\n",
        "\n",
        "\treturn mean_consistency_term\n"
      ],
      "metadata": {
        "id": "18v69bYSV7vS"
      },
      "execution_count": 11,
      "outputs": []
    },
    {
      "cell_type": "code",
      "source": [
        "# training with gaussian pulse data\n",
        "\n",
        "# Dictionary to store training performance data\n",
        "gaussian_pulse_training_performance_dict = dict()\n",
        "\n",
        "# file name to save the dictionary to\n",
        "save_file_name_gaussian = 'gaussian_gan_training.json'\n",
        "\n",
        "# file name to save safety glitch outputs to\n",
        "safety_glitch_file_name_gaussian = 'gaussian_safety_glitches.npy'\n",
        "\n",
        "training_loop(num_epochs=num_epochs, \n",
        "              data_loader=gaussian_pulse_train_loader,\n",
        "              ncycles_D=ncycles_D, \n",
        "              lambda_gp=lambda_gp, \n",
        "              lambda_ct=lambda_ct,\n",
        "              M=M, \n",
        "              batch_size=batch_size, \n",
        "              length_noise=length_noise,\n",
        "              device=device, \n",
        "              netD=disc_gaussian, \n",
        "              netG=gen_gaussian, \n",
        "              lr_D=lr_D, \n",
        "              lr_G=lr_G, \n",
        "              fixed_noise=fixed_noise, \n",
        "              safety_glitch=safety_glitch,\n",
        "              training_performance_dict=gaussian_pulse_training_performance_dict,\n",
        "              save_dir=save_dir,\n",
        "              save_file_name=save_file_name_gaussian,\n",
        "              safety_glitch_file_name=safety_glitch_file_name_gaussian\n",
        "              )"
      ],
      "metadata": {
        "id": "3EURBlvDWuU6",
        "colab": {
          "base_uri": "https://localhost:8080/"
        },
        "outputId": "18cf48de-90ec-40b7-e9ce-b91fc2742cd7"
      },
      "execution_count": 12,
      "outputs": [
        {
          "output_type": "stream",
          "name": "stderr",
          "text": [
            "CT-GAN training loop:   0%|          | 1/500 [00:10<1:30:10, 10.84s/it]"
          ]
        },
        {
          "output_type": "stream",
          "name": "stdout",
          "text": [
            "[1/500] Loss_D: -0.822 | Loss_G: 1.795 | Loss D real : 0.068 | Loss D fake : -1.411 | Loss D GP : 0.501 | Loss D CT : 0.019 | Time : 10.840\n"
          ]
        },
        {
          "output_type": "stream",
          "name": "stderr",
          "text": [
            "\rCT-GAN training loop:   0%|          | 2/500 [00:14<53:12,  6.41s/it]  "
          ]
        },
        {
          "output_type": "stream",
          "name": "stdout",
          "text": [
            "[2/500] Loss_D: -0.568 | Loss_G: 0.626 | Loss D real : 0.003 | Loss D fake : -0.667 | Loss D GP : 0.063 | Loss D CT : 0.034 | Time : 3.305\n"
          ]
        },
        {
          "output_type": "stream",
          "name": "stderr",
          "text": [
            "\rCT-GAN training loop:   1%|          | 3/500 [00:17<41:27,  5.01s/it]"
          ]
        },
        {
          "output_type": "stream",
          "name": "stdout",
          "text": [
            "[3/500] Loss_D: -0.405 | Loss_G: 0.431 | Loss D real : -0.047 | Loss D fake : -0.441 | Loss D GP : 0.034 | Loss D CT : 0.049 | Time : 3.331\n"
          ]
        },
        {
          "output_type": "stream",
          "name": "stderr",
          "text": [
            "\rCT-GAN training loop:   1%|          | 4/500 [00:20<35:40,  4.32s/it]"
          ]
        },
        {
          "output_type": "stream",
          "name": "stdout",
          "text": [
            "[4/500] Loss_D: -0.460 | Loss_G: 0.494 | Loss D real : -0.071 | Loss D fake : -0.473 | Loss D GP : 0.041 | Loss D CT : 0.042 | Time : 3.253\n"
          ]
        },
        {
          "output_type": "stream",
          "name": "stderr",
          "text": [
            "\rCT-GAN training loop:   1%|          | 5/500 [00:24<32:27,  3.94s/it]"
          ]
        },
        {
          "output_type": "stream",
          "name": "stdout",
          "text": [
            "[5/500] Loss_D: -0.503 | Loss_G: 0.539 | Loss D real : -0.080 | Loss D fake : -0.539 | Loss D GP : 0.064 | Loss D CT : 0.053 | Time : 3.257\n"
          ]
        },
        {
          "output_type": "stream",
          "name": "stderr",
          "text": [
            "\rCT-GAN training loop:   1%|          | 6/500 [00:27<30:36,  3.72s/it]"
          ]
        },
        {
          "output_type": "stream",
          "name": "stdout",
          "text": [
            "[6/500] Loss_D: -0.487 | Loss_G: 0.492 | Loss D real : -0.079 | Loss D fake : -0.487 | Loss D GP : 0.054 | Loss D CT : 0.026 | Time : 3.294\n"
          ]
        },
        {
          "output_type": "stream",
          "name": "stderr",
          "text": [
            "\rCT-GAN training loop:   1%|▏         | 7/500 [00:30<29:32,  3.60s/it]"
          ]
        },
        {
          "output_type": "stream",
          "name": "stdout",
          "text": [
            "[7/500] Loss_D: -0.325 | Loss_G: 0.330 | Loss D real : -0.055 | Loss D fake : -0.328 | Loss D GP : 0.045 | Loss D CT : 0.013 | Time : 3.338\n"
          ]
        },
        {
          "output_type": "stream",
          "name": "stderr",
          "text": [
            "\rCT-GAN training loop:   2%|▏         | 8/500 [00:33<28:49,  3.52s/it]"
          ]
        },
        {
          "output_type": "stream",
          "name": "stdout",
          "text": [
            "[8/500] Loss_D: -0.164 | Loss_G: 0.195 | Loss D real : 0.002 | Loss D fake : -0.204 | Loss D GP : 0.031 | Loss D CT : 0.006 | Time : 3.342\n"
          ]
        },
        {
          "output_type": "stream",
          "name": "stderr",
          "text": [
            "\rCT-GAN training loop:   2%|▏         | 9/500 [00:37<28:18,  3.46s/it]"
          ]
        },
        {
          "output_type": "stream",
          "name": "stdout",
          "text": [
            "[9/500] Loss_D: -0.109 | Loss_G: 0.139 | Loss D real : -0.001 | Loss D fake : -0.139 | Loss D GP : 0.027 | Loss D CT : 0.005 | Time : 3.334\n"
          ]
        },
        {
          "output_type": "stream",
          "name": "stderr",
          "text": [
            "\rCT-GAN training loop:   2%|▏         | 10/500 [00:40<27:57,  3.42s/it]"
          ]
        },
        {
          "output_type": "stream",
          "name": "stdout",
          "text": [
            "[10/500] Loss_D: -0.099 | Loss_G: 0.075 | Loss D real : -0.059 | Loss D fake : -0.080 | Loss D GP : 0.031 | Loss D CT : 0.010 | Time : 3.339\n"
          ]
        },
        {
          "output_type": "stream",
          "name": "stderr",
          "text": [
            "\rCT-GAN training loop:   2%|▏         | 11/500 [00:43<27:37,  3.39s/it]"
          ]
        },
        {
          "output_type": "stream",
          "name": "stdout",
          "text": [
            "[11/500] Loss_D: -0.166 | Loss_G: 0.115 | Loss D real : -0.113 | Loss D fake : -0.118 | Loss D GP : 0.049 | Loss D CT : 0.016 | Time : 3.310\n"
          ]
        },
        {
          "output_type": "stream",
          "name": "stderr",
          "text": [
            "\rCT-GAN training loop:   2%|▏         | 12/500 [00:47<27:22,  3.37s/it]"
          ]
        },
        {
          "output_type": "stream",
          "name": "stdout",
          "text": [
            "[12/500] Loss_D: -0.169 | Loss_G: 0.110 | Loss D real : -0.136 | Loss D fake : -0.101 | Loss D GP : 0.060 | Loss D CT : 0.007 | Time : 3.310\n"
          ]
        },
        {
          "output_type": "stream",
          "name": "stderr",
          "text": [
            "\rCT-GAN training loop:   3%|▎         | 13/500 [00:50<27:13,  3.35s/it]"
          ]
        },
        {
          "output_type": "stream",
          "name": "stdout",
          "text": [
            "[13/500] Loss_D: -0.167 | Loss_G: 0.064 | Loss D real : -0.157 | Loss D fake : -0.067 | Loss D GP : 0.045 | Loss D CT : 0.012 | Time : 3.320\n"
          ]
        },
        {
          "output_type": "stream",
          "name": "stderr",
          "text": [
            "\rCT-GAN training loop:   3%|▎         | 14/500 [00:53<27:10,  3.36s/it]"
          ]
        },
        {
          "output_type": "stream",
          "name": "stdout",
          "text": [
            "[14/500] Loss_D: -0.138 | Loss_G: 0.044 | Loss D real : -0.172 | Loss D fake : -0.033 | Loss D GP : 0.051 | Loss D CT : 0.016 | Time : 3.358\n"
          ]
        },
        {
          "output_type": "stream",
          "name": "stderr",
          "text": [
            "\rCT-GAN training loop:   3%|▎         | 15/500 [00:57<27:03,  3.35s/it]"
          ]
        },
        {
          "output_type": "stream",
          "name": "stdout",
          "text": [
            "[15/500] Loss_D: -0.148 | Loss_G: 0.031 | Loss D real : -0.171 | Loss D fake : -0.028 | Loss D GP : 0.036 | Loss D CT : 0.015 | Time : 3.325\n"
          ]
        },
        {
          "output_type": "stream",
          "name": "stderr",
          "text": [
            "\rCT-GAN training loop:   3%|▎         | 16/500 [01:00<26:59,  3.35s/it]"
          ]
        },
        {
          "output_type": "stream",
          "name": "stdout",
          "text": [
            "[16/500] Loss_D: -0.130 | Loss_G: 0.011 | Loss D real : -0.180 | Loss D fake : -0.004 | Loss D GP : 0.041 | Loss D CT : 0.012 | Time : 3.341\n"
          ]
        },
        {
          "output_type": "stream",
          "name": "stderr",
          "text": [
            "\rCT-GAN training loop:   3%|▎         | 17/500 [01:04<27:00,  3.35s/it]"
          ]
        },
        {
          "output_type": "stream",
          "name": "stdout",
          "text": [
            "[17/500] Loss_D: -0.117 | Loss_G: 0.010 | Loss D real : -0.175 | Loss D fake : 0.017 | Loss D GP : 0.024 | Loss D CT : 0.016 | Time : 3.369\n"
          ]
        },
        {
          "output_type": "stream",
          "name": "stderr",
          "text": [
            "\rCT-GAN training loop:   4%|▎         | 18/500 [01:07<26:57,  3.36s/it]"
          ]
        },
        {
          "output_type": "stream",
          "name": "stdout",
          "text": [
            "[18/500] Loss_D: -0.112 | Loss_G: 0.010 | Loss D real : -0.172 | Loss D fake : 0.015 | Loss D GP : 0.033 | Loss D CT : 0.012 | Time : 3.358\n"
          ]
        },
        {
          "output_type": "stream",
          "name": "stderr",
          "text": [
            "\rCT-GAN training loop:   4%|▍         | 19/500 [01:10<26:53,  3.35s/it]"
          ]
        },
        {
          "output_type": "stream",
          "name": "stdout",
          "text": [
            "[19/500] Loss_D: -0.095 | Loss_G: 0.001 | Loss D real : -0.139 | Loss D fake : 0.001 | Loss D GP : 0.033 | Loss D CT : 0.009 | Time : 3.342\n"
          ]
        },
        {
          "output_type": "stream",
          "name": "stderr",
          "text": [
            "\rCT-GAN training loop:   4%|▍         | 20/500 [01:14<26:47,  3.35s/it]"
          ]
        },
        {
          "output_type": "stream",
          "name": "stdout",
          "text": [
            "[20/500] Loss_D: -0.103 | Loss_G: 0.017 | Loss D real : -0.124 | Loss D fake : -0.003 | Loss D GP : 0.018 | Loss D CT : 0.006 | Time : 3.338\n"
          ]
        },
        {
          "output_type": "stream",
          "name": "stderr",
          "text": [
            "\rCT-GAN training loop:   4%|▍         | 21/500 [01:17<26:46,  3.35s/it]"
          ]
        },
        {
          "output_type": "stream",
          "name": "stdout",
          "text": [
            "[21/500] Loss_D: -0.086 | Loss_G: 0.016 | Loss D real : -0.090 | Loss D fake : -0.017 | Loss D GP : 0.019 | Loss D CT : 0.001 | Time : 3.357\n"
          ]
        },
        {
          "output_type": "stream",
          "name": "stderr",
          "text": [
            "\rCT-GAN training loop:   4%|▍         | 22/500 [01:20<26:43,  3.35s/it]"
          ]
        },
        {
          "output_type": "stream",
          "name": "stdout",
          "text": [
            "[22/500] Loss_D: -0.084 | Loss_G: 0.040 | Loss D real : -0.060 | Loss D fake : -0.044 | Loss D GP : 0.018 | Loss D CT : 0.001 | Time : 3.353\n"
          ]
        },
        {
          "output_type": "stream",
          "name": "stderr",
          "text": [
            "\rCT-GAN training loop:   5%|▍         | 23/500 [01:24<26:42,  3.36s/it]"
          ]
        },
        {
          "output_type": "stream",
          "name": "stdout",
          "text": [
            "[23/500] Loss_D: -0.085 | Loss_G: 0.046 | Loss D real : -0.044 | Loss D fake : -0.057 | Loss D GP : 0.015 | Loss D CT : 0.002 | Time : 3.371\n"
          ]
        },
        {
          "output_type": "stream",
          "name": "stderr",
          "text": [
            "\rCT-GAN training loop:   5%|▍         | 24/500 [01:27<26:31,  3.34s/it]"
          ]
        },
        {
          "output_type": "stream",
          "name": "stdout",
          "text": [
            "[24/500] Loss_D: -0.074 | Loss_G: 0.035 | Loss D real : -0.046 | Loss D fake : -0.046 | Loss D GP : 0.018 | Loss D CT : 0.001 | Time : 3.298\n"
          ]
        },
        {
          "output_type": "stream",
          "name": "stderr",
          "text": [
            "\rCT-GAN training loop:   5%|▌         | 25/500 [01:30<26:24,  3.34s/it]"
          ]
        },
        {
          "output_type": "stream",
          "name": "stdout",
          "text": [
            "[25/500] Loss_D: -0.071 | Loss_G: 0.036 | Loss D real : -0.048 | Loss D fake : -0.035 | Loss D GP : 0.013 | Loss D CT : 0.000 | Time : 3.320\n"
          ]
        },
        {
          "output_type": "stream",
          "name": "stderr",
          "text": [
            "\rCT-GAN training loop:   5%|▌         | 26/500 [01:34<26:15,  3.32s/it]"
          ]
        },
        {
          "output_type": "stream",
          "name": "stdout",
          "text": [
            "[26/500] Loss_D: -0.062 | Loss_G: 0.023 | Loss D real : -0.051 | Loss D fake : -0.027 | Loss D GP : 0.015 | Loss D CT : 0.001 | Time : 3.290\n"
          ]
        },
        {
          "output_type": "stream",
          "name": "stderr",
          "text": [
            "\rCT-GAN training loop:   5%|▌         | 27/500 [01:37<26:08,  3.32s/it]"
          ]
        },
        {
          "output_type": "stream",
          "name": "stdout",
          "text": [
            "[27/500] Loss_D: -0.056 | Loss_G: 0.025 | Loss D real : -0.053 | Loss D fake : -0.025 | Loss D GP : 0.022 | Loss D CT : 0.001 | Time : 3.293\n"
          ]
        },
        {
          "output_type": "stream",
          "name": "stderr",
          "text": [
            "\rCT-GAN training loop:   6%|▌         | 28/500 [01:40<25:59,  3.30s/it]"
          ]
        },
        {
          "output_type": "stream",
          "name": "stdout",
          "text": [
            "[28/500] Loss_D: -0.061 | Loss_G: 0.021 | Loss D real : -0.053 | Loss D fake : -0.024 | Loss D GP : 0.012 | Loss D CT : 0.004 | Time : 3.275\n"
          ]
        },
        {
          "output_type": "stream",
          "name": "stderr",
          "text": [
            "\rCT-GAN training loop:   6%|▌         | 29/500 [01:43<25:53,  3.30s/it]"
          ]
        },
        {
          "output_type": "stream",
          "name": "stdout",
          "text": [
            "[29/500] Loss_D: -0.062 | Loss_G: 0.028 | Loss D real : -0.042 | Loss D fake : -0.039 | Loss D GP : 0.018 | Loss D CT : 0.001 | Time : 3.281\n"
          ]
        },
        {
          "output_type": "stream",
          "name": "stderr",
          "text": [
            "\rCT-GAN training loop:   6%|▌         | 30/500 [01:47<25:48,  3.29s/it]"
          ]
        },
        {
          "output_type": "stream",
          "name": "stdout",
          "text": [
            "[30/500] Loss_D: -0.061 | Loss_G: 0.032 | Loss D real : -0.039 | Loss D fake : -0.037 | Loss D GP : 0.013 | Loss D CT : 0.001 | Time : 3.284\n"
          ]
        },
        {
          "output_type": "stream",
          "name": "stderr",
          "text": [
            "\rCT-GAN training loop:   6%|▌         | 31/500 [01:50<25:45,  3.30s/it]"
          ]
        },
        {
          "output_type": "stream",
          "name": "stdout",
          "text": [
            "[31/500] Loss_D: -0.049 | Loss_G: 0.029 | Loss D real : -0.040 | Loss D fake : -0.028 | Loss D GP : 0.017 | Loss D CT : 0.002 | Time : 3.295\n"
          ]
        },
        {
          "output_type": "stream",
          "name": "stderr",
          "text": [
            "\rCT-GAN training loop:   6%|▋         | 32/500 [01:53<25:43,  3.30s/it]"
          ]
        },
        {
          "output_type": "stream",
          "name": "stdout",
          "text": [
            "[32/500] Loss_D: -0.060 | Loss_G: 0.039 | Loss D real : -0.036 | Loss D fake : -0.036 | Loss D GP : 0.009 | Loss D CT : 0.003 | Time : 3.299\n"
          ]
        },
        {
          "output_type": "stream",
          "name": "stderr",
          "text": [
            "\rCT-GAN training loop:   7%|▋         | 33/500 [01:57<25:36,  3.29s/it]"
          ]
        },
        {
          "output_type": "stream",
          "name": "stdout",
          "text": [
            "[33/500] Loss_D: -0.048 | Loss_G: 0.042 | Loss D real : -0.036 | Loss D fake : -0.037 | Loss D GP : 0.021 | Loss D CT : 0.003 | Time : 3.267\n"
          ]
        },
        {
          "output_type": "stream",
          "name": "stderr",
          "text": [
            "\rCT-GAN training loop:   7%|▋         | 34/500 [02:00<25:31,  3.29s/it]"
          ]
        },
        {
          "output_type": "stream",
          "name": "stdout",
          "text": [
            "[34/500] Loss_D: -0.056 | Loss_G: 0.025 | Loss D real : -0.042 | Loss D fake : -0.028 | Loss D GP : 0.011 | Loss D CT : 0.003 | Time : 3.279\n"
          ]
        },
        {
          "output_type": "stream",
          "name": "stderr",
          "text": [
            "\rCT-GAN training loop:   7%|▋         | 35/500 [02:03<25:30,  3.29s/it]"
          ]
        },
        {
          "output_type": "stream",
          "name": "stdout",
          "text": [
            "[35/500] Loss_D: -0.050 | Loss_G: 0.023 | Loss D real : -0.047 | Loss D fake : -0.022 | Loss D GP : 0.017 | Loss D CT : 0.001 | Time : 3.297\n"
          ]
        },
        {
          "output_type": "stream",
          "name": "stderr",
          "text": [
            "\rCT-GAN training loop:   7%|▋         | 36/500 [02:06<25:29,  3.30s/it]"
          ]
        },
        {
          "output_type": "stream",
          "name": "stdout",
          "text": [
            "[36/500] Loss_D: -0.050 | Loss_G: 0.013 | Loss D real : -0.050 | Loss D fake : -0.017 | Loss D GP : 0.015 | Loss D CT : 0.002 | Time : 3.309\n"
          ]
        },
        {
          "output_type": "stream",
          "name": "stderr",
          "text": [
            "\rCT-GAN training loop:   7%|▋         | 37/500 [02:10<25:26,  3.30s/it]"
          ]
        },
        {
          "output_type": "stream",
          "name": "stdout",
          "text": [
            "[37/500] Loss_D: -0.047 | Loss_G: 0.008 | Loss D real : -0.059 | Loss D fake : -0.004 | Loss D GP : 0.015 | Loss D CT : 0.002 | Time : 3.292\n"
          ]
        },
        {
          "output_type": "stream",
          "name": "stderr",
          "text": [
            "\rCT-GAN training loop:   8%|▊         | 38/500 [02:13<25:21,  3.29s/it]"
          ]
        },
        {
          "output_type": "stream",
          "name": "stdout",
          "text": [
            "[38/500] Loss_D: -0.049 | Loss_G: 0.002 | Loss D real : -0.065 | Loss D fake : 0.004 | Loss D GP : 0.009 | Loss D CT : 0.003 | Time : 3.279\n"
          ]
        },
        {
          "output_type": "stream",
          "name": "stderr",
          "text": [
            "\rCT-GAN training loop:   8%|▊         | 39/500 [02:16<25:17,  3.29s/it]"
          ]
        },
        {
          "output_type": "stream",
          "name": "stdout",
          "text": [
            "[39/500] Loss_D: -0.053 | Loss_G: -0.007 | Loss D real : -0.075 | Loss D fake : 0.009 | Loss D GP : 0.009 | Loss D CT : 0.003 | Time : 3.290\n"
          ]
        },
        {
          "output_type": "stream",
          "name": "stderr",
          "text": [
            "\rCT-GAN training loop:   8%|▊         | 40/500 [02:20<25:16,  3.30s/it]"
          ]
        },
        {
          "output_type": "stream",
          "name": "stdout",
          "text": [
            "[40/500] Loss_D: -0.048 | Loss_G: -0.018 | Loss D real : -0.077 | Loss D fake : 0.013 | Loss D GP : 0.013 | Loss D CT : 0.003 | Time : 3.304\n"
          ]
        },
        {
          "output_type": "stream",
          "name": "stderr",
          "text": [
            "\rCT-GAN training loop:   8%|▊         | 41/500 [02:23<25:13,  3.30s/it]"
          ]
        },
        {
          "output_type": "stream",
          "name": "stdout",
          "text": [
            "[41/500] Loss_D: -0.041 | Loss_G: -0.022 | Loss D real : -0.077 | Loss D fake : 0.016 | Loss D GP : 0.018 | Loss D CT : 0.002 | Time : 3.297\n"
          ]
        },
        {
          "output_type": "stream",
          "name": "stderr",
          "text": [
            "\rCT-GAN training loop:   8%|▊         | 42/500 [02:26<25:11,  3.30s/it]"
          ]
        },
        {
          "output_type": "stream",
          "name": "stdout",
          "text": [
            "[42/500] Loss_D: -0.047 | Loss_G: -0.025 | Loss D real : -0.086 | Loss D fake : 0.026 | Loss D GP : 0.011 | Loss D CT : 0.003 | Time : 3.299\n"
          ]
        },
        {
          "output_type": "stream",
          "name": "stderr",
          "text": [
            "\rCT-GAN training loop:   9%|▊         | 43/500 [02:30<25:05,  3.30s/it]"
          ]
        },
        {
          "output_type": "stream",
          "name": "stdout",
          "text": [
            "[43/500] Loss_D: -0.039 | Loss_G: -0.037 | Loss D real : -0.086 | Loss D fake : 0.029 | Loss D GP : 0.017 | Loss D CT : 0.001 | Time : 3.282\n"
          ]
        },
        {
          "output_type": "stream",
          "name": "stderr",
          "text": [
            "\rCT-GAN training loop:   9%|▉         | 44/500 [02:33<24:59,  3.29s/it]"
          ]
        },
        {
          "output_type": "stream",
          "name": "stdout",
          "text": [
            "[44/500] Loss_D: -0.038 | Loss_G: -0.032 | Loss D real : -0.091 | Loss D fake : 0.034 | Loss D GP : 0.017 | Loss D CT : 0.002 | Time : 3.272\n"
          ]
        },
        {
          "output_type": "stream",
          "name": "stderr",
          "text": [
            "\rCT-GAN training loop:   9%|▉         | 45/500 [02:36<24:53,  3.28s/it]"
          ]
        },
        {
          "output_type": "stream",
          "name": "stdout",
          "text": [
            "[45/500] Loss_D: -0.035 | Loss_G: -0.039 | Loss D real : -0.085 | Loss D fake : 0.032 | Loss D GP : 0.018 | Loss D CT : 0.001 | Time : 3.263\n"
          ]
        },
        {
          "output_type": "stream",
          "name": "stderr",
          "text": [
            "\rCT-GAN training loop:   9%|▉         | 46/500 [02:39<24:51,  3.28s/it]"
          ]
        },
        {
          "output_type": "stream",
          "name": "stdout",
          "text": [
            "[46/500] Loss_D: -0.039 | Loss_G: -0.031 | Loss D real : -0.080 | Loss D fake : 0.026 | Loss D GP : 0.015 | Loss D CT : 0.001 | Time : 3.285\n"
          ]
        },
        {
          "output_type": "stream",
          "name": "stderr",
          "text": [
            "\rCT-GAN training loop:   9%|▉         | 47/500 [02:43<24:50,  3.29s/it]"
          ]
        },
        {
          "output_type": "stream",
          "name": "stdout",
          "text": [
            "[47/500] Loss_D: -0.020 | Loss_G: -0.026 | Loss D real : -0.083 | Loss D fake : 0.032 | Loss D GP : 0.030 | Loss D CT : 0.002 | Time : 3.298\n"
          ]
        },
        {
          "output_type": "stream",
          "name": "stderr",
          "text": [
            "\rCT-GAN training loop:  10%|▉         | 48/500 [02:46<24:42,  3.28s/it]"
          ]
        },
        {
          "output_type": "stream",
          "name": "stdout",
          "text": [
            "[48/500] Loss_D: -0.045 | Loss_G: -0.028 | Loss D real : -0.092 | Loss D fake : 0.034 | Loss D GP : 0.011 | Loss D CT : 0.002 | Time : 3.255\n"
          ]
        },
        {
          "output_type": "stream",
          "name": "stderr",
          "text": [
            "\rCT-GAN training loop:  10%|▉         | 49/500 [02:49<24:38,  3.28s/it]"
          ]
        },
        {
          "output_type": "stream",
          "name": "stdout",
          "text": [
            "[49/500] Loss_D: -0.038 | Loss_G: -0.030 | Loss D real : -0.090 | Loss D fake : 0.035 | Loss D GP : 0.015 | Loss D CT : 0.002 | Time : 3.268\n"
          ]
        },
        {
          "output_type": "stream",
          "name": "stderr",
          "text": [
            "\rCT-GAN training loop:  10%|█         | 50/500 [02:52<24:33,  3.27s/it]"
          ]
        },
        {
          "output_type": "stream",
          "name": "stdout",
          "text": [
            "[50/500] Loss_D: -0.041 | Loss_G: -0.031 | Loss D real : -0.087 | Loss D fake : 0.034 | Loss D GP : 0.010 | Loss D CT : 0.002 | Time : 3.266\n"
          ]
        },
        {
          "output_type": "stream",
          "name": "stderr",
          "text": [
            "\rCT-GAN training loop:  10%|█         | 51/500 [02:56<24:36,  3.29s/it]"
          ]
        },
        {
          "output_type": "stream",
          "name": "stdout",
          "text": [
            "[51/500] Loss_D: -0.032 | Loss_G: -0.026 | Loss D real : -0.078 | Loss D fake : 0.028 | Loss D GP : 0.017 | Loss D CT : 0.001 | Time : 3.314\n"
          ]
        },
        {
          "output_type": "stream",
          "name": "stderr",
          "text": [
            "\rCT-GAN training loop:  10%|█         | 52/500 [02:59<24:32,  3.29s/it]"
          ]
        },
        {
          "output_type": "stream",
          "name": "stdout",
          "text": [
            "[52/500] Loss_D: -0.040 | Loss_G: -0.026 | Loss D real : -0.080 | Loss D fake : 0.028 | Loss D GP : 0.010 | Loss D CT : 0.002 | Time : 3.285\n"
          ]
        },
        {
          "output_type": "stream",
          "name": "stderr",
          "text": [
            "\rCT-GAN training loop:  11%|█         | 53/500 [03:02<24:31,  3.29s/it]"
          ]
        },
        {
          "output_type": "stream",
          "name": "stdout",
          "text": [
            "[53/500] Loss_D: -0.032 | Loss_G: -0.028 | Loss D real : -0.082 | Loss D fake : 0.029 | Loss D GP : 0.018 | Loss D CT : 0.002 | Time : 3.298\n"
          ]
        },
        {
          "output_type": "stream",
          "name": "stderr",
          "text": [
            "\rCT-GAN training loop:  11%|█         | 54/500 [03:06<24:27,  3.29s/it]"
          ]
        },
        {
          "output_type": "stream",
          "name": "stdout",
          "text": [
            "[54/500] Loss_D: -0.035 | Loss_G: -0.030 | Loss D real : -0.072 | Loss D fake : 0.026 | Loss D GP : 0.010 | Loss D CT : 0.001 | Time : 3.286\n"
          ]
        },
        {
          "output_type": "stream",
          "name": "stderr",
          "text": [
            "\rCT-GAN training loop:  11%|█         | 55/500 [03:09<24:28,  3.30s/it]"
          ]
        },
        {
          "output_type": "stream",
          "name": "stdout",
          "text": [
            "[55/500] Loss_D: -0.030 | Loss_G: -0.034 | Loss D real : -0.073 | Loss D fake : 0.025 | Loss D GP : 0.015 | Loss D CT : 0.002 | Time : 3.316\n"
          ]
        },
        {
          "output_type": "stream",
          "name": "stderr",
          "text": [
            "\rCT-GAN training loop:  11%|█         | 56/500 [03:12<24:25,  3.30s/it]"
          ]
        },
        {
          "output_type": "stream",
          "name": "stdout",
          "text": [
            "[56/500] Loss_D: -0.028 | Loss_G: -0.030 | Loss D real : -0.077 | Loss D fake : 0.031 | Loss D GP : 0.016 | Loss D CT : 0.001 | Time : 3.302\n"
          ]
        },
        {
          "output_type": "stream",
          "name": "stderr",
          "text": [
            "\rCT-GAN training loop:  11%|█▏        | 57/500 [03:16<24:22,  3.30s/it]"
          ]
        },
        {
          "output_type": "stream",
          "name": "stdout",
          "text": [
            "[57/500] Loss_D: -0.034 | Loss_G: -0.030 | Loss D real : -0.074 | Loss D fake : 0.027 | Loss D GP : 0.010 | Loss D CT : 0.003 | Time : 3.296\n"
          ]
        },
        {
          "output_type": "stream",
          "name": "stderr",
          "text": [
            "\rCT-GAN training loop:  12%|█▏        | 58/500 [03:19<24:15,  3.29s/it]"
          ]
        },
        {
          "output_type": "stream",
          "name": "stdout",
          "text": [
            "[58/500] Loss_D: -0.038 | Loss_G: -0.035 | Loss D real : -0.074 | Loss D fake : 0.023 | Loss D GP : 0.012 | Loss D CT : 0.001 | Time : 3.270\n"
          ]
        },
        {
          "output_type": "stream",
          "name": "stderr",
          "text": [
            "\rCT-GAN training loop:  12%|█▏        | 59/500 [03:22<24:13,  3.30s/it]"
          ]
        },
        {
          "output_type": "stream",
          "name": "stdout",
          "text": [
            "[59/500] Loss_D: -0.035 | Loss_G: -0.032 | Loss D real : -0.074 | Loss D fake : 0.024 | Loss D GP : 0.014 | Loss D CT : 0.001 | Time : 3.300\n"
          ]
        },
        {
          "output_type": "stream",
          "name": "stderr",
          "text": [
            "\rCT-GAN training loop:  12%|█▏        | 60/500 [03:25<24:11,  3.30s/it]"
          ]
        },
        {
          "output_type": "stream",
          "name": "stdout",
          "text": [
            "[60/500] Loss_D: -0.030 | Loss_G: -0.033 | Loss D real : -0.076 | Loss D fake : 0.033 | Loss D GP : 0.011 | Loss D CT : 0.002 | Time : 3.300\n"
          ]
        },
        {
          "output_type": "stream",
          "name": "stderr",
          "text": [
            "\rCT-GAN training loop:  12%|█▏        | 61/500 [03:29<24:05,  3.29s/it]"
          ]
        },
        {
          "output_type": "stream",
          "name": "stdout",
          "text": [
            "[61/500] Loss_D: -0.038 | Loss_G: -0.037 | Loss D real : -0.074 | Loss D fake : 0.026 | Loss D GP : 0.009 | Loss D CT : 0.001 | Time : 3.276\n"
          ]
        },
        {
          "output_type": "stream",
          "name": "stderr",
          "text": [
            "\rCT-GAN training loop:  12%|█▏        | 62/500 [03:32<24:04,  3.30s/it]"
          ]
        },
        {
          "output_type": "stream",
          "name": "stdout",
          "text": [
            "[62/500] Loss_D: -0.028 | Loss_G: -0.027 | Loss D real : -0.080 | Loss D fake : 0.033 | Loss D GP : 0.017 | Loss D CT : 0.002 | Time : 3.306\n"
          ]
        },
        {
          "output_type": "stream",
          "name": "stderr",
          "text": [
            "\rCT-GAN training loop:  13%|█▎        | 63/500 [03:35<24:01,  3.30s/it]"
          ]
        },
        {
          "output_type": "stream",
          "name": "stdout",
          "text": [
            "[63/500] Loss_D: -0.028 | Loss_G: -0.031 | Loss D real : -0.068 | Loss D fake : 0.024 | Loss D GP : 0.015 | Loss D CT : 0.002 | Time : 3.296\n"
          ]
        },
        {
          "output_type": "stream",
          "name": "stderr",
          "text": [
            "\rCT-GAN training loop:  13%|█▎        | 64/500 [03:39<23:54,  3.29s/it]"
          ]
        },
        {
          "output_type": "stream",
          "name": "stdout",
          "text": [
            "[64/500] Loss_D: -0.030 | Loss_G: -0.033 | Loss D real : -0.074 | Loss D fake : 0.029 | Loss D GP : 0.013 | Loss D CT : 0.002 | Time : 3.266\n"
          ]
        },
        {
          "output_type": "stream",
          "name": "stderr",
          "text": [
            "\rCT-GAN training loop:  13%|█▎        | 65/500 [03:42<23:49,  3.29s/it]"
          ]
        },
        {
          "output_type": "stream",
          "name": "stdout",
          "text": [
            "[65/500] Loss_D: -0.026 | Loss_G: -0.025 | Loss D real : -0.078 | Loss D fake : 0.035 | Loss D GP : 0.014 | Loss D CT : 0.003 | Time : 3.272\n"
          ]
        },
        {
          "output_type": "stream",
          "name": "stderr",
          "text": [
            "\rCT-GAN training loop:  13%|█▎        | 66/500 [03:45<23:45,  3.28s/it]"
          ]
        },
        {
          "output_type": "stream",
          "name": "stdout",
          "text": [
            "[66/500] Loss_D: -0.029 | Loss_G: -0.031 | Loss D real : -0.079 | Loss D fake : 0.036 | Loss D GP : 0.012 | Loss D CT : 0.002 | Time : 3.278\n"
          ]
        },
        {
          "output_type": "stream",
          "name": "stderr",
          "text": [
            "\rCT-GAN training loop:  13%|█▎        | 67/500 [03:48<23:41,  3.28s/it]"
          ]
        },
        {
          "output_type": "stream",
          "name": "stdout",
          "text": [
            "[67/500] Loss_D: -0.034 | Loss_G: -0.032 | Loss D real : -0.075 | Loss D fake : 0.032 | Loss D GP : 0.009 | Loss D CT : 0.001 | Time : 3.274\n"
          ]
        },
        {
          "output_type": "stream",
          "name": "stderr",
          "text": [
            "\rCT-GAN training loop:  14%|█▎        | 68/500 [03:52<23:38,  3.28s/it]"
          ]
        },
        {
          "output_type": "stream",
          "name": "stdout",
          "text": [
            "[68/500] Loss_D: -0.024 | Loss_G: -0.038 | Loss D real : -0.081 | Loss D fake : 0.039 | Loss D GP : 0.017 | Loss D CT : 0.001 | Time : 3.279\n"
          ]
        },
        {
          "output_type": "stream",
          "name": "stderr",
          "text": [
            "\rCT-GAN training loop:  14%|█▍        | 69/500 [03:55<23:40,  3.30s/it]"
          ]
        },
        {
          "output_type": "stream",
          "name": "stdout",
          "text": [
            "[69/500] Loss_D: -0.029 | Loss_G: -0.033 | Loss D real : -0.069 | Loss D fake : 0.028 | Loss D GP : 0.011 | Loss D CT : 0.002 | Time : 3.322\n"
          ]
        },
        {
          "output_type": "stream",
          "name": "stderr",
          "text": [
            "\rCT-GAN training loop:  14%|█▍        | 70/500 [03:58<23:39,  3.30s/it]"
          ]
        },
        {
          "output_type": "stream",
          "name": "stdout",
          "text": [
            "[70/500] Loss_D: -0.027 | Loss_G: -0.038 | Loss D real : -0.075 | Loss D fake : 0.031 | Loss D GP : 0.016 | Loss D CT : 0.001 | Time : 3.311\n"
          ]
        },
        {
          "output_type": "stream",
          "name": "stderr",
          "text": [
            "\rCT-GAN training loop:  14%|█▍        | 71/500 [04:02<23:36,  3.30s/it]"
          ]
        },
        {
          "output_type": "stream",
          "name": "stdout",
          "text": [
            "[71/500] Loss_D: -0.031 | Loss_G: -0.034 | Loss D real : -0.080 | Loss D fake : 0.036 | Loss D GP : 0.012 | Loss D CT : 0.002 | Time : 3.298\n"
          ]
        },
        {
          "output_type": "stream",
          "name": "stderr",
          "text": [
            "\rCT-GAN training loop:  14%|█▍        | 72/500 [04:05<23:31,  3.30s/it]"
          ]
        },
        {
          "output_type": "stream",
          "name": "stdout",
          "text": [
            "[72/500] Loss_D: -0.031 | Loss_G: -0.031 | Loss D real : -0.077 | Loss D fake : 0.035 | Loss D GP : 0.009 | Loss D CT : 0.001 | Time : 3.288\n"
          ]
        },
        {
          "output_type": "stream",
          "name": "stderr",
          "text": [
            "\rCT-GAN training loop:  15%|█▍        | 73/500 [04:08<23:27,  3.30s/it]"
          ]
        },
        {
          "output_type": "stream",
          "name": "stdout",
          "text": [
            "[73/500] Loss_D: -0.027 | Loss_G: -0.032 | Loss D real : -0.078 | Loss D fake : 0.039 | Loss D GP : 0.010 | Loss D CT : 0.003 | Time : 3.286\n"
          ]
        },
        {
          "output_type": "stream",
          "name": "stderr",
          "text": [
            "\rCT-GAN training loop:  15%|█▍        | 74/500 [04:12<23:20,  3.29s/it]"
          ]
        },
        {
          "output_type": "stream",
          "name": "stdout",
          "text": [
            "[74/500] Loss_D: -0.018 | Loss_G: -0.041 | Loss D real : -0.068 | Loss D fake : 0.028 | Loss D GP : 0.021 | Loss D CT : 0.001 | Time : 3.269\n"
          ]
        },
        {
          "output_type": "stream",
          "name": "stderr",
          "text": [
            "\rCT-GAN training loop:  15%|█▌        | 75/500 [04:15<23:18,  3.29s/it]"
          ]
        },
        {
          "output_type": "stream",
          "name": "stdout",
          "text": [
            "[75/500] Loss_D: -0.032 | Loss_G: -0.036 | Loss D real : -0.076 | Loss D fake : 0.035 | Loss D GP : 0.009 | Loss D CT : 0.001 | Time : 3.293\n"
          ]
        },
        {
          "output_type": "stream",
          "name": "stderr",
          "text": [
            "\rCT-GAN training loop:  15%|█▌        | 76/500 [04:18<23:17,  3.30s/it]"
          ]
        },
        {
          "output_type": "stream",
          "name": "stdout",
          "text": [
            "[76/500] Loss_D: -0.028 | Loss_G: -0.035 | Loss D real : -0.073 | Loss D fake : 0.030 | Loss D GP : 0.013 | Loss D CT : 0.001 | Time : 3.304\n"
          ]
        },
        {
          "output_type": "stream",
          "name": "stderr",
          "text": [
            "\rCT-GAN training loop:  15%|█▌        | 77/500 [04:21<23:14,  3.30s/it]"
          ]
        },
        {
          "output_type": "stream",
          "name": "stdout",
          "text": [
            "[77/500] Loss_D: -0.025 | Loss_G: -0.025 | Loss D real : -0.062 | Loss D fake : 0.025 | Loss D GP : 0.011 | Loss D CT : 0.002 | Time : 3.293\n"
          ]
        },
        {
          "output_type": "stream",
          "name": "stderr",
          "text": [
            "\rCT-GAN training loop:  16%|█▌        | 78/500 [04:25<23:11,  3.30s/it]"
          ]
        },
        {
          "output_type": "stream",
          "name": "stdout",
          "text": [
            "[78/500] Loss_D: -0.026 | Loss_G: -0.032 | Loss D real : -0.068 | Loss D fake : 0.029 | Loss D GP : 0.013 | Loss D CT : 0.001 | Time : 3.298\n"
          ]
        },
        {
          "output_type": "stream",
          "name": "stderr",
          "text": [
            "\rCT-GAN training loop:  16%|█▌        | 79/500 [04:28<23:09,  3.30s/it]"
          ]
        },
        {
          "output_type": "stream",
          "name": "stdout",
          "text": [
            "[79/500] Loss_D: -0.027 | Loss_G: -0.037 | Loss D real : -0.075 | Loss D fake : 0.036 | Loss D GP : 0.011 | Loss D CT : 0.001 | Time : 3.306\n"
          ]
        },
        {
          "output_type": "stream",
          "name": "stderr",
          "text": [
            "\rCT-GAN training loop:  16%|█▌        | 80/500 [04:31<23:08,  3.31s/it]"
          ]
        },
        {
          "output_type": "stream",
          "name": "stdout",
          "text": [
            "[80/500] Loss_D: -0.023 | Loss_G: -0.036 | Loss D real : -0.072 | Loss D fake : 0.035 | Loss D GP : 0.012 | Loss D CT : 0.001 | Time : 3.316\n"
          ]
        },
        {
          "output_type": "stream",
          "name": "stderr",
          "text": [
            "\rCT-GAN training loop:  16%|█▌        | 81/500 [04:35<23:05,  3.31s/it]"
          ]
        },
        {
          "output_type": "stream",
          "name": "stdout",
          "text": [
            "[81/500] Loss_D: -0.027 | Loss_G: -0.036 | Loss D real : -0.077 | Loss D fake : 0.036 | Loss D GP : 0.012 | Loss D CT : 0.002 | Time : 3.299\n"
          ]
        },
        {
          "output_type": "stream",
          "name": "stderr",
          "text": [
            "\rCT-GAN training loop:  16%|█▋        | 82/500 [04:38<23:04,  3.31s/it]"
          ]
        },
        {
          "output_type": "stream",
          "name": "stdout",
          "text": [
            "[82/500] Loss_D: -0.027 | Loss_G: -0.032 | Loss D real : -0.075 | Loss D fake : 0.036 | Loss D GP : 0.011 | Loss D CT : 0.002 | Time : 3.323\n"
          ]
        },
        {
          "output_type": "stream",
          "name": "stderr",
          "text": [
            "\rCT-GAN training loop:  17%|█▋        | 83/500 [04:41<22:59,  3.31s/it]"
          ]
        },
        {
          "output_type": "stream",
          "name": "stdout",
          "text": [
            "[83/500] Loss_D: -0.015 | Loss_G: -0.035 | Loss D real : -0.066 | Loss D fake : 0.026 | Loss D GP : 0.024 | Loss D CT : 0.001 | Time : 3.294\n"
          ]
        },
        {
          "output_type": "stream",
          "name": "stderr",
          "text": [
            "\rCT-GAN training loop:  17%|█▋        | 84/500 [04:45<22:54,  3.30s/it]"
          ]
        },
        {
          "output_type": "stream",
          "name": "stdout",
          "text": [
            "[84/500] Loss_D: -0.028 | Loss_G: -0.038 | Loss D real : -0.066 | Loss D fake : 0.025 | Loss D GP : 0.012 | Loss D CT : 0.001 | Time : 3.293\n"
          ]
        },
        {
          "output_type": "stream",
          "name": "stderr",
          "text": [
            "\rCT-GAN training loop:  17%|█▋        | 85/500 [04:48<22:52,  3.31s/it]"
          ]
        },
        {
          "output_type": "stream",
          "name": "stdout",
          "text": [
            "[85/500] Loss_D: -0.026 | Loss_G: -0.036 | Loss D real : -0.067 | Loss D fake : 0.032 | Loss D GP : 0.009 | Loss D CT : 0.001 | Time : 3.310\n"
          ]
        },
        {
          "output_type": "stream",
          "name": "stderr",
          "text": [
            "\rCT-GAN training loop:  17%|█▋        | 86/500 [04:51<22:49,  3.31s/it]"
          ]
        },
        {
          "output_type": "stream",
          "name": "stdout",
          "text": [
            "[86/500] Loss_D: -0.022 | Loss_G: -0.028 | Loss D real : -0.058 | Loss D fake : 0.023 | Loss D GP : 0.011 | Loss D CT : 0.001 | Time : 3.303\n"
          ]
        },
        {
          "output_type": "stream",
          "name": "stderr",
          "text": [
            "\rCT-GAN training loop:  17%|█▋        | 87/500 [04:55<22:44,  3.30s/it]"
          ]
        },
        {
          "output_type": "stream",
          "name": "stdout",
          "text": [
            "[87/500] Loss_D: -0.024 | Loss_G: -0.033 | Loss D real : -0.067 | Loss D fake : 0.033 | Loss D GP : 0.009 | Loss D CT : 0.001 | Time : 3.296\n"
          ]
        },
        {
          "output_type": "stream",
          "name": "stderr",
          "text": [
            "\rCT-GAN training loop:  18%|█▊        | 88/500 [04:58<22:41,  3.31s/it]"
          ]
        },
        {
          "output_type": "stream",
          "name": "stdout",
          "text": [
            "[88/500] Loss_D: -0.021 | Loss_G: -0.032 | Loss D real : -0.065 | Loss D fake : 0.029 | Loss D GP : 0.013 | Loss D CT : 0.002 | Time : 3.303\n"
          ]
        },
        {
          "output_type": "stream",
          "name": "stderr",
          "text": [
            "\rCT-GAN training loop:  18%|█▊        | 89/500 [05:01<22:36,  3.30s/it]"
          ]
        },
        {
          "output_type": "stream",
          "name": "stdout",
          "text": [
            "[89/500] Loss_D: -0.024 | Loss_G: -0.032 | Loss D real : -0.070 | Loss D fake : 0.034 | Loss D GP : 0.012 | Loss D CT : 0.001 | Time : 3.286\n"
          ]
        },
        {
          "output_type": "stream",
          "name": "stderr",
          "text": [
            "\rCT-GAN training loop:  18%|█▊        | 90/500 [05:04<22:34,  3.30s/it]"
          ]
        },
        {
          "output_type": "stream",
          "name": "stdout",
          "text": [
            "[90/500] Loss_D: -0.016 | Loss_G: -0.031 | Loss D real : -0.060 | Loss D fake : 0.029 | Loss D GP : 0.014 | Loss D CT : 0.001 | Time : 3.308\n"
          ]
        },
        {
          "output_type": "stream",
          "name": "stderr",
          "text": [
            "\rCT-GAN training loop:  18%|█▊        | 91/500 [05:08<22:30,  3.30s/it]"
          ]
        },
        {
          "output_type": "stream",
          "name": "stdout",
          "text": [
            "[91/500] Loss_D: -0.025 | Loss_G: -0.023 | Loss D real : -0.073 | Loss D fake : 0.039 | Loss D GP : 0.008 | Loss D CT : 0.002 | Time : 3.295\n"
          ]
        },
        {
          "output_type": "stream",
          "name": "stderr",
          "text": [
            "\rCT-GAN training loop:  18%|█▊        | 92/500 [05:11<22:27,  3.30s/it]"
          ]
        },
        {
          "output_type": "stream",
          "name": "stdout",
          "text": [
            "[92/500] Loss_D: -0.024 | Loss_G: -0.025 | Loss D real : -0.066 | Loss D fake : 0.032 | Loss D GP : 0.009 | Loss D CT : 0.001 | Time : 3.297\n"
          ]
        },
        {
          "output_type": "stream",
          "name": "stderr",
          "text": [
            "\rCT-GAN training loop:  19%|█▊        | 93/500 [05:14<22:23,  3.30s/it]"
          ]
        },
        {
          "output_type": "stream",
          "name": "stdout",
          "text": [
            "[93/500] Loss_D: -0.022 | Loss_G: -0.040 | Loss D real : -0.070 | Loss D fake : 0.034 | Loss D GP : 0.012 | Loss D CT : 0.002 | Time : 3.295\n"
          ]
        },
        {
          "output_type": "stream",
          "name": "stderr",
          "text": [
            "\rCT-GAN training loop:  19%|█▉        | 94/500 [05:18<22:21,  3.31s/it]"
          ]
        },
        {
          "output_type": "stream",
          "name": "stdout",
          "text": [
            "[94/500] Loss_D: -0.024 | Loss_G: -0.033 | Loss D real : -0.073 | Loss D fake : 0.039 | Loss D GP : 0.009 | Loss D CT : 0.001 | Time : 3.313\n"
          ]
        },
        {
          "output_type": "stream",
          "name": "stderr",
          "text": [
            "\rCT-GAN training loop:  19%|█▉        | 95/500 [05:21<22:19,  3.31s/it]"
          ]
        },
        {
          "output_type": "stream",
          "name": "stdout",
          "text": [
            "[95/500] Loss_D: -0.025 | Loss_G: -0.031 | Loss D real : -0.064 | Loss D fake : 0.030 | Loss D GP : 0.008 | Loss D CT : 0.001 | Time : 3.308\n"
          ]
        },
        {
          "output_type": "stream",
          "name": "stderr",
          "text": [
            "\rCT-GAN training loop:  19%|█▉        | 96/500 [05:24<22:16,  3.31s/it]"
          ]
        },
        {
          "output_type": "stream",
          "name": "stdout",
          "text": [
            "[96/500] Loss_D: -0.020 | Loss_G: -0.032 | Loss D real : -0.065 | Loss D fake : 0.031 | Loss D GP : 0.013 | Loss D CT : 0.000 | Time : 3.311\n"
          ]
        },
        {
          "output_type": "stream",
          "name": "stderr",
          "text": [
            "\rCT-GAN training loop:  19%|█▉        | 97/500 [05:28<22:08,  3.30s/it]"
          ]
        },
        {
          "output_type": "stream",
          "name": "stdout",
          "text": [
            "[97/500] Loss_D: -0.021 | Loss_G: -0.038 | Loss D real : -0.058 | Loss D fake : 0.024 | Loss D GP : 0.012 | Loss D CT : 0.001 | Time : 3.265\n"
          ]
        },
        {
          "output_type": "stream",
          "name": "stderr",
          "text": [
            "\rCT-GAN training loop:  20%|█▉        | 98/500 [05:31<22:04,  3.30s/it]"
          ]
        },
        {
          "output_type": "stream",
          "name": "stdout",
          "text": [
            "[98/500] Loss_D: -0.024 | Loss_G: -0.030 | Loss D real : -0.065 | Loss D fake : 0.031 | Loss D GP : 0.009 | Loss D CT : 0.001 | Time : 3.288\n"
          ]
        },
        {
          "output_type": "stream",
          "name": "stderr",
          "text": [
            "\rCT-GAN training loop:  20%|█▉        | 99/500 [05:34<22:02,  3.30s/it]"
          ]
        },
        {
          "output_type": "stream",
          "name": "stdout",
          "text": [
            "[99/500] Loss_D: -0.022 | Loss_G: -0.024 | Loss D real : -0.069 | Loss D fake : 0.036 | Loss D GP : 0.010 | Loss D CT : 0.002 | Time : 3.302\n"
          ]
        },
        {
          "output_type": "stream",
          "name": "stderr",
          "text": [
            "\rCT-GAN training loop:  20%|██        | 100/500 [05:37<21:59,  3.30s/it]"
          ]
        },
        {
          "output_type": "stream",
          "name": "stdout",
          "text": [
            "[100/500] Loss_D: -0.023 | Loss_G: -0.033 | Loss D real : -0.058 | Loss D fake : 0.025 | Loss D GP : 0.010 | Loss D CT : 0.001 | Time : 3.295\n"
          ]
        },
        {
          "output_type": "stream",
          "name": "stderr",
          "text": [
            "\rCT-GAN training loop:  20%|██        | 101/500 [05:41<21:54,  3.29s/it]"
          ]
        },
        {
          "output_type": "stream",
          "name": "stdout",
          "text": [
            "[101/500] Loss_D: -0.024 | Loss_G: -0.033 | Loss D real : -0.065 | Loss D fake : 0.030 | Loss D GP : 0.010 | Loss D CT : 0.001 | Time : 3.281\n"
          ]
        },
        {
          "output_type": "stream",
          "name": "stderr",
          "text": [
            "\rCT-GAN training loop:  20%|██        | 102/500 [05:44<21:52,  3.30s/it]"
          ]
        },
        {
          "output_type": "stream",
          "name": "stdout",
          "text": [
            "[102/500] Loss_D: -0.022 | Loss_G: -0.030 | Loss D real : -0.068 | Loss D fake : 0.033 | Loss D GP : 0.012 | Loss D CT : 0.001 | Time : 3.304\n"
          ]
        },
        {
          "output_type": "stream",
          "name": "stderr",
          "text": [
            "\rCT-GAN training loop:  21%|██        | 103/500 [05:47<21:51,  3.30s/it]"
          ]
        },
        {
          "output_type": "stream",
          "name": "stdout",
          "text": [
            "[103/500] Loss_D: -0.001 | Loss_G: -0.033 | Loss D real : -0.067 | Loss D fake : 0.035 | Loss D GP : 0.031 | Loss D CT : 0.001 | Time : 3.309\n"
          ]
        },
        {
          "output_type": "stream",
          "name": "stderr",
          "text": [
            "\rCT-GAN training loop:  21%|██        | 104/500 [05:51<21:46,  3.30s/it]"
          ]
        },
        {
          "output_type": "stream",
          "name": "stdout",
          "text": [
            "[104/500] Loss_D: -0.019 | Loss_G: -0.036 | Loss D real : -0.076 | Loss D fake : 0.043 | Loss D GP : 0.014 | Loss D CT : 0.001 | Time : 3.288\n"
          ]
        },
        {
          "output_type": "stream",
          "name": "stderr",
          "text": [
            "\rCT-GAN training loop:  21%|██        | 105/500 [05:54<21:42,  3.30s/it]"
          ]
        },
        {
          "output_type": "stream",
          "name": "stdout",
          "text": [
            "[105/500] Loss_D: -0.024 | Loss_G: -0.040 | Loss D real : -0.068 | Loss D fake : 0.035 | Loss D GP : 0.008 | Loss D CT : 0.001 | Time : 3.289\n"
          ]
        },
        {
          "output_type": "stream",
          "name": "stderr",
          "text": [
            "\rCT-GAN training loop:  21%|██        | 106/500 [05:57<21:39,  3.30s/it]"
          ]
        },
        {
          "output_type": "stream",
          "name": "stdout",
          "text": [
            "[106/500] Loss_D: -0.022 | Loss_G: -0.035 | Loss D real : -0.066 | Loss D fake : 0.034 | Loss D GP : 0.008 | Loss D CT : 0.001 | Time : 3.298\n"
          ]
        },
        {
          "output_type": "stream",
          "name": "stderr",
          "text": [
            "\rCT-GAN training loop:  21%|██▏       | 107/500 [06:01<21:34,  3.30s/it]"
          ]
        },
        {
          "output_type": "stream",
          "name": "stdout",
          "text": [
            "[107/500] Loss_D: -0.020 | Loss_G: -0.030 | Loss D real : -0.058 | Loss D fake : 0.027 | Loss D GP : 0.010 | Loss D CT : 0.001 | Time : 3.283\n"
          ]
        },
        {
          "output_type": "stream",
          "name": "stderr",
          "text": [
            "\rCT-GAN training loop:  22%|██▏       | 108/500 [06:04<21:31,  3.29s/it]"
          ]
        },
        {
          "output_type": "stream",
          "name": "stdout",
          "text": [
            "[108/500] Loss_D: -0.021 | Loss_G: -0.034 | Loss D real : -0.066 | Loss D fake : 0.034 | Loss D GP : 0.010 | Loss D CT : 0.001 | Time : 3.287\n"
          ]
        },
        {
          "output_type": "stream",
          "name": "stderr",
          "text": [
            "\rCT-GAN training loop:  22%|██▏       | 109/500 [06:07<21:28,  3.30s/it]"
          ]
        },
        {
          "output_type": "stream",
          "name": "stdout",
          "text": [
            "[109/500] Loss_D: -0.018 | Loss_G: -0.032 | Loss D real : -0.066 | Loss D fake : 0.036 | Loss D GP : 0.012 | Loss D CT : 0.001 | Time : 3.299\n"
          ]
        },
        {
          "output_type": "stream",
          "name": "stderr",
          "text": [
            "\rCT-GAN training loop:  22%|██▏       | 110/500 [06:10<21:26,  3.30s/it]"
          ]
        },
        {
          "output_type": "stream",
          "name": "stdout",
          "text": [
            "[110/500] Loss_D: -0.017 | Loss_G: -0.036 | Loss D real : -0.070 | Loss D fake : 0.038 | Loss D GP : 0.014 | Loss D CT : 0.001 | Time : 3.300\n"
          ]
        },
        {
          "output_type": "stream",
          "name": "stderr",
          "text": [
            "\rCT-GAN training loop:  22%|██▏       | 111/500 [06:14<21:24,  3.30s/it]"
          ]
        },
        {
          "output_type": "stream",
          "name": "stdout",
          "text": [
            "[111/500] Loss_D: -0.019 | Loss_G: -0.033 | Loss D real : -0.065 | Loss D fake : 0.034 | Loss D GP : 0.011 | Loss D CT : 0.001 | Time : 3.306\n"
          ]
        },
        {
          "output_type": "stream",
          "name": "stderr",
          "text": [
            "\rCT-GAN training loop:  22%|██▏       | 112/500 [06:17<21:20,  3.30s/it]"
          ]
        },
        {
          "output_type": "stream",
          "name": "stdout",
          "text": [
            "[112/500] Loss_D: -0.020 | Loss_G: -0.033 | Loss D real : -0.062 | Loss D fake : 0.032 | Loss D GP : 0.009 | Loss D CT : 0.001 | Time : 3.297\n"
          ]
        },
        {
          "output_type": "stream",
          "name": "stderr",
          "text": [
            "\rCT-GAN training loop:  23%|██▎       | 113/500 [06:20<21:18,  3.30s/it]"
          ]
        },
        {
          "output_type": "stream",
          "name": "stdout",
          "text": [
            "[113/500] Loss_D: -0.014 | Loss_G: -0.040 | Loss D real : -0.074 | Loss D fake : 0.042 | Loss D GP : 0.016 | Loss D CT : 0.001 | Time : 3.302\n"
          ]
        },
        {
          "output_type": "stream",
          "name": "stderr",
          "text": [
            "\rCT-GAN training loop:  23%|██▎       | 114/500 [06:24<21:15,  3.31s/it]"
          ]
        },
        {
          "output_type": "stream",
          "name": "stdout",
          "text": [
            "[114/500] Loss_D: -0.020 | Loss_G: -0.038 | Loss D real : -0.070 | Loss D fake : 0.041 | Loss D GP : 0.008 | Loss D CT : 0.001 | Time : 3.308\n"
          ]
        },
        {
          "output_type": "stream",
          "name": "stderr",
          "text": [
            "\rCT-GAN training loop:  23%|██▎       | 115/500 [06:27<21:12,  3.31s/it]"
          ]
        },
        {
          "output_type": "stream",
          "name": "stdout",
          "text": [
            "[115/500] Loss_D: -0.019 | Loss_G: -0.033 | Loss D real : -0.065 | Loss D fake : 0.035 | Loss D GP : 0.010 | Loss D CT : 0.001 | Time : 3.303\n"
          ]
        },
        {
          "output_type": "stream",
          "name": "stderr",
          "text": [
            "\rCT-GAN training loop:  23%|██▎       | 116/500 [06:30<21:08,  3.30s/it]"
          ]
        },
        {
          "output_type": "stream",
          "name": "stdout",
          "text": [
            "[116/500] Loss_D: -0.015 | Loss_G: -0.037 | Loss D real : -0.070 | Loss D fake : 0.041 | Loss D GP : 0.012 | Loss D CT : 0.002 | Time : 3.292\n"
          ]
        },
        {
          "output_type": "stream",
          "name": "stderr",
          "text": [
            "\rCT-GAN training loop:  23%|██▎       | 117/500 [06:34<21:04,  3.30s/it]"
          ]
        },
        {
          "output_type": "stream",
          "name": "stdout",
          "text": [
            "[117/500] Loss_D: -0.023 | Loss_G: -0.039 | Loss D real : -0.062 | Loss D fake : 0.030 | Loss D GP : 0.007 | Loss D CT : 0.001 | Time : 3.294\n"
          ]
        },
        {
          "output_type": "stream",
          "name": "stderr",
          "text": [
            "\rCT-GAN training loop:  24%|██▎       | 118/500 [06:37<21:03,  3.31s/it]"
          ]
        },
        {
          "output_type": "stream",
          "name": "stdout",
          "text": [
            "[118/500] Loss_D: -0.015 | Loss_G: -0.032 | Loss D real : -0.067 | Loss D fake : 0.037 | Loss D GP : 0.014 | Loss D CT : 0.002 | Time : 3.323\n"
          ]
        },
        {
          "output_type": "stream",
          "name": "stderr",
          "text": [
            "\rCT-GAN training loop:  24%|██▍       | 119/500 [06:40<21:01,  3.31s/it]"
          ]
        },
        {
          "output_type": "stream",
          "name": "stdout",
          "text": [
            "[119/500] Loss_D: -0.017 | Loss_G: -0.031 | Loss D real : -0.062 | Loss D fake : 0.032 | Loss D GP : 0.013 | Loss D CT : 0.001 | Time : 3.314\n"
          ]
        },
        {
          "output_type": "stream",
          "name": "stderr",
          "text": [
            "\rCT-GAN training loop:  24%|██▍       | 120/500 [06:43<20:58,  3.31s/it]"
          ]
        },
        {
          "output_type": "stream",
          "name": "stdout",
          "text": [
            "[120/500] Loss_D: -0.019 | Loss_G: -0.042 | Loss D real : -0.071 | Loss D fake : 0.042 | Loss D GP : 0.009 | Loss D CT : 0.001 | Time : 3.312\n"
          ]
        },
        {
          "output_type": "stream",
          "name": "stderr",
          "text": [
            "\rCT-GAN training loop:  24%|██▍       | 121/500 [06:47<20:54,  3.31s/it]"
          ]
        },
        {
          "output_type": "stream",
          "name": "stdout",
          "text": [
            "[121/500] Loss_D: -0.015 | Loss_G: -0.044 | Loss D real : -0.066 | Loss D fake : 0.035 | Loss D GP : 0.014 | Loss D CT : 0.001 | Time : 3.302\n"
          ]
        },
        {
          "output_type": "stream",
          "name": "stderr",
          "text": [
            "\rCT-GAN training loop:  24%|██▍       | 122/500 [06:50<20:50,  3.31s/it]"
          ]
        },
        {
          "output_type": "stream",
          "name": "stdout",
          "text": [
            "[122/500] Loss_D: -0.016 | Loss_G: -0.035 | Loss D real : -0.063 | Loss D fake : 0.034 | Loss D GP : 0.011 | Loss D CT : 0.001 | Time : 3.299\n"
          ]
        },
        {
          "output_type": "stream",
          "name": "stderr",
          "text": [
            "\rCT-GAN training loop:  25%|██▍       | 123/500 [06:53<20:46,  3.31s/it]"
          ]
        },
        {
          "output_type": "stream",
          "name": "stdout",
          "text": [
            "[123/500] Loss_D: -0.015 | Loss_G: -0.038 | Loss D real : -0.058 | Loss D fake : 0.030 | Loss D GP : 0.013 | Loss D CT : 0.001 | Time : 3.300\n"
          ]
        },
        {
          "output_type": "stream",
          "name": "stderr",
          "text": [
            "\rCT-GAN training loop:  25%|██▍       | 124/500 [06:57<20:42,  3.30s/it]"
          ]
        },
        {
          "output_type": "stream",
          "name": "stdout",
          "text": [
            "[124/500] Loss_D: -0.018 | Loss_G: -0.038 | Loss D real : -0.066 | Loss D fake : 0.037 | Loss D GP : 0.009 | Loss D CT : 0.001 | Time : 3.297\n"
          ]
        },
        {
          "output_type": "stream",
          "name": "stderr",
          "text": [
            "\rCT-GAN training loop:  25%|██▌       | 125/500 [07:00<20:40,  3.31s/it]"
          ]
        },
        {
          "output_type": "stream",
          "name": "stdout",
          "text": [
            "[125/500] Loss_D: -0.013 | Loss_G: -0.035 | Loss D real : -0.065 | Loss D fake : 0.037 | Loss D GP : 0.014 | Loss D CT : 0.001 | Time : 3.308\n"
          ]
        },
        {
          "output_type": "stream",
          "name": "stderr",
          "text": [
            "\rCT-GAN training loop:  25%|██▌       | 126/500 [07:03<20:37,  3.31s/it]"
          ]
        },
        {
          "output_type": "stream",
          "name": "stdout",
          "text": [
            "[126/500] Loss_D: -0.019 | Loss_G: -0.032 | Loss D real : -0.068 | Loss D fake : 0.038 | Loss D GP : 0.011 | Loss D CT : 0.001 | Time : 3.309\n"
          ]
        },
        {
          "output_type": "stream",
          "name": "stderr",
          "text": [
            "\rCT-GAN training loop:  25%|██▌       | 127/500 [07:07<20:37,  3.32s/it]"
          ]
        },
        {
          "output_type": "stream",
          "name": "stdout",
          "text": [
            "[127/500] Loss_D: -0.017 | Loss_G: -0.028 | Loss D real : -0.054 | Loss D fake : 0.028 | Loss D GP : 0.009 | Loss D CT : 0.000 | Time : 3.337\n"
          ]
        },
        {
          "output_type": "stream",
          "name": "stderr",
          "text": [
            "\rCT-GAN training loop:  26%|██▌       | 128/500 [07:10<20:34,  3.32s/it]"
          ]
        },
        {
          "output_type": "stream",
          "name": "stdout",
          "text": [
            "[128/500] Loss_D: -0.014 | Loss_G: -0.037 | Loss D real : -0.062 | Loss D fake : 0.034 | Loss D GP : 0.012 | Loss D CT : 0.001 | Time : 3.314\n"
          ]
        },
        {
          "output_type": "stream",
          "name": "stderr",
          "text": [
            "\rCT-GAN training loop:  26%|██▌       | 129/500 [07:13<20:34,  3.33s/it]"
          ]
        },
        {
          "output_type": "stream",
          "name": "stdout",
          "text": [
            "[129/500] Loss_D: -0.013 | Loss_G: -0.031 | Loss D real : -0.060 | Loss D fake : 0.033 | Loss D GP : 0.014 | Loss D CT : 0.001 | Time : 3.342\n"
          ]
        },
        {
          "output_type": "stream",
          "name": "stderr",
          "text": [
            "\rCT-GAN training loop:  26%|██▌       | 130/500 [07:17<20:27,  3.32s/it]"
          ]
        },
        {
          "output_type": "stream",
          "name": "stdout",
          "text": [
            "[130/500] Loss_D: -0.015 | Loss_G: -0.028 | Loss D real : -0.063 | Loss D fake : 0.037 | Loss D GP : 0.010 | Loss D CT : 0.001 | Time : 3.290\n"
          ]
        },
        {
          "output_type": "stream",
          "name": "stderr",
          "text": [
            "\rCT-GAN training loop:  26%|██▌       | 131/500 [07:20<20:21,  3.31s/it]"
          ]
        },
        {
          "output_type": "stream",
          "name": "stdout",
          "text": [
            "[131/500] Loss_D: -0.016 | Loss_G: -0.041 | Loss D real : -0.070 | Loss D fake : 0.043 | Loss D GP : 0.010 | Loss D CT : 0.002 | Time : 3.289\n"
          ]
        },
        {
          "output_type": "stream",
          "name": "stderr",
          "text": [
            "\rCT-GAN training loop:  26%|██▋       | 132/500 [07:23<20:16,  3.31s/it]"
          ]
        },
        {
          "output_type": "stream",
          "name": "stdout",
          "text": [
            "[132/500] Loss_D: -0.015 | Loss_G: -0.039 | Loss D real : -0.073 | Loss D fake : 0.044 | Loss D GP : 0.013 | Loss D CT : 0.001 | Time : 3.298\n"
          ]
        },
        {
          "output_type": "stream",
          "name": "stderr",
          "text": [
            "\rCT-GAN training loop:  27%|██▋       | 133/500 [07:27<20:15,  3.31s/it]"
          ]
        },
        {
          "output_type": "stream",
          "name": "stdout",
          "text": [
            "[133/500] Loss_D: -0.015 | Loss_G: -0.031 | Loss D real : -0.063 | Loss D fake : 0.035 | Loss D GP : 0.011 | Loss D CT : 0.002 | Time : 3.318\n"
          ]
        },
        {
          "output_type": "stream",
          "name": "stderr",
          "text": [
            "\rCT-GAN training loop:  27%|██▋       | 134/500 [07:30<20:12,  3.31s/it]"
          ]
        },
        {
          "output_type": "stream",
          "name": "stdout",
          "text": [
            "[134/500] Loss_D: -0.018 | Loss_G: -0.037 | Loss D real : -0.066 | Loss D fake : 0.040 | Loss D GP : 0.008 | Loss D CT : 0.001 | Time : 3.311\n"
          ]
        },
        {
          "output_type": "stream",
          "name": "stderr",
          "text": [
            "\rCT-GAN training loop:  27%|██▋       | 135/500 [07:33<20:04,  3.30s/it]"
          ]
        },
        {
          "output_type": "stream",
          "name": "stdout",
          "text": [
            "[135/500] Loss_D: -0.013 | Loss_G: -0.035 | Loss D real : -0.066 | Loss D fake : 0.039 | Loss D GP : 0.014 | Loss D CT : 0.001 | Time : 3.272\n"
          ]
        },
        {
          "output_type": "stream",
          "name": "stderr",
          "text": [
            "\rCT-GAN training loop:  27%|██▋       | 136/500 [07:36<20:02,  3.30s/it]"
          ]
        },
        {
          "output_type": "stream",
          "name": "stdout",
          "text": [
            "[136/500] Loss_D: -0.019 | Loss_G: -0.044 | Loss D real : -0.062 | Loss D fake : 0.034 | Loss D GP : 0.008 | Loss D CT : 0.001 | Time : 3.305\n"
          ]
        },
        {
          "output_type": "stream",
          "name": "stderr",
          "text": [
            "\rCT-GAN training loop:  27%|██▋       | 137/500 [07:40<19:59,  3.31s/it]"
          ]
        },
        {
          "output_type": "stream",
          "name": "stdout",
          "text": [
            "[137/500] Loss_D: -0.019 | Loss_G: -0.039 | Loss D real : -0.068 | Loss D fake : 0.039 | Loss D GP : 0.008 | Loss D CT : 0.001 | Time : 3.306\n"
          ]
        },
        {
          "output_type": "stream",
          "name": "stderr",
          "text": [
            "\rCT-GAN training loop:  28%|██▊       | 138/500 [07:43<19:54,  3.30s/it]"
          ]
        },
        {
          "output_type": "stream",
          "name": "stdout",
          "text": [
            "[138/500] Loss_D: -0.009 | Loss_G: -0.038 | Loss D real : -0.059 | Loss D fake : 0.031 | Loss D GP : 0.019 | Loss D CT : 0.000 | Time : 3.287\n"
          ]
        },
        {
          "output_type": "stream",
          "name": "stderr",
          "text": [
            "\rCT-GAN training loop:  28%|██▊       | 139/500 [07:46<19:48,  3.29s/it]"
          ]
        },
        {
          "output_type": "stream",
          "name": "stdout",
          "text": [
            "[139/500] Loss_D: -0.020 | Loss_G: -0.044 | Loss D real : -0.072 | Loss D fake : 0.042 | Loss D GP : 0.009 | Loss D CT : 0.002 | Time : 3.273\n"
          ]
        },
        {
          "output_type": "stream",
          "name": "stderr",
          "text": [
            "\rCT-GAN training loop:  28%|██▊       | 140/500 [07:50<19:46,  3.30s/it]"
          ]
        },
        {
          "output_type": "stream",
          "name": "stdout",
          "text": [
            "[140/500] Loss_D: -0.012 | Loss_G: -0.033 | Loss D real : -0.063 | Loss D fake : 0.037 | Loss D GP : 0.013 | Loss D CT : 0.001 | Time : 3.296\n"
          ]
        },
        {
          "output_type": "stream",
          "name": "stderr",
          "text": [
            "\rCT-GAN training loop:  28%|██▊       | 141/500 [07:53<19:40,  3.29s/it]"
          ]
        },
        {
          "output_type": "stream",
          "name": "stdout",
          "text": [
            "[141/500] Loss_D: -0.021 | Loss_G: -0.041 | Loss D real : -0.066 | Loss D fake : 0.035 | Loss D GP : 0.009 | Loss D CT : 0.001 | Time : 3.267\n"
          ]
        },
        {
          "output_type": "stream",
          "name": "stderr",
          "text": [
            "\rCT-GAN training loop:  28%|██▊       | 142/500 [07:56<19:38,  3.29s/it]"
          ]
        },
        {
          "output_type": "stream",
          "name": "stdout",
          "text": [
            "[142/500] Loss_D: -0.010 | Loss_G: -0.039 | Loss D real : -0.067 | Loss D fake : 0.041 | Loss D GP : 0.015 | Loss D CT : 0.001 | Time : 3.303\n"
          ]
        },
        {
          "output_type": "stream",
          "name": "stderr",
          "text": [
            "\rCT-GAN training loop:  29%|██▊       | 143/500 [07:59<19:36,  3.30s/it]"
          ]
        },
        {
          "output_type": "stream",
          "name": "stdout",
          "text": [
            "[143/500] Loss_D: -0.018 | Loss_G: -0.041 | Loss D real : -0.063 | Loss D fake : 0.037 | Loss D GP : 0.007 | Loss D CT : 0.001 | Time : 3.300\n"
          ]
        },
        {
          "output_type": "stream",
          "name": "stderr",
          "text": [
            "\rCT-GAN training loop:  29%|██▉       | 144/500 [08:03<19:32,  3.29s/it]"
          ]
        },
        {
          "output_type": "stream",
          "name": "stdout",
          "text": [
            "[144/500] Loss_D: -0.013 | Loss_G: -0.039 | Loss D real : -0.060 | Loss D fake : 0.034 | Loss D GP : 0.011 | Loss D CT : 0.002 | Time : 3.287\n"
          ]
        },
        {
          "output_type": "stream",
          "name": "stderr",
          "text": [
            "\rCT-GAN training loop:  29%|██▉       | 145/500 [08:06<19:27,  3.29s/it]"
          ]
        },
        {
          "output_type": "stream",
          "name": "stdout",
          "text": [
            "[145/500] Loss_D: -0.018 | Loss_G: -0.041 | Loss D real : -0.061 | Loss D fake : 0.034 | Loss D GP : 0.008 | Loss D CT : 0.001 | Time : 3.269\n"
          ]
        },
        {
          "output_type": "stream",
          "name": "stderr",
          "text": [
            "\rCT-GAN training loop:  29%|██▉       | 146/500 [08:09<19:23,  3.29s/it]"
          ]
        },
        {
          "output_type": "stream",
          "name": "stdout",
          "text": [
            "[146/500] Loss_D: -0.015 | Loss_G: -0.037 | Loss D real : -0.060 | Loss D fake : 0.035 | Loss D GP : 0.009 | Loss D CT : 0.001 | Time : 3.278\n"
          ]
        },
        {
          "output_type": "stream",
          "name": "stderr",
          "text": [
            "\rCT-GAN training loop:  29%|██▉       | 147/500 [08:13<19:20,  3.29s/it]"
          ]
        },
        {
          "output_type": "stream",
          "name": "stdout",
          "text": [
            "[147/500] Loss_D: -0.015 | Loss_G: -0.038 | Loss D real : -0.058 | Loss D fake : 0.033 | Loss D GP : 0.009 | Loss D CT : 0.001 | Time : 3.285\n"
          ]
        },
        {
          "output_type": "stream",
          "name": "stderr",
          "text": [
            "\rCT-GAN training loop:  30%|██▉       | 148/500 [08:16<19:18,  3.29s/it]"
          ]
        },
        {
          "output_type": "stream",
          "name": "stdout",
          "text": [
            "[148/500] Loss_D: -0.011 | Loss_G: -0.041 | Loss D real : -0.071 | Loss D fake : 0.047 | Loss D GP : 0.012 | Loss D CT : 0.001 | Time : 3.294\n"
          ]
        },
        {
          "output_type": "stream",
          "name": "stderr",
          "text": [
            "\rCT-GAN training loop:  30%|██▉       | 149/500 [08:19<19:12,  3.28s/it]"
          ]
        },
        {
          "output_type": "stream",
          "name": "stdout",
          "text": [
            "[149/500] Loss_D: -0.017 | Loss_G: -0.044 | Loss D real : -0.058 | Loss D fake : 0.032 | Loss D GP : 0.008 | Loss D CT : 0.001 | Time : 3.262\n"
          ]
        },
        {
          "output_type": "stream",
          "name": "stderr",
          "text": [
            "\rCT-GAN training loop:  30%|███       | 150/500 [08:22<19:08,  3.28s/it]"
          ]
        },
        {
          "output_type": "stream",
          "name": "stdout",
          "text": [
            "[150/500] Loss_D: -0.016 | Loss_G: -0.045 | Loss D real : -0.062 | Loss D fake : 0.035 | Loss D GP : 0.011 | Loss D CT : 0.000 | Time : 3.271\n"
          ]
        },
        {
          "output_type": "stream",
          "name": "stderr",
          "text": [
            "\rCT-GAN training loop:  30%|███       | 151/500 [08:26<19:06,  3.29s/it]"
          ]
        },
        {
          "output_type": "stream",
          "name": "stdout",
          "text": [
            "[151/500] Loss_D: -0.016 | Loss_G: -0.035 | Loss D real : -0.065 | Loss D fake : 0.041 | Loss D GP : 0.008 | Loss D CT : 0.000 | Time : 3.296\n"
          ]
        },
        {
          "output_type": "stream",
          "name": "stderr",
          "text": [
            "\rCT-GAN training loop:  30%|███       | 152/500 [08:29<19:05,  3.29s/it]"
          ]
        },
        {
          "output_type": "stream",
          "name": "stdout",
          "text": [
            "[152/500] Loss_D: -0.016 | Loss_G: -0.033 | Loss D real : -0.056 | Loss D fake : 0.032 | Loss D GP : 0.007 | Loss D CT : 0.001 | Time : 3.300\n"
          ]
        },
        {
          "output_type": "stream",
          "name": "stderr",
          "text": [
            "\rCT-GAN training loop:  31%|███       | 153/500 [08:32<19:02,  3.29s/it]"
          ]
        },
        {
          "output_type": "stream",
          "name": "stdout",
          "text": [
            "[153/500] Loss_D: -0.010 | Loss_G: -0.037 | Loss D real : -0.060 | Loss D fake : 0.036 | Loss D GP : 0.012 | Loss D CT : 0.001 | Time : 3.290\n"
          ]
        },
        {
          "output_type": "stream",
          "name": "stderr",
          "text": [
            "\rCT-GAN training loop:  31%|███       | 154/500 [08:36<18:58,  3.29s/it]"
          ]
        },
        {
          "output_type": "stream",
          "name": "stdout",
          "text": [
            "[154/500] Loss_D: -0.018 | Loss_G: -0.037 | Loss D real : -0.068 | Loss D fake : 0.041 | Loss D GP : 0.006 | Loss D CT : 0.002 | Time : 3.287\n"
          ]
        },
        {
          "output_type": "stream",
          "name": "stderr",
          "text": [
            "\rCT-GAN training loop:  31%|███       | 155/500 [08:39<18:57,  3.30s/it]"
          ]
        },
        {
          "output_type": "stream",
          "name": "stdout",
          "text": [
            "[155/500] Loss_D: -0.017 | Loss_G: -0.036 | Loss D real : -0.066 | Loss D fake : 0.040 | Loss D GP : 0.008 | Loss D CT : 0.001 | Time : 3.308\n"
          ]
        },
        {
          "output_type": "stream",
          "name": "stderr",
          "text": [
            "\rCT-GAN training loop:  31%|███       | 156/500 [08:42<18:53,  3.30s/it]"
          ]
        },
        {
          "output_type": "stream",
          "name": "stdout",
          "text": [
            "[156/500] Loss_D: -0.013 | Loss_G: -0.036 | Loss D real : -0.062 | Loss D fake : 0.037 | Loss D GP : 0.012 | Loss D CT : 0.001 | Time : 3.287\n"
          ]
        },
        {
          "output_type": "stream",
          "name": "stderr",
          "text": [
            "\rCT-GAN training loop:  31%|███▏      | 157/500 [08:46<18:49,  3.29s/it]"
          ]
        },
        {
          "output_type": "stream",
          "name": "stdout",
          "text": [
            "[157/500] Loss_D: -0.017 | Loss_G: -0.038 | Loss D real : -0.062 | Loss D fake : 0.036 | Loss D GP : 0.007 | Loss D CT : 0.001 | Time : 3.286\n"
          ]
        },
        {
          "output_type": "stream",
          "name": "stderr",
          "text": [
            "\rCT-GAN training loop:  32%|███▏      | 158/500 [08:49<18:49,  3.30s/it]"
          ]
        },
        {
          "output_type": "stream",
          "name": "stdout",
          "text": [
            "[158/500] Loss_D: -0.015 | Loss_G: -0.037 | Loss D real : -0.066 | Loss D fake : 0.043 | Loss D GP : 0.007 | Loss D CT : 0.001 | Time : 3.317\n"
          ]
        },
        {
          "output_type": "stream",
          "name": "stderr",
          "text": [
            "\rCT-GAN training loop:  32%|███▏      | 159/500 [08:52<18:47,  3.31s/it]"
          ]
        },
        {
          "output_type": "stream",
          "name": "stdout",
          "text": [
            "[159/500] Loss_D: -0.013 | Loss_G: -0.036 | Loss D real : -0.056 | Loss D fake : 0.029 | Loss D GP : 0.012 | Loss D CT : 0.002 | Time : 3.319\n"
          ]
        },
        {
          "output_type": "stream",
          "name": "stderr",
          "text": [
            "\rCT-GAN training loop:  32%|███▏      | 160/500 [08:55<18:43,  3.30s/it]"
          ]
        },
        {
          "output_type": "stream",
          "name": "stdout",
          "text": [
            "[160/500] Loss_D: -0.015 | Loss_G: -0.039 | Loss D real : -0.072 | Loss D fake : 0.049 | Loss D GP : 0.008 | Loss D CT : 0.001 | Time : 3.293\n"
          ]
        },
        {
          "output_type": "stream",
          "name": "stderr",
          "text": [
            "\rCT-GAN training loop:  32%|███▏      | 161/500 [08:59<18:39,  3.30s/it]"
          ]
        },
        {
          "output_type": "stream",
          "name": "stdout",
          "text": [
            "[161/500] Loss_D: -0.012 | Loss_G: -0.038 | Loss D real : -0.057 | Loss D fake : 0.037 | Loss D GP : 0.008 | Loss D CT : 0.001 | Time : 3.299\n"
          ]
        },
        {
          "output_type": "stream",
          "name": "stderr",
          "text": [
            "\rCT-GAN training loop:  32%|███▏      | 162/500 [09:02<18:35,  3.30s/it]"
          ]
        },
        {
          "output_type": "stream",
          "name": "stdout",
          "text": [
            "[162/500] Loss_D: -0.013 | Loss_G: -0.039 | Loss D real : -0.063 | Loss D fake : 0.040 | Loss D GP : 0.009 | Loss D CT : 0.000 | Time : 3.290\n"
          ]
        },
        {
          "output_type": "stream",
          "name": "stderr",
          "text": [
            "\rCT-GAN training loop:  33%|███▎      | 163/500 [09:05<18:30,  3.30s/it]"
          ]
        },
        {
          "output_type": "stream",
          "name": "stdout",
          "text": [
            "[163/500] Loss_D: -0.014 | Loss_G: -0.040 | Loss D real : -0.061 | Loss D fake : 0.036 | Loss D GP : 0.010 | Loss D CT : 0.001 | Time : 3.283\n"
          ]
        },
        {
          "output_type": "stream",
          "name": "stderr",
          "text": [
            "\rCT-GAN training loop:  33%|███▎      | 164/500 [09:09<18:27,  3.30s/it]"
          ]
        },
        {
          "output_type": "stream",
          "name": "stdout",
          "text": [
            "[164/500] Loss_D: -0.016 | Loss_G: -0.044 | Loss D real : -0.069 | Loss D fake : 0.041 | Loss D GP : 0.011 | Loss D CT : 0.001 | Time : 3.292\n"
          ]
        },
        {
          "output_type": "stream",
          "name": "stderr",
          "text": [
            "\rCT-GAN training loop:  33%|███▎      | 165/500 [09:12<18:22,  3.29s/it]"
          ]
        },
        {
          "output_type": "stream",
          "name": "stdout",
          "text": [
            "[165/500] Loss_D: -0.018 | Loss_G: -0.041 | Loss D real : -0.067 | Loss D fake : 0.041 | Loss D GP : 0.006 | Loss D CT : 0.001 | Time : 3.275\n"
          ]
        },
        {
          "output_type": "stream",
          "name": "stderr",
          "text": [
            "\rCT-GAN training loop:  33%|███▎      | 166/500 [09:15<18:20,  3.30s/it]"
          ]
        },
        {
          "output_type": "stream",
          "name": "stdout",
          "text": [
            "[166/500] Loss_D: -0.018 | Loss_G: -0.046 | Loss D real : -0.067 | Loss D fake : 0.041 | Loss D GP : 0.008 | Loss D CT : 0.000 | Time : 3.303\n"
          ]
        },
        {
          "output_type": "stream",
          "name": "stderr",
          "text": [
            "\rCT-GAN training loop:  33%|███▎      | 167/500 [09:19<18:16,  3.29s/it]"
          ]
        },
        {
          "output_type": "stream",
          "name": "stdout",
          "text": [
            "[167/500] Loss_D: -0.016 | Loss_G: -0.043 | Loss D real : -0.066 | Loss D fake : 0.041 | Loss D GP : 0.008 | Loss D CT : 0.001 | Time : 3.285\n"
          ]
        },
        {
          "output_type": "stream",
          "name": "stderr",
          "text": [
            "\rCT-GAN training loop:  34%|███▎      | 168/500 [09:22<18:12,  3.29s/it]"
          ]
        },
        {
          "output_type": "stream",
          "name": "stdout",
          "text": [
            "[168/500] Loss_D: -0.007 | Loss_G: -0.041 | Loss D real : -0.058 | Loss D fake : 0.035 | Loss D GP : 0.016 | Loss D CT : 0.001 | Time : 3.279\n"
          ]
        },
        {
          "output_type": "stream",
          "name": "stderr",
          "text": [
            "\rCT-GAN training loop:  34%|███▍      | 169/500 [09:25<18:09,  3.29s/it]"
          ]
        },
        {
          "output_type": "stream",
          "name": "stdout",
          "text": [
            "[169/500] Loss_D: -0.015 | Loss_G: -0.039 | Loss D real : -0.066 | Loss D fake : 0.041 | Loss D GP : 0.008 | Loss D CT : 0.001 | Time : 3.295\n"
          ]
        },
        {
          "output_type": "stream",
          "name": "stderr",
          "text": [
            "\rCT-GAN training loop:  34%|███▍      | 170/500 [09:28<18:09,  3.30s/it]"
          ]
        },
        {
          "output_type": "stream",
          "name": "stdout",
          "text": [
            "[170/500] Loss_D: -0.016 | Loss_G: -0.043 | Loss D real : -0.065 | Loss D fake : 0.041 | Loss D GP : 0.007 | Loss D CT : 0.001 | Time : 3.319\n"
          ]
        },
        {
          "output_type": "stream",
          "name": "stderr",
          "text": [
            "\rCT-GAN training loop:  34%|███▍      | 171/500 [09:32<18:04,  3.30s/it]"
          ]
        },
        {
          "output_type": "stream",
          "name": "stdout",
          "text": [
            "[171/500] Loss_D: -0.015 | Loss_G: -0.047 | Loss D real : -0.067 | Loss D fake : 0.043 | Loss D GP : 0.008 | Loss D CT : 0.001 | Time : 3.279\n"
          ]
        },
        {
          "output_type": "stream",
          "name": "stderr",
          "text": [
            "\rCT-GAN training loop:  34%|███▍      | 172/500 [09:35<18:02,  3.30s/it]"
          ]
        },
        {
          "output_type": "stream",
          "name": "stdout",
          "text": [
            "[172/500] Loss_D: -0.013 | Loss_G: -0.031 | Loss D real : -0.059 | Loss D fake : 0.035 | Loss D GP : 0.010 | Loss D CT : 0.001 | Time : 3.309\n"
          ]
        },
        {
          "output_type": "stream",
          "name": "stderr",
          "text": [
            "\rCT-GAN training loop:  35%|███▍      | 173/500 [09:38<17:57,  3.30s/it]"
          ]
        },
        {
          "output_type": "stream",
          "name": "stdout",
          "text": [
            "[173/500] Loss_D: -0.014 | Loss_G: -0.038 | Loss D real : -0.066 | Loss D fake : 0.043 | Loss D GP : 0.008 | Loss D CT : 0.001 | Time : 3.282\n"
          ]
        },
        {
          "output_type": "stream",
          "name": "stderr",
          "text": [
            "\rCT-GAN training loop:  35%|███▍      | 174/500 [09:42<17:56,  3.30s/it]"
          ]
        },
        {
          "output_type": "stream",
          "name": "stdout",
          "text": [
            "[174/500] Loss_D: -0.017 | Loss_G: -0.041 | Loss D real : -0.066 | Loss D fake : 0.042 | Loss D GP : 0.008 | Loss D CT : 0.000 | Time : 3.316\n"
          ]
        },
        {
          "output_type": "stream",
          "name": "stderr",
          "text": [
            "\rCT-GAN training loop:  35%|███▌      | 175/500 [09:45<17:53,  3.30s/it]"
          ]
        },
        {
          "output_type": "stream",
          "name": "stdout",
          "text": [
            "[175/500] Loss_D: -0.014 | Loss_G: -0.038 | Loss D real : -0.062 | Loss D fake : 0.038 | Loss D GP : 0.008 | Loss D CT : 0.002 | Time : 3.302\n"
          ]
        },
        {
          "output_type": "stream",
          "name": "stderr",
          "text": [
            "\rCT-GAN training loop:  35%|███▌      | 176/500 [09:48<17:50,  3.30s/it]"
          ]
        },
        {
          "output_type": "stream",
          "name": "stdout",
          "text": [
            "[176/500] Loss_D: -0.012 | Loss_G: -0.036 | Loss D real : -0.062 | Loss D fake : 0.040 | Loss D GP : 0.009 | Loss D CT : 0.001 | Time : 3.302\n"
          ]
        },
        {
          "output_type": "stream",
          "name": "stderr",
          "text": [
            "\rCT-GAN training loop:  35%|███▌      | 177/500 [09:52<17:47,  3.31s/it]"
          ]
        },
        {
          "output_type": "stream",
          "name": "stdout",
          "text": [
            "[177/500] Loss_D: -0.012 | Loss_G: -0.041 | Loss D real : -0.066 | Loss D fake : 0.042 | Loss D GP : 0.011 | Loss D CT : 0.001 | Time : 3.306\n"
          ]
        },
        {
          "output_type": "stream",
          "name": "stderr",
          "text": [
            "\rCT-GAN training loop:  36%|███▌      | 178/500 [09:55<17:41,  3.30s/it]"
          ]
        },
        {
          "output_type": "stream",
          "name": "stdout",
          "text": [
            "[178/500] Loss_D: -0.015 | Loss_G: -0.032 | Loss D real : -0.060 | Loss D fake : 0.036 | Loss D GP : 0.008 | Loss D CT : 0.001 | Time : 3.274\n"
          ]
        },
        {
          "output_type": "stream",
          "name": "stderr",
          "text": [
            "\rCT-GAN training loop:  36%|███▌      | 179/500 [09:58<17:39,  3.30s/it]"
          ]
        },
        {
          "output_type": "stream",
          "name": "stdout",
          "text": [
            "[179/500] Loss_D: -0.014 | Loss_G: -0.035 | Loss D real : -0.066 | Loss D fake : 0.044 | Loss D GP : 0.006 | Loss D CT : 0.002 | Time : 3.303\n"
          ]
        },
        {
          "output_type": "stream",
          "name": "stderr",
          "text": [
            "\rCT-GAN training loop:  36%|███▌      | 180/500 [10:01<17:36,  3.30s/it]"
          ]
        },
        {
          "output_type": "stream",
          "name": "stdout",
          "text": [
            "[180/500] Loss_D: -0.016 | Loss_G: -0.043 | Loss D real : -0.062 | Loss D fake : 0.036 | Loss D GP : 0.009 | Loss D CT : 0.001 | Time : 3.297\n"
          ]
        },
        {
          "output_type": "stream",
          "name": "stderr",
          "text": [
            "\rCT-GAN training loop:  36%|███▌      | 181/500 [10:05<17:32,  3.30s/it]"
          ]
        },
        {
          "output_type": "stream",
          "name": "stdout",
          "text": [
            "[181/500] Loss_D: -0.014 | Loss_G: -0.044 | Loss D real : -0.071 | Loss D fake : 0.047 | Loss D GP : 0.009 | Loss D CT : 0.001 | Time : 3.294\n"
          ]
        },
        {
          "output_type": "stream",
          "name": "stderr",
          "text": [
            "\rCT-GAN training loop:  36%|███▋      | 182/500 [10:08<17:27,  3.29s/it]"
          ]
        },
        {
          "output_type": "stream",
          "name": "stdout",
          "text": [
            "[182/500] Loss_D: -0.012 | Loss_G: -0.032 | Loss D real : -0.057 | Loss D fake : 0.035 | Loss D GP : 0.009 | Loss D CT : 0.001 | Time : 3.275\n"
          ]
        },
        {
          "output_type": "stream",
          "name": "stderr",
          "text": [
            "\rCT-GAN training loop:  37%|███▋      | 183/500 [10:11<17:23,  3.29s/it]"
          ]
        },
        {
          "output_type": "stream",
          "name": "stdout",
          "text": [
            "[183/500] Loss_D: -0.013 | Loss_G: -0.039 | Loss D real : -0.060 | Loss D fake : 0.037 | Loss D GP : 0.009 | Loss D CT : 0.001 | Time : 3.284\n"
          ]
        },
        {
          "output_type": "stream",
          "name": "stderr",
          "text": [
            "\rCT-GAN training loop:  37%|███▋      | 184/500 [10:15<17:20,  3.29s/it]"
          ]
        },
        {
          "output_type": "stream",
          "name": "stdout",
          "text": [
            "[184/500] Loss_D: -0.014 | Loss_G: -0.038 | Loss D real : -0.060 | Loss D fake : 0.038 | Loss D GP : 0.007 | Loss D CT : 0.000 | Time : 3.289\n"
          ]
        },
        {
          "output_type": "stream",
          "name": "stderr",
          "text": [
            "\rCT-GAN training loop:  37%|███▋      | 185/500 [10:18<17:17,  3.29s/it]"
          ]
        },
        {
          "output_type": "stream",
          "name": "stdout",
          "text": [
            "[185/500] Loss_D: -0.011 | Loss_G: -0.039 | Loss D real : -0.058 | Loss D fake : 0.038 | Loss D GP : 0.008 | Loss D CT : 0.001 | Time : 3.294\n"
          ]
        },
        {
          "output_type": "stream",
          "name": "stderr",
          "text": [
            "\rCT-GAN training loop:  37%|███▋      | 186/500 [10:21<17:13,  3.29s/it]"
          ]
        },
        {
          "output_type": "stream",
          "name": "stdout",
          "text": [
            "[186/500] Loss_D: -0.014 | Loss_G: -0.037 | Loss D real : -0.055 | Loss D fake : 0.033 | Loss D GP : 0.008 | Loss D CT : 0.001 | Time : 3.282\n"
          ]
        },
        {
          "output_type": "stream",
          "name": "stderr",
          "text": [
            "\rCT-GAN training loop:  37%|███▋      | 187/500 [10:24<17:10,  3.29s/it]"
          ]
        },
        {
          "output_type": "stream",
          "name": "stdout",
          "text": [
            "[187/500] Loss_D: -0.013 | Loss_G: -0.034 | Loss D real : -0.058 | Loss D fake : 0.037 | Loss D GP : 0.007 | Loss D CT : 0.001 | Time : 3.289\n"
          ]
        },
        {
          "output_type": "stream",
          "name": "stderr",
          "text": [
            "\rCT-GAN training loop:  38%|███▊      | 188/500 [10:28<17:07,  3.29s/it]"
          ]
        },
        {
          "output_type": "stream",
          "name": "stdout",
          "text": [
            "[188/500] Loss_D: -0.006 | Loss_G: -0.039 | Loss D real : -0.061 | Loss D fake : 0.039 | Loss D GP : 0.015 | Loss D CT : 0.001 | Time : 3.298\n"
          ]
        },
        {
          "output_type": "stream",
          "name": "stderr",
          "text": [
            "\rCT-GAN training loop:  38%|███▊      | 189/500 [10:31<17:05,  3.30s/it]"
          ]
        },
        {
          "output_type": "stream",
          "name": "stdout",
          "text": [
            "[189/500] Loss_D: -0.016 | Loss_G: -0.035 | Loss D real : -0.059 | Loss D fake : 0.034 | Loss D GP : 0.008 | Loss D CT : 0.001 | Time : 3.296\n"
          ]
        },
        {
          "output_type": "stream",
          "name": "stderr",
          "text": [
            "\rCT-GAN training loop:  38%|███▊      | 190/500 [10:34<17:01,  3.29s/it]"
          ]
        },
        {
          "output_type": "stream",
          "name": "stdout",
          "text": [
            "[190/500] Loss_D: -0.015 | Loss_G: -0.042 | Loss D real : -0.065 | Loss D fake : 0.042 | Loss D GP : 0.008 | Loss D CT : 0.001 | Time : 3.287\n"
          ]
        },
        {
          "output_type": "stream",
          "name": "stderr",
          "text": [
            "\rCT-GAN training loop:  38%|███▊      | 191/500 [10:38<16:58,  3.30s/it]"
          ]
        },
        {
          "output_type": "stream",
          "name": "stdout",
          "text": [
            "[191/500] Loss_D: -0.013 | Loss_G: -0.039 | Loss D real : -0.056 | Loss D fake : 0.034 | Loss D GP : 0.008 | Loss D CT : 0.001 | Time : 3.297\n"
          ]
        },
        {
          "output_type": "stream",
          "name": "stderr",
          "text": [
            "\rCT-GAN training loop:  38%|███▊      | 192/500 [10:41<16:55,  3.30s/it]"
          ]
        },
        {
          "output_type": "stream",
          "name": "stdout",
          "text": [
            "[192/500] Loss_D: -0.013 | Loss_G: -0.041 | Loss D real : -0.068 | Loss D fake : 0.047 | Loss D GP : 0.007 | Loss D CT : 0.001 | Time : 3.293\n"
          ]
        },
        {
          "output_type": "stream",
          "name": "stderr",
          "text": [
            "\rCT-GAN training loop:  39%|███▊      | 193/500 [10:44<16:52,  3.30s/it]"
          ]
        },
        {
          "output_type": "stream",
          "name": "stdout",
          "text": [
            "[193/500] Loss_D: -0.011 | Loss_G: -0.038 | Loss D real : -0.068 | Loss D fake : 0.046 | Loss D GP : 0.009 | Loss D CT : 0.001 | Time : 3.296\n"
          ]
        },
        {
          "output_type": "stream",
          "name": "stderr",
          "text": [
            "\rCT-GAN training loop:  39%|███▉      | 194/500 [10:48<16:47,  3.29s/it]"
          ]
        },
        {
          "output_type": "stream",
          "name": "stdout",
          "text": [
            "[194/500] Loss_D: -0.012 | Loss_G: -0.042 | Loss D real : -0.068 | Loss D fake : 0.045 | Loss D GP : 0.010 | Loss D CT : 0.001 | Time : 3.278\n"
          ]
        },
        {
          "output_type": "stream",
          "name": "stderr",
          "text": [
            "\rCT-GAN training loop:  39%|███▉      | 195/500 [10:51<16:45,  3.30s/it]"
          ]
        },
        {
          "output_type": "stream",
          "name": "stdout",
          "text": [
            "[195/500] Loss_D: -0.015 | Loss_G: -0.044 | Loss D real : -0.066 | Loss D fake : 0.041 | Loss D GP : 0.009 | Loss D CT : 0.001 | Time : 3.306\n"
          ]
        },
        {
          "output_type": "stream",
          "name": "stderr",
          "text": [
            "\rCT-GAN training loop:  39%|███▉      | 196/500 [10:54<16:42,  3.30s/it]"
          ]
        },
        {
          "output_type": "stream",
          "name": "stdout",
          "text": [
            "[196/500] Loss_D: -0.012 | Loss_G: -0.040 | Loss D real : -0.057 | Loss D fake : 0.036 | Loss D GP : 0.007 | Loss D CT : 0.001 | Time : 3.292\n"
          ]
        },
        {
          "output_type": "stream",
          "name": "stderr",
          "text": [
            "\rCT-GAN training loop:  39%|███▉      | 197/500 [10:57<16:41,  3.30s/it]"
          ]
        },
        {
          "output_type": "stream",
          "name": "stdout",
          "text": [
            "[197/500] Loss_D: -0.011 | Loss_G: -0.035 | Loss D real : -0.060 | Loss D fake : 0.038 | Loss D GP : 0.010 | Loss D CT : 0.000 | Time : 3.319\n"
          ]
        },
        {
          "output_type": "stream",
          "name": "stderr",
          "text": [
            "\rCT-GAN training loop:  40%|███▉      | 198/500 [11:01<16:36,  3.30s/it]"
          ]
        },
        {
          "output_type": "stream",
          "name": "stdout",
          "text": [
            "[198/500] Loss_D: -0.011 | Loss_G: -0.048 | Loss D real : -0.071 | Loss D fake : 0.046 | Loss D GP : 0.011 | Loss D CT : 0.002 | Time : 3.281\n"
          ]
        },
        {
          "output_type": "stream",
          "name": "stderr",
          "text": [
            "\rCT-GAN training loop:  40%|███▉      | 199/500 [11:04<16:35,  3.31s/it]"
          ]
        },
        {
          "output_type": "stream",
          "name": "stdout",
          "text": [
            "[199/500] Loss_D: -0.017 | Loss_G: -0.041 | Loss D real : -0.060 | Loss D fake : 0.035 | Loss D GP : 0.008 | Loss D CT : 0.001 | Time : 3.320\n"
          ]
        },
        {
          "output_type": "stream",
          "name": "stderr",
          "text": [
            "\rCT-GAN training loop:  40%|████      | 200/500 [11:07<16:29,  3.30s/it]"
          ]
        },
        {
          "output_type": "stream",
          "name": "stdout",
          "text": [
            "[200/500] Loss_D: -0.013 | Loss_G: -0.037 | Loss D real : -0.061 | Loss D fake : 0.038 | Loss D GP : 0.009 | Loss D CT : 0.001 | Time : 3.276\n"
          ]
        },
        {
          "output_type": "stream",
          "name": "stderr",
          "text": [
            "\rCT-GAN training loop:  40%|████      | 201/500 [11:11<16:24,  3.29s/it]"
          ]
        },
        {
          "output_type": "stream",
          "name": "stdout",
          "text": [
            "[201/500] Loss_D: -0.010 | Loss_G: -0.043 | Loss D real : -0.058 | Loss D fake : 0.037 | Loss D GP : 0.010 | Loss D CT : 0.000 | Time : 3.269\n"
          ]
        },
        {
          "output_type": "stream",
          "name": "stderr",
          "text": [
            "\rCT-GAN training loop:  40%|████      | 202/500 [11:14<16:19,  3.29s/it]"
          ]
        },
        {
          "output_type": "stream",
          "name": "stdout",
          "text": [
            "[202/500] Loss_D: -0.014 | Loss_G: -0.038 | Loss D real : -0.057 | Loss D fake : 0.034 | Loss D GP : 0.008 | Loss D CT : 0.001 | Time : 3.273\n"
          ]
        },
        {
          "output_type": "stream",
          "name": "stderr",
          "text": [
            "\rCT-GAN training loop:  41%|████      | 203/500 [11:17<16:17,  3.29s/it]"
          ]
        },
        {
          "output_type": "stream",
          "name": "stdout",
          "text": [
            "[203/500] Loss_D: -0.005 | Loss_G: -0.038 | Loss D real : -0.062 | Loss D fake : 0.043 | Loss D GP : 0.014 | Loss D CT : 0.000 | Time : 3.297\n"
          ]
        },
        {
          "output_type": "stream",
          "name": "stderr",
          "text": [
            "\rCT-GAN training loop:  41%|████      | 204/500 [11:21<16:16,  3.30s/it]"
          ]
        },
        {
          "output_type": "stream",
          "name": "stdout",
          "text": [
            "[204/500] Loss_D: -0.015 | Loss_G: -0.043 | Loss D real : -0.068 | Loss D fake : 0.046 | Loss D GP : 0.006 | Loss D CT : 0.000 | Time : 3.314\n"
          ]
        },
        {
          "output_type": "stream",
          "name": "stderr",
          "text": [
            "\rCT-GAN training loop:  41%|████      | 205/500 [11:24<16:11,  3.29s/it]"
          ]
        },
        {
          "output_type": "stream",
          "name": "stdout",
          "text": [
            "[205/500] Loss_D: -0.007 | Loss_G: -0.035 | Loss D real : -0.056 | Loss D fake : 0.037 | Loss D GP : 0.012 | Loss D CT : 0.001 | Time : 3.278\n"
          ]
        },
        {
          "output_type": "stream",
          "name": "stderr",
          "text": [
            "\rCT-GAN training loop:  41%|████      | 206/500 [11:27<16:06,  3.29s/it]"
          ]
        },
        {
          "output_type": "stream",
          "name": "stdout",
          "text": [
            "[206/500] Loss_D: -0.013 | Loss_G: -0.041 | Loss D real : -0.062 | Loss D fake : 0.041 | Loss D GP : 0.007 | Loss D CT : 0.000 | Time : 3.269\n"
          ]
        },
        {
          "output_type": "stream",
          "name": "stderr",
          "text": [
            "\rCT-GAN training loop:  41%|████▏     | 207/500 [11:30<16:04,  3.29s/it]"
          ]
        },
        {
          "output_type": "stream",
          "name": "stdout",
          "text": [
            "[207/500] Loss_D: -0.011 | Loss_G: -0.038 | Loss D real : -0.059 | Loss D fake : 0.038 | Loss D GP : 0.009 | Loss D CT : 0.000 | Time : 3.297\n"
          ]
        },
        {
          "output_type": "stream",
          "name": "stderr",
          "text": [
            "\rCT-GAN training loop:  42%|████▏     | 208/500 [11:34<15:59,  3.29s/it]"
          ]
        },
        {
          "output_type": "stream",
          "name": "stdout",
          "text": [
            "[208/500] Loss_D: -0.011 | Loss_G: -0.036 | Loss D real : -0.053 | Loss D fake : 0.030 | Loss D GP : 0.010 | Loss D CT : 0.001 | Time : 3.270\n"
          ]
        },
        {
          "output_type": "stream",
          "name": "stderr",
          "text": [
            "\rCT-GAN training loop:  42%|████▏     | 209/500 [11:37<15:57,  3.29s/it]"
          ]
        },
        {
          "output_type": "stream",
          "name": "stdout",
          "text": [
            "[209/500] Loss_D: -0.010 | Loss_G: -0.039 | Loss D real : -0.059 | Loss D fake : 0.039 | Loss D GP : 0.009 | Loss D CT : 0.001 | Time : 3.301\n"
          ]
        },
        {
          "output_type": "stream",
          "name": "stderr",
          "text": [
            "\rCT-GAN training loop:  42%|████▏     | 210/500 [11:40<15:55,  3.29s/it]"
          ]
        },
        {
          "output_type": "stream",
          "name": "stdout",
          "text": [
            "[210/500] Loss_D: -0.015 | Loss_G: -0.042 | Loss D real : -0.064 | Loss D fake : 0.041 | Loss D GP : 0.007 | Loss D CT : 0.001 | Time : 3.299\n"
          ]
        },
        {
          "output_type": "stream",
          "name": "stderr",
          "text": [
            "\rCT-GAN training loop:  42%|████▏     | 211/500 [11:44<15:55,  3.30s/it]"
          ]
        },
        {
          "output_type": "stream",
          "name": "stdout",
          "text": [
            "[211/500] Loss_D: -0.011 | Loss_G: -0.040 | Loss D real : -0.058 | Loss D fake : 0.035 | Loss D GP : 0.011 | Loss D CT : 0.001 | Time : 3.325\n"
          ]
        },
        {
          "output_type": "stream",
          "name": "stderr",
          "text": [
            "\rCT-GAN training loop:  42%|████▏     | 212/500 [11:47<15:50,  3.30s/it]"
          ]
        },
        {
          "output_type": "stream",
          "name": "stdout",
          "text": [
            "[212/500] Loss_D: -0.011 | Loss_G: -0.036 | Loss D real : -0.062 | Loss D fake : 0.038 | Loss D GP : 0.011 | Loss D CT : 0.001 | Time : 3.291\n"
          ]
        },
        {
          "output_type": "stream",
          "name": "stderr",
          "text": [
            "\rCT-GAN training loop:  43%|████▎     | 213/500 [11:50<15:48,  3.30s/it]"
          ]
        },
        {
          "output_type": "stream",
          "name": "stdout",
          "text": [
            "[213/500] Loss_D: -0.012 | Loss_G: -0.045 | Loss D real : -0.067 | Loss D fake : 0.045 | Loss D GP : 0.009 | Loss D CT : 0.001 | Time : 3.307\n"
          ]
        },
        {
          "output_type": "stream",
          "name": "stderr",
          "text": [
            "\rCT-GAN training loop:  43%|████▎     | 214/500 [11:54<15:45,  3.31s/it]"
          ]
        },
        {
          "output_type": "stream",
          "name": "stdout",
          "text": [
            "[214/500] Loss_D: -0.008 | Loss_G: -0.041 | Loss D real : -0.060 | Loss D fake : 0.040 | Loss D GP : 0.011 | Loss D CT : 0.001 | Time : 3.309\n"
          ]
        },
        {
          "output_type": "stream",
          "name": "stderr",
          "text": [
            "\rCT-GAN training loop:  43%|████▎     | 215/500 [11:57<15:41,  3.30s/it]"
          ]
        },
        {
          "output_type": "stream",
          "name": "stdout",
          "text": [
            "[215/500] Loss_D: -0.013 | Loss_G: -0.039 | Loss D real : -0.054 | Loss D fake : 0.032 | Loss D GP : 0.008 | Loss D CT : 0.000 | Time : 3.288\n"
          ]
        },
        {
          "output_type": "stream",
          "name": "stderr",
          "text": [
            "\rCT-GAN training loop:  43%|████▎     | 216/500 [12:00<15:36,  3.30s/it]"
          ]
        },
        {
          "output_type": "stream",
          "name": "stdout",
          "text": [
            "[216/500] Loss_D: -0.007 | Loss_G: -0.043 | Loss D real : -0.061 | Loss D fake : 0.043 | Loss D GP : 0.010 | Loss D CT : 0.001 | Time : 3.282\n"
          ]
        },
        {
          "output_type": "stream",
          "name": "stderr",
          "text": [
            "\rCT-GAN training loop:  43%|████▎     | 217/500 [12:03<15:31,  3.29s/it]"
          ]
        },
        {
          "output_type": "stream",
          "name": "stdout",
          "text": [
            "[217/500] Loss_D: -0.008 | Loss_G: -0.042 | Loss D real : -0.061 | Loss D fake : 0.040 | Loss D GP : 0.013 | Loss D CT : 0.001 | Time : 3.278\n"
          ]
        },
        {
          "output_type": "stream",
          "name": "stderr",
          "text": [
            "\rCT-GAN training loop:  44%|████▎     | 218/500 [12:07<15:28,  3.29s/it]"
          ]
        },
        {
          "output_type": "stream",
          "name": "stdout",
          "text": [
            "[218/500] Loss_D: -0.014 | Loss_G: -0.035 | Loss D real : -0.052 | Loss D fake : 0.031 | Loss D GP : 0.006 | Loss D CT : 0.000 | Time : 3.296\n"
          ]
        },
        {
          "output_type": "stream",
          "name": "stderr",
          "text": [
            "\rCT-GAN training loop:  44%|████▍     | 219/500 [12:10<15:26,  3.30s/it]"
          ]
        },
        {
          "output_type": "stream",
          "name": "stdout",
          "text": [
            "[219/500] Loss_D: -0.011 | Loss_G: -0.039 | Loss D real : -0.060 | Loss D fake : 0.039 | Loss D GP : 0.010 | Loss D CT : 0.001 | Time : 3.302\n"
          ]
        },
        {
          "output_type": "stream",
          "name": "stderr",
          "text": [
            "\rCT-GAN training loop:  44%|████▍     | 220/500 [12:13<15:23,  3.30s/it]"
          ]
        },
        {
          "output_type": "stream",
          "name": "stdout",
          "text": [
            "[220/500] Loss_D: -0.012 | Loss_G: -0.038 | Loss D real : -0.059 | Loss D fake : 0.039 | Loss D GP : 0.007 | Loss D CT : 0.001 | Time : 3.293\n"
          ]
        },
        {
          "output_type": "stream",
          "name": "stderr",
          "text": [
            "\rCT-GAN training loop:  44%|████▍     | 221/500 [12:17<15:20,  3.30s/it]"
          ]
        },
        {
          "output_type": "stream",
          "name": "stdout",
          "text": [
            "[221/500] Loss_D: -0.008 | Loss_G: -0.039 | Loss D real : -0.057 | Loss D fake : 0.039 | Loss D GP : 0.010 | Loss D CT : 0.001 | Time : 3.303\n"
          ]
        },
        {
          "output_type": "stream",
          "name": "stderr",
          "text": [
            "\rCT-GAN training loop:  44%|████▍     | 222/500 [12:20<15:16,  3.30s/it]"
          ]
        },
        {
          "output_type": "stream",
          "name": "stdout",
          "text": [
            "[222/500] Loss_D: -0.009 | Loss_G: -0.039 | Loss D real : -0.056 | Loss D fake : 0.033 | Loss D GP : 0.013 | Loss D CT : 0.001 | Time : 3.288\n"
          ]
        },
        {
          "output_type": "stream",
          "name": "stderr",
          "text": [
            "\rCT-GAN training loop:  45%|████▍     | 223/500 [12:23<15:14,  3.30s/it]"
          ]
        },
        {
          "output_type": "stream",
          "name": "stdout",
          "text": [
            "[223/500] Loss_D: -0.012 | Loss_G: -0.041 | Loss D real : -0.059 | Loss D fake : 0.038 | Loss D GP : 0.009 | Loss D CT : 0.000 | Time : 3.307\n"
          ]
        },
        {
          "output_type": "stream",
          "name": "stderr",
          "text": [
            "\rCT-GAN training loop:  45%|████▍     | 224/500 [12:26<15:11,  3.30s/it]"
          ]
        },
        {
          "output_type": "stream",
          "name": "stdout",
          "text": [
            "[224/500] Loss_D: -0.010 | Loss_G: -0.042 | Loss D real : -0.059 | Loss D fake : 0.040 | Loss D GP : 0.009 | Loss D CT : 0.001 | Time : 3.300\n"
          ]
        },
        {
          "output_type": "stream",
          "name": "stderr",
          "text": [
            "\rCT-GAN training loop:  45%|████▌     | 225/500 [12:30<15:07,  3.30s/it]"
          ]
        },
        {
          "output_type": "stream",
          "name": "stdout",
          "text": [
            "[225/500] Loss_D: -0.009 | Loss_G: -0.035 | Loss D real : -0.056 | Loss D fake : 0.035 | Loss D GP : 0.010 | Loss D CT : 0.001 | Time : 3.297\n"
          ]
        },
        {
          "output_type": "stream",
          "name": "stderr",
          "text": [
            "\rCT-GAN training loop:  45%|████▌     | 226/500 [12:33<15:03,  3.30s/it]"
          ]
        },
        {
          "output_type": "stream",
          "name": "stdout",
          "text": [
            "[226/500] Loss_D: -0.010 | Loss_G: -0.046 | Loss D real : -0.064 | Loss D fake : 0.044 | Loss D GP : 0.009 | Loss D CT : 0.000 | Time : 3.284\n"
          ]
        },
        {
          "output_type": "stream",
          "name": "stderr",
          "text": [
            "\rCT-GAN training loop:  45%|████▌     | 227/500 [12:36<15:00,  3.30s/it]"
          ]
        },
        {
          "output_type": "stream",
          "name": "stdout",
          "text": [
            "[227/500] Loss_D: -0.012 | Loss_G: -0.045 | Loss D real : -0.062 | Loss D fake : 0.042 | Loss D GP : 0.007 | Loss D CT : 0.001 | Time : 3.302\n"
          ]
        },
        {
          "output_type": "stream",
          "name": "stderr",
          "text": [
            "\rCT-GAN training loop:  46%|████▌     | 228/500 [12:40<14:56,  3.30s/it]"
          ]
        },
        {
          "output_type": "stream",
          "name": "stdout",
          "text": [
            "[228/500] Loss_D: -0.011 | Loss_G: -0.040 | Loss D real : -0.057 | Loss D fake : 0.037 | Loss D GP : 0.008 | Loss D CT : 0.001 | Time : 3.283\n"
          ]
        },
        {
          "output_type": "stream",
          "name": "stderr",
          "text": [
            "\rCT-GAN training loop:  46%|████▌     | 229/500 [12:43<14:53,  3.30s/it]"
          ]
        },
        {
          "output_type": "stream",
          "name": "stdout",
          "text": [
            "[229/500] Loss_D: -0.013 | Loss_G: -0.033 | Loss D real : -0.058 | Loss D fake : 0.037 | Loss D GP : 0.008 | Loss D CT : 0.001 | Time : 3.301\n"
          ]
        },
        {
          "output_type": "stream",
          "name": "stderr",
          "text": [
            "\rCT-GAN training loop:  46%|████▌     | 230/500 [12:46<14:50,  3.30s/it]"
          ]
        },
        {
          "output_type": "stream",
          "name": "stdout",
          "text": [
            "[230/500] Loss_D: -0.011 | Loss_G: -0.040 | Loss D real : -0.057 | Loss D fake : 0.038 | Loss D GP : 0.008 | Loss D CT : 0.000 | Time : 3.296\n"
          ]
        },
        {
          "output_type": "stream",
          "name": "stderr",
          "text": [
            "\rCT-GAN training loop:  46%|████▌     | 231/500 [12:50<14:46,  3.29s/it]"
          ]
        },
        {
          "output_type": "stream",
          "name": "stdout",
          "text": [
            "[231/500] Loss_D: -0.013 | Loss_G: -0.040 | Loss D real : -0.063 | Loss D fake : 0.042 | Loss D GP : 0.007 | Loss D CT : 0.002 | Time : 3.280\n"
          ]
        },
        {
          "output_type": "stream",
          "name": "stderr",
          "text": [
            "\rCT-GAN training loop:  46%|████▋     | 232/500 [12:53<14:43,  3.30s/it]"
          ]
        },
        {
          "output_type": "stream",
          "name": "stdout",
          "text": [
            "[232/500] Loss_D: -0.010 | Loss_G: -0.039 | Loss D real : -0.056 | Loss D fake : 0.035 | Loss D GP : 0.010 | Loss D CT : 0.001 | Time : 3.301\n"
          ]
        },
        {
          "output_type": "stream",
          "name": "stderr",
          "text": [
            "\rCT-GAN training loop:  47%|████▋     | 233/500 [12:56<14:41,  3.30s/it]"
          ]
        },
        {
          "output_type": "stream",
          "name": "stdout",
          "text": [
            "[233/500] Loss_D: -0.012 | Loss_G: -0.030 | Loss D real : -0.049 | Loss D fake : 0.030 | Loss D GP : 0.007 | Loss D CT : 0.001 | Time : 3.310\n"
          ]
        },
        {
          "output_type": "stream",
          "name": "stderr",
          "text": [
            "\rCT-GAN training loop:  47%|████▋     | 234/500 [12:59<14:38,  3.30s/it]"
          ]
        },
        {
          "output_type": "stream",
          "name": "stdout",
          "text": [
            "[234/500] Loss_D: -0.012 | Loss_G: -0.030 | Loss D real : -0.049 | Loss D fake : 0.030 | Loss D GP : 0.007 | Loss D CT : 0.001 | Time : 3.295\n"
          ]
        },
        {
          "output_type": "stream",
          "name": "stderr",
          "text": [
            "\rCT-GAN training loop:  47%|████▋     | 235/500 [13:03<14:34,  3.30s/it]"
          ]
        },
        {
          "output_type": "stream",
          "name": "stdout",
          "text": [
            "[235/500] Loss_D: -0.011 | Loss_G: -0.039 | Loss D real : -0.063 | Loss D fake : 0.041 | Loss D GP : 0.010 | Loss D CT : 0.001 | Time : 3.291\n"
          ]
        },
        {
          "output_type": "stream",
          "name": "stderr",
          "text": [
            "\rCT-GAN training loop:  47%|████▋     | 236/500 [13:06<14:31,  3.30s/it]"
          ]
        },
        {
          "output_type": "stream",
          "name": "stdout",
          "text": [
            "[236/500] Loss_D: -0.014 | Loss_G: -0.037 | Loss D real : -0.058 | Loss D fake : 0.037 | Loss D GP : 0.007 | Loss D CT : 0.001 | Time : 3.302\n"
          ]
        },
        {
          "output_type": "stream",
          "name": "stderr",
          "text": [
            "\rCT-GAN training loop:  47%|████▋     | 237/500 [13:09<14:28,  3.30s/it]"
          ]
        },
        {
          "output_type": "stream",
          "name": "stdout",
          "text": [
            "[237/500] Loss_D: -0.011 | Loss_G: -0.035 | Loss D real : -0.055 | Loss D fake : 0.034 | Loss D GP : 0.010 | Loss D CT : 0.001 | Time : 3.303\n"
          ]
        },
        {
          "output_type": "stream",
          "name": "stderr",
          "text": [
            "\rCT-GAN training loop:  48%|████▊     | 238/500 [13:13<14:24,  3.30s/it]"
          ]
        },
        {
          "output_type": "stream",
          "name": "stdout",
          "text": [
            "[238/500] Loss_D: -0.010 | Loss_G: -0.043 | Loss D real : -0.064 | Loss D fake : 0.044 | Loss D GP : 0.009 | Loss D CT : 0.001 | Time : 3.291\n"
          ]
        },
        {
          "output_type": "stream",
          "name": "stderr",
          "text": [
            "\rCT-GAN training loop:  48%|████▊     | 239/500 [13:16<14:20,  3.30s/it]"
          ]
        },
        {
          "output_type": "stream",
          "name": "stdout",
          "text": [
            "[239/500] Loss_D: -0.013 | Loss_G: -0.041 | Loss D real : -0.053 | Loss D fake : 0.032 | Loss D GP : 0.008 | Loss D CT : 0.001 | Time : 3.281\n"
          ]
        },
        {
          "output_type": "stream",
          "name": "stderr",
          "text": [
            "\rCT-GAN training loop:  48%|████▊     | 240/500 [13:19<14:16,  3.30s/it]"
          ]
        },
        {
          "output_type": "stream",
          "name": "stdout",
          "text": [
            "[240/500] Loss_D: -0.013 | Loss_G: -0.031 | Loss D real : -0.050 | Loss D fake : 0.029 | Loss D GP : 0.008 | Loss D CT : 0.000 | Time : 3.292\n"
          ]
        },
        {
          "output_type": "stream",
          "name": "stderr",
          "text": [
            "\rCT-GAN training loop:  48%|████▊     | 241/500 [13:23<14:13,  3.29s/it]"
          ]
        },
        {
          "output_type": "stream",
          "name": "stdout",
          "text": [
            "[241/500] Loss_D: -0.011 | Loss_G: -0.034 | Loss D real : -0.047 | Loss D fake : 0.030 | Loss D GP : 0.006 | Loss D CT : 0.001 | Time : 3.290\n"
          ]
        },
        {
          "output_type": "stream",
          "name": "stderr",
          "text": [
            "\rCT-GAN training loop:  48%|████▊     | 242/500 [13:26<14:10,  3.29s/it]"
          ]
        },
        {
          "output_type": "stream",
          "name": "stdout",
          "text": [
            "[242/500] Loss_D: -0.008 | Loss_G: -0.040 | Loss D real : -0.054 | Loss D fake : 0.038 | Loss D GP : 0.007 | Loss D CT : 0.001 | Time : 3.292\n"
          ]
        },
        {
          "output_type": "stream",
          "name": "stderr",
          "text": [
            "\rCT-GAN training loop:  49%|████▊     | 243/500 [13:29<14:07,  3.30s/it]"
          ]
        },
        {
          "output_type": "stream",
          "name": "stdout",
          "text": [
            "[243/500] Loss_D: -0.007 | Loss_G: -0.035 | Loss D real : -0.054 | Loss D fake : 0.035 | Loss D GP : 0.010 | Loss D CT : 0.001 | Time : 3.300\n"
          ]
        },
        {
          "output_type": "stream",
          "name": "stderr",
          "text": [
            "\rCT-GAN training loop:  49%|████▉     | 244/500 [13:32<14:04,  3.30s/it]"
          ]
        },
        {
          "output_type": "stream",
          "name": "stdout",
          "text": [
            "[244/500] Loss_D: -0.008 | Loss_G: -0.037 | Loss D real : -0.061 | Loss D fake : 0.042 | Loss D GP : 0.011 | Loss D CT : 0.000 | Time : 3.300\n"
          ]
        },
        {
          "output_type": "stream",
          "name": "stderr",
          "text": [
            "\rCT-GAN training loop:  49%|████▉     | 245/500 [13:36<14:00,  3.30s/it]"
          ]
        },
        {
          "output_type": "stream",
          "name": "stdout",
          "text": [
            "[245/500] Loss_D: -0.012 | Loss_G: -0.033 | Loss D real : -0.051 | Loss D fake : 0.031 | Loss D GP : 0.007 | Loss D CT : 0.001 | Time : 3.285\n"
          ]
        },
        {
          "output_type": "stream",
          "name": "stderr",
          "text": [
            "\rCT-GAN training loop:  49%|████▉     | 246/500 [13:39<13:57,  3.30s/it]"
          ]
        },
        {
          "output_type": "stream",
          "name": "stdout",
          "text": [
            "[246/500] Loss_D: -0.010 | Loss_G: -0.035 | Loss D real : -0.052 | Loss D fake : 0.031 | Loss D GP : 0.010 | Loss D CT : 0.001 | Time : 3.295\n"
          ]
        },
        {
          "output_type": "stream",
          "name": "stderr",
          "text": [
            "\rCT-GAN training loop:  49%|████▉     | 247/500 [13:42<13:54,  3.30s/it]"
          ]
        },
        {
          "output_type": "stream",
          "name": "stdout",
          "text": [
            "[247/500] Loss_D: -0.011 | Loss_G: -0.038 | Loss D real : -0.053 | Loss D fake : 0.033 | Loss D GP : 0.009 | Loss D CT : 0.000 | Time : 3.297\n"
          ]
        },
        {
          "output_type": "stream",
          "name": "stderr",
          "text": [
            "\rCT-GAN training loop:  50%|████▉     | 248/500 [13:46<13:50,  3.29s/it]"
          ]
        },
        {
          "output_type": "stream",
          "name": "stdout",
          "text": [
            "[248/500] Loss_D: -0.013 | Loss_G: -0.034 | Loss D real : -0.061 | Loss D fake : 0.038 | Loss D GP : 0.009 | Loss D CT : 0.002 | Time : 3.284\n"
          ]
        },
        {
          "output_type": "stream",
          "name": "stderr",
          "text": [
            "\rCT-GAN training loop:  50%|████▉     | 249/500 [13:49<13:47,  3.30s/it]"
          ]
        },
        {
          "output_type": "stream",
          "name": "stdout",
          "text": [
            "[249/500] Loss_D: -0.012 | Loss_G: -0.040 | Loss D real : -0.059 | Loss D fake : 0.040 | Loss D GP : 0.006 | Loss D CT : 0.001 | Time : 3.301\n"
          ]
        },
        {
          "output_type": "stream",
          "name": "stderr",
          "text": [
            "\rCT-GAN training loop:  50%|█████     | 250/500 [13:52<13:44,  3.30s/it]"
          ]
        },
        {
          "output_type": "stream",
          "name": "stdout",
          "text": [
            "[250/500] Loss_D: -0.012 | Loss_G: -0.040 | Loss D real : -0.054 | Loss D fake : 0.034 | Loss D GP : 0.007 | Loss D CT : 0.001 | Time : 3.292\n"
          ]
        },
        {
          "output_type": "stream",
          "name": "stderr",
          "text": [
            "\rCT-GAN training loop:  50%|█████     | 251/500 [13:56<13:42,  3.30s/it]"
          ]
        },
        {
          "output_type": "stream",
          "name": "stdout",
          "text": [
            "[251/500] Loss_D: -0.008 | Loss_G: -0.032 | Loss D real : -0.048 | Loss D fake : 0.033 | Loss D GP : 0.007 | Loss D CT : 0.000 | Time : 3.309\n"
          ]
        },
        {
          "output_type": "stream",
          "name": "stderr",
          "text": [
            "\rCT-GAN training loop:  50%|█████     | 252/500 [13:59<13:38,  3.30s/it]"
          ]
        },
        {
          "output_type": "stream",
          "name": "stdout",
          "text": [
            "[252/500] Loss_D: -0.010 | Loss_G: -0.041 | Loss D real : -0.053 | Loss D fake : 0.035 | Loss D GP : 0.007 | Loss D CT : 0.001 | Time : 3.296\n"
          ]
        },
        {
          "output_type": "stream",
          "name": "stderr",
          "text": [
            "\rCT-GAN training loop:  51%|█████     | 253/500 [14:02<13:34,  3.30s/it]"
          ]
        },
        {
          "output_type": "stream",
          "name": "stdout",
          "text": [
            "[253/500] Loss_D: -0.011 | Loss_G: -0.036 | Loss D real : -0.050 | Loss D fake : 0.028 | Loss D GP : 0.009 | Loss D CT : 0.001 | Time : 3.279\n"
          ]
        },
        {
          "output_type": "stream",
          "name": "stderr",
          "text": [
            "\rCT-GAN training loop:  51%|█████     | 254/500 [14:05<13:29,  3.29s/it]"
          ]
        },
        {
          "output_type": "stream",
          "name": "stdout",
          "text": [
            "[254/500] Loss_D: -0.014 | Loss_G: -0.037 | Loss D real : -0.054 | Loss D fake : 0.032 | Loss D GP : 0.007 | Loss D CT : 0.001 | Time : 3.277\n"
          ]
        },
        {
          "output_type": "stream",
          "name": "stderr",
          "text": [
            "\rCT-GAN training loop:  51%|█████     | 255/500 [14:09<13:27,  3.30s/it]"
          ]
        },
        {
          "output_type": "stream",
          "name": "stdout",
          "text": [
            "[255/500] Loss_D: -0.010 | Loss_G: -0.039 | Loss D real : -0.053 | Loss D fake : 0.034 | Loss D GP : 0.008 | Loss D CT : 0.001 | Time : 3.311\n"
          ]
        },
        {
          "output_type": "stream",
          "name": "stderr",
          "text": [
            "\rCT-GAN training loop:  51%|█████     | 256/500 [14:12<13:25,  3.30s/it]"
          ]
        },
        {
          "output_type": "stream",
          "name": "stdout",
          "text": [
            "[256/500] Loss_D: -0.010 | Loss_G: -0.039 | Loss D real : -0.052 | Loss D fake : 0.034 | Loss D GP : 0.007 | Loss D CT : 0.001 | Time : 3.310\n"
          ]
        },
        {
          "output_type": "stream",
          "name": "stderr",
          "text": [
            "\rCT-GAN training loop:  51%|█████▏    | 257/500 [14:15<13:22,  3.30s/it]"
          ]
        },
        {
          "output_type": "stream",
          "name": "stdout",
          "text": [
            "[257/500] Loss_D: -0.002 | Loss_G: -0.036 | Loss D real : -0.053 | Loss D fake : 0.033 | Loss D GP : 0.015 | Loss D CT : 0.002 | Time : 3.295\n"
          ]
        },
        {
          "output_type": "stream",
          "name": "stderr",
          "text": [
            "\rCT-GAN training loop:  52%|█████▏    | 258/500 [14:19<13:18,  3.30s/it]"
          ]
        },
        {
          "output_type": "stream",
          "name": "stdout",
          "text": [
            "[258/500] Loss_D: -0.012 | Loss_G: -0.036 | Loss D real : -0.052 | Loss D fake : 0.033 | Loss D GP : 0.007 | Loss D CT : 0.001 | Time : 3.286\n"
          ]
        },
        {
          "output_type": "stream",
          "name": "stderr",
          "text": [
            "\rCT-GAN training loop:  52%|█████▏    | 259/500 [14:22<13:14,  3.30s/it]"
          ]
        },
        {
          "output_type": "stream",
          "name": "stdout",
          "text": [
            "[259/500] Loss_D: -0.011 | Loss_G: -0.040 | Loss D real : -0.061 | Loss D fake : 0.043 | Loss D GP : 0.007 | Loss D CT : 0.001 | Time : 3.290\n"
          ]
        },
        {
          "output_type": "stream",
          "name": "stderr",
          "text": [
            "\rCT-GAN training loop:  52%|█████▏    | 260/500 [14:25<13:09,  3.29s/it]"
          ]
        },
        {
          "output_type": "stream",
          "name": "stdout",
          "text": [
            "[260/500] Loss_D: -0.008 | Loss_G: -0.032 | Loss D real : -0.048 | Loss D fake : 0.033 | Loss D GP : 0.007 | Loss D CT : 0.000 | Time : 3.266\n"
          ]
        },
        {
          "output_type": "stream",
          "name": "stderr",
          "text": [
            "\rCT-GAN training loop:  52%|█████▏    | 261/500 [14:28<13:06,  3.29s/it]"
          ]
        },
        {
          "output_type": "stream",
          "name": "stdout",
          "text": [
            "[261/500] Loss_D: -0.013 | Loss_G: -0.040 | Loss D real : -0.058 | Loss D fake : 0.038 | Loss D GP : 0.007 | Loss D CT : 0.000 | Time : 3.299\n"
          ]
        },
        {
          "output_type": "stream",
          "name": "stderr",
          "text": [
            "\rCT-GAN training loop:  52%|█████▏    | 262/500 [14:32<13:04,  3.30s/it]"
          ]
        },
        {
          "output_type": "stream",
          "name": "stdout",
          "text": [
            "[262/500] Loss_D: -0.012 | Loss_G: -0.042 | Loss D real : -0.063 | Loss D fake : 0.043 | Loss D GP : 0.006 | Loss D CT : 0.001 | Time : 3.302\n"
          ]
        },
        {
          "output_type": "stream",
          "name": "stderr",
          "text": [
            "\rCT-GAN training loop:  53%|█████▎    | 263/500 [14:35<13:01,  3.30s/it]"
          ]
        },
        {
          "output_type": "stream",
          "name": "stdout",
          "text": [
            "[263/500] Loss_D: -0.008 | Loss_G: -0.041 | Loss D real : -0.058 | Loss D fake : 0.041 | Loss D GP : 0.008 | Loss D CT : 0.000 | Time : 3.296\n"
          ]
        },
        {
          "output_type": "stream",
          "name": "stderr",
          "text": [
            "\rCT-GAN training loop:  53%|█████▎    | 264/500 [14:38<12:56,  3.29s/it]"
          ]
        },
        {
          "output_type": "stream",
          "name": "stdout",
          "text": [
            "[264/500] Loss_D: -0.012 | Loss_G: -0.040 | Loss D real : -0.063 | Loss D fake : 0.043 | Loss D GP : 0.007 | Loss D CT : 0.000 | Time : 3.272\n"
          ]
        },
        {
          "output_type": "stream",
          "name": "stderr",
          "text": [
            "\rCT-GAN training loop:  53%|█████▎    | 265/500 [14:42<12:53,  3.29s/it]"
          ]
        },
        {
          "output_type": "stream",
          "name": "stdout",
          "text": [
            "[265/500] Loss_D: -0.009 | Loss_G: -0.041 | Loss D real : -0.057 | Loss D fake : 0.040 | Loss D GP : 0.007 | Loss D CT : 0.001 | Time : 3.285\n"
          ]
        },
        {
          "output_type": "stream",
          "name": "stderr",
          "text": [
            "\rCT-GAN training loop:  53%|█████▎    | 266/500 [14:45<12:50,  3.29s/it]"
          ]
        },
        {
          "output_type": "stream",
          "name": "stdout",
          "text": [
            "[266/500] Loss_D: -0.009 | Loss_G: -0.041 | Loss D real : -0.057 | Loss D fake : 0.039 | Loss D GP : 0.009 | Loss D CT : 0.000 | Time : 3.289\n"
          ]
        },
        {
          "output_type": "stream",
          "name": "stderr",
          "text": [
            "\rCT-GAN training loop:  53%|█████▎    | 267/500 [14:48<12:46,  3.29s/it]"
          ]
        },
        {
          "output_type": "stream",
          "name": "stdout",
          "text": [
            "[267/500] Loss_D: -0.006 | Loss_G: -0.041 | Loss D real : -0.059 | Loss D fake : 0.039 | Loss D GP : 0.012 | Loss D CT : 0.001 | Time : 3.280\n"
          ]
        },
        {
          "output_type": "stream",
          "name": "stderr",
          "text": [
            "\rCT-GAN training loop:  54%|█████▎    | 268/500 [14:51<12:43,  3.29s/it]"
          ]
        },
        {
          "output_type": "stream",
          "name": "stdout",
          "text": [
            "[268/500] Loss_D: -0.010 | Loss_G: -0.040 | Loss D real : -0.054 | Loss D fake : 0.034 | Loss D GP : 0.010 | Loss D CT : 0.000 | Time : 3.288\n"
          ]
        },
        {
          "output_type": "stream",
          "name": "stderr",
          "text": [
            "\rCT-GAN training loop:  54%|█████▍    | 269/500 [14:55<12:38,  3.29s/it]"
          ]
        },
        {
          "output_type": "stream",
          "name": "stdout",
          "text": [
            "[269/500] Loss_D: -0.007 | Loss_G: -0.030 | Loss D real : -0.052 | Loss D fake : 0.033 | Loss D GP : 0.011 | Loss D CT : 0.001 | Time : 3.273\n"
          ]
        },
        {
          "output_type": "stream",
          "name": "stderr",
          "text": [
            "\rCT-GAN training loop:  54%|█████▍    | 270/500 [14:58<12:37,  3.29s/it]"
          ]
        },
        {
          "output_type": "stream",
          "name": "stdout",
          "text": [
            "[270/500] Loss_D: -0.011 | Loss_G: -0.042 | Loss D real : -0.057 | Loss D fake : 0.038 | Loss D GP : 0.008 | Loss D CT : 0.001 | Time : 3.313\n"
          ]
        },
        {
          "output_type": "stream",
          "name": "stderr",
          "text": [
            "\rCT-GAN training loop:  54%|█████▍    | 271/500 [15:01<12:34,  3.30s/it]"
          ]
        },
        {
          "output_type": "stream",
          "name": "stdout",
          "text": [
            "[271/500] Loss_D: -0.010 | Loss_G: -0.030 | Loss D real : -0.051 | Loss D fake : 0.033 | Loss D GP : 0.008 | Loss D CT : 0.000 | Time : 3.296\n"
          ]
        },
        {
          "output_type": "stream",
          "name": "stderr",
          "text": [
            "\rCT-GAN training loop:  54%|█████▍    | 272/500 [15:05<12:30,  3.29s/it]"
          ]
        },
        {
          "output_type": "stream",
          "name": "stdout",
          "text": [
            "[272/500] Loss_D: -0.010 | Loss_G: -0.022 | Loss D real : -0.043 | Loss D fake : 0.022 | Loss D GP : 0.010 | Loss D CT : 0.001 | Time : 3.284\n"
          ]
        },
        {
          "output_type": "stream",
          "name": "stderr",
          "text": [
            "\rCT-GAN training loop:  55%|█████▍    | 273/500 [15:08<12:28,  3.30s/it]"
          ]
        },
        {
          "output_type": "stream",
          "name": "stdout",
          "text": [
            "[273/500] Loss_D: -0.009 | Loss_G: -0.040 | Loss D real : -0.053 | Loss D fake : 0.038 | Loss D GP : 0.006 | Loss D CT : 0.000 | Time : 3.298\n"
          ]
        },
        {
          "output_type": "stream",
          "name": "stderr",
          "text": [
            "\rCT-GAN training loop:  55%|█████▍    | 274/500 [15:11<12:24,  3.30s/it]"
          ]
        },
        {
          "output_type": "stream",
          "name": "stdout",
          "text": [
            "[274/500] Loss_D: -0.010 | Loss_G: -0.040 | Loss D real : -0.056 | Loss D fake : 0.039 | Loss D GP : 0.006 | Loss D CT : 0.001 | Time : 3.293\n"
          ]
        },
        {
          "output_type": "stream",
          "name": "stderr",
          "text": [
            "\rCT-GAN training loop:  55%|█████▌    | 275/500 [15:15<12:22,  3.30s/it]"
          ]
        },
        {
          "output_type": "stream",
          "name": "stdout",
          "text": [
            "[275/500] Loss_D: -0.007 | Loss_G: -0.035 | Loss D real : -0.057 | Loss D fake : 0.040 | Loss D GP : 0.009 | Loss D CT : 0.001 | Time : 3.300\n"
          ]
        },
        {
          "output_type": "stream",
          "name": "stderr",
          "text": [
            "\rCT-GAN training loop:  55%|█████▌    | 276/500 [15:18<12:20,  3.30s/it]"
          ]
        },
        {
          "output_type": "stream",
          "name": "stdout",
          "text": [
            "[276/500] Loss_D: -0.007 | Loss_G: -0.042 | Loss D real : -0.060 | Loss D fake : 0.043 | Loss D GP : 0.009 | Loss D CT : 0.000 | Time : 3.313\n"
          ]
        },
        {
          "output_type": "stream",
          "name": "stderr",
          "text": [
            "\rCT-GAN training loop:  55%|█████▌    | 277/500 [15:21<12:16,  3.30s/it]"
          ]
        },
        {
          "output_type": "stream",
          "name": "stdout",
          "text": [
            "[277/500] Loss_D: -0.009 | Loss_G: -0.037 | Loss D real : -0.056 | Loss D fake : 0.039 | Loss D GP : 0.008 | Loss D CT : 0.000 | Time : 3.304\n"
          ]
        },
        {
          "output_type": "stream",
          "name": "stderr",
          "text": [
            "\rCT-GAN training loop:  56%|█████▌    | 278/500 [15:24<12:12,  3.30s/it]"
          ]
        },
        {
          "output_type": "stream",
          "name": "stdout",
          "text": [
            "[278/500] Loss_D: -0.008 | Loss_G: -0.030 | Loss D real : -0.048 | Loss D fake : 0.028 | Loss D GP : 0.010 | Loss D CT : 0.001 | Time : 3.286\n"
          ]
        },
        {
          "output_type": "stream",
          "name": "stderr",
          "text": [
            "\rCT-GAN training loop:  56%|█████▌    | 279/500 [15:28<12:08,  3.30s/it]"
          ]
        },
        {
          "output_type": "stream",
          "name": "stdout",
          "text": [
            "[279/500] Loss_D: -0.010 | Loss_G: -0.033 | Loss D real : -0.044 | Loss D fake : 0.027 | Loss D GP : 0.006 | Loss D CT : 0.000 | Time : 3.288\n"
          ]
        },
        {
          "output_type": "stream",
          "name": "stderr",
          "text": [
            "\rCT-GAN training loop:  56%|█████▌    | 280/500 [15:31<12:05,  3.30s/it]"
          ]
        },
        {
          "output_type": "stream",
          "name": "stdout",
          "text": [
            "[280/500] Loss_D: -0.009 | Loss_G: -0.044 | Loss D real : -0.060 | Loss D fake : 0.044 | Loss D GP : 0.007 | Loss D CT : 0.000 | Time : 3.300\n"
          ]
        },
        {
          "output_type": "stream",
          "name": "stderr",
          "text": [
            "\rCT-GAN training loop:  56%|█████▌    | 281/500 [15:34<12:02,  3.30s/it]"
          ]
        },
        {
          "output_type": "stream",
          "name": "stdout",
          "text": [
            "[281/500] Loss_D: -0.014 | Loss_G: -0.040 | Loss D real : -0.064 | Loss D fake : 0.041 | Loss D GP : 0.008 | Loss D CT : 0.001 | Time : 3.298\n"
          ]
        },
        {
          "output_type": "stream",
          "name": "stderr",
          "text": [
            "\rCT-GAN training loop:  56%|█████▋    | 282/500 [15:38<11:58,  3.29s/it]"
          ]
        },
        {
          "output_type": "stream",
          "name": "stdout",
          "text": [
            "[282/500] Loss_D: -0.012 | Loss_G: -0.043 | Loss D real : -0.067 | Loss D fake : 0.046 | Loss D GP : 0.008 | Loss D CT : 0.001 | Time : 3.276\n"
          ]
        },
        {
          "output_type": "stream",
          "name": "stderr",
          "text": [
            "\rCT-GAN training loop:  57%|█████▋    | 283/500 [15:41<11:54,  3.29s/it]"
          ]
        },
        {
          "output_type": "stream",
          "name": "stdout",
          "text": [
            "[283/500] Loss_D: -0.011 | Loss_G: -0.039 | Loss D real : -0.057 | Loss D fake : 0.037 | Loss D GP : 0.008 | Loss D CT : 0.000 | Time : 3.292\n"
          ]
        },
        {
          "output_type": "stream",
          "name": "stderr",
          "text": [
            "\rCT-GAN training loop:  57%|█████▋    | 284/500 [15:44<11:52,  3.30s/it]"
          ]
        },
        {
          "output_type": "stream",
          "name": "stdout",
          "text": [
            "[284/500] Loss_D: -0.009 | Loss_G: -0.036 | Loss D real : -0.048 | Loss D fake : 0.032 | Loss D GP : 0.007 | Loss D CT : 0.000 | Time : 3.294\n"
          ]
        },
        {
          "output_type": "stream",
          "name": "stderr",
          "text": [
            "\rCT-GAN training loop:  57%|█████▋    | 285/500 [15:48<11:49,  3.30s/it]"
          ]
        },
        {
          "output_type": "stream",
          "name": "stdout",
          "text": [
            "[285/500] Loss_D: -0.006 | Loss_G: -0.039 | Loss D real : -0.056 | Loss D fake : 0.039 | Loss D GP : 0.011 | Loss D CT : 0.001 | Time : 3.303\n"
          ]
        },
        {
          "output_type": "stream",
          "name": "stderr",
          "text": [
            "\rCT-GAN training loop:  57%|█████▋    | 286/500 [15:51<11:44,  3.29s/it]"
          ]
        },
        {
          "output_type": "stream",
          "name": "stdout",
          "text": [
            "[286/500] Loss_D: -0.009 | Loss_G: -0.028 | Loss D real : -0.041 | Loss D fake : 0.024 | Loss D GP : 0.008 | Loss D CT : 0.001 | Time : 3.269\n"
          ]
        },
        {
          "output_type": "stream",
          "name": "stderr",
          "text": [
            "\rCT-GAN training loop:  57%|█████▋    | 287/500 [15:54<11:40,  3.29s/it]"
          ]
        },
        {
          "output_type": "stream",
          "name": "stdout",
          "text": [
            "[287/500] Loss_D: -0.007 | Loss_G: -0.032 | Loss D real : -0.047 | Loss D fake : 0.031 | Loss D GP : 0.009 | Loss D CT : 0.001 | Time : 3.277\n"
          ]
        },
        {
          "output_type": "stream",
          "name": "stderr",
          "text": [
            "\rCT-GAN training loop:  58%|█████▊    | 288/500 [15:57<11:39,  3.30s/it]"
          ]
        },
        {
          "output_type": "stream",
          "name": "stdout",
          "text": [
            "[288/500] Loss_D: -0.008 | Loss_G: -0.037 | Loss D real : -0.055 | Loss D fake : 0.037 | Loss D GP : 0.010 | Loss D CT : 0.000 | Time : 3.315\n"
          ]
        },
        {
          "output_type": "stream",
          "name": "stderr",
          "text": [
            "\rCT-GAN training loop:  58%|█████▊    | 289/500 [16:01<11:35,  3.30s/it]"
          ]
        },
        {
          "output_type": "stream",
          "name": "stdout",
          "text": [
            "[289/500] Loss_D: -0.005 | Loss_G: -0.029 | Loss D real : -0.048 | Loss D fake : 0.033 | Loss D GP : 0.009 | Loss D CT : 0.001 | Time : 3.290\n"
          ]
        },
        {
          "output_type": "stream",
          "name": "stderr",
          "text": [
            "\rCT-GAN training loop:  58%|█████▊    | 290/500 [16:04<11:31,  3.30s/it]"
          ]
        },
        {
          "output_type": "stream",
          "name": "stdout",
          "text": [
            "[290/500] Loss_D: -0.007 | Loss_G: -0.040 | Loss D real : -0.058 | Loss D fake : 0.043 | Loss D GP : 0.008 | Loss D CT : 0.000 | Time : 3.288\n"
          ]
        },
        {
          "output_type": "stream",
          "name": "stderr",
          "text": [
            "\rCT-GAN training loop:  58%|█████▊    | 291/500 [16:07<11:26,  3.28s/it]"
          ]
        },
        {
          "output_type": "stream",
          "name": "stdout",
          "text": [
            "[291/500] Loss_D: -0.009 | Loss_G: -0.032 | Loss D real : -0.050 | Loss D fake : 0.029 | Loss D GP : 0.012 | Loss D CT : 0.001 | Time : 3.255\n"
          ]
        },
        {
          "output_type": "stream",
          "name": "stderr",
          "text": [
            "\rCT-GAN training loop:  58%|█████▊    | 292/500 [16:11<11:24,  3.29s/it]"
          ]
        },
        {
          "output_type": "stream",
          "name": "stdout",
          "text": [
            "[292/500] Loss_D: -0.008 | Loss_G: -0.038 | Loss D real : -0.059 | Loss D fake : 0.042 | Loss D GP : 0.009 | Loss D CT : 0.000 | Time : 3.295\n"
          ]
        },
        {
          "output_type": "stream",
          "name": "stderr",
          "text": [
            "\rCT-GAN training loop:  59%|█████▊    | 293/500 [16:14<11:20,  3.29s/it]"
          ]
        },
        {
          "output_type": "stream",
          "name": "stdout",
          "text": [
            "[293/500] Loss_D: -0.010 | Loss_G: -0.038 | Loss D real : -0.053 | Loss D fake : 0.036 | Loss D GP : 0.006 | Loss D CT : 0.001 | Time : 3.281\n"
          ]
        },
        {
          "output_type": "stream",
          "name": "stderr",
          "text": [
            "\rCT-GAN training loop:  59%|█████▉    | 294/500 [16:17<11:17,  3.29s/it]"
          ]
        },
        {
          "output_type": "stream",
          "name": "stdout",
          "text": [
            "[294/500] Loss_D: -0.006 | Loss_G: -0.033 | Loss D real : -0.046 | Loss D fake : 0.032 | Loss D GP : 0.008 | Loss D CT : 0.000 | Time : 3.289\n"
          ]
        },
        {
          "output_type": "stream",
          "name": "stderr",
          "text": [
            "\rCT-GAN training loop:  59%|█████▉    | 295/500 [16:20<11:13,  3.29s/it]"
          ]
        },
        {
          "output_type": "stream",
          "name": "stdout",
          "text": [
            "[295/500] Loss_D: -0.008 | Loss_G: -0.033 | Loss D real : -0.053 | Loss D fake : 0.038 | Loss D GP : 0.006 | Loss D CT : 0.001 | Time : 3.280\n"
          ]
        },
        {
          "output_type": "stream",
          "name": "stderr",
          "text": [
            "\rCT-GAN training loop:  59%|█████▉    | 296/500 [16:24<11:10,  3.29s/it]"
          ]
        },
        {
          "output_type": "stream",
          "name": "stdout",
          "text": [
            "[296/500] Loss_D: -0.011 | Loss_G: -0.041 | Loss D real : -0.054 | Loss D fake : 0.034 | Loss D GP : 0.008 | Loss D CT : 0.000 | Time : 3.288\n"
          ]
        },
        {
          "output_type": "stream",
          "name": "stderr",
          "text": [
            "\rCT-GAN training loop:  59%|█████▉    | 297/500 [16:27<11:06,  3.29s/it]"
          ]
        },
        {
          "output_type": "stream",
          "name": "stdout",
          "text": [
            "[297/500] Loss_D: -0.010 | Loss_G: -0.040 | Loss D real : -0.055 | Loss D fake : 0.037 | Loss D GP : 0.007 | Loss D CT : 0.000 | Time : 3.274\n"
          ]
        },
        {
          "output_type": "stream",
          "name": "stderr",
          "text": [
            "\rCT-GAN training loop:  60%|█████▉    | 298/500 [16:30<11:04,  3.29s/it]"
          ]
        },
        {
          "output_type": "stream",
          "name": "stdout",
          "text": [
            "[298/500] Loss_D: -0.005 | Loss_G: -0.026 | Loss D real : -0.048 | Loss D fake : 0.029 | Loss D GP : 0.014 | Loss D CT : 0.000 | Time : 3.301\n"
          ]
        },
        {
          "output_type": "stream",
          "name": "stderr",
          "text": [
            "\rCT-GAN training loop:  60%|█████▉    | 299/500 [16:34<11:02,  3.29s/it]"
          ]
        },
        {
          "output_type": "stream",
          "name": "stdout",
          "text": [
            "[299/500] Loss_D: -0.009 | Loss_G: -0.037 | Loss D real : -0.056 | Loss D fake : 0.040 | Loss D GP : 0.007 | Loss D CT : 0.000 | Time : 3.297\n"
          ]
        },
        {
          "output_type": "stream",
          "name": "stderr",
          "text": [
            "\rCT-GAN training loop:  60%|██████    | 300/500 [16:37<10:59,  3.30s/it]"
          ]
        },
        {
          "output_type": "stream",
          "name": "stdout",
          "text": [
            "[300/500] Loss_D: -0.011 | Loss_G: -0.039 | Loss D real : -0.059 | Loss D fake : 0.040 | Loss D GP : 0.007 | Loss D CT : 0.001 | Time : 3.300\n"
          ]
        },
        {
          "output_type": "stream",
          "name": "stderr",
          "text": [
            "\rCT-GAN training loop:  60%|██████    | 301/500 [16:40<10:56,  3.30s/it]"
          ]
        },
        {
          "output_type": "stream",
          "name": "stdout",
          "text": [
            "[301/500] Loss_D: -0.008 | Loss_G: -0.040 | Loss D real : -0.056 | Loss D fake : 0.041 | Loss D GP : 0.006 | Loss D CT : 0.000 | Time : 3.295\n"
          ]
        },
        {
          "output_type": "stream",
          "name": "stderr",
          "text": [
            "\rCT-GAN training loop:  60%|██████    | 302/500 [16:44<10:53,  3.30s/it]"
          ]
        },
        {
          "output_type": "stream",
          "name": "stdout",
          "text": [
            "[302/500] Loss_D: -0.012 | Loss_G: -0.034 | Loss D real : -0.048 | Loss D fake : 0.030 | Loss D GP : 0.006 | Loss D CT : 0.001 | Time : 3.305\n"
          ]
        },
        {
          "output_type": "stream",
          "name": "stderr",
          "text": [
            "\rCT-GAN training loop:  61%|██████    | 303/500 [16:47<10:50,  3.30s/it]"
          ]
        },
        {
          "output_type": "stream",
          "name": "stdout",
          "text": [
            "[303/500] Loss_D: -0.012 | Loss_G: -0.037 | Loss D real : -0.054 | Loss D fake : 0.036 | Loss D GP : 0.006 | Loss D CT : 0.001 | Time : 3.299\n"
          ]
        },
        {
          "output_type": "stream",
          "name": "stderr",
          "text": [
            "\rCT-GAN training loop:  61%|██████    | 304/500 [16:50<10:47,  3.30s/it]"
          ]
        },
        {
          "output_type": "stream",
          "name": "stdout",
          "text": [
            "[304/500] Loss_D: -0.006 | Loss_G: -0.035 | Loss D real : -0.054 | Loss D fake : 0.039 | Loss D GP : 0.008 | Loss D CT : 0.001 | Time : 3.302\n"
          ]
        },
        {
          "output_type": "stream",
          "name": "stderr",
          "text": [
            "\rCT-GAN training loop:  61%|██████    | 305/500 [16:53<10:43,  3.30s/it]"
          ]
        },
        {
          "output_type": "stream",
          "name": "stdout",
          "text": [
            "[305/500] Loss_D: -0.009 | Loss_G: -0.041 | Loss D real : -0.056 | Loss D fake : 0.037 | Loss D GP : 0.009 | Loss D CT : 0.001 | Time : 3.297\n"
          ]
        },
        {
          "output_type": "stream",
          "name": "stderr",
          "text": [
            "\rCT-GAN training loop:  61%|██████    | 306/500 [16:57<10:40,  3.30s/it]"
          ]
        },
        {
          "output_type": "stream",
          "name": "stdout",
          "text": [
            "[306/500] Loss_D: -0.009 | Loss_G: -0.037 | Loss D real : -0.053 | Loss D fake : 0.035 | Loss D GP : 0.008 | Loss D CT : 0.001 | Time : 3.292\n"
          ]
        },
        {
          "output_type": "stream",
          "name": "stderr",
          "text": [
            "\rCT-GAN training loop:  61%|██████▏   | 307/500 [17:00<10:37,  3.30s/it]"
          ]
        },
        {
          "output_type": "stream",
          "name": "stdout",
          "text": [
            "[307/500] Loss_D: -0.006 | Loss_G: -0.038 | Loss D real : -0.050 | Loss D fake : 0.035 | Loss D GP : 0.009 | Loss D CT : 0.000 | Time : 3.305\n"
          ]
        },
        {
          "output_type": "stream",
          "name": "stderr",
          "text": [
            "\rCT-GAN training loop:  62%|██████▏   | 308/500 [17:03<10:34,  3.30s/it]"
          ]
        },
        {
          "output_type": "stream",
          "name": "stdout",
          "text": [
            "[308/500] Loss_D: -0.006 | Loss_G: -0.039 | Loss D real : -0.059 | Loss D fake : 0.044 | Loss D GP : 0.008 | Loss D CT : 0.000 | Time : 3.304\n"
          ]
        },
        {
          "output_type": "stream",
          "name": "stderr",
          "text": [
            "\rCT-GAN training loop:  62%|██████▏   | 309/500 [17:07<10:31,  3.30s/it]"
          ]
        },
        {
          "output_type": "stream",
          "name": "stdout",
          "text": [
            "[309/500] Loss_D: -0.007 | Loss_G: -0.036 | Loss D real : -0.050 | Loss D fake : 0.035 | Loss D GP : 0.008 | Loss D CT : 0.000 | Time : 3.302\n"
          ]
        },
        {
          "output_type": "stream",
          "name": "stderr",
          "text": [
            "\rCT-GAN training loop:  62%|██████▏   | 310/500 [17:10<10:27,  3.30s/it]"
          ]
        },
        {
          "output_type": "stream",
          "name": "stdout",
          "text": [
            "[310/500] Loss_D: -0.008 | Loss_G: -0.039 | Loss D real : -0.056 | Loss D fake : 0.040 | Loss D GP : 0.007 | Loss D CT : 0.000 | Time : 3.286\n"
          ]
        },
        {
          "output_type": "stream",
          "name": "stderr",
          "text": [
            "\rCT-GAN training loop:  62%|██████▏   | 311/500 [17:13<10:23,  3.30s/it]"
          ]
        },
        {
          "output_type": "stream",
          "name": "stdout",
          "text": [
            "[311/500] Loss_D: -0.008 | Loss_G: -0.033 | Loss D real : -0.049 | Loss D fake : 0.034 | Loss D GP : 0.006 | Loss D CT : 0.000 | Time : 3.289\n"
          ]
        },
        {
          "output_type": "stream",
          "name": "stderr",
          "text": [
            "\rCT-GAN training loop:  62%|██████▏   | 312/500 [17:17<10:20,  3.30s/it]"
          ]
        },
        {
          "output_type": "stream",
          "name": "stdout",
          "text": [
            "[312/500] Loss_D: -0.011 | Loss_G: -0.033 | Loss D real : -0.048 | Loss D fake : 0.030 | Loss D GP : 0.006 | Loss D CT : 0.002 | Time : 3.300\n"
          ]
        },
        {
          "output_type": "stream",
          "name": "stderr",
          "text": [
            "\rCT-GAN training loop:  63%|██████▎   | 313/500 [17:20<10:18,  3.31s/it]"
          ]
        },
        {
          "output_type": "stream",
          "name": "stdout",
          "text": [
            "[313/500] Loss_D: -0.008 | Loss_G: -0.031 | Loss D real : -0.049 | Loss D fake : 0.034 | Loss D GP : 0.007 | Loss D CT : 0.001 | Time : 3.317\n"
          ]
        },
        {
          "output_type": "stream",
          "name": "stderr",
          "text": [
            "\rCT-GAN training loop:  63%|██████▎   | 314/500 [17:23<10:14,  3.30s/it]"
          ]
        },
        {
          "output_type": "stream",
          "name": "stdout",
          "text": [
            "[314/500] Loss_D: -0.010 | Loss_G: -0.034 | Loss D real : -0.052 | Loss D fake : 0.034 | Loss D GP : 0.007 | Loss D CT : 0.000 | Time : 3.300\n"
          ]
        },
        {
          "output_type": "stream",
          "name": "stderr",
          "text": [
            "\rCT-GAN training loop:  63%|██████▎   | 315/500 [17:26<10:10,  3.30s/it]"
          ]
        },
        {
          "output_type": "stream",
          "name": "stdout",
          "text": [
            "[315/500] Loss_D: -0.010 | Loss_G: -0.041 | Loss D real : -0.059 | Loss D fake : 0.040 | Loss D GP : 0.007 | Loss D CT : 0.001 | Time : 3.281\n"
          ]
        },
        {
          "output_type": "stream",
          "name": "stderr",
          "text": [
            "\rCT-GAN training loop:  63%|██████▎   | 316/500 [17:30<10:06,  3.30s/it]"
          ]
        },
        {
          "output_type": "stream",
          "name": "stdout",
          "text": [
            "[316/500] Loss_D: -0.009 | Loss_G: -0.037 | Loss D real : -0.052 | Loss D fake : 0.036 | Loss D GP : 0.006 | Loss D CT : 0.001 | Time : 3.289\n"
          ]
        },
        {
          "output_type": "stream",
          "name": "stderr",
          "text": [
            "\rCT-GAN training loop:  63%|██████▎   | 317/500 [17:33<10:03,  3.30s/it]"
          ]
        },
        {
          "output_type": "stream",
          "name": "stdout",
          "text": [
            "[317/500] Loss_D: -0.008 | Loss_G: -0.034 | Loss D real : -0.051 | Loss D fake : 0.036 | Loss D GP : 0.006 | Loss D CT : 0.001 | Time : 3.292\n"
          ]
        },
        {
          "output_type": "stream",
          "name": "stderr",
          "text": [
            "\rCT-GAN training loop:  64%|██████▎   | 318/500 [17:36<10:00,  3.30s/it]"
          ]
        },
        {
          "output_type": "stream",
          "name": "stdout",
          "text": [
            "[318/500] Loss_D: -0.009 | Loss_G: -0.038 | Loss D real : -0.060 | Loss D fake : 0.043 | Loss D GP : 0.007 | Loss D CT : 0.000 | Time : 3.304\n"
          ]
        },
        {
          "output_type": "stream",
          "name": "stderr",
          "text": [
            "\rCT-GAN training loop:  64%|██████▍   | 319/500 [17:40<09:56,  3.30s/it]"
          ]
        },
        {
          "output_type": "stream",
          "name": "stdout",
          "text": [
            "[319/500] Loss_D: -0.011 | Loss_G: -0.042 | Loss D real : -0.057 | Loss D fake : 0.040 | Loss D GP : 0.006 | Loss D CT : 0.001 | Time : 3.286\n"
          ]
        },
        {
          "output_type": "stream",
          "name": "stderr",
          "text": [
            "\rCT-GAN training loop:  64%|██████▍   | 320/500 [17:43<09:53,  3.30s/it]"
          ]
        },
        {
          "output_type": "stream",
          "name": "stdout",
          "text": [
            "[320/500] Loss_D: -0.008 | Loss_G: -0.044 | Loss D real : -0.066 | Loss D fake : 0.050 | Loss D GP : 0.008 | Loss D CT : 0.001 | Time : 3.304\n"
          ]
        },
        {
          "output_type": "stream",
          "name": "stderr",
          "text": [
            "\rCT-GAN training loop:  64%|██████▍   | 321/500 [17:46<09:50,  3.30s/it]"
          ]
        },
        {
          "output_type": "stream",
          "name": "stdout",
          "text": [
            "[321/500] Loss_D: -0.007 | Loss_G: -0.038 | Loss D real : -0.046 | Loss D fake : 0.032 | Loss D GP : 0.007 | Loss D CT : 0.001 | Time : 3.287\n"
          ]
        },
        {
          "output_type": "stream",
          "name": "stderr",
          "text": [
            "\rCT-GAN training loop:  64%|██████▍   | 322/500 [17:50<09:47,  3.30s/it]"
          ]
        },
        {
          "output_type": "stream",
          "name": "stdout",
          "text": [
            "[322/500] Loss_D: -0.006 | Loss_G: -0.034 | Loss D real : -0.047 | Loss D fake : 0.033 | Loss D GP : 0.007 | Loss D CT : 0.001 | Time : 3.311\n"
          ]
        },
        {
          "output_type": "stream",
          "name": "stderr",
          "text": [
            "\rCT-GAN training loop:  65%|██████▍   | 323/500 [17:53<09:44,  3.30s/it]"
          ]
        },
        {
          "output_type": "stream",
          "name": "stdout",
          "text": [
            "[323/500] Loss_D: -0.008 | Loss_G: -0.030 | Loss D real : -0.048 | Loss D fake : 0.033 | Loss D GP : 0.006 | Loss D CT : 0.000 | Time : 3.308\n"
          ]
        },
        {
          "output_type": "stream",
          "name": "stderr",
          "text": [
            "\rCT-GAN training loop:  65%|██████▍   | 324/500 [17:56<09:41,  3.30s/it]"
          ]
        },
        {
          "output_type": "stream",
          "name": "stdout",
          "text": [
            "[324/500] Loss_D: -0.006 | Loss_G: -0.042 | Loss D real : -0.060 | Loss D fake : 0.043 | Loss D GP : 0.010 | Loss D CT : 0.000 | Time : 3.292\n"
          ]
        },
        {
          "output_type": "stream",
          "name": "stderr",
          "text": [
            "\rCT-GAN training loop:  65%|██████▌   | 325/500 [17:59<09:36,  3.29s/it]"
          ]
        },
        {
          "output_type": "stream",
          "name": "stdout",
          "text": [
            "[325/500] Loss_D: -0.011 | Loss_G: -0.031 | Loss D real : -0.056 | Loss D fake : 0.034 | Loss D GP : 0.009 | Loss D CT : 0.002 | Time : 3.264\n"
          ]
        },
        {
          "output_type": "stream",
          "name": "stderr",
          "text": [
            "\rCT-GAN training loop:  65%|██████▌   | 326/500 [18:03<09:32,  3.29s/it]"
          ]
        },
        {
          "output_type": "stream",
          "name": "stdout",
          "text": [
            "[326/500] Loss_D: -0.006 | Loss_G: -0.037 | Loss D real : -0.052 | Loss D fake : 0.039 | Loss D GP : 0.006 | Loss D CT : 0.001 | Time : 3.286\n"
          ]
        },
        {
          "output_type": "stream",
          "name": "stderr",
          "text": [
            "\rCT-GAN training loop:  65%|██████▌   | 327/500 [18:06<09:29,  3.29s/it]"
          ]
        },
        {
          "output_type": "stream",
          "name": "stdout",
          "text": [
            "[327/500] Loss_D: -0.009 | Loss_G: -0.036 | Loss D real : -0.051 | Loss D fake : 0.035 | Loss D GP : 0.007 | Loss D CT : 0.001 | Time : 3.295\n"
          ]
        },
        {
          "output_type": "stream",
          "name": "stderr",
          "text": [
            "\rCT-GAN training loop:  66%|██████▌   | 328/500 [18:09<09:27,  3.30s/it]"
          ]
        },
        {
          "output_type": "stream",
          "name": "stdout",
          "text": [
            "[328/500] Loss_D: -0.010 | Loss_G: -0.036 | Loss D real : -0.055 | Loss D fake : 0.039 | Loss D GP : 0.006 | Loss D CT : 0.000 | Time : 3.306\n"
          ]
        },
        {
          "output_type": "stream",
          "name": "stderr",
          "text": [
            "\rCT-GAN training loop:  66%|██████▌   | 329/500 [18:13<09:24,  3.30s/it]"
          ]
        },
        {
          "output_type": "stream",
          "name": "stdout",
          "text": [
            "[329/500] Loss_D: -0.005 | Loss_G: -0.034 | Loss D real : -0.047 | Loss D fake : 0.035 | Loss D GP : 0.007 | Loss D CT : 0.000 | Time : 3.296\n"
          ]
        },
        {
          "output_type": "stream",
          "name": "stderr",
          "text": [
            "\rCT-GAN training loop:  66%|██████▌   | 330/500 [18:16<09:20,  3.29s/it]"
          ]
        },
        {
          "output_type": "stream",
          "name": "stdout",
          "text": [
            "[330/500] Loss_D: -0.008 | Loss_G: -0.032 | Loss D real : -0.049 | Loss D fake : 0.031 | Loss D GP : 0.010 | Loss D CT : 0.000 | Time : 3.282\n"
          ]
        },
        {
          "output_type": "stream",
          "name": "stderr",
          "text": [
            "\rCT-GAN training loop:  66%|██████▌   | 331/500 [18:19<09:15,  3.29s/it]"
          ]
        },
        {
          "output_type": "stream",
          "name": "stdout",
          "text": [
            "[331/500] Loss_D: -0.007 | Loss_G: -0.035 | Loss D real : -0.053 | Loss D fake : 0.037 | Loss D GP : 0.008 | Loss D CT : 0.000 | Time : 3.272\n"
          ]
        },
        {
          "output_type": "stream",
          "name": "stderr",
          "text": [
            "\rCT-GAN training loop:  66%|██████▋   | 332/500 [18:22<09:12,  3.29s/it]"
          ]
        },
        {
          "output_type": "stream",
          "name": "stdout",
          "text": [
            "[332/500] Loss_D: -0.006 | Loss_G: -0.034 | Loss D real : -0.046 | Loss D fake : 0.032 | Loss D GP : 0.007 | Loss D CT : 0.001 | Time : 3.280\n"
          ]
        },
        {
          "output_type": "stream",
          "name": "stderr",
          "text": [
            "\rCT-GAN training loop:  67%|██████▋   | 333/500 [18:26<09:09,  3.29s/it]"
          ]
        },
        {
          "output_type": "stream",
          "name": "stdout",
          "text": [
            "[333/500] Loss_D: -0.009 | Loss_G: -0.029 | Loss D real : -0.041 | Loss D fake : 0.025 | Loss D GP : 0.006 | Loss D CT : 0.000 | Time : 3.295\n"
          ]
        },
        {
          "output_type": "stream",
          "name": "stderr",
          "text": [
            "\rCT-GAN training loop:  67%|██████▋   | 334/500 [18:29<09:06,  3.29s/it]"
          ]
        },
        {
          "output_type": "stream",
          "name": "stdout",
          "text": [
            "[334/500] Loss_D: -0.007 | Loss_G: -0.040 | Loss D real : -0.052 | Loss D fake : 0.038 | Loss D GP : 0.007 | Loss D CT : 0.000 | Time : 3.299\n"
          ]
        },
        {
          "output_type": "stream",
          "name": "stderr",
          "text": [
            "\rCT-GAN training loop:  67%|██████▋   | 335/500 [18:32<09:03,  3.29s/it]"
          ]
        },
        {
          "output_type": "stream",
          "name": "stdout",
          "text": [
            "[335/500] Loss_D: -0.007 | Loss_G: -0.030 | Loss D real : -0.045 | Loss D fake : 0.031 | Loss D GP : 0.006 | Loss D CT : 0.001 | Time : 3.283\n"
          ]
        },
        {
          "output_type": "stream",
          "name": "stderr",
          "text": [
            "\rCT-GAN training loop:  67%|██████▋   | 336/500 [18:36<08:59,  3.29s/it]"
          ]
        },
        {
          "output_type": "stream",
          "name": "stdout",
          "text": [
            "[336/500] Loss_D: -0.005 | Loss_G: -0.040 | Loss D real : -0.053 | Loss D fake : 0.038 | Loss D GP : 0.009 | Loss D CT : 0.000 | Time : 3.291\n"
          ]
        },
        {
          "output_type": "stream",
          "name": "stderr",
          "text": [
            "\rCT-GAN training loop:  67%|██████▋   | 337/500 [18:39<08:58,  3.30s/it]"
          ]
        },
        {
          "output_type": "stream",
          "name": "stdout",
          "text": [
            "[337/500] Loss_D: -0.007 | Loss_G: -0.037 | Loss D real : -0.052 | Loss D fake : 0.037 | Loss D GP : 0.006 | Loss D CT : 0.001 | Time : 3.330\n"
          ]
        },
        {
          "output_type": "stream",
          "name": "stderr",
          "text": [
            "\rCT-GAN training loop:  68%|██████▊   | 338/500 [18:42<08:55,  3.31s/it]"
          ]
        },
        {
          "output_type": "stream",
          "name": "stdout",
          "text": [
            "[338/500] Loss_D: -0.007 | Loss_G: -0.035 | Loss D real : -0.051 | Loss D fake : 0.037 | Loss D GP : 0.006 | Loss D CT : 0.000 | Time : 3.312\n"
          ]
        },
        {
          "output_type": "stream",
          "name": "stderr",
          "text": [
            "\rCT-GAN training loop:  68%|██████▊   | 339/500 [18:46<08:51,  3.30s/it]"
          ]
        },
        {
          "output_type": "stream",
          "name": "stdout",
          "text": [
            "[339/500] Loss_D: -0.012 | Loss_G: -0.037 | Loss D real : -0.047 | Loss D fake : 0.028 | Loss D GP : 0.007 | Loss D CT : 0.000 | Time : 3.286\n"
          ]
        },
        {
          "output_type": "stream",
          "name": "stderr",
          "text": [
            "\rCT-GAN training loop:  68%|██████▊   | 340/500 [18:49<08:49,  3.31s/it]"
          ]
        },
        {
          "output_type": "stream",
          "name": "stdout",
          "text": [
            "[340/500] Loss_D: -0.007 | Loss_G: -0.033 | Loss D real : -0.053 | Loss D fake : 0.038 | Loss D GP : 0.007 | Loss D CT : 0.001 | Time : 3.315\n"
          ]
        },
        {
          "output_type": "stream",
          "name": "stderr",
          "text": [
            "\rCT-GAN training loop:  68%|██████▊   | 341/500 [18:52<08:45,  3.31s/it]"
          ]
        },
        {
          "output_type": "stream",
          "name": "stdout",
          "text": [
            "[341/500] Loss_D: -0.006 | Loss_G: -0.038 | Loss D real : -0.054 | Loss D fake : 0.040 | Loss D GP : 0.008 | Loss D CT : 0.000 | Time : 3.303\n"
          ]
        },
        {
          "output_type": "stream",
          "name": "stderr",
          "text": [
            "\rCT-GAN training loop:  68%|██████▊   | 342/500 [18:56<08:42,  3.31s/it]"
          ]
        },
        {
          "output_type": "stream",
          "name": "stdout",
          "text": [
            "[342/500] Loss_D: -0.007 | Loss_G: -0.036 | Loss D real : -0.053 | Loss D fake : 0.038 | Loss D GP : 0.007 | Loss D CT : 0.001 | Time : 3.303\n"
          ]
        },
        {
          "output_type": "stream",
          "name": "stderr",
          "text": [
            "\rCT-GAN training loop:  69%|██████▊   | 343/500 [18:59<08:38,  3.30s/it]"
          ]
        },
        {
          "output_type": "stream",
          "name": "stdout",
          "text": [
            "[343/500] Loss_D: -0.005 | Loss_G: -0.036 | Loss D real : -0.049 | Loss D fake : 0.035 | Loss D GP : 0.008 | Loss D CT : 0.001 | Time : 3.291\n"
          ]
        },
        {
          "output_type": "stream",
          "name": "stderr",
          "text": [
            "\rCT-GAN training loop:  69%|██████▉   | 344/500 [19:02<08:36,  3.31s/it]"
          ]
        },
        {
          "output_type": "stream",
          "name": "stdout",
          "text": [
            "[344/500] Loss_D: -0.010 | Loss_G: -0.044 | Loss D real : -0.056 | Loss D fake : 0.039 | Loss D GP : 0.007 | Loss D CT : 0.000 | Time : 3.324\n"
          ]
        },
        {
          "output_type": "stream",
          "name": "stderr",
          "text": [
            "\rCT-GAN training loop:  69%|██████▉   | 345/500 [19:05<08:31,  3.30s/it]"
          ]
        },
        {
          "output_type": "stream",
          "name": "stdout",
          "text": [
            "[345/500] Loss_D: -0.006 | Loss_G: -0.039 | Loss D real : -0.054 | Loss D fake : 0.039 | Loss D GP : 0.008 | Loss D CT : 0.000 | Time : 3.282\n"
          ]
        },
        {
          "output_type": "stream",
          "name": "stderr",
          "text": [
            "\rCT-GAN training loop:  69%|██████▉   | 346/500 [19:09<08:27,  3.30s/it]"
          ]
        },
        {
          "output_type": "stream",
          "name": "stdout",
          "text": [
            "[346/500] Loss_D: -0.007 | Loss_G: -0.038 | Loss D real : -0.054 | Loss D fake : 0.040 | Loss D GP : 0.007 | Loss D CT : 0.001 | Time : 3.281\n"
          ]
        },
        {
          "output_type": "stream",
          "name": "stderr",
          "text": [
            "\rCT-GAN training loop:  69%|██████▉   | 347/500 [19:12<08:24,  3.30s/it]"
          ]
        },
        {
          "output_type": "stream",
          "name": "stdout",
          "text": [
            "[347/500] Loss_D: -0.007 | Loss_G: -0.043 | Loss D real : -0.054 | Loss D fake : 0.041 | Loss D GP : 0.006 | Loss D CT : 0.000 | Time : 3.291\n"
          ]
        },
        {
          "output_type": "stream",
          "name": "stderr",
          "text": [
            "\rCT-GAN training loop:  70%|██████▉   | 348/500 [19:15<08:21,  3.30s/it]"
          ]
        },
        {
          "output_type": "stream",
          "name": "stdout",
          "text": [
            "[348/500] Loss_D: -0.006 | Loss_G: -0.040 | Loss D real : -0.054 | Loss D fake : 0.041 | Loss D GP : 0.006 | Loss D CT : 0.000 | Time : 3.309\n"
          ]
        },
        {
          "output_type": "stream",
          "name": "stderr",
          "text": [
            "\rCT-GAN training loop:  70%|██████▉   | 349/500 [19:19<08:19,  3.31s/it]"
          ]
        },
        {
          "output_type": "stream",
          "name": "stdout",
          "text": [
            "[349/500] Loss_D: -0.007 | Loss_G: -0.040 | Loss D real : -0.054 | Loss D fake : 0.041 | Loss D GP : 0.006 | Loss D CT : 0.000 | Time : 3.311\n"
          ]
        },
        {
          "output_type": "stream",
          "name": "stderr",
          "text": [
            "\rCT-GAN training loop:  70%|███████   | 350/500 [19:22<08:16,  3.31s/it]"
          ]
        },
        {
          "output_type": "stream",
          "name": "stdout",
          "text": [
            "[350/500] Loss_D: -0.008 | Loss_G: -0.042 | Loss D real : -0.055 | Loss D fake : 0.039 | Loss D GP : 0.008 | Loss D CT : 0.000 | Time : 3.308\n"
          ]
        },
        {
          "output_type": "stream",
          "name": "stderr",
          "text": [
            "\rCT-GAN training loop:  70%|███████   | 351/500 [19:25<08:12,  3.31s/it]"
          ]
        },
        {
          "output_type": "stream",
          "name": "stdout",
          "text": [
            "[351/500] Loss_D: -0.008 | Loss_G: -0.041 | Loss D real : -0.051 | Loss D fake : 0.037 | Loss D GP : 0.006 | Loss D CT : 0.000 | Time : 3.299\n"
          ]
        },
        {
          "output_type": "stream",
          "name": "stderr",
          "text": [
            "\rCT-GAN training loop:  70%|███████   | 352/500 [19:29<08:09,  3.31s/it]"
          ]
        },
        {
          "output_type": "stream",
          "name": "stdout",
          "text": [
            "[352/500] Loss_D: -0.007 | Loss_G: -0.039 | Loss D real : -0.052 | Loss D fake : 0.037 | Loss D GP : 0.007 | Loss D CT : 0.001 | Time : 3.306\n"
          ]
        },
        {
          "output_type": "stream",
          "name": "stderr",
          "text": [
            "\rCT-GAN training loop:  71%|███████   | 353/500 [19:32<08:05,  3.31s/it]"
          ]
        },
        {
          "output_type": "stream",
          "name": "stdout",
          "text": [
            "[353/500] Loss_D: -0.009 | Loss_G: -0.040 | Loss D real : -0.055 | Loss D fake : 0.037 | Loss D GP : 0.007 | Loss D CT : 0.001 | Time : 3.299\n"
          ]
        },
        {
          "output_type": "stream",
          "name": "stderr",
          "text": [
            "\rCT-GAN training loop:  71%|███████   | 354/500 [19:35<08:02,  3.30s/it]"
          ]
        },
        {
          "output_type": "stream",
          "name": "stdout",
          "text": [
            "[354/500] Loss_D: -0.006 | Loss_G: -0.039 | Loss D real : -0.053 | Loss D fake : 0.038 | Loss D GP : 0.009 | Loss D CT : 0.001 | Time : 3.296\n"
          ]
        },
        {
          "output_type": "stream",
          "name": "stderr",
          "text": [
            "\rCT-GAN training loop:  71%|███████   | 355/500 [19:38<07:58,  3.30s/it]"
          ]
        },
        {
          "output_type": "stream",
          "name": "stdout",
          "text": [
            "[355/500] Loss_D: -0.009 | Loss_G: -0.039 | Loss D real : -0.051 | Loss D fake : 0.033 | Loss D GP : 0.008 | Loss D CT : 0.001 | Time : 3.289\n"
          ]
        },
        {
          "output_type": "stream",
          "name": "stderr",
          "text": [
            "\rCT-GAN training loop:  71%|███████   | 356/500 [19:42<07:55,  3.31s/it]"
          ]
        },
        {
          "output_type": "stream",
          "name": "stdout",
          "text": [
            "[356/500] Loss_D: -0.006 | Loss_G: -0.032 | Loss D real : -0.043 | Loss D fake : 0.030 | Loss D GP : 0.006 | Loss D CT : 0.000 | Time : 3.314\n"
          ]
        },
        {
          "output_type": "stream",
          "name": "stderr",
          "text": [
            "\rCT-GAN training loop:  71%|███████▏  | 357/500 [19:45<07:52,  3.31s/it]"
          ]
        },
        {
          "output_type": "stream",
          "name": "stdout",
          "text": [
            "[357/500] Loss_D: -0.006 | Loss_G: -0.041 | Loss D real : -0.055 | Loss D fake : 0.043 | Loss D GP : 0.005 | Loss D CT : 0.001 | Time : 3.306\n"
          ]
        },
        {
          "output_type": "stream",
          "name": "stderr",
          "text": [
            "\rCT-GAN training loop:  72%|███████▏  | 358/500 [19:48<07:49,  3.31s/it]"
          ]
        },
        {
          "output_type": "stream",
          "name": "stdout",
          "text": [
            "[358/500] Loss_D: -0.006 | Loss_G: -0.035 | Loss D real : -0.048 | Loss D fake : 0.033 | Loss D GP : 0.008 | Loss D CT : 0.001 | Time : 3.298\n"
          ]
        },
        {
          "output_type": "stream",
          "name": "stderr",
          "text": [
            "\rCT-GAN training loop:  72%|███████▏  | 359/500 [19:52<07:45,  3.30s/it]"
          ]
        },
        {
          "output_type": "stream",
          "name": "stdout",
          "text": [
            "[359/500] Loss_D: -0.007 | Loss_G: -0.036 | Loss D real : -0.052 | Loss D fake : 0.037 | Loss D GP : 0.008 | Loss D CT : 0.001 | Time : 3.283\n"
          ]
        },
        {
          "output_type": "stream",
          "name": "stderr",
          "text": [
            "\rCT-GAN training loop:  72%|███████▏  | 360/500 [19:55<07:41,  3.30s/it]"
          ]
        },
        {
          "output_type": "stream",
          "name": "stdout",
          "text": [
            "[360/500] Loss_D: -0.007 | Loss_G: -0.033 | Loss D real : -0.046 | Loss D fake : 0.032 | Loss D GP : 0.006 | Loss D CT : 0.001 | Time : 3.288\n"
          ]
        },
        {
          "output_type": "stream",
          "name": "stderr",
          "text": [
            "\rCT-GAN training loop:  72%|███████▏  | 361/500 [19:58<07:38,  3.30s/it]"
          ]
        },
        {
          "output_type": "stream",
          "name": "stdout",
          "text": [
            "[361/500] Loss_D: -0.006 | Loss_G: -0.033 | Loss D real : -0.053 | Loss D fake : 0.039 | Loss D GP : 0.008 | Loss D CT : 0.000 | Time : 3.299\n"
          ]
        },
        {
          "output_type": "stream",
          "name": "stderr",
          "text": [
            "\rCT-GAN training loop:  72%|███████▏  | 362/500 [20:02<07:35,  3.30s/it]"
          ]
        },
        {
          "output_type": "stream",
          "name": "stdout",
          "text": [
            "[362/500] Loss_D: -0.009 | Loss_G: -0.038 | Loss D real : -0.050 | Loss D fake : 0.035 | Loss D GP : 0.006 | Loss D CT : 0.000 | Time : 3.305\n"
          ]
        },
        {
          "output_type": "stream",
          "name": "stderr",
          "text": [
            "\rCT-GAN training loop:  73%|███████▎  | 363/500 [20:05<07:32,  3.30s/it]"
          ]
        },
        {
          "output_type": "stream",
          "name": "stdout",
          "text": [
            "[363/500] Loss_D: -0.006 | Loss_G: -0.036 | Loss D real : -0.044 | Loss D fake : 0.030 | Loss D GP : 0.008 | Loss D CT : 0.000 | Time : 3.309\n"
          ]
        },
        {
          "output_type": "stream",
          "name": "stderr",
          "text": [
            "\rCT-GAN training loop:  73%|███████▎  | 364/500 [20:08<07:27,  3.29s/it]"
          ]
        },
        {
          "output_type": "stream",
          "name": "stdout",
          "text": [
            "[364/500] Loss_D: -0.007 | Loss_G: -0.040 | Loss D real : -0.057 | Loss D fake : 0.044 | Loss D GP : 0.006 | Loss D CT : 0.000 | Time : 3.264\n"
          ]
        },
        {
          "output_type": "stream",
          "name": "stderr",
          "text": [
            "\rCT-GAN training loop:  73%|███████▎  | 365/500 [20:11<07:24,  3.29s/it]"
          ]
        },
        {
          "output_type": "stream",
          "name": "stdout",
          "text": [
            "[365/500] Loss_D: -0.008 | Loss_G: -0.038 | Loss D real : -0.057 | Loss D fake : 0.041 | Loss D GP : 0.007 | Loss D CT : 0.000 | Time : 3.286\n"
          ]
        },
        {
          "output_type": "stream",
          "name": "stderr",
          "text": [
            "\rCT-GAN training loop:  73%|███████▎  | 366/500 [20:15<07:21,  3.29s/it]"
          ]
        },
        {
          "output_type": "stream",
          "name": "stdout",
          "text": [
            "[366/500] Loss_D: -0.009 | Loss_G: -0.040 | Loss D real : -0.055 | Loss D fake : 0.039 | Loss D GP : 0.006 | Loss D CT : 0.001 | Time : 3.292\n"
          ]
        },
        {
          "output_type": "stream",
          "name": "stderr",
          "text": [
            "\rCT-GAN training loop:  73%|███████▎  | 367/500 [20:18<07:18,  3.29s/it]"
          ]
        },
        {
          "output_type": "stream",
          "name": "stdout",
          "text": [
            "[367/500] Loss_D: -0.004 | Loss_G: -0.044 | Loss D real : -0.057 | Loss D fake : 0.045 | Loss D GP : 0.007 | Loss D CT : 0.000 | Time : 3.291\n"
          ]
        },
        {
          "output_type": "stream",
          "name": "stderr",
          "text": [
            "\rCT-GAN training loop:  74%|███████▎  | 368/500 [20:21<07:15,  3.30s/it]"
          ]
        },
        {
          "output_type": "stream",
          "name": "stdout",
          "text": [
            "[368/500] Loss_D: -0.008 | Loss_G: -0.043 | Loss D real : -0.055 | Loss D fake : 0.039 | Loss D GP : 0.008 | Loss D CT : 0.000 | Time : 3.309\n"
          ]
        },
        {
          "output_type": "stream",
          "name": "stderr",
          "text": [
            "\rCT-GAN training loop:  74%|███████▍  | 369/500 [20:25<07:11,  3.29s/it]"
          ]
        },
        {
          "output_type": "stream",
          "name": "stdout",
          "text": [
            "[369/500] Loss_D: -0.008 | Loss_G: -0.038 | Loss D real : -0.051 | Loss D fake : 0.038 | Loss D GP : 0.005 | Loss D CT : 0.000 | Time : 3.282\n"
          ]
        },
        {
          "output_type": "stream",
          "name": "stderr",
          "text": [
            "\rCT-GAN training loop:  74%|███████▍  | 370/500 [20:28<07:08,  3.30s/it]"
          ]
        },
        {
          "output_type": "stream",
          "name": "stdout",
          "text": [
            "[370/500] Loss_D: -0.007 | Loss_G: -0.035 | Loss D real : -0.045 | Loss D fake : 0.031 | Loss D GP : 0.007 | Loss D CT : 0.001 | Time : 3.297\n"
          ]
        },
        {
          "output_type": "stream",
          "name": "stderr",
          "text": [
            "\rCT-GAN training loop:  74%|███████▍  | 371/500 [20:31<07:04,  3.29s/it]"
          ]
        },
        {
          "output_type": "stream",
          "name": "stdout",
          "text": [
            "[371/500] Loss_D: -0.008 | Loss_G: -0.037 | Loss D real : -0.053 | Loss D fake : 0.036 | Loss D GP : 0.009 | Loss D CT : 0.000 | Time : 3.281\n"
          ]
        },
        {
          "output_type": "stream",
          "name": "stderr",
          "text": [
            "\rCT-GAN training loop:  74%|███████▍  | 372/500 [20:35<07:02,  3.30s/it]"
          ]
        },
        {
          "output_type": "stream",
          "name": "stdout",
          "text": [
            "[372/500] Loss_D: -0.009 | Loss_G: -0.040 | Loss D real : -0.059 | Loss D fake : 0.043 | Loss D GP : 0.007 | Loss D CT : 0.000 | Time : 3.310\n"
          ]
        },
        {
          "output_type": "stream",
          "name": "stderr",
          "text": [
            "\rCT-GAN training loop:  75%|███████▍  | 373/500 [20:38<06:59,  3.30s/it]"
          ]
        },
        {
          "output_type": "stream",
          "name": "stdout",
          "text": [
            "[373/500] Loss_D: -0.007 | Loss_G: -0.031 | Loss D real : -0.043 | Loss D fake : 0.028 | Loss D GP : 0.007 | Loss D CT : 0.001 | Time : 3.311\n"
          ]
        },
        {
          "output_type": "stream",
          "name": "stderr",
          "text": [
            "\rCT-GAN training loop:  75%|███████▍  | 374/500 [20:41<06:57,  3.32s/it]"
          ]
        },
        {
          "output_type": "stream",
          "name": "stdout",
          "text": [
            "[374/500] Loss_D: -0.007 | Loss_G: -0.046 | Loss D real : -0.058 | Loss D fake : 0.043 | Loss D GP : 0.007 | Loss D CT : 0.001 | Time : 3.343\n"
          ]
        },
        {
          "output_type": "stream",
          "name": "stderr",
          "text": [
            "\rCT-GAN training loop:  75%|███████▌  | 375/500 [20:44<06:54,  3.31s/it]"
          ]
        },
        {
          "output_type": "stream",
          "name": "stdout",
          "text": [
            "[375/500] Loss_D: -0.007 | Loss_G: -0.037 | Loss D real : -0.047 | Loss D fake : 0.034 | Loss D GP : 0.005 | Loss D CT : 0.001 | Time : 3.303\n"
          ]
        },
        {
          "output_type": "stream",
          "name": "stderr",
          "text": [
            "\rCT-GAN training loop:  75%|███████▌  | 376/500 [20:48<06:50,  3.31s/it]"
          ]
        },
        {
          "output_type": "stream",
          "name": "stdout",
          "text": [
            "[376/500] Loss_D: -0.006 | Loss_G: -0.037 | Loss D real : -0.054 | Loss D fake : 0.040 | Loss D GP : 0.006 | Loss D CT : 0.002 | Time : 3.294\n"
          ]
        },
        {
          "output_type": "stream",
          "name": "stderr",
          "text": [
            "\rCT-GAN training loop:  75%|███████▌  | 377/500 [20:51<06:47,  3.31s/it]"
          ]
        },
        {
          "output_type": "stream",
          "name": "stdout",
          "text": [
            "[377/500] Loss_D: -0.008 | Loss_G: -0.043 | Loss D real : -0.052 | Loss D fake : 0.039 | Loss D GP : 0.005 | Loss D CT : 0.000 | Time : 3.306\n"
          ]
        },
        {
          "output_type": "stream",
          "name": "stderr",
          "text": [
            "\rCT-GAN training loop:  76%|███████▌  | 378/500 [20:54<06:43,  3.31s/it]"
          ]
        },
        {
          "output_type": "stream",
          "name": "stdout",
          "text": [
            "[378/500] Loss_D: -0.006 | Loss_G: -0.047 | Loss D real : -0.059 | Loss D fake : 0.046 | Loss D GP : 0.007 | Loss D CT : 0.001 | Time : 3.309\n"
          ]
        },
        {
          "output_type": "stream",
          "name": "stderr",
          "text": [
            "\rCT-GAN training loop:  76%|███████▌  | 379/500 [20:58<06:39,  3.30s/it]"
          ]
        },
        {
          "output_type": "stream",
          "name": "stdout",
          "text": [
            "[379/500] Loss_D: -0.008 | Loss_G: -0.040 | Loss D real : -0.051 | Loss D fake : 0.037 | Loss D GP : 0.005 | Loss D CT : 0.000 | Time : 3.289\n"
          ]
        },
        {
          "output_type": "stream",
          "name": "stderr",
          "text": [
            "\rCT-GAN training loop:  76%|███████▌  | 380/500 [21:01<06:37,  3.31s/it]"
          ]
        },
        {
          "output_type": "stream",
          "name": "stdout",
          "text": [
            "[380/500] Loss_D: -0.006 | Loss_G: -0.037 | Loss D real : -0.054 | Loss D fake : 0.039 | Loss D GP : 0.009 | Loss D CT : 0.000 | Time : 3.320\n"
          ]
        },
        {
          "output_type": "stream",
          "name": "stderr",
          "text": [
            "\rCT-GAN training loop:  76%|███████▌  | 381/500 [21:04<06:34,  3.31s/it]"
          ]
        },
        {
          "output_type": "stream",
          "name": "stdout",
          "text": [
            "[381/500] Loss_D: -0.004 | Loss_G: -0.037 | Loss D real : -0.049 | Loss D fake : 0.037 | Loss D GP : 0.008 | Loss D CT : 0.000 | Time : 3.310\n"
          ]
        },
        {
          "output_type": "stream",
          "name": "stderr",
          "text": [
            "\rCT-GAN training loop:  76%|███████▋  | 382/500 [21:08<06:30,  3.31s/it]"
          ]
        },
        {
          "output_type": "stream",
          "name": "stdout",
          "text": [
            "[382/500] Loss_D: -0.009 | Loss_G: -0.033 | Loss D real : -0.052 | Loss D fake : 0.036 | Loss D GP : 0.007 | Loss D CT : 0.001 | Time : 3.305\n"
          ]
        },
        {
          "output_type": "stream",
          "name": "stderr",
          "text": [
            "\rCT-GAN training loop:  77%|███████▋  | 383/500 [21:11<06:26,  3.30s/it]"
          ]
        },
        {
          "output_type": "stream",
          "name": "stdout",
          "text": [
            "[383/500] Loss_D: -0.008 | Loss_G: -0.035 | Loss D real : -0.051 | Loss D fake : 0.036 | Loss D GP : 0.007 | Loss D CT : 0.001 | Time : 3.276\n"
          ]
        },
        {
          "output_type": "stream",
          "name": "stderr",
          "text": [
            "\rCT-GAN training loop:  77%|███████▋  | 384/500 [21:14<06:22,  3.29s/it]"
          ]
        },
        {
          "output_type": "stream",
          "name": "stdout",
          "text": [
            "[384/500] Loss_D: -0.009 | Loss_G: -0.034 | Loss D real : -0.053 | Loss D fake : 0.037 | Loss D GP : 0.006 | Loss D CT : 0.001 | Time : 3.276\n"
          ]
        },
        {
          "output_type": "stream",
          "name": "stderr",
          "text": [
            "\rCT-GAN training loop:  77%|███████▋  | 385/500 [21:17<06:18,  3.29s/it]"
          ]
        },
        {
          "output_type": "stream",
          "name": "stdout",
          "text": [
            "[385/500] Loss_D: -0.009 | Loss_G: -0.030 | Loss D real : -0.048 | Loss D fake : 0.032 | Loss D GP : 0.007 | Loss D CT : 0.001 | Time : 3.291\n"
          ]
        },
        {
          "output_type": "stream",
          "name": "stderr",
          "text": [
            "\rCT-GAN training loop:  77%|███████▋  | 386/500 [21:21<06:15,  3.30s/it]"
          ]
        },
        {
          "output_type": "stream",
          "name": "stdout",
          "text": [
            "[386/500] Loss_D: -0.006 | Loss_G: -0.046 | Loss D real : -0.059 | Loss D fake : 0.045 | Loss D GP : 0.007 | Loss D CT : 0.001 | Time : 3.296\n"
          ]
        },
        {
          "output_type": "stream",
          "name": "stderr",
          "text": [
            "\rCT-GAN training loop:  77%|███████▋  | 387/500 [21:24<06:12,  3.30s/it]"
          ]
        },
        {
          "output_type": "stream",
          "name": "stdout",
          "text": [
            "[387/500] Loss_D: -0.008 | Loss_G: -0.041 | Loss D real : -0.055 | Loss D fake : 0.041 | Loss D GP : 0.006 | Loss D CT : 0.000 | Time : 3.294\n"
          ]
        },
        {
          "output_type": "stream",
          "name": "stderr",
          "text": [
            "\rCT-GAN training loop:  78%|███████▊  | 388/500 [21:27<06:08,  3.29s/it]"
          ]
        },
        {
          "output_type": "stream",
          "name": "stdout",
          "text": [
            "[388/500] Loss_D: -0.007 | Loss_G: -0.035 | Loss D real : -0.051 | Loss D fake : 0.034 | Loss D GP : 0.009 | Loss D CT : 0.001 | Time : 3.282\n"
          ]
        },
        {
          "output_type": "stream",
          "name": "stderr",
          "text": [
            "\rCT-GAN training loop:  78%|███████▊  | 389/500 [21:31<06:06,  3.30s/it]"
          ]
        },
        {
          "output_type": "stream",
          "name": "stdout",
          "text": [
            "[389/500] Loss_D: -0.007 | Loss_G: -0.042 | Loss D real : -0.054 | Loss D fake : 0.037 | Loss D GP : 0.009 | Loss D CT : 0.001 | Time : 3.306\n"
          ]
        },
        {
          "output_type": "stream",
          "name": "stderr",
          "text": [
            "\rCT-GAN training loop:  78%|███████▊  | 390/500 [21:34<06:04,  3.31s/it]"
          ]
        },
        {
          "output_type": "stream",
          "name": "stdout",
          "text": [
            "[390/500] Loss_D: -0.008 | Loss_G: -0.032 | Loss D real : -0.047 | Loss D fake : 0.033 | Loss D GP : 0.005 | Loss D CT : 0.001 | Time : 3.335\n"
          ]
        },
        {
          "output_type": "stream",
          "name": "stderr",
          "text": [
            "\rCT-GAN training loop:  78%|███████▊  | 391/500 [21:37<06:00,  3.31s/it]"
          ]
        },
        {
          "output_type": "stream",
          "name": "stdout",
          "text": [
            "[391/500] Loss_D: -0.005 | Loss_G: -0.035 | Loss D real : -0.046 | Loss D fake : 0.034 | Loss D GP : 0.007 | Loss D CT : 0.001 | Time : 3.295\n"
          ]
        },
        {
          "output_type": "stream",
          "name": "stderr",
          "text": [
            "\rCT-GAN training loop:  78%|███████▊  | 392/500 [21:41<05:56,  3.30s/it]"
          ]
        },
        {
          "output_type": "stream",
          "name": "stdout",
          "text": [
            "[392/500] Loss_D: -0.005 | Loss_G: -0.035 | Loss D real : -0.045 | Loss D fake : 0.031 | Loss D GP : 0.008 | Loss D CT : 0.000 | Time : 3.296\n"
          ]
        },
        {
          "output_type": "stream",
          "name": "stderr",
          "text": [
            "\rCT-GAN training loop:  79%|███████▊  | 393/500 [21:44<05:53,  3.30s/it]"
          ]
        },
        {
          "output_type": "stream",
          "name": "stdout",
          "text": [
            "[393/500] Loss_D: -0.009 | Loss_G: -0.037 | Loss D real : -0.052 | Loss D fake : 0.036 | Loss D GP : 0.007 | Loss D CT : 0.000 | Time : 3.302\n"
          ]
        },
        {
          "output_type": "stream",
          "name": "stderr",
          "text": [
            "\rCT-GAN training loop:  79%|███████▉  | 394/500 [21:47<05:50,  3.31s/it]"
          ]
        },
        {
          "output_type": "stream",
          "name": "stdout",
          "text": [
            "[394/500] Loss_D: -0.009 | Loss_G: -0.029 | Loss D real : -0.042 | Loss D fake : 0.027 | Loss D GP : 0.006 | Loss D CT : 0.000 | Time : 3.311\n"
          ]
        },
        {
          "output_type": "stream",
          "name": "stderr",
          "text": [
            "\rCT-GAN training loop:  79%|███████▉  | 395/500 [21:51<05:46,  3.30s/it]"
          ]
        },
        {
          "output_type": "stream",
          "name": "stdout",
          "text": [
            "[395/500] Loss_D: -0.004 | Loss_G: -0.039 | Loss D real : -0.057 | Loss D fake : 0.046 | Loss D GP : 0.007 | Loss D CT : 0.001 | Time : 3.293\n"
          ]
        },
        {
          "output_type": "stream",
          "name": "stderr",
          "text": [
            "\rCT-GAN training loop:  79%|███████▉  | 396/500 [21:54<05:43,  3.31s/it]"
          ]
        },
        {
          "output_type": "stream",
          "name": "stdout",
          "text": [
            "[396/500] Loss_D: -0.006 | Loss_G: -0.034 | Loss D real : -0.044 | Loss D fake : 0.032 | Loss D GP : 0.006 | Loss D CT : 0.000 | Time : 3.312\n"
          ]
        },
        {
          "output_type": "stream",
          "name": "stderr",
          "text": [
            "\rCT-GAN training loop:  79%|███████▉  | 397/500 [21:57<05:39,  3.30s/it]"
          ]
        },
        {
          "output_type": "stream",
          "name": "stdout",
          "text": [
            "[397/500] Loss_D: -0.004 | Loss_G: -0.046 | Loss D real : -0.058 | Loss D fake : 0.047 | Loss D GP : 0.006 | Loss D CT : 0.001 | Time : 3.276\n"
          ]
        },
        {
          "output_type": "stream",
          "name": "stderr",
          "text": [
            "\rCT-GAN training loop:  80%|███████▉  | 398/500 [22:00<05:36,  3.29s/it]"
          ]
        },
        {
          "output_type": "stream",
          "name": "stdout",
          "text": [
            "[398/500] Loss_D: -0.008 | Loss_G: -0.036 | Loss D real : -0.052 | Loss D fake : 0.038 | Loss D GP : 0.006 | Loss D CT : 0.001 | Time : 3.279\n"
          ]
        },
        {
          "output_type": "stream",
          "name": "stderr",
          "text": [
            "\rCT-GAN training loop:  80%|███████▉  | 399/500 [22:04<05:32,  3.29s/it]"
          ]
        },
        {
          "output_type": "stream",
          "name": "stdout",
          "text": [
            "[399/500] Loss_D: -0.003 | Loss_G: -0.042 | Loss D real : -0.056 | Loss D fake : 0.044 | Loss D GP : 0.009 | Loss D CT : 0.001 | Time : 3.294\n"
          ]
        },
        {
          "output_type": "stream",
          "name": "stderr",
          "text": [
            "\rCT-GAN training loop:  80%|████████  | 400/500 [22:07<05:29,  3.29s/it]"
          ]
        },
        {
          "output_type": "stream",
          "name": "stdout",
          "text": [
            "[400/500] Loss_D: -0.008 | Loss_G: -0.038 | Loss D real : -0.051 | Loss D fake : 0.036 | Loss D GP : 0.007 | Loss D CT : 0.000 | Time : 3.286\n"
          ]
        },
        {
          "output_type": "stream",
          "name": "stderr",
          "text": [
            "\rCT-GAN training loop:  80%|████████  | 401/500 [22:10<05:25,  3.29s/it]"
          ]
        },
        {
          "output_type": "stream",
          "name": "stdout",
          "text": [
            "[401/500] Loss_D: -0.006 | Loss_G: -0.039 | Loss D real : -0.050 | Loss D fake : 0.037 | Loss D GP : 0.007 | Loss D CT : 0.001 | Time : 3.284\n"
          ]
        },
        {
          "output_type": "stream",
          "name": "stderr",
          "text": [
            "\rCT-GAN training loop:  80%|████████  | 402/500 [22:14<05:22,  3.30s/it]"
          ]
        },
        {
          "output_type": "stream",
          "name": "stdout",
          "text": [
            "[402/500] Loss_D: -0.007 | Loss_G: -0.043 | Loss D real : -0.057 | Loss D fake : 0.042 | Loss D GP : 0.007 | Loss D CT : 0.000 | Time : 3.301\n"
          ]
        },
        {
          "output_type": "stream",
          "name": "stderr",
          "text": [
            "\rCT-GAN training loop:  81%|████████  | 403/500 [22:17<05:19,  3.29s/it]"
          ]
        },
        {
          "output_type": "stream",
          "name": "stdout",
          "text": [
            "[403/500] Loss_D: -0.007 | Loss_G: -0.030 | Loss D real : -0.044 | Loss D fake : 0.031 | Loss D GP : 0.006 | Loss D CT : 0.000 | Time : 3.281\n"
          ]
        },
        {
          "output_type": "stream",
          "name": "stderr",
          "text": [
            "\rCT-GAN training loop:  81%|████████  | 404/500 [22:20<05:16,  3.30s/it]"
          ]
        },
        {
          "output_type": "stream",
          "name": "stdout",
          "text": [
            "[404/500] Loss_D: -0.006 | Loss_G: -0.035 | Loss D real : -0.049 | Loss D fake : 0.030 | Loss D GP : 0.012 | Loss D CT : 0.001 | Time : 3.303\n"
          ]
        },
        {
          "output_type": "stream",
          "name": "stderr",
          "text": [
            "\rCT-GAN training loop:  81%|████████  | 405/500 [22:23<05:13,  3.30s/it]"
          ]
        },
        {
          "output_type": "stream",
          "name": "stdout",
          "text": [
            "[405/500] Loss_D: -0.009 | Loss_G: -0.026 | Loss D real : -0.042 | Loss D fake : 0.027 | Loss D GP : 0.006 | Loss D CT : 0.000 | Time : 3.308\n"
          ]
        },
        {
          "output_type": "stream",
          "name": "stderr",
          "text": [
            "\rCT-GAN training loop:  81%|████████  | 406/500 [22:27<05:10,  3.30s/it]"
          ]
        },
        {
          "output_type": "stream",
          "name": "stdout",
          "text": [
            "[406/500] Loss_D: -0.009 | Loss_G: -0.038 | Loss D real : -0.053 | Loss D fake : 0.039 | Loss D GP : 0.006 | Loss D CT : 0.001 | Time : 3.299\n"
          ]
        },
        {
          "output_type": "stream",
          "name": "stderr",
          "text": [
            "\rCT-GAN training loop:  81%|████████▏ | 407/500 [22:30<05:07,  3.31s/it]"
          ]
        },
        {
          "output_type": "stream",
          "name": "stdout",
          "text": [
            "[407/500] Loss_D: -0.007 | Loss_G: -0.043 | Loss D real : -0.055 | Loss D fake : 0.042 | Loss D GP : 0.006 | Loss D CT : 0.000 | Time : 3.315\n"
          ]
        },
        {
          "output_type": "stream",
          "name": "stderr",
          "text": [
            "\rCT-GAN training loop:  82%|████████▏ | 408/500 [22:33<05:03,  3.30s/it]"
          ]
        },
        {
          "output_type": "stream",
          "name": "stdout",
          "text": [
            "[408/500] Loss_D: -0.005 | Loss_G: -0.033 | Loss D real : -0.044 | Loss D fake : 0.030 | Loss D GP : 0.008 | Loss D CT : 0.001 | Time : 3.294\n"
          ]
        },
        {
          "output_type": "stream",
          "name": "stderr",
          "text": [
            "\rCT-GAN training loop:  82%|████████▏ | 409/500 [22:37<05:00,  3.30s/it]"
          ]
        },
        {
          "output_type": "stream",
          "name": "stdout",
          "text": [
            "[409/500] Loss_D: -0.005 | Loss_G: -0.036 | Loss D real : -0.052 | Loss D fake : 0.040 | Loss D GP : 0.006 | Loss D CT : 0.001 | Time : 3.304\n"
          ]
        },
        {
          "output_type": "stream",
          "name": "stderr",
          "text": [
            "\rCT-GAN training loop:  82%|████████▏ | 410/500 [22:40<04:56,  3.30s/it]"
          ]
        },
        {
          "output_type": "stream",
          "name": "stdout",
          "text": [
            "[410/500] Loss_D: -0.007 | Loss_G: -0.042 | Loss D real : -0.055 | Loss D fake : 0.042 | Loss D GP : 0.006 | Loss D CT : 0.000 | Time : 3.284\n"
          ]
        },
        {
          "output_type": "stream",
          "name": "stderr",
          "text": [
            "\rCT-GAN training loop:  82%|████████▏ | 411/500 [22:43<04:53,  3.30s/it]"
          ]
        },
        {
          "output_type": "stream",
          "name": "stdout",
          "text": [
            "[411/500] Loss_D: -0.004 | Loss_G: -0.039 | Loss D real : -0.055 | Loss D fake : 0.045 | Loss D GP : 0.005 | Loss D CT : 0.001 | Time : 3.304\n"
          ]
        },
        {
          "output_type": "stream",
          "name": "stderr",
          "text": [
            "\rCT-GAN training loop:  82%|████████▏ | 412/500 [22:47<04:50,  3.30s/it]"
          ]
        },
        {
          "output_type": "stream",
          "name": "stdout",
          "text": [
            "[412/500] Loss_D: -0.008 | Loss_G: -0.042 | Loss D real : -0.061 | Loss D fake : 0.044 | Loss D GP : 0.009 | Loss D CT : 0.001 | Time : 3.280\n"
          ]
        },
        {
          "output_type": "stream",
          "name": "stderr",
          "text": [
            "\rCT-GAN training loop:  83%|████████▎ | 413/500 [22:50<04:46,  3.30s/it]"
          ]
        },
        {
          "output_type": "stream",
          "name": "stdout",
          "text": [
            "[413/500] Loss_D: -0.008 | Loss_G: -0.042 | Loss D real : -0.058 | Loss D fake : 0.043 | Loss D GP : 0.007 | Loss D CT : 0.000 | Time : 3.294\n"
          ]
        },
        {
          "output_type": "stream",
          "name": "stderr",
          "text": [
            "\rCT-GAN training loop:  83%|████████▎ | 414/500 [22:53<04:43,  3.30s/it]"
          ]
        },
        {
          "output_type": "stream",
          "name": "stdout",
          "text": [
            "[414/500] Loss_D: -0.008 | Loss_G: -0.039 | Loss D real : -0.053 | Loss D fake : 0.039 | Loss D GP : 0.006 | Loss D CT : 0.000 | Time : 3.303\n"
          ]
        },
        {
          "output_type": "stream",
          "name": "stderr",
          "text": [
            "\rCT-GAN training loop:  83%|████████▎ | 415/500 [22:56<04:40,  3.30s/it]"
          ]
        },
        {
          "output_type": "stream",
          "name": "stdout",
          "text": [
            "[415/500] Loss_D: -0.006 | Loss_G: -0.035 | Loss D real : -0.050 | Loss D fake : 0.037 | Loss D GP : 0.006 | Loss D CT : 0.000 | Time : 3.283\n"
          ]
        },
        {
          "output_type": "stream",
          "name": "stderr",
          "text": [
            "\rCT-GAN training loop:  83%|████████▎ | 416/500 [23:00<04:36,  3.29s/it]"
          ]
        },
        {
          "output_type": "stream",
          "name": "stdout",
          "text": [
            "[416/500] Loss_D: -0.007 | Loss_G: -0.042 | Loss D real : -0.054 | Loss D fake : 0.040 | Loss D GP : 0.006 | Loss D CT : 0.001 | Time : 3.287\n"
          ]
        },
        {
          "output_type": "stream",
          "name": "stderr",
          "text": [
            "\rCT-GAN training loop:  83%|████████▎ | 417/500 [23:03<04:33,  3.30s/it]"
          ]
        },
        {
          "output_type": "stream",
          "name": "stdout",
          "text": [
            "[417/500] Loss_D: -0.008 | Loss_G: -0.040 | Loss D real : -0.056 | Loss D fake : 0.040 | Loss D GP : 0.007 | Loss D CT : 0.000 | Time : 3.307\n"
          ]
        },
        {
          "output_type": "stream",
          "name": "stderr",
          "text": [
            "\rCT-GAN training loop:  84%|████████▎ | 418/500 [23:06<04:30,  3.30s/it]"
          ]
        },
        {
          "output_type": "stream",
          "name": "stdout",
          "text": [
            "[418/500] Loss_D: -0.006 | Loss_G: -0.039 | Loss D real : -0.051 | Loss D fake : 0.039 | Loss D GP : 0.006 | Loss D CT : 0.000 | Time : 3.299\n"
          ]
        },
        {
          "output_type": "stream",
          "name": "stderr",
          "text": [
            "\rCT-GAN training loop:  84%|████████▍ | 419/500 [23:10<04:27,  3.30s/it]"
          ]
        },
        {
          "output_type": "stream",
          "name": "stdout",
          "text": [
            "[419/500] Loss_D: -0.005 | Loss_G: -0.040 | Loss D real : -0.059 | Loss D fake : 0.043 | Loss D GP : 0.010 | Loss D CT : 0.000 | Time : 3.305\n"
          ]
        },
        {
          "output_type": "stream",
          "name": "stderr",
          "text": [
            "\rCT-GAN training loop:  84%|████████▍ | 420/500 [23:13<04:23,  3.29s/it]"
          ]
        },
        {
          "output_type": "stream",
          "name": "stdout",
          "text": [
            "[420/500] Loss_D: -0.007 | Loss_G: -0.041 | Loss D real : -0.057 | Loss D fake : 0.043 | Loss D GP : 0.007 | Loss D CT : 0.000 | Time : 3.271\n"
          ]
        },
        {
          "output_type": "stream",
          "name": "stderr",
          "text": [
            "\rCT-GAN training loop:  84%|████████▍ | 421/500 [23:16<04:19,  3.29s/it]"
          ]
        },
        {
          "output_type": "stream",
          "name": "stdout",
          "text": [
            "[421/500] Loss_D: -0.005 | Loss_G: -0.038 | Loss D real : -0.057 | Loss D fake : 0.044 | Loss D GP : 0.007 | Loss D CT : 0.001 | Time : 3.265\n"
          ]
        },
        {
          "output_type": "stream",
          "name": "stderr",
          "text": [
            "\rCT-GAN training loop:  84%|████████▍ | 422/500 [23:20<04:16,  3.29s/it]"
          ]
        },
        {
          "output_type": "stream",
          "name": "stdout",
          "text": [
            "[422/500] Loss_D: -0.008 | Loss_G: -0.038 | Loss D real : -0.048 | Loss D fake : 0.033 | Loss D GP : 0.006 | Loss D CT : 0.000 | Time : 3.297\n"
          ]
        },
        {
          "output_type": "stream",
          "name": "stderr",
          "text": [
            "\rCT-GAN training loop:  85%|████████▍ | 423/500 [23:23<04:13,  3.29s/it]"
          ]
        },
        {
          "output_type": "stream",
          "name": "stdout",
          "text": [
            "[423/500] Loss_D: -0.005 | Loss_G: -0.033 | Loss D real : -0.046 | Loss D fake : 0.033 | Loss D GP : 0.007 | Loss D CT : 0.000 | Time : 3.293\n"
          ]
        },
        {
          "output_type": "stream",
          "name": "stderr",
          "text": [
            "\rCT-GAN training loop:  85%|████████▍ | 424/500 [23:26<04:10,  3.30s/it]"
          ]
        },
        {
          "output_type": "stream",
          "name": "stdout",
          "text": [
            "[424/500] Loss_D: -0.005 | Loss_G: -0.040 | Loss D real : -0.052 | Loss D fake : 0.039 | Loss D GP : 0.007 | Loss D CT : 0.001 | Time : 3.301\n"
          ]
        },
        {
          "output_type": "stream",
          "name": "stderr",
          "text": [
            "\rCT-GAN training loop:  85%|████████▌ | 425/500 [23:29<04:07,  3.30s/it]"
          ]
        },
        {
          "output_type": "stream",
          "name": "stdout",
          "text": [
            "[425/500] Loss_D: -0.004 | Loss_G: -0.041 | Loss D real : -0.054 | Loss D fake : 0.043 | Loss D GP : 0.006 | Loss D CT : 0.001 | Time : 3.298\n"
          ]
        },
        {
          "output_type": "stream",
          "name": "stderr",
          "text": [
            "\rCT-GAN training loop:  85%|████████▌ | 426/500 [23:33<04:04,  3.30s/it]"
          ]
        },
        {
          "output_type": "stream",
          "name": "stdout",
          "text": [
            "[426/500] Loss_D: -0.007 | Loss_G: -0.043 | Loss D real : -0.056 | Loss D fake : 0.043 | Loss D GP : 0.006 | Loss D CT : 0.000 | Time : 3.297\n"
          ]
        },
        {
          "output_type": "stream",
          "name": "stderr",
          "text": [
            "\rCT-GAN training loop:  85%|████████▌ | 427/500 [23:36<04:00,  3.30s/it]"
          ]
        },
        {
          "output_type": "stream",
          "name": "stdout",
          "text": [
            "[427/500] Loss_D: -0.010 | Loss_G: -0.028 | Loss D real : -0.042 | Loss D fake : 0.026 | Loss D GP : 0.006 | Loss D CT : 0.000 | Time : 3.294\n"
          ]
        },
        {
          "output_type": "stream",
          "name": "stderr",
          "text": [
            "\rCT-GAN training loop:  86%|████████▌ | 428/500 [23:39<03:57,  3.30s/it]"
          ]
        },
        {
          "output_type": "stream",
          "name": "stdout",
          "text": [
            "[428/500] Loss_D: -0.006 | Loss_G: -0.040 | Loss D real : -0.051 | Loss D fake : 0.039 | Loss D GP : 0.006 | Loss D CT : 0.000 | Time : 3.290\n"
          ]
        },
        {
          "output_type": "stream",
          "name": "stderr",
          "text": [
            "\rCT-GAN training loop:  86%|████████▌ | 429/500 [23:43<03:54,  3.30s/it]"
          ]
        },
        {
          "output_type": "stream",
          "name": "stdout",
          "text": [
            "[429/500] Loss_D: -0.006 | Loss_G: -0.042 | Loss D real : -0.054 | Loss D fake : 0.042 | Loss D GP : 0.006 | Loss D CT : 0.000 | Time : 3.304\n"
          ]
        },
        {
          "output_type": "stream",
          "name": "stderr",
          "text": [
            "\rCT-GAN training loop:  86%|████████▌ | 430/500 [23:46<03:50,  3.30s/it]"
          ]
        },
        {
          "output_type": "stream",
          "name": "stdout",
          "text": [
            "[430/500] Loss_D: -0.007 | Loss_G: -0.035 | Loss D real : -0.052 | Loss D fake : 0.038 | Loss D GP : 0.007 | Loss D CT : 0.001 | Time : 3.294\n"
          ]
        },
        {
          "output_type": "stream",
          "name": "stderr",
          "text": [
            "\rCT-GAN training loop:  86%|████████▌ | 431/500 [23:49<03:47,  3.30s/it]"
          ]
        },
        {
          "output_type": "stream",
          "name": "stdout",
          "text": [
            "[431/500] Loss_D: -0.007 | Loss_G: -0.032 | Loss D real : -0.051 | Loss D fake : 0.037 | Loss D GP : 0.007 | Loss D CT : 0.000 | Time : 3.292\n"
          ]
        },
        {
          "output_type": "stream",
          "name": "stderr",
          "text": [
            "\rCT-GAN training loop:  86%|████████▋ | 432/500 [23:53<03:44,  3.30s/it]"
          ]
        },
        {
          "output_type": "stream",
          "name": "stdout",
          "text": [
            "[432/500] Loss_D: -0.006 | Loss_G: -0.044 | Loss D real : -0.058 | Loss D fake : 0.045 | Loss D GP : 0.006 | Loss D CT : 0.000 | Time : 3.295\n"
          ]
        },
        {
          "output_type": "stream",
          "name": "stderr",
          "text": [
            "\rCT-GAN training loop:  87%|████████▋ | 433/500 [23:56<03:41,  3.31s/it]"
          ]
        },
        {
          "output_type": "stream",
          "name": "stdout",
          "text": [
            "[433/500] Loss_D: -0.004 | Loss_G: -0.041 | Loss D real : -0.053 | Loss D fake : 0.042 | Loss D GP : 0.006 | Loss D CT : 0.000 | Time : 3.327\n"
          ]
        },
        {
          "output_type": "stream",
          "name": "stderr",
          "text": [
            "\rCT-GAN training loop:  87%|████████▋ | 434/500 [23:59<03:38,  3.31s/it]"
          ]
        },
        {
          "output_type": "stream",
          "name": "stdout",
          "text": [
            "[434/500] Loss_D: -0.005 | Loss_G: -0.052 | Loss D real : -0.062 | Loss D fake : 0.050 | Loss D GP : 0.006 | Loss D CT : 0.000 | Time : 3.311\n"
          ]
        },
        {
          "output_type": "stream",
          "name": "stderr",
          "text": [
            "\rCT-GAN training loop:  87%|████████▋ | 435/500 [24:02<03:35,  3.31s/it]"
          ]
        },
        {
          "output_type": "stream",
          "name": "stdout",
          "text": [
            "[435/500] Loss_D: -0.008 | Loss_G: -0.031 | Loss D real : -0.048 | Loss D fake : 0.033 | Loss D GP : 0.006 | Loss D CT : 0.000 | Time : 3.309\n"
          ]
        },
        {
          "output_type": "stream",
          "name": "stderr",
          "text": [
            "\rCT-GAN training loop:  87%|████████▋ | 436/500 [24:06<03:31,  3.30s/it]"
          ]
        },
        {
          "output_type": "stream",
          "name": "stdout",
          "text": [
            "[436/500] Loss_D: -0.006 | Loss_G: -0.044 | Loss D real : -0.060 | Loss D fake : 0.048 | Loss D GP : 0.006 | Loss D CT : 0.001 | Time : 3.275\n"
          ]
        },
        {
          "output_type": "stream",
          "name": "stderr",
          "text": [
            "\rCT-GAN training loop:  87%|████████▋ | 437/500 [24:09<03:28,  3.30s/it]"
          ]
        },
        {
          "output_type": "stream",
          "name": "stdout",
          "text": [
            "[437/500] Loss_D: -0.006 | Loss_G: -0.045 | Loss D real : -0.054 | Loss D fake : 0.040 | Loss D GP : 0.007 | Loss D CT : 0.001 | Time : 3.302\n"
          ]
        },
        {
          "output_type": "stream",
          "name": "stderr",
          "text": [
            "\rCT-GAN training loop:  88%|████████▊ | 438/500 [24:12<03:24,  3.30s/it]"
          ]
        },
        {
          "output_type": "stream",
          "name": "stdout",
          "text": [
            "[438/500] Loss_D: -0.003 | Loss_G: -0.042 | Loss D real : -0.055 | Loss D fake : 0.045 | Loss D GP : 0.007 | Loss D CT : 0.000 | Time : 3.283\n"
          ]
        },
        {
          "output_type": "stream",
          "name": "stderr",
          "text": [
            "\rCT-GAN training loop:  88%|████████▊ | 439/500 [24:16<03:20,  3.29s/it]"
          ]
        },
        {
          "output_type": "stream",
          "name": "stdout",
          "text": [
            "[439/500] Loss_D: -0.008 | Loss_G: -0.038 | Loss D real : -0.056 | Loss D fake : 0.041 | Loss D GP : 0.007 | Loss D CT : 0.001 | Time : 3.283\n"
          ]
        },
        {
          "output_type": "stream",
          "name": "stderr",
          "text": [
            "\rCT-GAN training loop:  88%|████████▊ | 440/500 [24:19<03:17,  3.29s/it]"
          ]
        },
        {
          "output_type": "stream",
          "name": "stdout",
          "text": [
            "[440/500] Loss_D: -0.006 | Loss_G: -0.031 | Loss D real : -0.042 | Loss D fake : 0.029 | Loss D GP : 0.006 | Loss D CT : 0.000 | Time : 3.275\n"
          ]
        },
        {
          "output_type": "stream",
          "name": "stderr",
          "text": [
            "\rCT-GAN training loop:  88%|████████▊ | 441/500 [24:22<03:14,  3.30s/it]"
          ]
        },
        {
          "output_type": "stream",
          "name": "stdout",
          "text": [
            "[441/500] Loss_D: -0.006 | Loss_G: -0.033 | Loss D real : -0.046 | Loss D fake : 0.034 | Loss D GP : 0.006 | Loss D CT : 0.000 | Time : 3.313\n"
          ]
        },
        {
          "output_type": "stream",
          "name": "stderr",
          "text": [
            "\rCT-GAN training loop:  88%|████████▊ | 442/500 [24:26<03:11,  3.30s/it]"
          ]
        },
        {
          "output_type": "stream",
          "name": "stdout",
          "text": [
            "[442/500] Loss_D: -0.008 | Loss_G: -0.055 | Loss D real : -0.064 | Loss D fake : 0.050 | Loss D GP : 0.006 | Loss D CT : 0.000 | Time : 3.303\n"
          ]
        },
        {
          "output_type": "stream",
          "name": "stderr",
          "text": [
            "\rCT-GAN training loop:  89%|████████▊ | 443/500 [24:29<03:08,  3.30s/it]"
          ]
        },
        {
          "output_type": "stream",
          "name": "stdout",
          "text": [
            "[443/500] Loss_D: -0.006 | Loss_G: -0.037 | Loss D real : -0.050 | Loss D fake : 0.038 | Loss D GP : 0.006 | Loss D CT : 0.001 | Time : 3.304\n"
          ]
        },
        {
          "output_type": "stream",
          "name": "stderr",
          "text": [
            "\rCT-GAN training loop:  89%|████████▉ | 444/500 [24:32<03:04,  3.30s/it]"
          ]
        },
        {
          "output_type": "stream",
          "name": "stdout",
          "text": [
            "[444/500] Loss_D: -0.006 | Loss_G: -0.043 | Loss D real : -0.061 | Loss D fake : 0.047 | Loss D GP : 0.008 | Loss D CT : 0.000 | Time : 3.299\n"
          ]
        },
        {
          "output_type": "stream",
          "name": "stderr",
          "text": [
            "\rCT-GAN training loop:  89%|████████▉ | 445/500 [24:35<03:01,  3.31s/it]"
          ]
        },
        {
          "output_type": "stream",
          "name": "stdout",
          "text": [
            "[445/500] Loss_D: -0.006 | Loss_G: -0.037 | Loss D real : -0.051 | Loss D fake : 0.036 | Loss D GP : 0.007 | Loss D CT : 0.001 | Time : 3.319\n"
          ]
        },
        {
          "output_type": "stream",
          "name": "stderr",
          "text": [
            "\rCT-GAN training loop:  89%|████████▉ | 446/500 [24:39<02:58,  3.31s/it]"
          ]
        },
        {
          "output_type": "stream",
          "name": "stdout",
          "text": [
            "[446/500] Loss_D: -0.008 | Loss_G: -0.036 | Loss D real : -0.051 | Loss D fake : 0.037 | Loss D GP : 0.006 | Loss D CT : 0.000 | Time : 3.302\n"
          ]
        },
        {
          "output_type": "stream",
          "name": "stderr",
          "text": [
            "\rCT-GAN training loop:  89%|████████▉ | 447/500 [24:42<02:55,  3.30s/it]"
          ]
        },
        {
          "output_type": "stream",
          "name": "stdout",
          "text": [
            "[447/500] Loss_D: -0.007 | Loss_G: -0.037 | Loss D real : -0.054 | Loss D fake : 0.040 | Loss D GP : 0.007 | Loss D CT : 0.000 | Time : 3.288\n"
          ]
        },
        {
          "output_type": "stream",
          "name": "stderr",
          "text": [
            "\rCT-GAN training loop:  90%|████████▉ | 448/500 [24:45<02:51,  3.30s/it]"
          ]
        },
        {
          "output_type": "stream",
          "name": "stdout",
          "text": [
            "[448/500] Loss_D: -0.006 | Loss_G: -0.032 | Loss D real : -0.044 | Loss D fake : 0.032 | Loss D GP : 0.006 | Loss D CT : 0.001 | Time : 3.294\n"
          ]
        },
        {
          "output_type": "stream",
          "name": "stderr",
          "text": [
            "\rCT-GAN training loop:  90%|████████▉ | 449/500 [24:49<02:48,  3.30s/it]"
          ]
        },
        {
          "output_type": "stream",
          "name": "stdout",
          "text": [
            "[449/500] Loss_D: -0.007 | Loss_G: -0.039 | Loss D real : -0.050 | Loss D fake : 0.038 | Loss D GP : 0.005 | Loss D CT : 0.000 | Time : 3.286\n"
          ]
        },
        {
          "output_type": "stream",
          "name": "stderr",
          "text": [
            "\rCT-GAN training loop:  90%|█████████ | 450/500 [24:52<02:44,  3.30s/it]"
          ]
        },
        {
          "output_type": "stream",
          "name": "stdout",
          "text": [
            "[450/500] Loss_D: -0.011 | Loss_G: -0.035 | Loss D real : -0.052 | Loss D fake : 0.033 | Loss D GP : 0.007 | Loss D CT : 0.000 | Time : 3.292\n"
          ]
        },
        {
          "output_type": "stream",
          "name": "stderr",
          "text": [
            "\rCT-GAN training loop:  90%|█████████ | 451/500 [24:55<02:41,  3.30s/it]"
          ]
        },
        {
          "output_type": "stream",
          "name": "stdout",
          "text": [
            "[451/500] Loss_D: -0.008 | Loss_G: -0.036 | Loss D real : -0.054 | Loss D fake : 0.038 | Loss D GP : 0.007 | Loss D CT : 0.000 | Time : 3.300\n"
          ]
        },
        {
          "output_type": "stream",
          "name": "stderr",
          "text": [
            "\rCT-GAN training loop:  90%|█████████ | 452/500 [24:59<02:38,  3.30s/it]"
          ]
        },
        {
          "output_type": "stream",
          "name": "stdout",
          "text": [
            "[452/500] Loss_D: -0.005 | Loss_G: -0.032 | Loss D real : -0.045 | Loss D fake : 0.034 | Loss D GP : 0.006 | Loss D CT : 0.000 | Time : 3.297\n"
          ]
        },
        {
          "output_type": "stream",
          "name": "stderr",
          "text": [
            "\rCT-GAN training loop:  91%|█████████ | 453/500 [25:02<02:35,  3.30s/it]"
          ]
        },
        {
          "output_type": "stream",
          "name": "stdout",
          "text": [
            "[453/500] Loss_D: -0.005 | Loss_G: -0.044 | Loss D real : -0.055 | Loss D fake : 0.043 | Loss D GP : 0.006 | Loss D CT : 0.001 | Time : 3.302\n"
          ]
        },
        {
          "output_type": "stream",
          "name": "stderr",
          "text": [
            "\rCT-GAN training loop:  91%|█████████ | 454/500 [25:05<02:31,  3.29s/it]"
          ]
        },
        {
          "output_type": "stream",
          "name": "stdout",
          "text": [
            "[454/500] Loss_D: -0.005 | Loss_G: -0.042 | Loss D real : -0.053 | Loss D fake : 0.041 | Loss D GP : 0.007 | Loss D CT : 0.000 | Time : 3.274\n"
          ]
        },
        {
          "output_type": "stream",
          "name": "stderr",
          "text": [
            "\rCT-GAN training loop:  91%|█████████ | 455/500 [25:08<02:28,  3.30s/it]"
          ]
        },
        {
          "output_type": "stream",
          "name": "stdout",
          "text": [
            "[455/500] Loss_D: -0.005 | Loss_G: -0.037 | Loss D real : -0.051 | Loss D fake : 0.039 | Loss D GP : 0.006 | Loss D CT : 0.000 | Time : 3.298\n"
          ]
        },
        {
          "output_type": "stream",
          "name": "stderr",
          "text": [
            "\rCT-GAN training loop:  91%|█████████ | 456/500 [25:12<02:25,  3.30s/it]"
          ]
        },
        {
          "output_type": "stream",
          "name": "stdout",
          "text": [
            "[456/500] Loss_D: -0.007 | Loss_G: -0.042 | Loss D real : -0.054 | Loss D fake : 0.040 | Loss D GP : 0.006 | Loss D CT : 0.001 | Time : 3.296\n"
          ]
        },
        {
          "output_type": "stream",
          "name": "stderr",
          "text": [
            "\rCT-GAN training loop:  91%|█████████▏| 457/500 [25:15<02:21,  3.30s/it]"
          ]
        },
        {
          "output_type": "stream",
          "name": "stdout",
          "text": [
            "[457/500] Loss_D: -0.007 | Loss_G: -0.033 | Loss D real : -0.049 | Loss D fake : 0.036 | Loss D GP : 0.006 | Loss D CT : 0.000 | Time : 3.288\n"
          ]
        },
        {
          "output_type": "stream",
          "name": "stderr",
          "text": [
            "\rCT-GAN training loop:  92%|█████████▏| 458/500 [25:18<02:18,  3.30s/it]"
          ]
        },
        {
          "output_type": "stream",
          "name": "stdout",
          "text": [
            "[458/500] Loss_D: -0.003 | Loss_G: -0.038 | Loss D real : -0.048 | Loss D fake : 0.037 | Loss D GP : 0.007 | Loss D CT : 0.000 | Time : 3.292\n"
          ]
        },
        {
          "output_type": "stream",
          "name": "stderr",
          "text": [
            "\rCT-GAN training loop:  92%|█████████▏| 459/500 [25:22<02:15,  3.30s/it]"
          ]
        },
        {
          "output_type": "stream",
          "name": "stdout",
          "text": [
            "[459/500] Loss_D: -0.003 | Loss_G: -0.037 | Loss D real : -0.047 | Loss D fake : 0.037 | Loss D GP : 0.006 | Loss D CT : 0.001 | Time : 3.297\n"
          ]
        },
        {
          "output_type": "stream",
          "name": "stderr",
          "text": [
            "\rCT-GAN training loop:  92%|█████████▏| 460/500 [25:25<02:11,  3.30s/it]"
          ]
        },
        {
          "output_type": "stream",
          "name": "stdout",
          "text": [
            "[460/500] Loss_D: -0.004 | Loss_G: -0.048 | Loss D real : -0.059 | Loss D fake : 0.048 | Loss D GP : 0.006 | Loss D CT : 0.001 | Time : 3.290\n"
          ]
        },
        {
          "output_type": "stream",
          "name": "stderr",
          "text": [
            "\rCT-GAN training loop:  92%|█████████▏| 461/500 [25:28<02:08,  3.29s/it]"
          ]
        },
        {
          "output_type": "stream",
          "name": "stdout",
          "text": [
            "[461/500] Loss_D: -0.006 | Loss_G: -0.038 | Loss D real : -0.051 | Loss D fake : 0.038 | Loss D GP : 0.006 | Loss D CT : 0.000 | Time : 3.282\n"
          ]
        },
        {
          "output_type": "stream",
          "name": "stderr",
          "text": [
            "\rCT-GAN training loop:  92%|█████████▏| 462/500 [25:31<02:05,  3.29s/it]"
          ]
        },
        {
          "output_type": "stream",
          "name": "stdout",
          "text": [
            "[462/500] Loss_D: -0.003 | Loss_G: -0.028 | Loss D real : -0.040 | Loss D fake : 0.028 | Loss D GP : 0.008 | Loss D CT : 0.001 | Time : 3.282\n"
          ]
        },
        {
          "output_type": "stream",
          "name": "stderr",
          "text": [
            "\rCT-GAN training loop:  93%|█████████▎| 463/500 [25:35<02:01,  3.30s/it]"
          ]
        },
        {
          "output_type": "stream",
          "name": "stdout",
          "text": [
            "[463/500] Loss_D: -0.005 | Loss_G: -0.026 | Loss D real : -0.039 | Loss D fake : 0.026 | Loss D GP : 0.008 | Loss D CT : 0.000 | Time : 3.303\n"
          ]
        },
        {
          "output_type": "stream",
          "name": "stderr",
          "text": [
            "\rCT-GAN training loop:  93%|█████████▎| 464/500 [25:38<01:58,  3.30s/it]"
          ]
        },
        {
          "output_type": "stream",
          "name": "stdout",
          "text": [
            "[464/500] Loss_D: -0.003 | Loss_G: -0.036 | Loss D real : -0.047 | Loss D fake : 0.036 | Loss D GP : 0.007 | Loss D CT : 0.000 | Time : 3.302\n"
          ]
        },
        {
          "output_type": "stream",
          "name": "stderr",
          "text": [
            "\rCT-GAN training loop:  93%|█████████▎| 465/500 [25:41<01:55,  3.30s/it]"
          ]
        },
        {
          "output_type": "stream",
          "name": "stdout",
          "text": [
            "[465/500] Loss_D: -0.004 | Loss_G: -0.038 | Loss D real : -0.048 | Loss D fake : 0.035 | Loss D GP : 0.008 | Loss D CT : 0.001 | Time : 3.293\n"
          ]
        },
        {
          "output_type": "stream",
          "name": "stderr",
          "text": [
            "\rCT-GAN training loop:  93%|█████████▎| 466/500 [25:45<01:52,  3.30s/it]"
          ]
        },
        {
          "output_type": "stream",
          "name": "stdout",
          "text": [
            "[466/500] Loss_D: -0.005 | Loss_G: -0.031 | Loss D real : -0.046 | Loss D fake : 0.034 | Loss D GP : 0.007 | Loss D CT : 0.001 | Time : 3.301\n"
          ]
        },
        {
          "output_type": "stream",
          "name": "stderr",
          "text": [
            "\rCT-GAN training loop:  93%|█████████▎| 467/500 [25:48<01:49,  3.31s/it]"
          ]
        },
        {
          "output_type": "stream",
          "name": "stdout",
          "text": [
            "[467/500] Loss_D: -0.006 | Loss_G: -0.043 | Loss D real : -0.055 | Loss D fake : 0.040 | Loss D GP : 0.008 | Loss D CT : 0.000 | Time : 3.316\n"
          ]
        },
        {
          "output_type": "stream",
          "name": "stderr",
          "text": [
            "\rCT-GAN training loop:  94%|█████████▎| 468/500 [25:51<01:45,  3.30s/it]"
          ]
        },
        {
          "output_type": "stream",
          "name": "stdout",
          "text": [
            "[468/500] Loss_D: -0.007 | Loss_G: -0.039 | Loss D real : -0.050 | Loss D fake : 0.038 | Loss D GP : 0.005 | Loss D CT : 0.000 | Time : 3.281\n"
          ]
        },
        {
          "output_type": "stream",
          "name": "stderr",
          "text": [
            "\rCT-GAN training loop:  94%|█████████▍| 469/500 [25:55<01:42,  3.30s/it]"
          ]
        },
        {
          "output_type": "stream",
          "name": "stdout",
          "text": [
            "[469/500] Loss_D: -0.009 | Loss_G: -0.036 | Loss D real : -0.050 | Loss D fake : 0.034 | Loss D GP : 0.007 | Loss D CT : 0.000 | Time : 3.286\n"
          ]
        },
        {
          "output_type": "stream",
          "name": "stderr",
          "text": [
            "\rCT-GAN training loop:  94%|█████████▍| 470/500 [25:58<01:39,  3.30s/it]"
          ]
        },
        {
          "output_type": "stream",
          "name": "stdout",
          "text": [
            "[470/500] Loss_D: -0.007 | Loss_G: -0.044 | Loss D real : -0.061 | Loss D fake : 0.046 | Loss D GP : 0.007 | Loss D CT : 0.001 | Time : 3.309\n"
          ]
        },
        {
          "output_type": "stream",
          "name": "stderr",
          "text": [
            "\rCT-GAN training loop:  94%|█████████▍| 471/500 [26:01<01:35,  3.30s/it]"
          ]
        },
        {
          "output_type": "stream",
          "name": "stdout",
          "text": [
            "[471/500] Loss_D: -0.003 | Loss_G: -0.034 | Loss D real : -0.048 | Loss D fake : 0.038 | Loss D GP : 0.007 | Loss D CT : 0.000 | Time : 3.292\n"
          ]
        },
        {
          "output_type": "stream",
          "name": "stderr",
          "text": [
            "\rCT-GAN training loop:  94%|█████████▍| 472/500 [26:04<01:32,  3.29s/it]"
          ]
        },
        {
          "output_type": "stream",
          "name": "stdout",
          "text": [
            "[472/500] Loss_D: -0.006 | Loss_G: -0.039 | Loss D real : -0.049 | Loss D fake : 0.038 | Loss D GP : 0.005 | Loss D CT : 0.000 | Time : 3.274\n"
          ]
        },
        {
          "output_type": "stream",
          "name": "stderr",
          "text": [
            "\rCT-GAN training loop:  95%|█████████▍| 473/500 [26:08<01:28,  3.28s/it]"
          ]
        },
        {
          "output_type": "stream",
          "name": "stdout",
          "text": [
            "[473/500] Loss_D: -0.004 | Loss_G: -0.047 | Loss D real : -0.055 | Loss D fake : 0.044 | Loss D GP : 0.007 | Loss D CT : 0.000 | Time : 3.261\n"
          ]
        },
        {
          "output_type": "stream",
          "name": "stderr",
          "text": [
            "\rCT-GAN training loop:  95%|█████████▍| 474/500 [26:11<01:25,  3.29s/it]"
          ]
        },
        {
          "output_type": "stream",
          "name": "stdout",
          "text": [
            "[474/500] Loss_D: -0.005 | Loss_G: -0.032 | Loss D real : -0.044 | Loss D fake : 0.034 | Loss D GP : 0.005 | Loss D CT : 0.001 | Time : 3.302\n"
          ]
        },
        {
          "output_type": "stream",
          "name": "stderr",
          "text": [
            "\rCT-GAN training loop:  95%|█████████▌| 475/500 [26:14<01:22,  3.29s/it]"
          ]
        },
        {
          "output_type": "stream",
          "name": "stdout",
          "text": [
            "[475/500] Loss_D: -0.003 | Loss_G: -0.036 | Loss D real : -0.049 | Loss D fake : 0.039 | Loss D GP : 0.007 | Loss D CT : 0.000 | Time : 3.287\n"
          ]
        },
        {
          "output_type": "stream",
          "name": "stderr",
          "text": [
            "\rCT-GAN training loop:  95%|█████████▌| 476/500 [26:18<01:18,  3.29s/it]"
          ]
        },
        {
          "output_type": "stream",
          "name": "stdout",
          "text": [
            "[476/500] Loss_D: -0.005 | Loss_G: -0.043 | Loss D real : -0.056 | Loss D fake : 0.044 | Loss D GP : 0.007 | Loss D CT : 0.000 | Time : 3.274\n"
          ]
        },
        {
          "output_type": "stream",
          "name": "stderr",
          "text": [
            "\rCT-GAN training loop:  95%|█████████▌| 477/500 [26:21<01:15,  3.29s/it]"
          ]
        },
        {
          "output_type": "stream",
          "name": "stdout",
          "text": [
            "[477/500] Loss_D: -0.006 | Loss_G: -0.039 | Loss D real : -0.052 | Loss D fake : 0.039 | Loss D GP : 0.006 | Loss D CT : 0.000 | Time : 3.292\n"
          ]
        },
        {
          "output_type": "stream",
          "name": "stderr",
          "text": [
            "\rCT-GAN training loop:  96%|█████████▌| 478/500 [26:24<01:12,  3.29s/it]"
          ]
        },
        {
          "output_type": "stream",
          "name": "stdout",
          "text": [
            "[478/500] Loss_D: -0.007 | Loss_G: -0.045 | Loss D real : -0.060 | Loss D fake : 0.046 | Loss D GP : 0.006 | Loss D CT : 0.001 | Time : 3.302\n"
          ]
        },
        {
          "output_type": "stream",
          "name": "stderr",
          "text": [
            "\rCT-GAN training loop:  96%|█████████▌| 479/500 [26:28<01:09,  3.30s/it]"
          ]
        },
        {
          "output_type": "stream",
          "name": "stdout",
          "text": [
            "[479/500] Loss_D: -0.005 | Loss_G: -0.046 | Loss D real : -0.057 | Loss D fake : 0.044 | Loss D GP : 0.008 | Loss D CT : 0.000 | Time : 3.306\n"
          ]
        },
        {
          "output_type": "stream",
          "name": "stderr",
          "text": [
            "\rCT-GAN training loop:  96%|█████████▌| 480/500 [26:31<01:05,  3.30s/it]"
          ]
        },
        {
          "output_type": "stream",
          "name": "stdout",
          "text": [
            "[480/500] Loss_D: -0.005 | Loss_G: -0.036 | Loss D real : -0.049 | Loss D fake : 0.038 | Loss D GP : 0.006 | Loss D CT : 0.000 | Time : 3.291\n"
          ]
        },
        {
          "output_type": "stream",
          "name": "stderr",
          "text": [
            "\rCT-GAN training loop:  96%|█████████▌| 481/500 [26:34<01:02,  3.30s/it]"
          ]
        },
        {
          "output_type": "stream",
          "name": "stdout",
          "text": [
            "[481/500] Loss_D: -0.004 | Loss_G: -0.035 | Loss D real : -0.048 | Loss D fake : 0.036 | Loss D GP : 0.007 | Loss D CT : 0.001 | Time : 3.311\n"
          ]
        },
        {
          "output_type": "stream",
          "name": "stderr",
          "text": [
            "\rCT-GAN training loop:  96%|█████████▋| 482/500 [26:37<00:59,  3.30s/it]"
          ]
        },
        {
          "output_type": "stream",
          "name": "stdout",
          "text": [
            "[482/500] Loss_D: -0.007 | Loss_G: -0.045 | Loss D real : -0.055 | Loss D fake : 0.042 | Loss D GP : 0.006 | Loss D CT : 0.000 | Time : 3.292\n"
          ]
        },
        {
          "output_type": "stream",
          "name": "stderr",
          "text": [
            "\rCT-GAN training loop:  97%|█████████▋| 483/500 [26:41<00:56,  3.31s/it]"
          ]
        },
        {
          "output_type": "stream",
          "name": "stdout",
          "text": [
            "[483/500] Loss_D: -0.003 | Loss_G: -0.038 | Loss D real : -0.050 | Loss D fake : 0.039 | Loss D GP : 0.008 | Loss D CT : 0.000 | Time : 3.314\n"
          ]
        },
        {
          "output_type": "stream",
          "name": "stderr",
          "text": [
            "\rCT-GAN training loop:  97%|█████████▋| 484/500 [26:44<00:52,  3.30s/it]"
          ]
        },
        {
          "output_type": "stream",
          "name": "stdout",
          "text": [
            "[484/500] Loss_D: -0.004 | Loss_G: -0.030 | Loss D real : -0.041 | Loss D fake : 0.031 | Loss D GP : 0.006 | Loss D CT : 0.000 | Time : 3.281\n"
          ]
        },
        {
          "output_type": "stream",
          "name": "stderr",
          "text": [
            "\rCT-GAN training loop:  97%|█████████▋| 485/500 [26:47<00:49,  3.30s/it]"
          ]
        },
        {
          "output_type": "stream",
          "name": "stdout",
          "text": [
            "[485/500] Loss_D: -0.005 | Loss_G: -0.043 | Loss D real : -0.056 | Loss D fake : 0.044 | Loss D GP : 0.006 | Loss D CT : 0.001 | Time : 3.300\n"
          ]
        },
        {
          "output_type": "stream",
          "name": "stderr",
          "text": [
            "\rCT-GAN training loop:  97%|█████████▋| 486/500 [26:51<00:46,  3.30s/it]"
          ]
        },
        {
          "output_type": "stream",
          "name": "stdout",
          "text": [
            "[486/500] Loss_D: -0.004 | Loss_G: -0.041 | Loss D real : -0.050 | Loss D fake : 0.040 | Loss D GP : 0.006 | Loss D CT : 0.000 | Time : 3.291\n"
          ]
        },
        {
          "output_type": "stream",
          "name": "stderr",
          "text": [
            "\rCT-GAN training loop:  97%|█████████▋| 487/500 [26:54<00:42,  3.30s/it]"
          ]
        },
        {
          "output_type": "stream",
          "name": "stdout",
          "text": [
            "[487/500] Loss_D: -0.004 | Loss_G: -0.037 | Loss D real : -0.050 | Loss D fake : 0.039 | Loss D GP : 0.007 | Loss D CT : 0.001 | Time : 3.302\n"
          ]
        },
        {
          "output_type": "stream",
          "name": "stderr",
          "text": [
            "\rCT-GAN training loop:  98%|█████████▊| 488/500 [26:57<00:39,  3.29s/it]"
          ]
        },
        {
          "output_type": "stream",
          "name": "stdout",
          "text": [
            "[488/500] Loss_D: -0.006 | Loss_G: -0.033 | Loss D real : -0.043 | Loss D fake : 0.033 | Loss D GP : 0.004 | Loss D CT : 0.001 | Time : 3.270\n"
          ]
        },
        {
          "output_type": "stream",
          "name": "stderr",
          "text": [
            "\rCT-GAN training loop:  98%|█████████▊| 489/500 [27:00<00:36,  3.29s/it]"
          ]
        },
        {
          "output_type": "stream",
          "name": "stdout",
          "text": [
            "[489/500] Loss_D: -0.002 | Loss_G: -0.037 | Loss D real : -0.047 | Loss D fake : 0.038 | Loss D GP : 0.006 | Loss D CT : 0.001 | Time : 3.279\n"
          ]
        },
        {
          "output_type": "stream",
          "name": "stderr",
          "text": [
            "\rCT-GAN training loop:  98%|█████████▊| 490/500 [27:04<00:32,  3.29s/it]"
          ]
        },
        {
          "output_type": "stream",
          "name": "stdout",
          "text": [
            "[490/500] Loss_D: -0.005 | Loss_G: -0.044 | Loss D real : -0.058 | Loss D fake : 0.046 | Loss D GP : 0.007 | Loss D CT : 0.000 | Time : 3.271\n"
          ]
        },
        {
          "output_type": "stream",
          "name": "stderr",
          "text": [
            "\rCT-GAN training loop:  98%|█████████▊| 491/500 [27:07<00:29,  3.28s/it]"
          ]
        },
        {
          "output_type": "stream",
          "name": "stdout",
          "text": [
            "[491/500] Loss_D: -0.004 | Loss_G: -0.046 | Loss D real : -0.058 | Loss D fake : 0.046 | Loss D GP : 0.007 | Loss D CT : 0.000 | Time : 3.273\n"
          ]
        },
        {
          "output_type": "stream",
          "name": "stderr",
          "text": [
            "\rCT-GAN training loop:  98%|█████████▊| 492/500 [27:10<00:26,  3.28s/it]"
          ]
        },
        {
          "output_type": "stream",
          "name": "stdout",
          "text": [
            "[492/500] Loss_D: -0.005 | Loss_G: -0.033 | Loss D real : -0.047 | Loss D fake : 0.035 | Loss D GP : 0.007 | Loss D CT : 0.001 | Time : 3.277\n"
          ]
        },
        {
          "output_type": "stream",
          "name": "stderr",
          "text": [
            "\rCT-GAN training loop:  99%|█████████▊| 493/500 [27:14<00:23,  3.29s/it]"
          ]
        },
        {
          "output_type": "stream",
          "name": "stdout",
          "text": [
            "[493/500] Loss_D: -0.005 | Loss_G: -0.027 | Loss D real : -0.042 | Loss D fake : 0.029 | Loss D GP : 0.007 | Loss D CT : 0.001 | Time : 3.296\n"
          ]
        },
        {
          "output_type": "stream",
          "name": "stderr",
          "text": [
            "\rCT-GAN training loop:  99%|█████████▉| 494/500 [27:17<00:19,  3.29s/it]"
          ]
        },
        {
          "output_type": "stream",
          "name": "stdout",
          "text": [
            "[494/500] Loss_D: -0.005 | Loss_G: -0.038 | Loss D real : -0.050 | Loss D fake : 0.039 | Loss D GP : 0.006 | Loss D CT : 0.000 | Time : 3.303\n"
          ]
        },
        {
          "output_type": "stream",
          "name": "stderr",
          "text": [
            "\rCT-GAN training loop:  99%|█████████▉| 495/500 [27:20<00:16,  3.30s/it]"
          ]
        },
        {
          "output_type": "stream",
          "name": "stdout",
          "text": [
            "[495/500] Loss_D: -0.004 | Loss_G: -0.038 | Loss D real : -0.051 | Loss D fake : 0.040 | Loss D GP : 0.006 | Loss D CT : 0.000 | Time : 3.319\n"
          ]
        },
        {
          "output_type": "stream",
          "name": "stderr",
          "text": [
            "\rCT-GAN training loop:  99%|█████████▉| 496/500 [27:24<00:13,  3.31s/it]"
          ]
        },
        {
          "output_type": "stream",
          "name": "stdout",
          "text": [
            "[496/500] Loss_D: -0.006 | Loss_G: -0.043 | Loss D real : -0.056 | Loss D fake : 0.043 | Loss D GP : 0.006 | Loss D CT : 0.000 | Time : 3.328\n"
          ]
        },
        {
          "output_type": "stream",
          "name": "stderr",
          "text": [
            "\rCT-GAN training loop:  99%|█████████▉| 497/500 [27:27<00:09,  3.31s/it]"
          ]
        },
        {
          "output_type": "stream",
          "name": "stdout",
          "text": [
            "[497/500] Loss_D: -0.005 | Loss_G: -0.035 | Loss D real : -0.043 | Loss D fake : 0.033 | Loss D GP : 0.005 | Loss D CT : 0.000 | Time : 3.297\n"
          ]
        },
        {
          "output_type": "stream",
          "name": "stderr",
          "text": [
            "\rCT-GAN training loop: 100%|█████████▉| 498/500 [27:30<00:06,  3.31s/it]"
          ]
        },
        {
          "output_type": "stream",
          "name": "stdout",
          "text": [
            "[498/500] Loss_D: 0.001 | Loss_G: -0.037 | Loss D real : -0.049 | Loss D fake : 0.039 | Loss D GP : 0.010 | Loss D CT : 0.000 | Time : 3.303\n"
          ]
        },
        {
          "output_type": "stream",
          "name": "stderr",
          "text": [
            "\rCT-GAN training loop: 100%|█████████▉| 499/500 [27:33<00:03,  3.31s/it]"
          ]
        },
        {
          "output_type": "stream",
          "name": "stdout",
          "text": [
            "[499/500] Loss_D: -0.003 | Loss_G: -0.034 | Loss D real : -0.045 | Loss D fake : 0.035 | Loss D GP : 0.007 | Loss D CT : 0.000 | Time : 3.299\n"
          ]
        },
        {
          "output_type": "stream",
          "name": "stderr",
          "text": [
            "CT-GAN training loop: 100%|██████████| 500/500 [27:37<00:00,  3.31s/it]"
          ]
        },
        {
          "output_type": "stream",
          "name": "stdout",
          "text": [
            "[500/500] Loss_D: -0.006 | Loss_G: -0.036 | Loss D real : -0.049 | Loss D fake : 0.038 | Loss D GP : 0.005 | Loss D CT : 0.000 | Time : 3.333\n"
          ]
        },
        {
          "output_type": "stream",
          "name": "stderr",
          "text": [
            "\n"
          ]
        }
      ]
    },
    {
      "cell_type": "code",
      "source": [
        "# take a look at a result using a random latent vector as input\n",
        "\n",
        "random_input = torch.randn(100).to(device)\n",
        "x = gen_gaussian(random_input.unsqueeze(1).unsqueeze(0))\n",
        "x = x.detach().cpu()\n",
        "\n",
        "plt.plot(x.squeeze(0).squeeze(0))"
      ],
      "metadata": {
        "id": "Lb9FJ3LEtfmW",
        "colab": {
          "base_uri": "https://localhost:8080/",
          "height": 467
        },
        "outputId": "a08536bf-c7eb-4599-94e8-9a628bb4bdae"
      },
      "execution_count": 13,
      "outputs": [
        {
          "output_type": "execute_result",
          "data": {
            "text/plain": [
              "[<matplotlib.lines.Line2D at 0x7fb8eee73b80>]"
            ]
          },
          "metadata": {},
          "execution_count": 13
        },
        {
          "output_type": "display_data",
          "data": {
            "text/plain": [
              "<Figure size 640x480 with 1 Axes>"
            ],
            "image/png": "[encoded data removed]"
          },
          "metadata": {}
        }
      ]
    },
    {
      "cell_type": "code",
      "source": [
        "# training with sine wave data\n",
        "\n",
        "# Dictionary to store training performance data\n",
        "sine_wave_training_performance_dict = dict()\n",
        "\n",
        "# file name to save the dictionary to\n",
        "save_file_name_sine = 'since_gan_training.json'\n",
        "\n",
        "# file name to save safety glitch outputs to\n",
        "safety_glitch_file_name_sine = 'sine_safety_glitches.npy'\n",
        "\n",
        "training_loop(num_epochs=num_epochs, \n",
        "              data_loader=sine_wave_train_loader,\n",
        "              ncycles_D=ncycles_D, \n",
        "              lambda_gp=lambda_gp, \n",
        "              lambda_ct=lambda_ct,\n",
        "              M=M, \n",
        "              batch_size=batch_size, \n",
        "              length_noise=length_noise,\n",
        "              device=device, \n",
        "              netD=disc_sine, \n",
        "              netG=gen_sine, \n",
        "              lr_D=lr_D, \n",
        "              lr_G=lr_G, \n",
        "              fixed_noise=fixed_noise, \n",
        "              safety_glitch=safety_glitch,\n",
        "              training_performance_dict=sine_wave_training_performance_dict,\n",
        "              save_dir=save_dir,\n",
        "              save_file_name=save_file_name_sine,\n",
        "              safety_glitch_file_name=safety_glitch_file_name_sine\n",
        "              )"
      ],
      "metadata": {
        "colab": {
          "base_uri": "https://localhost:8080/"
        },
        "id": "vLwE3e9gz1lH",
        "outputId": "c640c494-df7e-4356-d460-568ca6af4635"
      },
      "execution_count": 14,
      "outputs": [
        {
          "output_type": "stream",
          "name": "stderr",
          "text": [
            "CT-GAN training loop:   0%|          | 1/500 [00:03<27:23,  3.29s/it]"
          ]
        },
        {
          "output_type": "stream",
          "name": "stdout",
          "text": [
            "[1/500] Loss_D: 1.199 | Loss_G: 2.364 | Loss D real : -0.093 | Loss D fake : -1.705 | Loss D GP : 2.963 | Loss D CT : 0.034 | Time : 3.291\n"
          ]
        },
        {
          "output_type": "stream",
          "name": "stderr",
          "text": [
            "\rCT-GAN training loop:   0%|          | 2/500 [00:06<27:02,  3.26s/it]"
          ]
        },
        {
          "output_type": "stream",
          "name": "stdout",
          "text": [
            "[2/500] Loss_D: 1.865 | Loss_G: -0.179 | Loss D real : -0.145 | Loss D fake : 0.164 | Loss D GP : 1.808 | Loss D CT : 0.038 | Time : 3.231\n"
          ]
        },
        {
          "output_type": "stream",
          "name": "stderr",
          "text": [
            "\rCT-GAN training loop:   1%|          | 3/500 [00:09<27:03,  3.27s/it]"
          ]
        },
        {
          "output_type": "stream",
          "name": "stdout",
          "text": [
            "[3/500] Loss_D: 0.405 | Loss_G: 0.318 | Loss D real : -0.121 | Loss D fake : -0.270 | Loss D GP : 0.745 | Loss D CT : 0.050 | Time : 3.274\n"
          ]
        },
        {
          "output_type": "stream",
          "name": "stderr",
          "text": [
            "\rCT-GAN training loop:   1%|          | 4/500 [00:13<26:54,  3.25s/it]"
          ]
        },
        {
          "output_type": "stream",
          "name": "stdout",
          "text": [
            "[4/500] Loss_D: 0.318 | Loss_G: -0.061 | Loss D real : -0.218 | Loss D fake : 0.045 | Loss D GP : 0.437 | Loss D CT : 0.054 | Time : 3.232\n"
          ]
        },
        {
          "output_type": "stream",
          "name": "stderr",
          "text": [
            "\rCT-GAN training loop:   1%|          | 5/500 [00:16<26:45,  3.24s/it]"
          ]
        },
        {
          "output_type": "stream",
          "name": "stdout",
          "text": [
            "[5/500] Loss_D: 0.197 | Loss_G: 0.046 | Loss D real : -0.242 | Loss D fake : -0.016 | Loss D GP : 0.388 | Loss D CT : 0.067 | Time : 3.221\n"
          ]
        },
        {
          "output_type": "stream",
          "name": "stderr",
          "text": [
            "\rCT-GAN training loop:   1%|          | 6/500 [00:19<26:40,  3.24s/it]"
          ]
        },
        {
          "output_type": "stream",
          "name": "stdout",
          "text": [
            "[6/500] Loss_D: 0.240 | Loss_G: 0.038 | Loss D real : -0.244 | Loss D fake : -0.048 | Loss D GP : 0.469 | Loss D CT : 0.064 | Time : 3.231\n"
          ]
        },
        {
          "output_type": "stream",
          "name": "stderr",
          "text": [
            "\rCT-GAN training loop:   1%|▏         | 7/500 [00:22<26:36,  3.24s/it]"
          ]
        },
        {
          "output_type": "stream",
          "name": "stdout",
          "text": [
            "[7/500] Loss_D: 0.194 | Loss_G: 0.012 | Loss D real : -0.217 | Loss D fake : -0.008 | Loss D GP : 0.388 | Loss D CT : 0.032 | Time : 3.230\n"
          ]
        },
        {
          "output_type": "stream",
          "name": "stderr",
          "text": [
            "\rCT-GAN training loop:   2%|▏         | 8/500 [00:25<26:37,  3.25s/it]"
          ]
        },
        {
          "output_type": "stream",
          "name": "stdout",
          "text": [
            "[8/500] Loss_D: 0.280 | Loss_G: -0.021 | Loss D real : -0.234 | Loss D fake : 0.018 | Loss D GP : 0.453 | Loss D CT : 0.042 | Time : 3.261\n"
          ]
        },
        {
          "output_type": "stream",
          "name": "stderr",
          "text": [
            "\rCT-GAN training loop:   2%|▏         | 9/500 [00:29<26:32,  3.24s/it]"
          ]
        },
        {
          "output_type": "stream",
          "name": "stdout",
          "text": [
            "[9/500] Loss_D: 0.123 | Loss_G: -0.010 | Loss D real : -0.252 | Loss D fake : 0.013 | Loss D GP : 0.317 | Loss D CT : 0.044 | Time : 3.235\n"
          ]
        },
        {
          "output_type": "stream",
          "name": "stderr",
          "text": [
            "\rCT-GAN training loop:   2%|▏         | 10/500 [00:32<26:30,  3.25s/it]"
          ]
        },
        {
          "output_type": "stream",
          "name": "stdout",
          "text": [
            "[10/500] Loss_D: 0.133 | Loss_G: -0.022 | Loss D real : -0.277 | Loss D fake : 0.064 | Loss D GP : 0.290 | Loss D CT : 0.056 | Time : 3.248\n"
          ]
        },
        {
          "output_type": "stream",
          "name": "stderr",
          "text": [
            "\rCT-GAN training loop:   2%|▏         | 11/500 [00:35<26:22,  3.24s/it]"
          ]
        },
        {
          "output_type": "stream",
          "name": "stdout",
          "text": [
            "[11/500] Loss_D: 0.156 | Loss_G: -0.056 | Loss D real : -0.249 | Loss D fake : 0.065 | Loss D GP : 0.297 | Loss D CT : 0.043 | Time : 3.210\n"
          ]
        },
        {
          "output_type": "stream",
          "name": "stderr",
          "text": [
            "\rCT-GAN training loop:   2%|▏         | 12/500 [00:38<26:19,  3.24s/it]"
          ]
        },
        {
          "output_type": "stream",
          "name": "stdout",
          "text": [
            "[12/500] Loss_D: 0.118 | Loss_G: -0.069 | Loss D real : -0.237 | Loss D fake : 0.056 | Loss D GP : 0.252 | Loss D CT : 0.048 | Time : 3.232\n"
          ]
        },
        {
          "output_type": "stream",
          "name": "stderr",
          "text": [
            "\rCT-GAN training loop:   3%|▎         | 13/500 [00:42<26:15,  3.24s/it]"
          ]
        },
        {
          "output_type": "stream",
          "name": "stdout",
          "text": [
            "[13/500] Loss_D: 0.199 | Loss_G: -0.076 | Loss D real : -0.243 | Loss D fake : 0.081 | Loss D GP : 0.324 | Loss D CT : 0.037 | Time : 3.231\n"
          ]
        },
        {
          "output_type": "stream",
          "name": "stderr",
          "text": [
            "\rCT-GAN training loop:   3%|▎         | 14/500 [00:45<26:17,  3.25s/it]"
          ]
        },
        {
          "output_type": "stream",
          "name": "stdout",
          "text": [
            "[14/500] Loss_D: 0.246 | Loss_G: -0.066 | Loss D real : -0.246 | Loss D fake : 0.068 | Loss D GP : 0.382 | Loss D CT : 0.042 | Time : 3.264\n"
          ]
        },
        {
          "output_type": "stream",
          "name": "stderr",
          "text": [
            "\rCT-GAN training loop:   3%|▎         | 15/500 [00:48<26:16,  3.25s/it]"
          ]
        },
        {
          "output_type": "stream",
          "name": "stdout",
          "text": [
            "[15/500] Loss_D: 0.342 | Loss_G: -0.023 | Loss D real : -0.218 | Loss D fake : 0.019 | Loss D GP : 0.506 | Loss D CT : 0.036 | Time : 3.257\n"
          ]
        },
        {
          "output_type": "stream",
          "name": "stderr",
          "text": [
            "\rCT-GAN training loop:   3%|▎         | 16/500 [00:51<26:12,  3.25s/it]"
          ]
        },
        {
          "output_type": "stream",
          "name": "stdout",
          "text": [
            "[16/500] Loss_D: 0.275 | Loss_G: -0.047 | Loss D real : -0.228 | Loss D fake : 0.048 | Loss D GP : 0.417 | Loss D CT : 0.037 | Time : 3.241\n"
          ]
        },
        {
          "output_type": "stream",
          "name": "stderr",
          "text": [
            "\rCT-GAN training loop:   3%|▎         | 17/500 [00:55<26:07,  3.25s/it]"
          ]
        },
        {
          "output_type": "stream",
          "name": "stdout",
          "text": [
            "[17/500] Loss_D: 0.279 | Loss_G: -0.064 | Loss D real : -0.227 | Loss D fake : 0.056 | Loss D GP : 0.408 | Loss D CT : 0.043 | Time : 3.237\n"
          ]
        },
        {
          "output_type": "stream",
          "name": "stderr",
          "text": [
            "\rCT-GAN training loop:   4%|▎         | 18/500 [00:58<26:04,  3.25s/it]"
          ]
        },
        {
          "output_type": "stream",
          "name": "stdout",
          "text": [
            "[18/500] Loss_D: 0.399 | Loss_G: -0.049 | Loss D real : -0.207 | Loss D fake : 0.054 | Loss D GP : 0.505 | Loss D CT : 0.047 | Time : 3.241\n"
          ]
        },
        {
          "output_type": "stream",
          "name": "stderr",
          "text": [
            "\rCT-GAN training loop:   4%|▍         | 19/500 [01:01<25:57,  3.24s/it]"
          ]
        },
        {
          "output_type": "stream",
          "name": "stdout",
          "text": [
            "[19/500] Loss_D: 0.299 | Loss_G: -0.069 | Loss D real : -0.205 | Loss D fake : 0.067 | Loss D GP : 0.410 | Loss D CT : 0.026 | Time : 3.219\n"
          ]
        },
        {
          "output_type": "stream",
          "name": "stderr",
          "text": [
            "\rCT-GAN training loop:   4%|▍         | 20/500 [01:04<25:54,  3.24s/it]"
          ]
        },
        {
          "output_type": "stream",
          "name": "stdout",
          "text": [
            "[20/500] Loss_D: 0.358 | Loss_G: -0.073 | Loss D real : -0.221 | Loss D fake : 0.062 | Loss D GP : 0.478 | Loss D CT : 0.040 | Time : 3.238\n"
          ]
        },
        {
          "output_type": "stream",
          "name": "stderr",
          "text": [
            "\rCT-GAN training loop:   4%|▍         | 21/500 [01:08<25:51,  3.24s/it]"
          ]
        },
        {
          "output_type": "stream",
          "name": "stdout",
          "text": [
            "[21/500] Loss_D: 0.252 | Loss_G: -0.077 | Loss D real : -0.245 | Loss D fake : 0.090 | Loss D GP : 0.369 | Loss D CT : 0.038 | Time : 3.237\n"
          ]
        },
        {
          "output_type": "stream",
          "name": "stderr",
          "text": [
            "\rCT-GAN training loop:   4%|▍         | 22/500 [01:11<25:47,  3.24s/it]"
          ]
        },
        {
          "output_type": "stream",
          "name": "stdout",
          "text": [
            "[22/500] Loss_D: 0.140 | Loss_G: -0.081 | Loss D real : -0.236 | Loss D fake : 0.089 | Loss D GP : 0.255 | Loss D CT : 0.033 | Time : 3.228\n"
          ]
        },
        {
          "output_type": "stream",
          "name": "stderr",
          "text": [
            "\rCT-GAN training loop:   5%|▍         | 23/500 [01:14<25:44,  3.24s/it]"
          ]
        },
        {
          "output_type": "stream",
          "name": "stdout",
          "text": [
            "[23/500] Loss_D: 0.130 | Loss_G: -0.064 | Loss D real : -0.224 | Loss D fake : 0.060 | Loss D GP : 0.247 | Loss D CT : 0.047 | Time : 3.239\n"
          ]
        },
        {
          "output_type": "stream",
          "name": "stderr",
          "text": [
            "\rCT-GAN training loop:   5%|▍         | 24/500 [01:17<25:42,  3.24s/it]"
          ]
        },
        {
          "output_type": "stream",
          "name": "stdout",
          "text": [
            "[24/500] Loss_D: 0.158 | Loss_G: -0.087 | Loss D real : -0.224 | Loss D fake : 0.080 | Loss D GP : 0.264 | Loss D CT : 0.038 | Time : 3.239\n"
          ]
        },
        {
          "output_type": "stream",
          "name": "stderr",
          "text": [
            "\rCT-GAN training loop:   5%|▌         | 25/500 [01:21<25:43,  3.25s/it]"
          ]
        },
        {
          "output_type": "stream",
          "name": "stdout",
          "text": [
            "[25/500] Loss_D: 0.148 | Loss_G: -0.051 | Loss D real : -0.224 | Loss D fake : 0.054 | Loss D GP : 0.283 | Loss D CT : 0.035 | Time : 3.268\n"
          ]
        },
        {
          "output_type": "stream",
          "name": "stderr",
          "text": [
            "\rCT-GAN training loop:   5%|▌         | 26/500 [01:24<25:39,  3.25s/it]"
          ]
        },
        {
          "output_type": "stream",
          "name": "stdout",
          "text": [
            "[26/500] Loss_D: 0.131 | Loss_G: -0.049 | Loss D real : -0.227 | Loss D fake : 0.046 | Loss D GP : 0.288 | Loss D CT : 0.023 | Time : 3.243\n"
          ]
        },
        {
          "output_type": "stream",
          "name": "stderr",
          "text": [
            "\rCT-GAN training loop:   5%|▌         | 27/500 [01:27<25:35,  3.25s/it]"
          ]
        },
        {
          "output_type": "stream",
          "name": "stdout",
          "text": [
            "[27/500] Loss_D: 0.262 | Loss_G: -0.080 | Loss D real : -0.247 | Loss D fake : 0.094 | Loss D GP : 0.388 | Loss D CT : 0.027 | Time : 3.237\n"
          ]
        },
        {
          "output_type": "stream",
          "name": "stderr",
          "text": [
            "\rCT-GAN training loop:   6%|▌         | 28/500 [01:30<25:32,  3.25s/it]"
          ]
        },
        {
          "output_type": "stream",
          "name": "stdout",
          "text": [
            "[28/500] Loss_D: 0.264 | Loss_G: -0.074 | Loss D real : -0.237 | Loss D fake : 0.081 | Loss D GP : 0.390 | Loss D CT : 0.029 | Time : 3.249\n"
          ]
        },
        {
          "output_type": "stream",
          "name": "stderr",
          "text": [
            "\rCT-GAN training loop:   6%|▌         | 29/500 [01:34<25:32,  3.25s/it]"
          ]
        },
        {
          "output_type": "stream",
          "name": "stdout",
          "text": [
            "[29/500] Loss_D: 0.154 | Loss_G: -0.085 | Loss D real : -0.237 | Loss D fake : 0.065 | Loss D GP : 0.284 | Loss D CT : 0.041 | Time : 3.266\n"
          ]
        },
        {
          "output_type": "stream",
          "name": "stderr",
          "text": [
            "\rCT-GAN training loop:   6%|▌         | 30/500 [01:37<25:31,  3.26s/it]"
          ]
        },
        {
          "output_type": "stream",
          "name": "stdout",
          "text": [
            "[30/500] Loss_D: 0.124 | Loss_G: -0.083 | Loss D real : -0.233 | Loss D fake : 0.080 | Loss D GP : 0.247 | Loss D CT : 0.030 | Time : 3.262\n"
          ]
        },
        {
          "output_type": "stream",
          "name": "stderr",
          "text": [
            "\rCT-GAN training loop:   6%|▌         | 31/500 [01:40<25:26,  3.25s/it]"
          ]
        },
        {
          "output_type": "stream",
          "name": "stdout",
          "text": [
            "[31/500] Loss_D: 0.128 | Loss_G: -0.088 | Loss D real : -0.228 | Loss D fake : 0.084 | Loss D GP : 0.241 | Loss D CT : 0.030 | Time : 3.243\n"
          ]
        },
        {
          "output_type": "stream",
          "name": "stderr",
          "text": [
            "\rCT-GAN training loop:   6%|▋         | 32/500 [01:43<25:22,  3.25s/it]"
          ]
        },
        {
          "output_type": "stream",
          "name": "stdout",
          "text": [
            "[32/500] Loss_D: 0.112 | Loss_G: -0.064 | Loss D real : -0.230 | Loss D fake : 0.045 | Loss D GP : 0.257 | Loss D CT : 0.040 | Time : 3.249\n"
          ]
        },
        {
          "output_type": "stream",
          "name": "stderr",
          "text": [
            "\rCT-GAN training loop:   7%|▋         | 33/500 [01:47<25:18,  3.25s/it]"
          ]
        },
        {
          "output_type": "stream",
          "name": "stdout",
          "text": [
            "[33/500] Loss_D: 0.061 | Loss_G: -0.054 | Loss D real : -0.227 | Loss D fake : 0.052 | Loss D GP : 0.204 | Loss D CT : 0.032 | Time : 3.241\n"
          ]
        },
        {
          "output_type": "stream",
          "name": "stderr",
          "text": [
            "\rCT-GAN training loop:   7%|▋         | 34/500 [01:50<25:13,  3.25s/it]"
          ]
        },
        {
          "output_type": "stream",
          "name": "stdout",
          "text": [
            "[34/500] Loss_D: 0.136 | Loss_G: -0.078 | Loss D real : -0.237 | Loss D fake : 0.095 | Loss D GP : 0.247 | Loss D CT : 0.030 | Time : 3.241\n"
          ]
        },
        {
          "output_type": "stream",
          "name": "stderr",
          "text": [
            "\rCT-GAN training loop:   7%|▋         | 35/500 [01:53<25:08,  3.24s/it]"
          ]
        },
        {
          "output_type": "stream",
          "name": "stdout",
          "text": [
            "[35/500] Loss_D: 0.073 | Loss_G: -0.035 | Loss D real : -0.222 | Loss D fake : 0.061 | Loss D GP : 0.211 | Loss D CT : 0.023 | Time : 3.230\n"
          ]
        },
        {
          "output_type": "stream",
          "name": "stderr",
          "text": [
            "\rCT-GAN training loop:   7%|▋         | 36/500 [01:56<25:06,  3.25s/it]"
          ]
        },
        {
          "output_type": "stream",
          "name": "stdout",
          "text": [
            "[36/500] Loss_D: 0.122 | Loss_G: -0.060 | Loss D real : -0.211 | Loss D fake : 0.074 | Loss D GP : 0.236 | Loss D CT : 0.023 | Time : 3.249\n"
          ]
        },
        {
          "output_type": "stream",
          "name": "stderr",
          "text": [
            "\rCT-GAN training loop:   7%|▋         | 37/500 [02:00<25:06,  3.25s/it]"
          ]
        },
        {
          "output_type": "stream",
          "name": "stdout",
          "text": [
            "[37/500] Loss_D: 0.050 | Loss_G: -0.050 | Loss D real : -0.213 | Loss D fake : 0.061 | Loss D GP : 0.184 | Loss D CT : 0.020 | Time : 3.270\n"
          ]
        },
        {
          "output_type": "stream",
          "name": "stderr",
          "text": [
            "\rCT-GAN training loop:   8%|▊         | 38/500 [02:03<25:04,  3.26s/it]"
          ]
        },
        {
          "output_type": "stream",
          "name": "stdout",
          "text": [
            "[38/500] Loss_D: 0.025 | Loss_G: -0.046 | Loss D real : -0.186 | Loss D fake : 0.044 | Loss D GP : 0.148 | Loss D CT : 0.019 | Time : 3.262\n"
          ]
        },
        {
          "output_type": "stream",
          "name": "stderr",
          "text": [
            "\rCT-GAN training loop:   8%|▊         | 39/500 [02:06<25:04,  3.26s/it]"
          ]
        },
        {
          "output_type": "stream",
          "name": "stdout",
          "text": [
            "[39/500] Loss_D: 0.010 | Loss_G: -0.025 | Loss D real : -0.175 | Loss D fake : 0.029 | Loss D GP : 0.141 | Loss D CT : 0.015 | Time : 3.275\n"
          ]
        },
        {
          "output_type": "stream",
          "name": "stderr",
          "text": [
            "\rCT-GAN training loop:   8%|▊         | 40/500 [02:09<24:58,  3.26s/it]"
          ]
        },
        {
          "output_type": "stream",
          "name": "stdout",
          "text": [
            "[40/500] Loss_D: 0.026 | Loss_G: -0.054 | Loss D real : -0.195 | Loss D fake : 0.058 | Loss D GP : 0.143 | Loss D CT : 0.020 | Time : 3.240\n"
          ]
        },
        {
          "output_type": "stream",
          "name": "stderr",
          "text": [
            "\rCT-GAN training loop:   8%|▊         | 41/500 [02:13<24:53,  3.25s/it]"
          ]
        },
        {
          "output_type": "stream",
          "name": "stdout",
          "text": [
            "[41/500] Loss_D: 0.010 | Loss_G: -0.045 | Loss D real : -0.199 | Loss D fake : 0.050 | Loss D GP : 0.141 | Loss D CT : 0.019 | Time : 3.243\n"
          ]
        },
        {
          "output_type": "stream",
          "name": "stderr",
          "text": [
            "\rCT-GAN training loop:   8%|▊         | 42/500 [02:16<24:51,  3.26s/it]"
          ]
        },
        {
          "output_type": "stream",
          "name": "stdout",
          "text": [
            "[42/500] Loss_D: -0.007 | Loss_G: -0.052 | Loss D real : -0.206 | Loss D fake : 0.057 | Loss D GP : 0.120 | Loss D CT : 0.022 | Time : 3.262\n"
          ]
        },
        {
          "output_type": "stream",
          "name": "stderr",
          "text": [
            "\rCT-GAN training loop:   9%|▊         | 43/500 [02:19<24:50,  3.26s/it]"
          ]
        },
        {
          "output_type": "stream",
          "name": "stdout",
          "text": [
            "[43/500] Loss_D: 0.056 | Loss_G: -0.076 | Loss D real : -0.205 | Loss D fake : 0.073 | Loss D GP : 0.171 | Loss D CT : 0.017 | Time : 3.268\n"
          ]
        },
        {
          "output_type": "stream",
          "name": "stderr",
          "text": [
            "\rCT-GAN training loop:   9%|▉         | 44/500 [02:22<24:47,  3.26s/it]"
          ]
        },
        {
          "output_type": "stream",
          "name": "stdout",
          "text": [
            "[44/500] Loss_D: 0.022 | Loss_G: -0.059 | Loss D real : -0.191 | Loss D fake : 0.051 | Loss D GP : 0.143 | Loss D CT : 0.020 | Time : 3.257\n"
          ]
        },
        {
          "output_type": "stream",
          "name": "stderr",
          "text": [
            "\rCT-GAN training loop:   9%|▉         | 45/500 [02:26<24:42,  3.26s/it]"
          ]
        },
        {
          "output_type": "stream",
          "name": "stdout",
          "text": [
            "[45/500] Loss_D: 0.031 | Loss_G: -0.059 | Loss D real : -0.198 | Loss D fake : 0.066 | Loss D GP : 0.143 | Loss D CT : 0.019 | Time : 3.248\n"
          ]
        },
        {
          "output_type": "stream",
          "name": "stderr",
          "text": [
            "\rCT-GAN training loop:   9%|▉         | 46/500 [02:29<24:39,  3.26s/it]"
          ]
        },
        {
          "output_type": "stream",
          "name": "stdout",
          "text": [
            "[46/500] Loss_D: 0.031 | Loss_G: -0.057 | Loss D real : -0.191 | Loss D fake : 0.051 | Loss D GP : 0.153 | Loss D CT : 0.019 | Time : 3.260\n"
          ]
        },
        {
          "output_type": "stream",
          "name": "stderr",
          "text": [
            "\rCT-GAN training loop:   9%|▉         | 47/500 [02:32<24:38,  3.26s/it]"
          ]
        },
        {
          "output_type": "stream",
          "name": "stdout",
          "text": [
            "[47/500] Loss_D: 0.018 | Loss_G: -0.077 | Loss D real : -0.209 | Loss D fake : 0.086 | Loss D GP : 0.118 | Loss D CT : 0.024 | Time : 3.273\n"
          ]
        },
        {
          "output_type": "stream",
          "name": "stderr",
          "text": [
            "\rCT-GAN training loop:  10%|▉         | 48/500 [02:36<24:36,  3.27s/it]"
          ]
        },
        {
          "output_type": "stream",
          "name": "stdout",
          "text": [
            "[48/500] Loss_D: 0.006 | Loss_G: -0.060 | Loss D real : -0.184 | Loss D fake : 0.058 | Loss D GP : 0.118 | Loss D CT : 0.014 | Time : 3.270\n"
          ]
        },
        {
          "output_type": "stream",
          "name": "stderr",
          "text": [
            "\rCT-GAN training loop:  10%|▉         | 49/500 [02:39<24:30,  3.26s/it]"
          ]
        },
        {
          "output_type": "stream",
          "name": "stdout",
          "text": [
            "[49/500] Loss_D: 0.003 | Loss_G: -0.045 | Loss D real : -0.197 | Loss D fake : 0.064 | Loss D GP : 0.119 | Loss D CT : 0.017 | Time : 3.244\n"
          ]
        },
        {
          "output_type": "stream",
          "name": "stderr",
          "text": [
            "\rCT-GAN training loop:  10%|█         | 50/500 [02:42<24:26,  3.26s/it]"
          ]
        },
        {
          "output_type": "stream",
          "name": "stdout",
          "text": [
            "[50/500] Loss_D: 0.069 | Loss_G: -0.080 | Loss D real : -0.205 | Loss D fake : 0.085 | Loss D GP : 0.166 | Loss D CT : 0.023 | Time : 3.253\n"
          ]
        },
        {
          "output_type": "stream",
          "name": "stderr",
          "text": [
            "\rCT-GAN training loop:  10%|█         | 51/500 [02:45<24:26,  3.27s/it]"
          ]
        },
        {
          "output_type": "stream",
          "name": "stdout",
          "text": [
            "[51/500] Loss_D: 0.008 | Loss_G: -0.069 | Loss D real : -0.195 | Loss D fake : 0.070 | Loss D GP : 0.112 | Loss D CT : 0.020 | Time : 3.281\n"
          ]
        },
        {
          "output_type": "stream",
          "name": "stderr",
          "text": [
            "\rCT-GAN training loop:  10%|█         | 52/500 [02:49<24:26,  3.27s/it]"
          ]
        },
        {
          "output_type": "stream",
          "name": "stdout",
          "text": [
            "[52/500] Loss_D: -0.008 | Loss_G: -0.057 | Loss D real : -0.175 | Loss D fake : 0.046 | Loss D GP : 0.105 | Loss D CT : 0.016 | Time : 3.288\n"
          ]
        },
        {
          "output_type": "stream",
          "name": "stderr",
          "text": [
            "\rCT-GAN training loop:  11%|█         | 53/500 [02:52<24:23,  3.27s/it]"
          ]
        },
        {
          "output_type": "stream",
          "name": "stdout",
          "text": [
            "[53/500] Loss_D: -0.015 | Loss_G: -0.062 | Loss D real : -0.204 | Loss D fake : 0.074 | Loss D GP : 0.098 | Loss D CT : 0.018 | Time : 3.270\n"
          ]
        },
        {
          "output_type": "stream",
          "name": "stderr",
          "text": [
            "\rCT-GAN training loop:  11%|█         | 54/500 [02:55<24:18,  3.27s/it]"
          ]
        },
        {
          "output_type": "stream",
          "name": "stdout",
          "text": [
            "[54/500] Loss_D: -0.032 | Loss_G: -0.072 | Loss D real : -0.195 | Loss D fake : 0.070 | Loss D GP : 0.076 | Loss D CT : 0.017 | Time : 3.257\n"
          ]
        },
        {
          "output_type": "stream",
          "name": "stderr",
          "text": [
            "\rCT-GAN training loop:  11%|█         | 55/500 [02:58<24:21,  3.29s/it]"
          ]
        },
        {
          "output_type": "stream",
          "name": "stdout",
          "text": [
            "[55/500] Loss_D: -0.020 | Loss_G: -0.071 | Loss D real : -0.189 | Loss D fake : 0.072 | Loss D GP : 0.086 | Loss D CT : 0.011 | Time : 3.319\n"
          ]
        },
        {
          "output_type": "stream",
          "name": "stderr",
          "text": [
            "\rCT-GAN training loop:  11%|█         | 56/500 [03:02<24:17,  3.28s/it]"
          ]
        },
        {
          "output_type": "stream",
          "name": "stdout",
          "text": [
            "[56/500] Loss_D: 0.009 | Loss_G: -0.077 | Loss D real : -0.172 | Loss D fake : 0.063 | Loss D GP : 0.102 | Loss D CT : 0.016 | Time : 3.276\n"
          ]
        },
        {
          "output_type": "stream",
          "name": "stderr",
          "text": [
            "\rCT-GAN training loop:  11%|█▏        | 57/500 [03:05<24:15,  3.29s/it]"
          ]
        },
        {
          "output_type": "stream",
          "name": "stdout",
          "text": [
            "[57/500] Loss_D: -0.011 | Loss_G: -0.068 | Loss D real : -0.198 | Loss D fake : 0.082 | Loss D GP : 0.088 | Loss D CT : 0.018 | Time : 3.288\n"
          ]
        },
        {
          "output_type": "stream",
          "name": "stderr",
          "text": [
            "\rCT-GAN training loop:  12%|█▏        | 58/500 [03:08<24:10,  3.28s/it]"
          ]
        },
        {
          "output_type": "stream",
          "name": "stdout",
          "text": [
            "[58/500] Loss_D: 0.017 | Loss_G: -0.062 | Loss D real : -0.186 | Loss D fake : 0.069 | Loss D GP : 0.115 | Loss D CT : 0.018 | Time : 3.268\n"
          ]
        },
        {
          "output_type": "stream",
          "name": "stderr",
          "text": [
            "\rCT-GAN training loop:  12%|█▏        | 59/500 [03:12<24:08,  3.28s/it]"
          ]
        },
        {
          "output_type": "stream",
          "name": "stdout",
          "text": [
            "[59/500] Loss_D: -0.013 | Loss_G: -0.089 | Loss D real : -0.173 | Loss D fake : 0.063 | Loss D GP : 0.087 | Loss D CT : 0.010 | Time : 3.289\n"
          ]
        },
        {
          "output_type": "stream",
          "name": "stderr",
          "text": [
            "\rCT-GAN training loop:  12%|█▏        | 60/500 [03:15<23:59,  3.27s/it]"
          ]
        },
        {
          "output_type": "stream",
          "name": "stdout",
          "text": [
            "[60/500] Loss_D: 0.035 | Loss_G: -0.070 | Loss D real : -0.196 | Loss D fake : 0.077 | Loss D GP : 0.136 | Loss D CT : 0.018 | Time : 3.241\n"
          ]
        },
        {
          "output_type": "stream",
          "name": "stderr",
          "text": [
            "\rCT-GAN training loop:  12%|█▏        | 61/500 [03:18<23:54,  3.27s/it]"
          ]
        },
        {
          "output_type": "stream",
          "name": "stdout",
          "text": [
            "[61/500] Loss_D: 0.020 | Loss_G: -0.100 | Loss D real : -0.197 | Loss D fake : 0.083 | Loss D GP : 0.117 | Loss D CT : 0.017 | Time : 3.251\n"
          ]
        },
        {
          "output_type": "stream",
          "name": "stderr",
          "text": [
            "\rCT-GAN training loop:  12%|█▏        | 62/500 [03:21<23:49,  3.26s/it]"
          ]
        },
        {
          "output_type": "stream",
          "name": "stdout",
          "text": [
            "[62/500] Loss_D: -0.037 | Loss_G: -0.050 | Loss D real : -0.203 | Loss D fake : 0.081 | Loss D GP : 0.071 | Loss D CT : 0.013 | Time : 3.256\n"
          ]
        },
        {
          "output_type": "stream",
          "name": "stderr",
          "text": [
            "\rCT-GAN training loop:  13%|█▎        | 63/500 [03:25<23:47,  3.27s/it]"
          ]
        },
        {
          "output_type": "stream",
          "name": "stdout",
          "text": [
            "[63/500] Loss_D: -0.020 | Loss_G: -0.092 | Loss D real : -0.176 | Loss D fake : 0.062 | Loss D GP : 0.083 | Loss D CT : 0.011 | Time : 3.267\n"
          ]
        },
        {
          "output_type": "stream",
          "name": "stderr",
          "text": [
            "\rCT-GAN training loop:  13%|█▎        | 64/500 [03:28<23:41,  3.26s/it]"
          ]
        },
        {
          "output_type": "stream",
          "name": "stdout",
          "text": [
            "[64/500] Loss_D: -0.011 | Loss_G: -0.074 | Loss D real : -0.186 | Loss D fake : 0.070 | Loss D GP : 0.094 | Loss D CT : 0.011 | Time : 3.247\n"
          ]
        },
        {
          "output_type": "stream",
          "name": "stderr",
          "text": [
            "\rCT-GAN training loop:  13%|█▎        | 65/500 [03:31<23:42,  3.27s/it]"
          ]
        },
        {
          "output_type": "stream",
          "name": "stdout",
          "text": [
            "[65/500] Loss_D: -0.024 | Loss_G: -0.070 | Loss D real : -0.183 | Loss D fake : 0.078 | Loss D GP : 0.070 | Loss D CT : 0.012 | Time : 3.290\n"
          ]
        },
        {
          "output_type": "stream",
          "name": "stderr",
          "text": [
            "\rCT-GAN training loop:  13%|█▎        | 66/500 [03:34<23:40,  3.27s/it]"
          ]
        },
        {
          "output_type": "stream",
          "name": "stdout",
          "text": [
            "[66/500] Loss_D: -0.023 | Loss_G: -0.078 | Loss D real : -0.201 | Loss D fake : 0.085 | Loss D GP : 0.082 | Loss D CT : 0.011 | Time : 3.274\n"
          ]
        },
        {
          "output_type": "stream",
          "name": "stderr",
          "text": [
            "\rCT-GAN training loop:  13%|█▎        | 67/500 [03:38<23:43,  3.29s/it]"
          ]
        },
        {
          "output_type": "stream",
          "name": "stdout",
          "text": [
            "[67/500] Loss_D: -0.008 | Loss_G: -0.088 | Loss D real : -0.202 | Loss D fake : 0.089 | Loss D GP : 0.087 | Loss D CT : 0.018 | Time : 3.316\n"
          ]
        },
        {
          "output_type": "stream",
          "name": "stderr",
          "text": [
            "\rCT-GAN training loop:  14%|█▎        | 68/500 [03:41<23:36,  3.28s/it]"
          ]
        },
        {
          "output_type": "stream",
          "name": "stdout",
          "text": [
            "[68/500] Loss_D: -0.007 | Loss_G: -0.086 | Loss D real : -0.191 | Loss D fake : 0.076 | Loss D GP : 0.094 | Loss D CT : 0.014 | Time : 3.258\n"
          ]
        },
        {
          "output_type": "stream",
          "name": "stderr",
          "text": [
            "\rCT-GAN training loop:  14%|█▍        | 69/500 [03:44<23:29,  3.27s/it]"
          ]
        },
        {
          "output_type": "stream",
          "name": "stdout",
          "text": [
            "[69/500] Loss_D: -0.018 | Loss_G: -0.075 | Loss D real : -0.198 | Loss D fake : 0.093 | Loss D GP : 0.069 | Loss D CT : 0.018 | Time : 3.244\n"
          ]
        },
        {
          "output_type": "stream",
          "name": "stderr",
          "text": [
            "\rCT-GAN training loop:  14%|█▍        | 70/500 [03:48<23:31,  3.28s/it]"
          ]
        },
        {
          "output_type": "stream",
          "name": "stdout",
          "text": [
            "[70/500] Loss_D: -0.024 | Loss_G: -0.088 | Loss D real : -0.196 | Loss D fake : 0.078 | Loss D GP : 0.082 | Loss D CT : 0.013 | Time : 3.312\n"
          ]
        },
        {
          "output_type": "stream",
          "name": "stderr",
          "text": [
            "\rCT-GAN training loop:  14%|█▍        | 71/500 [03:51<23:30,  3.29s/it]"
          ]
        },
        {
          "output_type": "stream",
          "name": "stdout",
          "text": [
            "[71/500] Loss_D: -0.027 | Loss_G: -0.093 | Loss D real : -0.202 | Loss D fake : 0.094 | Loss D GP : 0.069 | Loss D CT : 0.011 | Time : 3.297\n"
          ]
        },
        {
          "output_type": "stream",
          "name": "stderr",
          "text": [
            "\rCT-GAN training loop:  14%|█▍        | 72/500 [03:54<23:32,  3.30s/it]"
          ]
        },
        {
          "output_type": "stream",
          "name": "stdout",
          "text": [
            "[72/500] Loss_D: -0.017 | Loss_G: -0.076 | Loss D real : -0.192 | Loss D fake : 0.080 | Loss D GP : 0.083 | Loss D CT : 0.013 | Time : 3.326\n"
          ]
        },
        {
          "output_type": "stream",
          "name": "stderr",
          "text": [
            "\rCT-GAN training loop:  15%|█▍        | 73/500 [03:58<23:32,  3.31s/it]"
          ]
        },
        {
          "output_type": "stream",
          "name": "stdout",
          "text": [
            "[73/500] Loss_D: -0.043 | Loss_G: -0.079 | Loss D real : -0.181 | Loss D fake : 0.066 | Loss D GP : 0.059 | Loss D CT : 0.013 | Time : 3.323\n"
          ]
        },
        {
          "output_type": "stream",
          "name": "stderr",
          "text": [
            "\rCT-GAN training loop:  15%|█▍        | 74/500 [04:01<23:33,  3.32s/it]"
          ]
        },
        {
          "output_type": "stream",
          "name": "stdout",
          "text": [
            "[74/500] Loss_D: -0.041 | Loss_G: -0.084 | Loss D real : -0.204 | Loss D fake : 0.092 | Loss D GP : 0.060 | Loss D CT : 0.012 | Time : 3.337\n"
          ]
        },
        {
          "output_type": "stream",
          "name": "stderr",
          "text": [
            "\rCT-GAN training loop:  15%|█▌        | 75/500 [04:04<23:31,  3.32s/it]"
          ]
        },
        {
          "output_type": "stream",
          "name": "stdout",
          "text": [
            "[75/500] Loss_D: -0.047 | Loss_G: -0.081 | Loss D real : -0.193 | Loss D fake : 0.076 | Loss D GP : 0.061 | Loss D CT : 0.009 | Time : 3.325\n"
          ]
        },
        {
          "output_type": "stream",
          "name": "stderr",
          "text": [
            "\rCT-GAN training loop:  15%|█▌        | 76/500 [04:08<23:30,  3.33s/it]"
          ]
        },
        {
          "output_type": "stream",
          "name": "stdout",
          "text": [
            "[76/500] Loss_D: -0.011 | Loss_G: -0.090 | Loss D real : -0.197 | Loss D fake : 0.097 | Loss D GP : 0.079 | Loss D CT : 0.010 | Time : 3.336\n"
          ]
        },
        {
          "output_type": "stream",
          "name": "stderr",
          "text": [
            "\rCT-GAN training loop:  15%|█▌        | 77/500 [04:11<23:30,  3.33s/it]"
          ]
        },
        {
          "output_type": "stream",
          "name": "stdout",
          "text": [
            "[77/500] Loss_D: -0.008 | Loss_G: -0.084 | Loss D real : -0.183 | Loss D fake : 0.082 | Loss D GP : 0.081 | Loss D CT : 0.012 | Time : 3.346\n"
          ]
        },
        {
          "output_type": "stream",
          "name": "stderr",
          "text": [
            "\rCT-GAN training loop:  16%|█▌        | 78/500 [04:14<23:24,  3.33s/it]"
          ]
        },
        {
          "output_type": "stream",
          "name": "stdout",
          "text": [
            "[78/500] Loss_D: -0.011 | Loss_G: -0.096 | Loss D real : -0.204 | Loss D fake : 0.103 | Loss D GP : 0.076 | Loss D CT : 0.013 | Time : 3.316\n"
          ]
        },
        {
          "output_type": "stream",
          "name": "stderr",
          "text": [
            "\rCT-GAN training loop:  16%|█▌        | 79/500 [04:18<23:21,  3.33s/it]"
          ]
        },
        {
          "output_type": "stream",
          "name": "stdout",
          "text": [
            "[79/500] Loss_D: -0.004 | Loss_G: -0.093 | Loss D real : -0.181 | Loss D fake : 0.081 | Loss D GP : 0.085 | Loss D CT : 0.010 | Time : 3.325\n"
          ]
        },
        {
          "output_type": "stream",
          "name": "stderr",
          "text": [
            "\rCT-GAN training loop:  16%|█▌        | 80/500 [04:21<23:19,  3.33s/it]"
          ]
        },
        {
          "output_type": "stream",
          "name": "stdout",
          "text": [
            "[80/500] Loss_D: 0.016 | Loss_G: -0.096 | Loss D real : -0.179 | Loss D fake : 0.082 | Loss D GP : 0.106 | Loss D CT : 0.007 | Time : 3.340\n"
          ]
        },
        {
          "output_type": "stream",
          "name": "stderr",
          "text": [
            "\rCT-GAN training loop:  16%|█▌        | 81/500 [04:24<23:23,  3.35s/it]"
          ]
        },
        {
          "output_type": "stream",
          "name": "stdout",
          "text": [
            "[81/500] Loss_D: -0.015 | Loss_G: -0.105 | Loss D real : -0.181 | Loss D fake : 0.086 | Loss D GP : 0.072 | Loss D CT : 0.007 | Time : 3.383\n"
          ]
        },
        {
          "output_type": "stream",
          "name": "stderr",
          "text": [
            "\rCT-GAN training loop:  16%|█▋        | 82/500 [04:28<23:16,  3.34s/it]"
          ]
        },
        {
          "output_type": "stream",
          "name": "stdout",
          "text": [
            "[82/500] Loss_D: -0.020 | Loss_G: -0.082 | Loss D real : -0.186 | Loss D fake : 0.083 | Loss D GP : 0.071 | Loss D CT : 0.012 | Time : 3.315\n"
          ]
        },
        {
          "output_type": "stream",
          "name": "stderr",
          "text": [
            "\rCT-GAN training loop:  17%|█▋        | 83/500 [04:31<23:09,  3.33s/it]"
          ]
        },
        {
          "output_type": "stream",
          "name": "stdout",
          "text": [
            "[83/500] Loss_D: 0.012 | Loss_G: -0.081 | Loss D real : -0.194 | Loss D fake : 0.089 | Loss D GP : 0.105 | Loss D CT : 0.012 | Time : 3.313\n"
          ]
        },
        {
          "output_type": "stream",
          "name": "stderr",
          "text": [
            "\rCT-GAN training loop:  17%|█▋        | 84/500 [04:34<23:06,  3.33s/it]"
          ]
        },
        {
          "output_type": "stream",
          "name": "stdout",
          "text": [
            "[84/500] Loss_D: -0.019 | Loss_G: -0.094 | Loss D real : -0.184 | Loss D fake : 0.081 | Loss D GP : 0.076 | Loss D CT : 0.009 | Time : 3.325\n"
          ]
        },
        {
          "output_type": "stream",
          "name": "stderr",
          "text": [
            "\rCT-GAN training loop:  17%|█▋        | 85/500 [04:38<23:06,  3.34s/it]"
          ]
        },
        {
          "output_type": "stream",
          "name": "stdout",
          "text": [
            "[85/500] Loss_D: -0.025 | Loss_G: -0.095 | Loss D real : -0.194 | Loss D fake : 0.098 | Loss D GP : 0.058 | Loss D CT : 0.013 | Time : 3.361\n"
          ]
        },
        {
          "output_type": "stream",
          "name": "stderr",
          "text": [
            "\rCT-GAN training loop:  17%|█▋        | 86/500 [04:41<23:02,  3.34s/it]"
          ]
        },
        {
          "output_type": "stream",
          "name": "stdout",
          "text": [
            "[86/500] Loss_D: 0.013 | Loss_G: -0.109 | Loss D real : -0.185 | Loss D fake : 0.099 | Loss D GP : 0.089 | Loss D CT : 0.010 | Time : 3.330\n"
          ]
        },
        {
          "output_type": "stream",
          "name": "stderr",
          "text": [
            "\rCT-GAN training loop:  17%|█▋        | 87/500 [04:44<23:01,  3.34s/it]"
          ]
        },
        {
          "output_type": "stream",
          "name": "stdout",
          "text": [
            "[87/500] Loss_D: -0.030 | Loss_G: -0.099 | Loss D real : -0.194 | Loss D fake : 0.099 | Loss D GP : 0.057 | Loss D CT : 0.009 | Time : 3.352\n"
          ]
        },
        {
          "output_type": "stream",
          "name": "stderr",
          "text": [
            "\rCT-GAN training loop:  18%|█▊        | 88/500 [04:48<22:56,  3.34s/it]"
          ]
        },
        {
          "output_type": "stream",
          "name": "stdout",
          "text": [
            "[88/500] Loss_D: -0.023 | Loss_G: -0.092 | Loss D real : -0.216 | Loss D fake : 0.122 | Loss D GP : 0.060 | Loss D CT : 0.012 | Time : 3.330\n"
          ]
        },
        {
          "output_type": "stream",
          "name": "stderr",
          "text": [
            "\rCT-GAN training loop:  18%|█▊        | 89/500 [04:51<22:52,  3.34s/it]"
          ]
        },
        {
          "output_type": "stream",
          "name": "stdout",
          "text": [
            "[89/500] Loss_D: -0.011 | Loss_G: -0.097 | Loss D real : -0.199 | Loss D fake : 0.100 | Loss D GP : 0.078 | Loss D CT : 0.009 | Time : 3.330\n"
          ]
        },
        {
          "output_type": "stream",
          "name": "stderr",
          "text": [
            "\rCT-GAN training loop:  18%|█▊        | 90/500 [04:54<22:47,  3.33s/it]"
          ]
        },
        {
          "output_type": "stream",
          "name": "stdout",
          "text": [
            "[90/500] Loss_D: -0.015 | Loss_G: -0.092 | Loss D real : -0.206 | Loss D fake : 0.102 | Loss D GP : 0.075 | Loss D CT : 0.014 | Time : 3.320\n"
          ]
        },
        {
          "output_type": "stream",
          "name": "stderr",
          "text": [
            "\rCT-GAN training loop:  18%|█▊        | 91/500 [04:58<22:45,  3.34s/it]"
          ]
        },
        {
          "output_type": "stream",
          "name": "stdout",
          "text": [
            "[91/500] Loss_D: -0.027 | Loss_G: -0.101 | Loss D real : -0.189 | Loss D fake : 0.100 | Loss D GP : 0.054 | Loss D CT : 0.008 | Time : 3.346\n"
          ]
        },
        {
          "output_type": "stream",
          "name": "stderr",
          "text": [
            "\rCT-GAN training loop:  18%|█▊        | 92/500 [05:01<22:41,  3.34s/it]"
          ]
        },
        {
          "output_type": "stream",
          "name": "stdout",
          "text": [
            "[92/500] Loss_D: -0.000 | Loss_G: -0.088 | Loss D real : -0.170 | Loss D fake : 0.076 | Loss D GP : 0.085 | Loss D CT : 0.008 | Time : 3.330\n"
          ]
        },
        {
          "output_type": "stream",
          "name": "stderr",
          "text": [
            "\rCT-GAN training loop:  19%|█▊        | 93/500 [05:04<22:37,  3.33s/it]"
          ]
        },
        {
          "output_type": "stream",
          "name": "stdout",
          "text": [
            "[93/500] Loss_D: -0.029 | Loss_G: -0.090 | Loss D real : -0.198 | Loss D fake : 0.099 | Loss D GP : 0.059 | Loss D CT : 0.011 | Time : 3.324\n"
          ]
        },
        {
          "output_type": "stream",
          "name": "stderr",
          "text": [
            "\rCT-GAN training loop:  19%|█▉        | 94/500 [05:08<22:31,  3.33s/it]"
          ]
        },
        {
          "output_type": "stream",
          "name": "stdout",
          "text": [
            "[94/500] Loss_D: -0.050 | Loss_G: -0.067 | Loss D real : -0.198 | Loss D fake : 0.085 | Loss D GP : 0.056 | Loss D CT : 0.007 | Time : 3.314\n"
          ]
        },
        {
          "output_type": "stream",
          "name": "stderr",
          "text": [
            "\rCT-GAN training loop:  19%|█▉        | 95/500 [05:11<22:31,  3.34s/it]"
          ]
        },
        {
          "output_type": "stream",
          "name": "stdout",
          "text": [
            "[95/500] Loss_D: -0.036 | Loss_G: -0.097 | Loss D real : -0.180 | Loss D fake : 0.087 | Loss D GP : 0.052 | Loss D CT : 0.006 | Time : 3.350\n"
          ]
        },
        {
          "output_type": "stream",
          "name": "stderr",
          "text": [
            "\rCT-GAN training loop:  19%|█▉        | 96/500 [05:14<22:25,  3.33s/it]"
          ]
        },
        {
          "output_type": "stream",
          "name": "stdout",
          "text": [
            "[96/500] Loss_D: -0.023 | Loss_G: -0.103 | Loss D real : -0.197 | Loss D fake : 0.105 | Loss D GP : 0.061 | Loss D CT : 0.008 | Time : 3.316\n"
          ]
        },
        {
          "output_type": "stream",
          "name": "stderr",
          "text": [
            "\rCT-GAN training loop:  19%|█▉        | 97/500 [05:18<22:22,  3.33s/it]"
          ]
        },
        {
          "output_type": "stream",
          "name": "stdout",
          "text": [
            "[97/500] Loss_D: -0.013 | Loss_G: -0.076 | Loss D real : -0.193 | Loss D fake : 0.099 | Loss D GP : 0.066 | Loss D CT : 0.016 | Time : 3.324\n"
          ]
        },
        {
          "output_type": "stream",
          "name": "stderr",
          "text": [
            "\rCT-GAN training loop:  20%|█▉        | 98/500 [05:21<22:16,  3.32s/it]"
          ]
        },
        {
          "output_type": "stream",
          "name": "stdout",
          "text": [
            "[98/500] Loss_D: -0.007 | Loss_G: -0.111 | Loss D real : -0.182 | Loss D fake : 0.099 | Loss D GP : 0.069 | Loss D CT : 0.008 | Time : 3.307\n"
          ]
        },
        {
          "output_type": "stream",
          "name": "stderr",
          "text": [
            "\rCT-GAN training loop:  20%|█▉        | 99/500 [05:24<22:15,  3.33s/it]"
          ]
        },
        {
          "output_type": "stream",
          "name": "stdout",
          "text": [
            "[99/500] Loss_D: -0.002 | Loss_G: -0.092 | Loss D real : -0.196 | Loss D fake : 0.104 | Loss D GP : 0.080 | Loss D CT : 0.010 | Time : 3.341\n"
          ]
        },
        {
          "output_type": "stream",
          "name": "stderr",
          "text": [
            "\rCT-GAN training loop:  20%|██        | 100/500 [05:28<22:13,  3.33s/it]"
          ]
        },
        {
          "output_type": "stream",
          "name": "stdout",
          "text": [
            "[100/500] Loss_D: -0.022 | Loss_G: -0.093 | Loss D real : -0.193 | Loss D fake : 0.105 | Loss D GP : 0.055 | Loss D CT : 0.010 | Time : 3.336\n"
          ]
        },
        {
          "output_type": "stream",
          "name": "stderr",
          "text": [
            "\rCT-GAN training loop:  20%|██        | 101/500 [05:31<22:07,  3.33s/it]"
          ]
        },
        {
          "output_type": "stream",
          "name": "stdout",
          "text": [
            "[101/500] Loss_D: -0.006 | Loss_G: -0.089 | Loss D real : -0.192 | Loss D fake : 0.101 | Loss D GP : 0.076 | Loss D CT : 0.010 | Time : 3.311\n"
          ]
        },
        {
          "output_type": "stream",
          "name": "stderr",
          "text": [
            "\rCT-GAN training loop:  20%|██        | 102/500 [05:34<22:03,  3.33s/it]"
          ]
        },
        {
          "output_type": "stream",
          "name": "stdout",
          "text": [
            "[102/500] Loss_D: -0.010 | Loss_G: -0.094 | Loss D real : -0.193 | Loss D fake : 0.090 | Loss D GP : 0.085 | Loss D CT : 0.008 | Time : 3.317\n"
          ]
        },
        {
          "output_type": "stream",
          "name": "stderr",
          "text": [
            "\rCT-GAN training loop:  21%|██        | 103/500 [05:38<22:03,  3.33s/it]"
          ]
        },
        {
          "output_type": "stream",
          "name": "stdout",
          "text": [
            "[103/500] Loss_D: -0.036 | Loss_G: -0.088 | Loss D real : -0.194 | Loss D fake : 0.097 | Loss D GP : 0.053 | Loss D CT : 0.008 | Time : 3.348\n"
          ]
        },
        {
          "output_type": "stream",
          "name": "stderr",
          "text": [
            "\rCT-GAN training loop:  21%|██        | 104/500 [05:41<22:02,  3.34s/it]"
          ]
        },
        {
          "output_type": "stream",
          "name": "stdout",
          "text": [
            "[104/500] Loss_D: -0.024 | Loss_G: -0.099 | Loss D real : -0.199 | Loss D fake : 0.106 | Loss D GP : 0.056 | Loss D CT : 0.013 | Time : 3.350\n"
          ]
        },
        {
          "output_type": "stream",
          "name": "stderr",
          "text": [
            "\rCT-GAN training loop:  21%|██        | 105/500 [05:44<21:59,  3.34s/it]"
          ]
        },
        {
          "output_type": "stream",
          "name": "stdout",
          "text": [
            "[105/500] Loss_D: -0.008 | Loss_G: -0.099 | Loss D real : -0.193 | Loss D fake : 0.104 | Loss D GP : 0.072 | Loss D CT : 0.009 | Time : 3.339\n"
          ]
        },
        {
          "output_type": "stream",
          "name": "stderr",
          "text": [
            "\rCT-GAN training loop:  21%|██        | 106/500 [05:48<21:56,  3.34s/it]"
          ]
        },
        {
          "output_type": "stream",
          "name": "stdout",
          "text": [
            "[106/500] Loss_D: -0.003 | Loss_G: -0.103 | Loss D real : -0.191 | Loss D fake : 0.105 | Loss D GP : 0.070 | Loss D CT : 0.013 | Time : 3.344\n"
          ]
        },
        {
          "output_type": "stream",
          "name": "stderr",
          "text": [
            "\rCT-GAN training loop:  21%|██▏       | 107/500 [05:51<21:53,  3.34s/it]"
          ]
        },
        {
          "output_type": "stream",
          "name": "stdout",
          "text": [
            "[107/500] Loss_D: -0.005 | Loss_G: -0.098 | Loss D real : -0.187 | Loss D fake : 0.102 | Loss D GP : 0.069 | Loss D CT : 0.011 | Time : 3.334\n"
          ]
        },
        {
          "output_type": "stream",
          "name": "stderr",
          "text": [
            "\rCT-GAN training loop:  22%|██▏       | 108/500 [05:54<21:49,  3.34s/it]"
          ]
        },
        {
          "output_type": "stream",
          "name": "stdout",
          "text": [
            "[108/500] Loss_D: -0.012 | Loss_G: -0.104 | Loss D real : -0.188 | Loss D fake : 0.105 | Loss D GP : 0.062 | Loss D CT : 0.010 | Time : 3.338\n"
          ]
        },
        {
          "output_type": "stream",
          "name": "stderr",
          "text": [
            "\rCT-GAN training loop:  22%|██▏       | 109/500 [05:58<21:50,  3.35s/it]"
          ]
        },
        {
          "output_type": "stream",
          "name": "stdout",
          "text": [
            "[109/500] Loss_D: 0.022 | Loss_G: -0.099 | Loss D real : -0.173 | Loss D fake : 0.095 | Loss D GP : 0.094 | Loss D CT : 0.005 | Time : 3.376\n"
          ]
        },
        {
          "output_type": "stream",
          "name": "stderr",
          "text": [
            "\rCT-GAN training loop:  22%|██▏       | 110/500 [06:01<21:45,  3.35s/it]"
          ]
        },
        {
          "output_type": "stream",
          "name": "stdout",
          "text": [
            "[110/500] Loss_D: -0.024 | Loss_G: -0.086 | Loss D real : -0.204 | Loss D fake : 0.107 | Loss D GP : 0.060 | Loss D CT : 0.013 | Time : 3.334\n"
          ]
        },
        {
          "output_type": "stream",
          "name": "stderr",
          "text": [
            "\rCT-GAN training loop:  22%|██▏       | 111/500 [06:04<21:42,  3.35s/it]"
          ]
        },
        {
          "output_type": "stream",
          "name": "stdout",
          "text": [
            "[111/500] Loss_D: -0.022 | Loss_G: -0.091 | Loss D real : -0.170 | Loss D fake : 0.078 | Loss D GP : 0.062 | Loss D CT : 0.008 | Time : 3.348\n"
          ]
        },
        {
          "output_type": "stream",
          "name": "stderr",
          "text": [
            "\rCT-GAN training loop:  22%|██▏       | 112/500 [06:08<21:39,  3.35s/it]"
          ]
        },
        {
          "output_type": "stream",
          "name": "stdout",
          "text": [
            "[112/500] Loss_D: -0.016 | Loss_G: -0.110 | Loss D real : -0.188 | Loss D fake : 0.106 | Loss D GP : 0.059 | Loss D CT : 0.007 | Time : 3.348\n"
          ]
        },
        {
          "output_type": "stream",
          "name": "stderr",
          "text": [
            "\rCT-GAN training loop:  23%|██▎       | 113/500 [06:11<21:35,  3.35s/it]"
          ]
        },
        {
          "output_type": "stream",
          "name": "stdout",
          "text": [
            "[113/500] Loss_D: 0.014 | Loss_G: -0.095 | Loss D real : -0.174 | Loss D fake : 0.084 | Loss D GP : 0.079 | Loss D CT : 0.025 | Time : 3.336\n"
          ]
        },
        {
          "output_type": "stream",
          "name": "stderr",
          "text": [
            "\rCT-GAN training loop:  23%|██▎       | 114/500 [06:14<21:32,  3.35s/it]"
          ]
        },
        {
          "output_type": "stream",
          "name": "stdout",
          "text": [
            "[114/500] Loss_D: -0.007 | Loss_G: -0.105 | Loss D real : -0.201 | Loss D fake : 0.118 | Loss D GP : 0.067 | Loss D CT : 0.009 | Time : 3.352\n"
          ]
        },
        {
          "output_type": "stream",
          "name": "stderr",
          "text": [
            "\rCT-GAN training loop:  23%|██▎       | 115/500 [06:18<21:28,  3.35s/it]"
          ]
        },
        {
          "output_type": "stream",
          "name": "stdout",
          "text": [
            "[115/500] Loss_D: -0.011 | Loss_G: -0.114 | Loss D real : -0.186 | Loss D fake : 0.102 | Loss D GP : 0.065 | Loss D CT : 0.007 | Time : 3.336\n"
          ]
        },
        {
          "output_type": "stream",
          "name": "stderr",
          "text": [
            "\rCT-GAN training loop:  23%|██▎       | 116/500 [06:21<21:22,  3.34s/it]"
          ]
        },
        {
          "output_type": "stream",
          "name": "stdout",
          "text": [
            "[116/500] Loss_D: -0.020 | Loss_G: -0.094 | Loss D real : -0.182 | Loss D fake : 0.094 | Loss D GP : 0.061 | Loss D CT : 0.008 | Time : 3.324\n"
          ]
        },
        {
          "output_type": "stream",
          "name": "stderr",
          "text": [
            "\rCT-GAN training loop:  23%|██▎       | 117/500 [06:24<21:18,  3.34s/it]"
          ]
        },
        {
          "output_type": "stream",
          "name": "stdout",
          "text": [
            "[117/500] Loss_D: 0.005 | Loss_G: -0.091 | Loss D real : -0.186 | Loss D fake : 0.096 | Loss D GP : 0.086 | Loss D CT : 0.009 | Time : 3.328\n"
          ]
        },
        {
          "output_type": "stream",
          "name": "stderr",
          "text": [
            "\rCT-GAN training loop:  24%|██▎       | 118/500 [06:28<21:14,  3.34s/it]"
          ]
        },
        {
          "output_type": "stream",
          "name": "stdout",
          "text": [
            "[118/500] Loss_D: -0.021 | Loss_G: -0.093 | Loss D real : -0.194 | Loss D fake : 0.106 | Loss D GP : 0.056 | Loss D CT : 0.011 | Time : 3.330\n"
          ]
        },
        {
          "output_type": "stream",
          "name": "stderr",
          "text": [
            "\rCT-GAN training loop:  24%|██▍       | 119/500 [06:31<21:09,  3.33s/it]"
          ]
        },
        {
          "output_type": "stream",
          "name": "stdout",
          "text": [
            "[119/500] Loss_D: -0.014 | Loss_G: -0.099 | Loss D real : -0.181 | Loss D fake : 0.102 | Loss D GP : 0.058 | Loss D CT : 0.008 | Time : 3.318\n"
          ]
        },
        {
          "output_type": "stream",
          "name": "stderr",
          "text": [
            "\rCT-GAN training loop:  24%|██▍       | 120/500 [06:34<21:04,  3.33s/it]"
          ]
        },
        {
          "output_type": "stream",
          "name": "stdout",
          "text": [
            "[120/500] Loss_D: 0.006 | Loss_G: -0.113 | Loss D real : -0.186 | Loss D fake : 0.111 | Loss D GP : 0.073 | Loss D CT : 0.008 | Time : 3.312\n"
          ]
        },
        {
          "output_type": "stream",
          "name": "stderr",
          "text": [
            "\rCT-GAN training loop:  24%|██▍       | 121/500 [06:38<21:02,  3.33s/it]"
          ]
        },
        {
          "output_type": "stream",
          "name": "stdout",
          "text": [
            "[121/500] Loss_D: -0.020 | Loss_G: -0.101 | Loss D real : -0.193 | Loss D fake : 0.110 | Loss D GP : 0.055 | Loss D CT : 0.008 | Time : 3.340\n"
          ]
        },
        {
          "output_type": "stream",
          "name": "stderr",
          "text": [
            "\rCT-GAN training loop:  24%|██▍       | 122/500 [06:41<21:00,  3.33s/it]"
          ]
        },
        {
          "output_type": "stream",
          "name": "stdout",
          "text": [
            "[122/500] Loss_D: -0.023 | Loss_G: -0.104 | Loss D real : -0.182 | Loss D fake : 0.098 | Loss D GP : 0.055 | Loss D CT : 0.007 | Time : 3.337\n"
          ]
        },
        {
          "output_type": "stream",
          "name": "stderr",
          "text": [
            "\rCT-GAN training loop:  25%|██▍       | 123/500 [06:44<21:00,  3.34s/it]"
          ]
        },
        {
          "output_type": "stream",
          "name": "stdout",
          "text": [
            "[123/500] Loss_D: -0.015 | Loss_G: -0.117 | Loss D real : -0.185 | Loss D fake : 0.104 | Loss D GP : 0.053 | Loss D CT : 0.013 | Time : 3.365\n"
          ]
        },
        {
          "output_type": "stream",
          "name": "stderr",
          "text": [
            "\rCT-GAN training loop:  25%|██▍       | 124/500 [06:48<20:57,  3.34s/it]"
          ]
        },
        {
          "output_type": "stream",
          "name": "stdout",
          "text": [
            "[124/500] Loss_D: 0.018 | Loss_G: -0.108 | Loss D real : -0.202 | Loss D fake : 0.116 | Loss D GP : 0.094 | Loss D CT : 0.010 | Time : 3.339\n"
          ]
        },
        {
          "output_type": "stream",
          "name": "stderr",
          "text": [
            "\rCT-GAN training loop:  25%|██▌       | 125/500 [06:51<20:55,  3.35s/it]"
          ]
        },
        {
          "output_type": "stream",
          "name": "stdout",
          "text": [
            "[125/500] Loss_D: -0.009 | Loss_G: -0.098 | Loss D real : -0.176 | Loss D fake : 0.096 | Loss D GP : 0.062 | Loss D CT : 0.008 | Time : 3.353\n"
          ]
        },
        {
          "output_type": "stream",
          "name": "stderr",
          "text": [
            "\rCT-GAN training loop:  25%|██▌       | 126/500 [06:54<20:51,  3.35s/it]"
          ]
        },
        {
          "output_type": "stream",
          "name": "stdout",
          "text": [
            "[126/500] Loss_D: -0.037 | Loss_G: -0.094 | Loss D real : -0.202 | Loss D fake : 0.099 | Loss D GP : 0.057 | Loss D CT : 0.009 | Time : 3.337\n"
          ]
        },
        {
          "output_type": "stream",
          "name": "stderr",
          "text": [
            "\rCT-GAN training loop:  25%|██▌       | 127/500 [06:58<20:48,  3.35s/it]"
          ]
        },
        {
          "output_type": "stream",
          "name": "stdout",
          "text": [
            "[127/500] Loss_D: -0.034 | Loss_G: -0.085 | Loss D real : -0.198 | Loss D fake : 0.104 | Loss D GP : 0.050 | Loss D CT : 0.010 | Time : 3.345\n"
          ]
        },
        {
          "output_type": "stream",
          "name": "stderr",
          "text": [
            "\rCT-GAN training loop:  26%|██▌       | 128/500 [07:01<20:44,  3.35s/it]"
          ]
        },
        {
          "output_type": "stream",
          "name": "stdout",
          "text": [
            "[128/500] Loss_D: -0.017 | Loss_G: -0.101 | Loss D real : -0.179 | Loss D fake : 0.096 | Loss D GP : 0.054 | Loss D CT : 0.011 | Time : 3.342\n"
          ]
        },
        {
          "output_type": "stream",
          "name": "stderr",
          "text": [
            "\rCT-GAN training loop:  26%|██▌       | 129/500 [07:05<20:43,  3.35s/it]"
          ]
        },
        {
          "output_type": "stream",
          "name": "stdout",
          "text": [
            "[129/500] Loss_D: -0.018 | Loss_G: -0.118 | Loss D real : -0.192 | Loss D fake : 0.111 | Loss D GP : 0.058 | Loss D CT : 0.005 | Time : 3.357\n"
          ]
        },
        {
          "output_type": "stream",
          "name": "stderr",
          "text": [
            "\rCT-GAN training loop:  26%|██▌       | 130/500 [07:08<20:36,  3.34s/it]"
          ]
        },
        {
          "output_type": "stream",
          "name": "stdout",
          "text": [
            "[130/500] Loss_D: 0.001 | Loss_G: -0.095 | Loss D real : -0.176 | Loss D fake : 0.094 | Loss D GP : 0.073 | Loss D CT : 0.009 | Time : 3.322\n"
          ]
        },
        {
          "output_type": "stream",
          "name": "stderr",
          "text": [
            "\rCT-GAN training loop:  26%|██▌       | 131/500 [07:11<20:32,  3.34s/it]"
          ]
        },
        {
          "output_type": "stream",
          "name": "stdout",
          "text": [
            "[131/500] Loss_D: -0.001 | Loss_G: -0.117 | Loss D real : -0.195 | Loss D fake : 0.111 | Loss D GP : 0.074 | Loss D CT : 0.009 | Time : 3.333\n"
          ]
        },
        {
          "output_type": "stream",
          "name": "stderr",
          "text": [
            "\rCT-GAN training loop:  26%|██▋       | 132/500 [07:15<20:29,  3.34s/it]"
          ]
        },
        {
          "output_type": "stream",
          "name": "stdout",
          "text": [
            "[132/500] Loss_D: -0.014 | Loss_G: -0.111 | Loss D real : -0.190 | Loss D fake : 0.110 | Loss D GP : 0.059 | Loss D CT : 0.006 | Time : 3.338\n"
          ]
        },
        {
          "output_type": "stream",
          "name": "stderr",
          "text": [
            "\rCT-GAN training loop:  27%|██▋       | 133/500 [07:18<20:29,  3.35s/it]"
          ]
        },
        {
          "output_type": "stream",
          "name": "stdout",
          "text": [
            "[133/500] Loss_D: -0.024 | Loss_G: -0.117 | Loss D real : -0.199 | Loss D fake : 0.118 | Loss D GP : 0.051 | Loss D CT : 0.007 | Time : 3.367\n"
          ]
        },
        {
          "output_type": "stream",
          "name": "stderr",
          "text": [
            "\rCT-GAN training loop:  27%|██▋       | 134/500 [07:21<20:24,  3.35s/it]"
          ]
        },
        {
          "output_type": "stream",
          "name": "stdout",
          "text": [
            "[134/500] Loss_D: -0.010 | Loss_G: -0.112 | Loss D real : -0.183 | Loss D fake : 0.100 | Loss D GP : 0.065 | Loss D CT : 0.008 | Time : 3.332\n"
          ]
        },
        {
          "output_type": "stream",
          "name": "stderr",
          "text": [
            "\rCT-GAN training loop:  27%|██▋       | 135/500 [07:25<20:20,  3.34s/it]"
          ]
        },
        {
          "output_type": "stream",
          "name": "stdout",
          "text": [
            "[135/500] Loss_D: -0.010 | Loss_G: -0.106 | Loss D real : -0.200 | Loss D fake : 0.111 | Loss D GP : 0.070 | Loss D CT : 0.009 | Time : 3.337\n"
          ]
        },
        {
          "output_type": "stream",
          "name": "stderr",
          "text": [
            "\rCT-GAN training loop:  27%|██▋       | 136/500 [07:28<20:17,  3.35s/it]"
          ]
        },
        {
          "output_type": "stream",
          "name": "stdout",
          "text": [
            "[136/500] Loss_D: -0.007 | Loss_G: -0.090 | Loss D real : -0.186 | Loss D fake : 0.106 | Loss D GP : 0.063 | Loss D CT : 0.010 | Time : 3.346\n"
          ]
        },
        {
          "output_type": "stream",
          "name": "stderr",
          "text": [
            "\rCT-GAN training loop:  27%|██▋       | 137/500 [07:31<20:14,  3.35s/it]"
          ]
        },
        {
          "output_type": "stream",
          "name": "stdout",
          "text": [
            "[137/500] Loss_D: -0.026 | Loss_G: -0.107 | Loss D real : -0.200 | Loss D fake : 0.120 | Loss D GP : 0.045 | Loss D CT : 0.008 | Time : 3.343\n"
          ]
        },
        {
          "output_type": "stream",
          "name": "stderr",
          "text": [
            "\rCT-GAN training loop:  28%|██▊       | 138/500 [07:35<20:10,  3.34s/it]"
          ]
        },
        {
          "output_type": "stream",
          "name": "stdout",
          "text": [
            "[138/500] Loss_D: -0.019 | Loss_G: -0.105 | Loss D real : -0.186 | Loss D fake : 0.097 | Loss D GP : 0.063 | Loss D CT : 0.007 | Time : 3.336\n"
          ]
        },
        {
          "output_type": "stream",
          "name": "stderr",
          "text": [
            "\rCT-GAN training loop:  28%|██▊       | 139/500 [07:38<20:08,  3.35s/it]"
          ]
        },
        {
          "output_type": "stream",
          "name": "stdout",
          "text": [
            "[139/500] Loss_D: -0.012 | Loss_G: -0.108 | Loss D real : -0.196 | Loss D fake : 0.117 | Loss D GP : 0.060 | Loss D CT : 0.008 | Time : 3.357\n"
          ]
        },
        {
          "output_type": "stream",
          "name": "stderr",
          "text": [
            "\rCT-GAN training loop:  28%|██▊       | 140/500 [07:41<20:06,  3.35s/it]"
          ]
        },
        {
          "output_type": "stream",
          "name": "stdout",
          "text": [
            "[140/500] Loss_D: -0.024 | Loss_G: -0.113 | Loss D real : -0.198 | Loss D fake : 0.118 | Loss D GP : 0.051 | Loss D CT : 0.006 | Time : 3.350\n"
          ]
        },
        {
          "output_type": "stream",
          "name": "stderr",
          "text": [
            "\rCT-GAN training loop:  28%|██▊       | 141/500 [07:45<20:00,  3.34s/it]"
          ]
        },
        {
          "output_type": "stream",
          "name": "stdout",
          "text": [
            "[141/500] Loss_D: -0.012 | Loss_G: -0.113 | Loss D real : -0.192 | Loss D fake : 0.119 | Loss D GP : 0.057 | Loss D CT : 0.005 | Time : 3.329\n"
          ]
        },
        {
          "output_type": "stream",
          "name": "stderr",
          "text": [
            "\rCT-GAN training loop:  28%|██▊       | 142/500 [07:48<19:55,  3.34s/it]"
          ]
        },
        {
          "output_type": "stream",
          "name": "stdout",
          "text": [
            "[142/500] Loss_D: -0.011 | Loss_G: -0.102 | Loss D real : -0.198 | Loss D fake : 0.114 | Loss D GP : 0.066 | Loss D CT : 0.007 | Time : 3.320\n"
          ]
        },
        {
          "output_type": "stream",
          "name": "stderr",
          "text": [
            "\rCT-GAN training loop:  29%|██▊       | 143/500 [07:51<19:51,  3.34s/it]"
          ]
        },
        {
          "output_type": "stream",
          "name": "stdout",
          "text": [
            "[143/500] Loss_D: -0.021 | Loss_G: -0.103 | Loss D real : -0.200 | Loss D fake : 0.118 | Loss D GP : 0.052 | Loss D CT : 0.009 | Time : 3.333\n"
          ]
        },
        {
          "output_type": "stream",
          "name": "stderr",
          "text": [
            "\rCT-GAN training loop:  29%|██▉       | 144/500 [07:55<19:49,  3.34s/it]"
          ]
        },
        {
          "output_type": "stream",
          "name": "stdout",
          "text": [
            "[144/500] Loss_D: -0.001 | Loss_G: -0.115 | Loss D real : -0.200 | Loss D fake : 0.123 | Loss D GP : 0.067 | Loss D CT : 0.009 | Time : 3.348\n"
          ]
        },
        {
          "output_type": "stream",
          "name": "stderr",
          "text": [
            "\rCT-GAN training loop:  29%|██▉       | 145/500 [07:58<19:48,  3.35s/it]"
          ]
        },
        {
          "output_type": "stream",
          "name": "stdout",
          "text": [
            "[145/500] Loss_D: -0.017 | Loss_G: -0.101 | Loss D real : -0.199 | Loss D fake : 0.111 | Loss D GP : 0.062 | Loss D CT : 0.009 | Time : 3.358\n"
          ]
        },
        {
          "output_type": "stream",
          "name": "stderr",
          "text": [
            "\rCT-GAN training loop:  29%|██▉       | 146/500 [08:01<19:47,  3.35s/it]"
          ]
        },
        {
          "output_type": "stream",
          "name": "stdout",
          "text": [
            "[146/500] Loss_D: -0.002 | Loss_G: -0.104 | Loss D real : -0.189 | Loss D fake : 0.109 | Loss D GP : 0.071 | Loss D CT : 0.007 | Time : 3.365\n"
          ]
        },
        {
          "output_type": "stream",
          "name": "stderr",
          "text": [
            "\rCT-GAN training loop:  29%|██▉       | 147/500 [08:05<19:46,  3.36s/it]"
          ]
        },
        {
          "output_type": "stream",
          "name": "stdout",
          "text": [
            "[147/500] Loss_D: -0.013 | Loss_G: -0.107 | Loss D real : -0.198 | Loss D fake : 0.116 | Loss D GP : 0.058 | Loss D CT : 0.011 | Time : 3.377\n"
          ]
        },
        {
          "output_type": "stream",
          "name": "stderr",
          "text": [
            "\rCT-GAN training loop:  30%|██▉       | 148/500 [08:08<19:41,  3.36s/it]"
          ]
        },
        {
          "output_type": "stream",
          "name": "stdout",
          "text": [
            "[148/500] Loss_D: -0.015 | Loss_G: -0.119 | Loss D real : -0.189 | Loss D fake : 0.114 | Loss D GP : 0.054 | Loss D CT : 0.006 | Time : 3.339\n"
          ]
        },
        {
          "output_type": "stream",
          "name": "stderr",
          "text": [
            "\rCT-GAN training loop:  30%|██▉       | 149/500 [08:11<19:36,  3.35s/it]"
          ]
        },
        {
          "output_type": "stream",
          "name": "stdout",
          "text": [
            "[149/500] Loss_D: -0.014 | Loss_G: -0.126 | Loss D real : -0.199 | Loss D fake : 0.124 | Loss D GP : 0.054 | Loss D CT : 0.006 | Time : 3.337\n"
          ]
        },
        {
          "output_type": "stream",
          "name": "stderr",
          "text": [
            "\rCT-GAN training loop:  30%|███       | 150/500 [08:15<19:33,  3.35s/it]"
          ]
        },
        {
          "output_type": "stream",
          "name": "stdout",
          "text": [
            "[150/500] Loss_D: 0.019 | Loss_G: -0.119 | Loss D real : -0.203 | Loss D fake : 0.127 | Loss D GP : 0.081 | Loss D CT : 0.015 | Time : 3.348\n"
          ]
        },
        {
          "output_type": "stream",
          "name": "stderr",
          "text": [
            "\rCT-GAN training loop:  30%|███       | 151/500 [08:18<19:31,  3.36s/it]"
          ]
        },
        {
          "output_type": "stream",
          "name": "stdout",
          "text": [
            "[151/500] Loss_D: -0.011 | Loss_G: -0.116 | Loss D real : -0.183 | Loss D fake : 0.112 | Loss D GP : 0.054 | Loss D CT : 0.006 | Time : 3.366\n"
          ]
        },
        {
          "output_type": "stream",
          "name": "stderr",
          "text": [
            "\rCT-GAN training loop:  30%|███       | 152/500 [08:22<19:25,  3.35s/it]"
          ]
        },
        {
          "output_type": "stream",
          "name": "stdout",
          "text": [
            "[152/500] Loss_D: 0.002 | Loss_G: -0.110 | Loss D real : -0.177 | Loss D fake : 0.104 | Loss D GP : 0.070 | Loss D CT : 0.005 | Time : 3.332\n"
          ]
        },
        {
          "output_type": "stream",
          "name": "stderr",
          "text": [
            "\rCT-GAN training loop:  31%|███       | 153/500 [08:25<19:21,  3.35s/it]"
          ]
        },
        {
          "output_type": "stream",
          "name": "stdout",
          "text": [
            "[153/500] Loss_D: -0.006 | Loss_G: -0.106 | Loss D real : -0.197 | Loss D fake : 0.119 | Loss D GP : 0.060 | Loss D CT : 0.012 | Time : 3.335\n"
          ]
        },
        {
          "output_type": "stream",
          "name": "stderr",
          "text": [
            "\rCT-GAN training loop:  31%|███       | 154/500 [08:28<19:15,  3.34s/it]"
          ]
        },
        {
          "output_type": "stream",
          "name": "stdout",
          "text": [
            "[154/500] Loss_D: -0.000 | Loss_G: -0.116 | Loss D real : -0.191 | Loss D fake : 0.115 | Loss D GP : 0.070 | Loss D CT : 0.007 | Time : 3.320\n"
          ]
        },
        {
          "output_type": "stream",
          "name": "stderr",
          "text": [
            "\rCT-GAN training loop:  31%|███       | 155/500 [08:32<19:12,  3.34s/it]"
          ]
        },
        {
          "output_type": "stream",
          "name": "stdout",
          "text": [
            "[155/500] Loss_D: -0.021 | Loss_G: -0.111 | Loss D real : -0.187 | Loss D fake : 0.111 | Loss D GP : 0.049 | Loss D CT : 0.006 | Time : 3.338\n"
          ]
        },
        {
          "output_type": "stream",
          "name": "stderr",
          "text": [
            "\rCT-GAN training loop:  31%|███       | 156/500 [08:35<19:07,  3.34s/it]"
          ]
        },
        {
          "output_type": "stream",
          "name": "stdout",
          "text": [
            "[156/500] Loss_D: 0.004 | Loss_G: -0.109 | Loss D real : -0.200 | Loss D fake : 0.125 | Loss D GP : 0.068 | Loss D CT : 0.011 | Time : 3.326\n"
          ]
        },
        {
          "output_type": "stream",
          "name": "stderr",
          "text": [
            "\rCT-GAN training loop:  31%|███▏      | 157/500 [08:38<19:04,  3.34s/it]"
          ]
        },
        {
          "output_type": "stream",
          "name": "stdout",
          "text": [
            "[157/500] Loss_D: -0.010 | Loss_G: -0.110 | Loss D real : -0.208 | Loss D fake : 0.118 | Loss D GP : 0.070 | Loss D CT : 0.010 | Time : 3.331\n"
          ]
        },
        {
          "output_type": "stream",
          "name": "stderr",
          "text": [
            "\rCT-GAN training loop:  32%|███▏      | 158/500 [08:42<19:03,  3.34s/it]"
          ]
        },
        {
          "output_type": "stream",
          "name": "stdout",
          "text": [
            "[158/500] Loss_D: -0.010 | Loss_G: -0.113 | Loss D real : -0.196 | Loss D fake : 0.123 | Loss D GP : 0.055 | Loss D CT : 0.008 | Time : 3.362\n"
          ]
        },
        {
          "output_type": "stream",
          "name": "stderr",
          "text": [
            "\rCT-GAN training loop:  32%|███▏      | 159/500 [08:45<18:59,  3.34s/it]"
          ]
        },
        {
          "output_type": "stream",
          "name": "stdout",
          "text": [
            "[159/500] Loss_D: -0.010 | Loss_G: -0.115 | Loss D real : -0.194 | Loss D fake : 0.117 | Loss D GP : 0.059 | Loss D CT : 0.008 | Time : 3.327\n"
          ]
        },
        {
          "output_type": "stream",
          "name": "stderr",
          "text": [
            "\rCT-GAN training loop:  32%|███▏      | 160/500 [08:48<18:53,  3.33s/it]"
          ]
        },
        {
          "output_type": "stream",
          "name": "stdout",
          "text": [
            "[160/500] Loss_D: 0.008 | Loss_G: -0.108 | Loss D real : -0.211 | Loss D fake : 0.129 | Loss D GP : 0.075 | Loss D CT : 0.015 | Time : 3.316\n"
          ]
        },
        {
          "output_type": "stream",
          "name": "stderr",
          "text": [
            "\rCT-GAN training loop:  32%|███▏      | 161/500 [08:52<18:50,  3.33s/it]"
          ]
        },
        {
          "output_type": "stream",
          "name": "stdout",
          "text": [
            "[161/500] Loss_D: -0.019 | Loss_G: -0.111 | Loss D real : -0.191 | Loss D fake : 0.116 | Loss D GP : 0.049 | Loss D CT : 0.006 | Time : 3.331\n"
          ]
        },
        {
          "output_type": "stream",
          "name": "stderr",
          "text": [
            "\rCT-GAN training loop:  32%|███▏      | 162/500 [08:55<18:48,  3.34s/it]"
          ]
        },
        {
          "output_type": "stream",
          "name": "stdout",
          "text": [
            "[162/500] Loss_D: -0.008 | Loss_G: -0.122 | Loss D real : -0.199 | Loss D fake : 0.123 | Loss D GP : 0.059 | Loss D CT : 0.009 | Time : 3.351\n"
          ]
        },
        {
          "output_type": "stream",
          "name": "stderr",
          "text": [
            "\rCT-GAN training loop:  33%|███▎      | 163/500 [08:58<18:48,  3.35s/it]"
          ]
        },
        {
          "output_type": "stream",
          "name": "stdout",
          "text": [
            "[163/500] Loss_D: -0.004 | Loss_G: -0.095 | Loss D real : -0.179 | Loss D fake : 0.102 | Loss D GP : 0.064 | Loss D CT : 0.008 | Time : 3.360\n"
          ]
        },
        {
          "output_type": "stream",
          "name": "stderr",
          "text": [
            "\rCT-GAN training loop:  33%|███▎      | 164/500 [09:02<18:46,  3.35s/it]"
          ]
        },
        {
          "output_type": "stream",
          "name": "stdout",
          "text": [
            "[164/500] Loss_D: 0.000 | Loss_G: -0.121 | Loss D real : -0.197 | Loss D fake : 0.124 | Loss D GP : 0.064 | Loss D CT : 0.009 | Time : 3.362\n"
          ]
        },
        {
          "output_type": "stream",
          "name": "stderr",
          "text": [
            "\rCT-GAN training loop:  33%|███▎      | 165/500 [09:05<18:43,  3.35s/it]"
          ]
        },
        {
          "output_type": "stream",
          "name": "stdout",
          "text": [
            "[165/500] Loss_D: 0.005 | Loss_G: -0.115 | Loss D real : -0.176 | Loss D fake : 0.104 | Loss D GP : 0.069 | Loss D CT : 0.008 | Time : 3.349\n"
          ]
        },
        {
          "output_type": "stream",
          "name": "stderr",
          "text": [
            "\rCT-GAN training loop:  33%|███▎      | 166/500 [09:08<18:39,  3.35s/it]"
          ]
        },
        {
          "output_type": "stream",
          "name": "stdout",
          "text": [
            "[166/500] Loss_D: -0.005 | Loss_G: -0.092 | Loss D real : -0.185 | Loss D fake : 0.109 | Loss D GP : 0.060 | Loss D CT : 0.012 | Time : 3.350\n"
          ]
        },
        {
          "output_type": "stream",
          "name": "stderr",
          "text": [
            "\rCT-GAN training loop:  33%|███▎      | 167/500 [09:12<18:37,  3.36s/it]"
          ]
        },
        {
          "output_type": "stream",
          "name": "stdout",
          "text": [
            "[167/500] Loss_D: -0.015 | Loss_G: -0.117 | Loss D real : -0.185 | Loss D fake : 0.114 | Loss D GP : 0.049 | Loss D CT : 0.007 | Time : 3.357\n"
          ]
        },
        {
          "output_type": "stream",
          "name": "stderr",
          "text": [
            "\rCT-GAN training loop:  34%|███▎      | 168/500 [09:15<18:33,  3.35s/it]"
          ]
        },
        {
          "output_type": "stream",
          "name": "stdout",
          "text": [
            "[168/500] Loss_D: -0.024 | Loss_G: -0.110 | Loss D real : -0.182 | Loss D fake : 0.104 | Loss D GP : 0.049 | Loss D CT : 0.005 | Time : 3.344\n"
          ]
        },
        {
          "output_type": "stream",
          "name": "stderr",
          "text": [
            "\rCT-GAN training loop:  34%|███▍      | 169/500 [09:18<18:33,  3.36s/it]"
          ]
        },
        {
          "output_type": "stream",
          "name": "stdout",
          "text": [
            "[169/500] Loss_D: 0.019 | Loss_G: -0.132 | Loss D real : -0.193 | Loss D fake : 0.127 | Loss D GP : 0.079 | Loss D CT : 0.006 | Time : 3.382\n"
          ]
        },
        {
          "output_type": "stream",
          "name": "stderr",
          "text": [
            "\rCT-GAN training loop:  34%|███▍      | 170/500 [09:22<18:29,  3.36s/it]"
          ]
        },
        {
          "output_type": "stream",
          "name": "stdout",
          "text": [
            "[170/500] Loss_D: -0.002 | Loss_G: -0.128 | Loss D real : -0.194 | Loss D fake : 0.126 | Loss D GP : 0.060 | Loss D CT : 0.006 | Time : 3.355\n"
          ]
        },
        {
          "output_type": "stream",
          "name": "stderr",
          "text": [
            "\rCT-GAN training loop:  34%|███▍      | 171/500 [09:25<18:28,  3.37s/it]"
          ]
        },
        {
          "output_type": "stream",
          "name": "stdout",
          "text": [
            "[171/500] Loss_D: -0.016 | Loss_G: -0.111 | Loss D real : -0.184 | Loss D fake : 0.113 | Loss D GP : 0.048 | Loss D CT : 0.007 | Time : 3.382\n"
          ]
        },
        {
          "output_type": "stream",
          "name": "stderr",
          "text": [
            "\rCT-GAN training loop:  34%|███▍      | 172/500 [09:29<18:23,  3.36s/it]"
          ]
        },
        {
          "output_type": "stream",
          "name": "stdout",
          "text": [
            "[172/500] Loss_D: 0.002 | Loss_G: -0.105 | Loss D real : -0.187 | Loss D fake : 0.116 | Loss D GP : 0.064 | Loss D CT : 0.009 | Time : 3.346\n"
          ]
        },
        {
          "output_type": "stream",
          "name": "stderr",
          "text": [
            "\rCT-GAN training loop:  35%|███▍      | 173/500 [09:32<18:19,  3.36s/it]"
          ]
        },
        {
          "output_type": "stream",
          "name": "stdout",
          "text": [
            "[173/500] Loss_D: 0.002 | Loss_G: -0.124 | Loss D real : -0.199 | Loss D fake : 0.126 | Loss D GP : 0.064 | Loss D CT : 0.010 | Time : 3.353\n"
          ]
        },
        {
          "output_type": "stream",
          "name": "stderr",
          "text": [
            "\rCT-GAN training loop:  35%|███▍      | 174/500 [09:35<18:13,  3.35s/it]"
          ]
        },
        {
          "output_type": "stream",
          "name": "stdout",
          "text": [
            "[174/500] Loss_D: -0.004 | Loss_G: -0.107 | Loss D real : -0.188 | Loss D fake : 0.110 | Loss D GP : 0.065 | Loss D CT : 0.009 | Time : 3.336\n"
          ]
        },
        {
          "output_type": "stream",
          "name": "stderr",
          "text": [
            "\rCT-GAN training loop:  35%|███▌      | 175/500 [09:39<18:10,  3.36s/it]"
          ]
        },
        {
          "output_type": "stream",
          "name": "stdout",
          "text": [
            "[175/500] Loss_D: -0.008 | Loss_G: -0.115 | Loss D real : -0.193 | Loss D fake : 0.119 | Loss D GP : 0.056 | Loss D CT : 0.011 | Time : 3.353\n"
          ]
        },
        {
          "output_type": "stream",
          "name": "stderr",
          "text": [
            "\rCT-GAN training loop:  35%|███▌      | 176/500 [09:42<18:09,  3.36s/it]"
          ]
        },
        {
          "output_type": "stream",
          "name": "stdout",
          "text": [
            "[176/500] Loss_D: -0.015 | Loss_G: -0.112 | Loss D real : -0.206 | Loss D fake : 0.126 | Loss D GP : 0.055 | Loss D CT : 0.009 | Time : 3.373\n"
          ]
        },
        {
          "output_type": "stream",
          "name": "stderr",
          "text": [
            "\rCT-GAN training loop:  35%|███▌      | 177/500 [09:45<18:07,  3.37s/it]"
          ]
        },
        {
          "output_type": "stream",
          "name": "stdout",
          "text": [
            "[177/500] Loss_D: -0.019 | Loss_G: -0.116 | Loss D real : -0.195 | Loss D fake : 0.121 | Loss D GP : 0.047 | Loss D CT : 0.008 | Time : 3.375\n"
          ]
        },
        {
          "output_type": "stream",
          "name": "stderr",
          "text": [
            "\rCT-GAN training loop:  36%|███▌      | 178/500 [09:49<18:04,  3.37s/it]"
          ]
        },
        {
          "output_type": "stream",
          "name": "stdout",
          "text": [
            "[178/500] Loss_D: -0.014 | Loss_G: -0.114 | Loss D real : -0.198 | Loss D fake : 0.125 | Loss D GP : 0.050 | Loss D CT : 0.008 | Time : 3.373\n"
          ]
        },
        {
          "output_type": "stream",
          "name": "stderr",
          "text": [
            "\rCT-GAN training loop:  36%|███▌      | 179/500 [09:52<17:59,  3.36s/it]"
          ]
        },
        {
          "output_type": "stream",
          "name": "stdout",
          "text": [
            "[179/500] Loss_D: -0.003 | Loss_G: -0.120 | Loss D real : -0.195 | Loss D fake : 0.119 | Loss D GP : 0.062 | Loss D CT : 0.011 | Time : 3.345\n"
          ]
        },
        {
          "output_type": "stream",
          "name": "stderr",
          "text": [
            "\rCT-GAN training loop:  36%|███▌      | 180/500 [09:55<17:56,  3.36s/it]"
          ]
        },
        {
          "output_type": "stream",
          "name": "stdout",
          "text": [
            "[180/500] Loss_D: -0.012 | Loss_G: -0.123 | Loss D real : -0.182 | Loss D fake : 0.106 | Loss D GP : 0.053 | Loss D CT : 0.011 | Time : 3.366\n"
          ]
        },
        {
          "output_type": "stream",
          "name": "stderr",
          "text": [
            "\rCT-GAN training loop:  36%|███▌      | 181/500 [09:59<17:52,  3.36s/it]"
          ]
        },
        {
          "output_type": "stream",
          "name": "stdout",
          "text": [
            "[181/500] Loss_D: -0.014 | Loss_G: -0.128 | Loss D real : -0.188 | Loss D fake : 0.111 | Loss D GP : 0.055 | Loss D CT : 0.007 | Time : 3.350\n"
          ]
        },
        {
          "output_type": "stream",
          "name": "stderr",
          "text": [
            "\rCT-GAN training loop:  36%|███▋      | 182/500 [10:02<17:50,  3.37s/it]"
          ]
        },
        {
          "output_type": "stream",
          "name": "stdout",
          "text": [
            "[182/500] Loss_D: -0.023 | Loss_G: -0.109 | Loss D real : -0.180 | Loss D fake : 0.104 | Loss D GP : 0.044 | Loss D CT : 0.009 | Time : 3.373\n"
          ]
        },
        {
          "output_type": "stream",
          "name": "stderr",
          "text": [
            "\rCT-GAN training loop:  37%|███▋      | 183/500 [10:06<17:47,  3.37s/it]"
          ]
        },
        {
          "output_type": "stream",
          "name": "stdout",
          "text": [
            "[183/500] Loss_D: -0.029 | Loss_G: -0.123 | Loss D real : -0.187 | Loss D fake : 0.116 | Loss D GP : 0.036 | Loss D CT : 0.006 | Time : 3.370\n"
          ]
        },
        {
          "output_type": "stream",
          "name": "stderr",
          "text": [
            "\rCT-GAN training loop:  37%|███▋      | 184/500 [10:09<17:45,  3.37s/it]"
          ]
        },
        {
          "output_type": "stream",
          "name": "stdout",
          "text": [
            "[184/500] Loss_D: -0.008 | Loss_G: -0.109 | Loss D real : -0.194 | Loss D fake : 0.124 | Loss D GP : 0.051 | Loss D CT : 0.010 | Time : 3.373\n"
          ]
        },
        {
          "output_type": "stream",
          "name": "stderr",
          "text": [
            "\rCT-GAN training loop:  37%|███▋      | 185/500 [10:12<17:42,  3.37s/it]"
          ]
        },
        {
          "output_type": "stream",
          "name": "stdout",
          "text": [
            "[185/500] Loss_D: -0.012 | Loss_G: -0.123 | Loss D real : -0.203 | Loss D fake : 0.130 | Loss D GP : 0.053 | Loss D CT : 0.009 | Time : 3.370\n"
          ]
        },
        {
          "output_type": "stream",
          "name": "stderr",
          "text": [
            "\rCT-GAN training loop:  37%|███▋      | 186/500 [10:16<17:38,  3.37s/it]"
          ]
        },
        {
          "output_type": "stream",
          "name": "stdout",
          "text": [
            "[186/500] Loss_D: -0.024 | Loss_G: -0.120 | Loss D real : -0.198 | Loss D fake : 0.126 | Loss D GP : 0.039 | Loss D CT : 0.010 | Time : 3.364\n"
          ]
        },
        {
          "output_type": "stream",
          "name": "stderr",
          "text": [
            "\rCT-GAN training loop:  37%|███▋      | 187/500 [10:19<17:41,  3.39s/it]"
          ]
        },
        {
          "output_type": "stream",
          "name": "stdout",
          "text": [
            "[187/500] Loss_D: -0.014 | Loss_G: -0.117 | Loss D real : -0.182 | Loss D fake : 0.111 | Loss D GP : 0.051 | Loss D CT : 0.006 | Time : 3.436\n"
          ]
        },
        {
          "output_type": "stream",
          "name": "stderr",
          "text": [
            "\rCT-GAN training loop:  38%|███▊      | 188/500 [10:22<17:35,  3.38s/it]"
          ]
        },
        {
          "output_type": "stream",
          "name": "stdout",
          "text": [
            "[188/500] Loss_D: -0.011 | Loss_G: -0.125 | Loss D real : -0.199 | Loss D fake : 0.124 | Loss D GP : 0.057 | Loss D CT : 0.007 | Time : 3.356\n"
          ]
        },
        {
          "output_type": "stream",
          "name": "stderr",
          "text": [
            "\rCT-GAN training loop:  38%|███▊      | 189/500 [10:26<17:30,  3.38s/it]"
          ]
        },
        {
          "output_type": "stream",
          "name": "stdout",
          "text": [
            "[189/500] Loss_D: -0.018 | Loss_G: -0.119 | Loss D real : -0.193 | Loss D fake : 0.121 | Loss D GP : 0.046 | Loss D CT : 0.009 | Time : 3.364\n"
          ]
        },
        {
          "output_type": "stream",
          "name": "stderr",
          "text": [
            "\rCT-GAN training loop:  38%|███▊      | 190/500 [10:29<17:27,  3.38s/it]"
          ]
        },
        {
          "output_type": "stream",
          "name": "stdout",
          "text": [
            "[190/500] Loss_D: -0.008 | Loss_G: -0.126 | Loss D real : -0.208 | Loss D fake : 0.135 | Loss D GP : 0.053 | Loss D CT : 0.012 | Time : 3.379\n"
          ]
        },
        {
          "output_type": "stream",
          "name": "stderr",
          "text": [
            "\rCT-GAN training loop:  38%|███▊      | 191/500 [10:33<17:23,  3.38s/it]"
          ]
        },
        {
          "output_type": "stream",
          "name": "stdout",
          "text": [
            "[191/500] Loss_D: -0.017 | Loss_G: -0.125 | Loss D real : -0.201 | Loss D fake : 0.130 | Loss D GP : 0.046 | Loss D CT : 0.008 | Time : 3.365\n"
          ]
        },
        {
          "output_type": "stream",
          "name": "stderr",
          "text": [
            "\rCT-GAN training loop:  38%|███▊      | 192/500 [10:36<17:16,  3.36s/it]"
          ]
        },
        {
          "output_type": "stream",
          "name": "stdout",
          "text": [
            "[192/500] Loss_D: -0.002 | Loss_G: -0.117 | Loss D real : -0.199 | Loss D fake : 0.129 | Loss D GP : 0.060 | Loss D CT : 0.008 | Time : 3.334\n"
          ]
        },
        {
          "output_type": "stream",
          "name": "stderr",
          "text": [
            "\rCT-GAN training loop:  39%|███▊      | 193/500 [10:39<17:12,  3.36s/it]"
          ]
        },
        {
          "output_type": "stream",
          "name": "stdout",
          "text": [
            "[193/500] Loss_D: -0.018 | Loss_G: -0.123 | Loss D real : -0.180 | Loss D fake : 0.113 | Loss D GP : 0.044 | Loss D CT : 0.004 | Time : 3.357\n"
          ]
        },
        {
          "output_type": "stream",
          "name": "stderr",
          "text": [
            "\rCT-GAN training loop:  39%|███▉      | 194/500 [10:43<17:09,  3.37s/it]"
          ]
        },
        {
          "output_type": "stream",
          "name": "stdout",
          "text": [
            "[194/500] Loss_D: 0.024 | Loss_G: -0.119 | Loss D real : -0.184 | Loss D fake : 0.117 | Loss D GP : 0.080 | Loss D CT : 0.011 | Time : 3.369\n"
          ]
        },
        {
          "output_type": "stream",
          "name": "stderr",
          "text": [
            "\rCT-GAN training loop:  39%|███▉      | 195/500 [10:46<17:08,  3.37s/it]"
          ]
        },
        {
          "output_type": "stream",
          "name": "stdout",
          "text": [
            "[195/500] Loss_D: -0.010 | Loss_G: -0.127 | Loss D real : -0.208 | Loss D fake : 0.138 | Loss D GP : 0.048 | Loss D CT : 0.012 | Time : 3.386\n"
          ]
        },
        {
          "output_type": "stream",
          "name": "stderr",
          "text": [
            "\rCT-GAN training loop:  39%|███▉      | 196/500 [10:49<17:03,  3.37s/it]"
          ]
        },
        {
          "output_type": "stream",
          "name": "stdout",
          "text": [
            "[196/500] Loss_D: -0.020 | Loss_G: -0.101 | Loss D real : -0.185 | Loss D fake : 0.115 | Loss D GP : 0.041 | Loss D CT : 0.009 | Time : 3.345\n"
          ]
        },
        {
          "output_type": "stream",
          "name": "stderr",
          "text": [
            "\rCT-GAN training loop:  39%|███▉      | 197/500 [10:53<16:59,  3.37s/it]"
          ]
        },
        {
          "output_type": "stream",
          "name": "stdout",
          "text": [
            "[197/500] Loss_D: -0.025 | Loss_G: -0.115 | Loss D real : -0.176 | Loss D fake : 0.113 | Loss D GP : 0.035 | Loss D CT : 0.003 | Time : 3.364\n"
          ]
        },
        {
          "output_type": "stream",
          "name": "stderr",
          "text": [
            "\rCT-GAN training loop:  40%|███▉      | 198/500 [10:56<16:57,  3.37s/it]"
          ]
        },
        {
          "output_type": "stream",
          "name": "stdout",
          "text": [
            "[198/500] Loss_D: -0.016 | Loss_G: -0.107 | Loss D real : -0.195 | Loss D fake : 0.113 | Loss D GP : 0.056 | Loss D CT : 0.010 | Time : 3.369\n"
          ]
        },
        {
          "output_type": "stream",
          "name": "stderr",
          "text": [
            "\rCT-GAN training loop:  40%|███▉      | 199/500 [10:59<16:53,  3.37s/it]"
          ]
        },
        {
          "output_type": "stream",
          "name": "stdout",
          "text": [
            "[199/500] Loss_D: -0.023 | Loss_G: -0.118 | Loss D real : -0.202 | Loss D fake : 0.129 | Loss D GP : 0.044 | Loss D CT : 0.006 | Time : 3.364\n"
          ]
        },
        {
          "output_type": "stream",
          "name": "stderr",
          "text": [
            "\rCT-GAN training loop:  40%|████      | 200/500 [11:03<16:50,  3.37s/it]"
          ]
        },
        {
          "output_type": "stream",
          "name": "stdout",
          "text": [
            "[200/500] Loss_D: -0.018 | Loss_G: -0.121 | Loss D real : -0.199 | Loss D fake : 0.128 | Loss D GP : 0.044 | Loss D CT : 0.009 | Time : 3.363\n"
          ]
        },
        {
          "output_type": "stream",
          "name": "stderr",
          "text": [
            "\rCT-GAN training loop:  40%|████      | 201/500 [11:06<16:45,  3.36s/it]"
          ]
        },
        {
          "output_type": "stream",
          "name": "stdout",
          "text": [
            "[201/500] Loss_D: -0.018 | Loss_G: -0.129 | Loss D real : -0.197 | Loss D fake : 0.127 | Loss D GP : 0.046 | Loss D CT : 0.006 | Time : 3.347\n"
          ]
        },
        {
          "output_type": "stream",
          "name": "stderr",
          "text": [
            "\rCT-GAN training loop:  40%|████      | 202/500 [11:10<16:43,  3.37s/it]"
          ]
        },
        {
          "output_type": "stream",
          "name": "stdout",
          "text": [
            "[202/500] Loss_D: -0.025 | Loss_G: -0.129 | Loss D real : -0.204 | Loss D fake : 0.133 | Loss D GP : 0.040 | Loss D CT : 0.006 | Time : 3.380\n"
          ]
        },
        {
          "output_type": "stream",
          "name": "stderr",
          "text": [
            "\rCT-GAN training loop:  41%|████      | 203/500 [11:13<16:38,  3.36s/it]"
          ]
        },
        {
          "output_type": "stream",
          "name": "stdout",
          "text": [
            "[203/500] Loss_D: -0.006 | Loss_G: -0.123 | Loss D real : -0.195 | Loss D fake : 0.127 | Loss D GP : 0.055 | Loss D CT : 0.007 | Time : 3.342\n"
          ]
        },
        {
          "output_type": "stream",
          "name": "stderr",
          "text": [
            "\rCT-GAN training loop:  41%|████      | 204/500 [11:16<16:35,  3.36s/it]"
          ]
        },
        {
          "output_type": "stream",
          "name": "stdout",
          "text": [
            "[204/500] Loss_D: -0.017 | Loss_G: -0.124 | Loss D real : -0.204 | Loss D fake : 0.135 | Loss D GP : 0.042 | Loss D CT : 0.010 | Time : 3.362\n"
          ]
        },
        {
          "output_type": "stream",
          "name": "stderr",
          "text": [
            "\rCT-GAN training loop:  41%|████      | 205/500 [11:20<16:31,  3.36s/it]"
          ]
        },
        {
          "output_type": "stream",
          "name": "stdout",
          "text": [
            "[205/500] Loss_D: -0.021 | Loss_G: -0.127 | Loss D real : -0.195 | Loss D fake : 0.125 | Loss D GP : 0.044 | Loss D CT : 0.005 | Time : 3.356\n"
          ]
        },
        {
          "output_type": "stream",
          "name": "stderr",
          "text": [
            "\rCT-GAN training loop:  41%|████      | 206/500 [11:23<16:28,  3.36s/it]"
          ]
        },
        {
          "output_type": "stream",
          "name": "stdout",
          "text": [
            "[206/500] Loss_D: -0.027 | Loss_G: -0.126 | Loss D real : -0.201 | Loss D fake : 0.126 | Loss D GP : 0.041 | Loss D CT : 0.007 | Time : 3.357\n"
          ]
        },
        {
          "output_type": "stream",
          "name": "stderr",
          "text": [
            "\rCT-GAN training loop:  41%|████▏     | 207/500 [11:26<16:24,  3.36s/it]"
          ]
        },
        {
          "output_type": "stream",
          "name": "stdout",
          "text": [
            "[207/500] Loss_D: 0.008 | Loss_G: -0.129 | Loss D real : -0.197 | Loss D fake : 0.127 | Loss D GP : 0.070 | Loss D CT : 0.008 | Time : 3.355\n"
          ]
        },
        {
          "output_type": "stream",
          "name": "stderr",
          "text": [
            "\rCT-GAN training loop:  42%|████▏     | 208/500 [11:30<16:20,  3.36s/it]"
          ]
        },
        {
          "output_type": "stream",
          "name": "stdout",
          "text": [
            "[208/500] Loss_D: -0.027 | Loss_G: -0.119 | Loss D real : -0.206 | Loss D fake : 0.135 | Loss D GP : 0.038 | Loss D CT : 0.007 | Time : 3.343\n"
          ]
        },
        {
          "output_type": "stream",
          "name": "stderr",
          "text": [
            "\rCT-GAN training loop:  42%|████▏     | 209/500 [11:33<16:17,  3.36s/it]"
          ]
        },
        {
          "output_type": "stream",
          "name": "stdout",
          "text": [
            "[209/500] Loss_D: -0.019 | Loss_G: -0.120 | Loss D real : -0.194 | Loss D fake : 0.121 | Loss D GP : 0.043 | Loss D CT : 0.010 | Time : 3.362\n"
          ]
        },
        {
          "output_type": "stream",
          "name": "stderr",
          "text": [
            "\rCT-GAN training loop:  42%|████▏     | 210/500 [11:36<16:14,  3.36s/it]"
          ]
        },
        {
          "output_type": "stream",
          "name": "stdout",
          "text": [
            "[210/500] Loss_D: -0.015 | Loss_G: -0.135 | Loss D real : -0.204 | Loss D fake : 0.134 | Loss D GP : 0.044 | Loss D CT : 0.010 | Time : 3.357\n"
          ]
        },
        {
          "output_type": "stream",
          "name": "stderr",
          "text": [
            "\rCT-GAN training loop:  42%|████▏     | 211/500 [11:40<16:10,  3.36s/it]"
          ]
        },
        {
          "output_type": "stream",
          "name": "stdout",
          "text": [
            "[211/500] Loss_D: -0.019 | Loss_G: -0.133 | Loss D real : -0.199 | Loss D fake : 0.131 | Loss D GP : 0.045 | Loss D CT : 0.005 | Time : 3.348\n"
          ]
        },
        {
          "output_type": "stream",
          "name": "stderr",
          "text": [
            "\rCT-GAN training loop:  42%|████▏     | 212/500 [11:43<16:07,  3.36s/it]"
          ]
        },
        {
          "output_type": "stream",
          "name": "stdout",
          "text": [
            "[212/500] Loss_D: -0.011 | Loss_G: -0.133 | Loss D real : -0.198 | Loss D fake : 0.129 | Loss D GP : 0.050 | Loss D CT : 0.008 | Time : 3.366\n"
          ]
        },
        {
          "output_type": "stream",
          "name": "stderr",
          "text": [
            "\rCT-GAN training loop:  43%|████▎     | 213/500 [11:47<16:02,  3.35s/it]"
          ]
        },
        {
          "output_type": "stream",
          "name": "stdout",
          "text": [
            "[213/500] Loss_D: -0.034 | Loss_G: -0.130 | Loss D real : -0.215 | Loss D fake : 0.136 | Loss D GP : 0.038 | Loss D CT : 0.007 | Time : 3.335\n"
          ]
        },
        {
          "output_type": "stream",
          "name": "stderr",
          "text": [
            "\rCT-GAN training loop:  43%|████▎     | 214/500 [11:50<15:58,  3.35s/it]"
          ]
        },
        {
          "output_type": "stream",
          "name": "stdout",
          "text": [
            "[214/500] Loss_D: -0.019 | Loss_G: -0.136 | Loss D real : -0.206 | Loss D fake : 0.137 | Loss D GP : 0.043 | Loss D CT : 0.006 | Time : 3.342\n"
          ]
        },
        {
          "output_type": "stream",
          "name": "stderr",
          "text": [
            "\rCT-GAN training loop:  43%|████▎     | 215/500 [11:53<15:52,  3.34s/it]"
          ]
        },
        {
          "output_type": "stream",
          "name": "stdout",
          "text": [
            "[215/500] Loss_D: -0.012 | Loss_G: -0.132 | Loss D real : -0.203 | Loss D fake : 0.134 | Loss D GP : 0.048 | Loss D CT : 0.008 | Time : 3.322\n"
          ]
        },
        {
          "output_type": "stream",
          "name": "stderr",
          "text": [
            "\rCT-GAN training loop:  43%|████▎     | 216/500 [11:57<15:49,  3.34s/it]"
          ]
        },
        {
          "output_type": "stream",
          "name": "stdout",
          "text": [
            "[216/500] Loss_D: -0.013 | Loss_G: -0.129 | Loss D real : -0.207 | Loss D fake : 0.137 | Loss D GP : 0.050 | Loss D CT : 0.007 | Time : 3.344\n"
          ]
        },
        {
          "output_type": "stream",
          "name": "stderr",
          "text": [
            "\rCT-GAN training loop:  43%|████▎     | 217/500 [12:00<15:46,  3.34s/it]"
          ]
        },
        {
          "output_type": "stream",
          "name": "stdout",
          "text": [
            "[217/500] Loss_D: -0.021 | Loss_G: -0.125 | Loss D real : -0.203 | Loss D fake : 0.134 | Loss D GP : 0.040 | Loss D CT : 0.007 | Time : 3.336\n"
          ]
        },
        {
          "output_type": "stream",
          "name": "stderr",
          "text": [
            "\rCT-GAN training loop:  44%|████▎     | 218/500 [12:03<15:45,  3.35s/it]"
          ]
        },
        {
          "output_type": "stream",
          "name": "stdout",
          "text": [
            "[218/500] Loss_D: -0.012 | Loss_G: -0.139 | Loss D real : -0.211 | Loss D fake : 0.139 | Loss D GP : 0.055 | Loss D CT : 0.005 | Time : 3.370\n"
          ]
        },
        {
          "output_type": "stream",
          "name": "stderr",
          "text": [
            "\rCT-GAN training loop:  44%|████▍     | 219/500 [12:07<15:41,  3.35s/it]"
          ]
        },
        {
          "output_type": "stream",
          "name": "stdout",
          "text": [
            "[219/500] Loss_D: 0.001 | Loss_G: -0.136 | Loss D real : -0.209 | Loss D fake : 0.141 | Loss D GP : 0.062 | Loss D CT : 0.006 | Time : 3.343\n"
          ]
        },
        {
          "output_type": "stream",
          "name": "stderr",
          "text": [
            "\rCT-GAN training loop:  44%|████▍     | 220/500 [12:10<15:38,  3.35s/it]"
          ]
        },
        {
          "output_type": "stream",
          "name": "stdout",
          "text": [
            "[220/500] Loss_D: -0.018 | Loss_G: -0.135 | Loss D real : -0.208 | Loss D fake : 0.137 | Loss D GP : 0.043 | Loss D CT : 0.010 | Time : 3.348\n"
          ]
        },
        {
          "output_type": "stream",
          "name": "stderr",
          "text": [
            "\rCT-GAN training loop:  44%|████▍     | 221/500 [12:13<15:32,  3.34s/it]"
          ]
        },
        {
          "output_type": "stream",
          "name": "stdout",
          "text": [
            "[221/500] Loss_D: -0.017 | Loss_G: -0.128 | Loss D real : -0.212 | Loss D fake : 0.141 | Loss D GP : 0.046 | Loss D CT : 0.007 | Time : 3.321\n"
          ]
        },
        {
          "output_type": "stream",
          "name": "stderr",
          "text": [
            "\rCT-GAN training loop:  44%|████▍     | 222/500 [12:17<15:29,  3.34s/it]"
          ]
        },
        {
          "output_type": "stream",
          "name": "stdout",
          "text": [
            "[222/500] Loss_D: -0.013 | Loss_G: -0.137 | Loss D real : -0.208 | Loss D fake : 0.137 | Loss D GP : 0.049 | Loss D CT : 0.009 | Time : 3.342\n"
          ]
        },
        {
          "output_type": "stream",
          "name": "stderr",
          "text": [
            "\rCT-GAN training loop:  45%|████▍     | 223/500 [12:20<15:28,  3.35s/it]"
          ]
        },
        {
          "output_type": "stream",
          "name": "stdout",
          "text": [
            "[223/500] Loss_D: -0.014 | Loss_G: -0.140 | Loss D real : -0.212 | Loss D fake : 0.146 | Loss D GP : 0.044 | Loss D CT : 0.008 | Time : 3.370\n"
          ]
        },
        {
          "output_type": "stream",
          "name": "stderr",
          "text": [
            "\rCT-GAN training loop:  45%|████▍     | 224/500 [12:23<15:27,  3.36s/it]"
          ]
        },
        {
          "output_type": "stream",
          "name": "stdout",
          "text": [
            "[224/500] Loss_D: -0.022 | Loss_G: -0.132 | Loss D real : -0.205 | Loss D fake : 0.133 | Loss D GP : 0.041 | Loss D CT : 0.008 | Time : 3.370\n"
          ]
        },
        {
          "output_type": "stream",
          "name": "stderr",
          "text": [
            "\rCT-GAN training loop:  45%|████▌     | 225/500 [12:27<15:22,  3.35s/it]"
          ]
        },
        {
          "output_type": "stream",
          "name": "stdout",
          "text": [
            "[225/500] Loss_D: 0.000 | Loss_G: -0.132 | Loss D real : -0.202 | Loss D fake : 0.130 | Loss D GP : 0.065 | Loss D CT : 0.008 | Time : 3.336\n"
          ]
        },
        {
          "output_type": "stream",
          "name": "stderr",
          "text": [
            "\rCT-GAN training loop:  45%|████▌     | 226/500 [12:30<15:17,  3.35s/it]"
          ]
        },
        {
          "output_type": "stream",
          "name": "stdout",
          "text": [
            "[226/500] Loss_D: -0.013 | Loss_G: -0.123 | Loss D real : -0.209 | Loss D fake : 0.138 | Loss D GP : 0.042 | Loss D CT : 0.015 | Time : 3.337\n"
          ]
        },
        {
          "output_type": "stream",
          "name": "stderr",
          "text": [
            "\rCT-GAN training loop:  45%|████▌     | 227/500 [12:33<15:14,  3.35s/it]"
          ]
        },
        {
          "output_type": "stream",
          "name": "stdout",
          "text": [
            "[227/500] Loss_D: -0.014 | Loss_G: -0.128 | Loss D real : -0.200 | Loss D fake : 0.128 | Loss D GP : 0.053 | Loss D CT : 0.006 | Time : 3.350\n"
          ]
        },
        {
          "output_type": "stream",
          "name": "stderr",
          "text": [
            "\rCT-GAN training loop:  46%|████▌     | 228/500 [12:37<15:13,  3.36s/it]"
          ]
        },
        {
          "output_type": "stream",
          "name": "stdout",
          "text": [
            "[228/500] Loss_D: -0.020 | Loss_G: -0.124 | Loss D real : -0.198 | Loss D fake : 0.129 | Loss D GP : 0.042 | Loss D CT : 0.007 | Time : 3.372\n"
          ]
        },
        {
          "output_type": "stream",
          "name": "stderr",
          "text": [
            "\rCT-GAN training loop:  46%|████▌     | 229/500 [12:40<15:09,  3.36s/it]"
          ]
        },
        {
          "output_type": "stream",
          "name": "stdout",
          "text": [
            "[229/500] Loss_D: -0.008 | Loss_G: -0.141 | Loss D real : -0.215 | Loss D fake : 0.145 | Loss D GP : 0.054 | Loss D CT : 0.007 | Time : 3.352\n"
          ]
        },
        {
          "output_type": "stream",
          "name": "stderr",
          "text": [
            "\rCT-GAN training loop:  46%|████▌     | 230/500 [12:43<15:05,  3.35s/it]"
          ]
        },
        {
          "output_type": "stream",
          "name": "stdout",
          "text": [
            "[230/500] Loss_D: -0.014 | Loss_G: -0.131 | Loss D real : -0.208 | Loss D fake : 0.140 | Loss D GP : 0.047 | Loss D CT : 0.008 | Time : 3.337\n"
          ]
        },
        {
          "output_type": "stream",
          "name": "stderr",
          "text": [
            "\rCT-GAN training loop:  46%|████▌     | 231/500 [12:47<15:01,  3.35s/it]"
          ]
        },
        {
          "output_type": "stream",
          "name": "stdout",
          "text": [
            "[231/500] Loss_D: -0.008 | Loss_G: -0.149 | Loss D real : -0.208 | Loss D fake : 0.143 | Loss D GP : 0.052 | Loss D CT : 0.005 | Time : 3.347\n"
          ]
        },
        {
          "output_type": "stream",
          "name": "stderr",
          "text": [
            "\rCT-GAN training loop:  46%|████▋     | 232/500 [12:50<14:57,  3.35s/it]"
          ]
        },
        {
          "output_type": "stream",
          "name": "stdout",
          "text": [
            "[232/500] Loss_D: -0.008 | Loss_G: -0.132 | Loss D real : -0.205 | Loss D fake : 0.135 | Loss D GP : 0.053 | Loss D CT : 0.009 | Time : 3.343\n"
          ]
        },
        {
          "output_type": "stream",
          "name": "stderr",
          "text": [
            "\rCT-GAN training loop:  47%|████▋     | 233/500 [12:54<14:53,  3.35s/it]"
          ]
        },
        {
          "output_type": "stream",
          "name": "stdout",
          "text": [
            "[233/500] Loss_D: -0.005 | Loss_G: -0.136 | Loss D real : -0.214 | Loss D fake : 0.145 | Loss D GP : 0.055 | Loss D CT : 0.009 | Time : 3.332\n"
          ]
        },
        {
          "output_type": "stream",
          "name": "stderr",
          "text": [
            "\rCT-GAN training loop:  47%|████▋     | 234/500 [12:57<14:49,  3.35s/it]"
          ]
        },
        {
          "output_type": "stream",
          "name": "stdout",
          "text": [
            "[234/500] Loss_D: 0.006 | Loss_G: -0.127 | Loss D real : -0.203 | Loss D fake : 0.136 | Loss D GP : 0.067 | Loss D CT : 0.005 | Time : 3.340\n"
          ]
        },
        {
          "output_type": "stream",
          "name": "stderr",
          "text": [
            "\rCT-GAN training loop:  47%|████▋     | 235/500 [13:00<14:47,  3.35s/it]"
          ]
        },
        {
          "output_type": "stream",
          "name": "stdout",
          "text": [
            "[235/500] Loss_D: -0.004 | Loss_G: -0.139 | Loss D real : -0.196 | Loss D fake : 0.136 | Loss D GP : 0.052 | Loss D CT : 0.003 | Time : 3.356\n"
          ]
        },
        {
          "output_type": "stream",
          "name": "stderr",
          "text": [
            "\rCT-GAN training loop:  47%|████▋     | 236/500 [13:04<14:43,  3.35s/it]"
          ]
        },
        {
          "output_type": "stream",
          "name": "stdout",
          "text": [
            "[236/500] Loss_D: -0.010 | Loss_G: -0.132 | Loss D real : -0.192 | Loss D fake : 0.126 | Loss D GP : 0.049 | Loss D CT : 0.007 | Time : 3.336\n"
          ]
        },
        {
          "output_type": "stream",
          "name": "stderr",
          "text": [
            "\rCT-GAN training loop:  47%|████▋     | 237/500 [13:07<14:39,  3.34s/it]"
          ]
        },
        {
          "output_type": "stream",
          "name": "stdout",
          "text": [
            "[237/500] Loss_D: -0.006 | Loss_G: -0.128 | Loss D real : -0.197 | Loss D fake : 0.131 | Loss D GP : 0.055 | Loss D CT : 0.005 | Time : 3.330\n"
          ]
        },
        {
          "output_type": "stream",
          "name": "stderr",
          "text": [
            "\rCT-GAN training loop:  48%|████▊     | 238/500 [13:10<14:37,  3.35s/it]"
          ]
        },
        {
          "output_type": "stream",
          "name": "stdout",
          "text": [
            "[238/500] Loss_D: -0.015 | Loss_G: -0.129 | Loss D real : -0.203 | Loss D fake : 0.134 | Loss D GP : 0.045 | Loss D CT : 0.009 | Time : 3.360\n"
          ]
        },
        {
          "output_type": "stream",
          "name": "stderr",
          "text": [
            "\rCT-GAN training loop:  48%|████▊     | 239/500 [13:14<14:34,  3.35s/it]"
          ]
        },
        {
          "output_type": "stream",
          "name": "stdout",
          "text": [
            "[239/500] Loss_D: -0.021 | Loss_G: -0.115 | Loss D real : -0.185 | Loss D fake : 0.118 | Loss D GP : 0.041 | Loss D CT : 0.006 | Time : 3.352\n"
          ]
        },
        {
          "output_type": "stream",
          "name": "stderr",
          "text": [
            "\rCT-GAN training loop:  48%|████▊     | 240/500 [13:17<14:31,  3.35s/it]"
          ]
        },
        {
          "output_type": "stream",
          "name": "stdout",
          "text": [
            "[240/500] Loss_D: -0.004 | Loss_G: -0.132 | Loss D real : -0.208 | Loss D fake : 0.142 | Loss D GP : 0.053 | Loss D CT : 0.010 | Time : 3.350\n"
          ]
        },
        {
          "output_type": "stream",
          "name": "stderr",
          "text": [
            "\rCT-GAN training loop:  48%|████▊     | 241/500 [13:20<14:27,  3.35s/it]"
          ]
        },
        {
          "output_type": "stream",
          "name": "stdout",
          "text": [
            "[241/500] Loss_D: -0.006 | Loss_G: -0.128 | Loss D real : -0.190 | Loss D fake : 0.124 | Loss D GP : 0.049 | Loss D CT : 0.012 | Time : 3.337\n"
          ]
        },
        {
          "output_type": "stream",
          "name": "stderr",
          "text": [
            "\rCT-GAN training loop:  48%|████▊     | 242/500 [13:24<14:27,  3.36s/it]"
          ]
        },
        {
          "output_type": "stream",
          "name": "stdout",
          "text": [
            "[242/500] Loss_D: -0.004 | Loss_G: -0.129 | Loss D real : -0.201 | Loss D fake : 0.139 | Loss D GP : 0.051 | Loss D CT : 0.008 | Time : 3.393\n"
          ]
        },
        {
          "output_type": "stream",
          "name": "stderr",
          "text": [
            "\rCT-GAN training loop:  49%|████▊     | 243/500 [13:27<14:23,  3.36s/it]"
          ]
        },
        {
          "output_type": "stream",
          "name": "stdout",
          "text": [
            "[243/500] Loss_D: -0.009 | Loss_G: -0.136 | Loss D real : -0.209 | Loss D fake : 0.144 | Loss D GP : 0.047 | Loss D CT : 0.008 | Time : 3.344\n"
          ]
        },
        {
          "output_type": "stream",
          "name": "stderr",
          "text": [
            "\rCT-GAN training loop:  49%|████▉     | 244/500 [13:30<14:21,  3.36s/it]"
          ]
        },
        {
          "output_type": "stream",
          "name": "stdout",
          "text": [
            "[244/500] Loss_D: -0.009 | Loss_G: -0.133 | Loss D real : -0.196 | Loss D fake : 0.136 | Loss D GP : 0.046 | Loss D CT : 0.006 | Time : 3.372\n"
          ]
        },
        {
          "output_type": "stream",
          "name": "stderr",
          "text": [
            "\rCT-GAN training loop:  49%|████▉     | 245/500 [13:34<14:16,  3.36s/it]"
          ]
        },
        {
          "output_type": "stream",
          "name": "stdout",
          "text": [
            "[245/500] Loss_D: -0.002 | Loss_G: -0.138 | Loss D real : -0.206 | Loss D fake : 0.141 | Loss D GP : 0.055 | Loss D CT : 0.008 | Time : 3.345\n"
          ]
        },
        {
          "output_type": "stream",
          "name": "stderr",
          "text": [
            "\rCT-GAN training loop:  49%|████▉     | 246/500 [13:37<14:13,  3.36s/it]"
          ]
        },
        {
          "output_type": "stream",
          "name": "stdout",
          "text": [
            "[246/500] Loss_D: -0.012 | Loss_G: -0.132 | Loss D real : -0.200 | Loss D fake : 0.136 | Loss D GP : 0.047 | Loss D CT : 0.006 | Time : 3.357\n"
          ]
        },
        {
          "output_type": "stream",
          "name": "stderr",
          "text": [
            "\rCT-GAN training loop:  49%|████▉     | 247/500 [13:40<14:08,  3.36s/it]"
          ]
        },
        {
          "output_type": "stream",
          "name": "stdout",
          "text": [
            "[247/500] Loss_D: -0.015 | Loss_G: -0.131 | Loss D real : -0.205 | Loss D fake : 0.139 | Loss D GP : 0.043 | Loss D CT : 0.008 | Time : 3.343\n"
          ]
        },
        {
          "output_type": "stream",
          "name": "stderr",
          "text": [
            "\rCT-GAN training loop:  50%|████▉     | 248/500 [13:44<14:05,  3.36s/it]"
          ]
        },
        {
          "output_type": "stream",
          "name": "stdout",
          "text": [
            "[248/500] Loss_D: -0.002 | Loss_G: -0.134 | Loss D real : -0.210 | Loss D fake : 0.142 | Loss D GP : 0.059 | Loss D CT : 0.007 | Time : 3.352\n"
          ]
        },
        {
          "output_type": "stream",
          "name": "stderr",
          "text": [
            "\rCT-GAN training loop:  50%|████▉     | 249/500 [13:47<14:01,  3.35s/it]"
          ]
        },
        {
          "output_type": "stream",
          "name": "stdout",
          "text": [
            "[249/500] Loss_D: -0.014 | Loss_G: -0.131 | Loss D real : -0.196 | Loss D fake : 0.132 | Loss D GP : 0.046 | Loss D CT : 0.004 | Time : 3.337\n"
          ]
        },
        {
          "output_type": "stream",
          "name": "stderr",
          "text": [
            "\rCT-GAN training loop:  50%|█████     | 250/500 [13:51<13:58,  3.35s/it]"
          ]
        },
        {
          "output_type": "stream",
          "name": "stdout",
          "text": [
            "[250/500] Loss_D: 0.006 | Loss_G: -0.125 | Loss D real : -0.196 | Loss D fake : 0.130 | Loss D GP : 0.067 | Loss D CT : 0.005 | Time : 3.358\n"
          ]
        },
        {
          "output_type": "stream",
          "name": "stderr",
          "text": [
            "\rCT-GAN training loop:  50%|█████     | 251/500 [13:54<13:54,  3.35s/it]"
          ]
        },
        {
          "output_type": "stream",
          "name": "stdout",
          "text": [
            "[251/500] Loss_D: -0.015 | Loss_G: -0.142 | Loss D real : -0.215 | Loss D fake : 0.151 | Loss D GP : 0.044 | Loss D CT : 0.005 | Time : 3.347\n"
          ]
        },
        {
          "output_type": "stream",
          "name": "stderr",
          "text": [
            "\rCT-GAN training loop:  50%|█████     | 252/500 [13:57<13:51,  3.35s/it]"
          ]
        },
        {
          "output_type": "stream",
          "name": "stdout",
          "text": [
            "[252/500] Loss_D: -0.001 | Loss_G: -0.125 | Loss D real : -0.184 | Loss D fake : 0.122 | Loss D GP : 0.053 | Loss D CT : 0.008 | Time : 3.347\n"
          ]
        },
        {
          "output_type": "stream",
          "name": "stderr",
          "text": [
            "\rCT-GAN training loop:  51%|█████     | 253/500 [14:01<13:42,  3.33s/it]"
          ]
        },
        {
          "output_type": "stream",
          "name": "stdout",
          "text": [
            "[253/500] Loss_D: -0.005 | Loss_G: -0.133 | Loss D real : -0.201 | Loss D fake : 0.139 | Loss D GP : 0.051 | Loss D CT : 0.005 | Time : 3.279\n"
          ]
        },
        {
          "output_type": "stream",
          "name": "stderr",
          "text": [
            "\rCT-GAN training loop:  51%|█████     | 254/500 [14:04<13:34,  3.31s/it]"
          ]
        },
        {
          "output_type": "stream",
          "name": "stdout",
          "text": [
            "[254/500] Loss_D: -0.007 | Loss_G: -0.143 | Loss D real : -0.202 | Loss D fake : 0.139 | Loss D GP : 0.049 | Loss D CT : 0.006 | Time : 3.258\n"
          ]
        },
        {
          "output_type": "stream",
          "name": "stderr",
          "text": [
            "\rCT-GAN training loop:  51%|█████     | 255/500 [14:07<13:27,  3.30s/it]"
          ]
        },
        {
          "output_type": "stream",
          "name": "stdout",
          "text": [
            "[255/500] Loss_D: -0.011 | Loss_G: -0.134 | Loss D real : -0.192 | Loss D fake : 0.132 | Loss D GP : 0.042 | Loss D CT : 0.007 | Time : 3.258\n"
          ]
        },
        {
          "output_type": "stream",
          "name": "stderr",
          "text": [
            "\rCT-GAN training loop:  51%|█████     | 256/500 [14:10<13:23,  3.29s/it]"
          ]
        },
        {
          "output_type": "stream",
          "name": "stdout",
          "text": [
            "[256/500] Loss_D: -0.011 | Loss_G: -0.136 | Loss D real : -0.190 | Loss D fake : 0.131 | Loss D GP : 0.043 | Loss D CT : 0.005 | Time : 3.289\n"
          ]
        },
        {
          "output_type": "stream",
          "name": "stderr",
          "text": [
            "\rCT-GAN training loop:  51%|█████▏    | 257/500 [14:14<13:22,  3.30s/it]"
          ]
        },
        {
          "output_type": "stream",
          "name": "stdout",
          "text": [
            "[257/500] Loss_D: -0.003 | Loss_G: -0.138 | Loss D real : -0.201 | Loss D fake : 0.138 | Loss D GP : 0.052 | Loss D CT : 0.007 | Time : 3.315\n"
          ]
        },
        {
          "output_type": "stream",
          "name": "stderr",
          "text": [
            "\rCT-GAN training loop:  52%|█████▏    | 258/500 [14:17<13:18,  3.30s/it]"
          ]
        },
        {
          "output_type": "stream",
          "name": "stdout",
          "text": [
            "[258/500] Loss_D: -0.009 | Loss_G: -0.137 | Loss D real : -0.196 | Loss D fake : 0.137 | Loss D GP : 0.045 | Loss D CT : 0.005 | Time : 3.286\n"
          ]
        },
        {
          "output_type": "stream",
          "name": "stderr",
          "text": [
            "\rCT-GAN training loop:  52%|█████▏    | 259/500 [14:20<13:12,  3.29s/it]"
          ]
        },
        {
          "output_type": "stream",
          "name": "stdout",
          "text": [
            "[259/500] Loss_D: -0.011 | Loss_G: -0.138 | Loss D real : -0.206 | Loss D fake : 0.143 | Loss D GP : 0.043 | Loss D CT : 0.009 | Time : 3.261\n"
          ]
        },
        {
          "output_type": "stream",
          "name": "stderr",
          "text": [
            "\rCT-GAN training loop:  52%|█████▏    | 260/500 [14:23<13:10,  3.29s/it]"
          ]
        },
        {
          "output_type": "stream",
          "name": "stdout",
          "text": [
            "[260/500] Loss_D: -0.007 | Loss_G: -0.131 | Loss D real : -0.198 | Loss D fake : 0.136 | Loss D GP : 0.047 | Loss D CT : 0.008 | Time : 3.304\n"
          ]
        },
        {
          "output_type": "stream",
          "name": "stderr",
          "text": [
            "\rCT-GAN training loop:  52%|█████▏    | 261/500 [14:27<13:08,  3.30s/it]"
          ]
        },
        {
          "output_type": "stream",
          "name": "stdout",
          "text": [
            "[261/500] Loss_D: -0.007 | Loss_G: -0.139 | Loss D real : -0.189 | Loss D fake : 0.130 | Loss D GP : 0.048 | Loss D CT : 0.005 | Time : 3.307\n"
          ]
        },
        {
          "output_type": "stream",
          "name": "stderr",
          "text": [
            "\rCT-GAN training loop:  52%|█████▏    | 262/500 [14:30<13:04,  3.30s/it]"
          ]
        },
        {
          "output_type": "stream",
          "name": "stdout",
          "text": [
            "[262/500] Loss_D: -0.020 | Loss_G: -0.142 | Loss D real : -0.204 | Loss D fake : 0.144 | Loss D GP : 0.037 | Loss D CT : 0.004 | Time : 3.285\n"
          ]
        },
        {
          "output_type": "stream",
          "name": "stderr",
          "text": [
            "\rCT-GAN training loop:  53%|█████▎    | 263/500 [14:33<12:59,  3.29s/it]"
          ]
        },
        {
          "output_type": "stream",
          "name": "stdout",
          "text": [
            "[263/500] Loss_D: -0.005 | Loss_G: -0.132 | Loss D real : -0.206 | Loss D fake : 0.141 | Loss D GP : 0.051 | Loss D CT : 0.009 | Time : 3.266\n"
          ]
        },
        {
          "output_type": "stream",
          "name": "stderr",
          "text": [
            "\rCT-GAN training loop:  53%|█████▎    | 264/500 [14:37<12:55,  3.29s/it]"
          ]
        },
        {
          "output_type": "stream",
          "name": "stdout",
          "text": [
            "[264/500] Loss_D: 0.001 | Loss_G: -0.118 | Loss D real : -0.197 | Loss D fake : 0.133 | Loss D GP : 0.057 | Loss D CT : 0.007 | Time : 3.276\n"
          ]
        },
        {
          "output_type": "stream",
          "name": "stderr",
          "text": [
            "\rCT-GAN training loop:  53%|█████▎    | 265/500 [14:40<12:51,  3.28s/it]"
          ]
        },
        {
          "output_type": "stream",
          "name": "stdout",
          "text": [
            "[265/500] Loss_D: -0.014 | Loss_G: -0.130 | Loss D real : -0.208 | Loss D fake : 0.144 | Loss D GP : 0.042 | Loss D CT : 0.009 | Time : 3.278\n"
          ]
        },
        {
          "output_type": "stream",
          "name": "stderr",
          "text": [
            "\rCT-GAN training loop:  53%|█████▎    | 266/500 [14:43<12:48,  3.28s/it]"
          ]
        },
        {
          "output_type": "stream",
          "name": "stdout",
          "text": [
            "[266/500] Loss_D: -0.012 | Loss_G: -0.137 | Loss D real : -0.209 | Loss D fake : 0.146 | Loss D GP : 0.041 | Loss D CT : 0.010 | Time : 3.275\n"
          ]
        },
        {
          "output_type": "stream",
          "name": "stderr",
          "text": [
            "\rCT-GAN training loop:  53%|█████▎    | 267/500 [14:46<12:44,  3.28s/it]"
          ]
        },
        {
          "output_type": "stream",
          "name": "stdout",
          "text": [
            "[267/500] Loss_D: 0.002 | Loss_G: -0.130 | Loss D real : -0.192 | Loss D fake : 0.133 | Loss D GP : 0.055 | Loss D CT : 0.006 | Time : 3.280\n"
          ]
        },
        {
          "output_type": "stream",
          "name": "stderr",
          "text": [
            "\rCT-GAN training loop:  54%|█████▎    | 268/500 [14:50<12:43,  3.29s/it]"
          ]
        },
        {
          "output_type": "stream",
          "name": "stdout",
          "text": [
            "[268/500] Loss_D: -0.009 | Loss_G: -0.138 | Loss D real : -0.195 | Loss D fake : 0.134 | Loss D GP : 0.043 | Loss D CT : 0.009 | Time : 3.305\n"
          ]
        },
        {
          "output_type": "stream",
          "name": "stderr",
          "text": [
            "\rCT-GAN training loop:  54%|█████▍    | 269/500 [14:53<12:39,  3.29s/it]"
          ]
        },
        {
          "output_type": "stream",
          "name": "stdout",
          "text": [
            "[269/500] Loss_D: 0.002 | Loss_G: -0.135 | Loss D real : -0.201 | Loss D fake : 0.143 | Loss D GP : 0.054 | Loss D CT : 0.006 | Time : 3.283\n"
          ]
        },
        {
          "output_type": "stream",
          "name": "stderr",
          "text": [
            "\rCT-GAN training loop:  54%|█████▍    | 270/500 [14:56<12:36,  3.29s/it]"
          ]
        },
        {
          "output_type": "stream",
          "name": "stdout",
          "text": [
            "[270/500] Loss_D: -0.005 | Loss_G: -0.126 | Loss D real : -0.193 | Loss D fake : 0.132 | Loss D GP : 0.050 | Loss D CT : 0.006 | Time : 3.292\n"
          ]
        },
        {
          "output_type": "stream",
          "name": "stderr",
          "text": [
            "\rCT-GAN training loop:  54%|█████▍    | 271/500 [15:00<12:34,  3.29s/it]"
          ]
        },
        {
          "output_type": "stream",
          "name": "stdout",
          "text": [
            "[271/500] Loss_D: -0.016 | Loss_G: -0.129 | Loss D real : -0.203 | Loss D fake : 0.139 | Loss D GP : 0.040 | Loss D CT : 0.009 | Time : 3.300\n"
          ]
        },
        {
          "output_type": "stream",
          "name": "stderr",
          "text": [
            "\rCT-GAN training loop:  54%|█████▍    | 272/500 [15:03<12:33,  3.30s/it]"
          ]
        },
        {
          "output_type": "stream",
          "name": "stdout",
          "text": [
            "[272/500] Loss_D: -0.006 | Loss_G: -0.129 | Loss D real : -0.194 | Loss D fake : 0.135 | Loss D GP : 0.048 | Loss D CT : 0.005 | Time : 3.323\n"
          ]
        },
        {
          "output_type": "stream",
          "name": "stderr",
          "text": [
            "\rCT-GAN training loop:  55%|█████▍    | 273/500 [15:06<12:28,  3.30s/it]"
          ]
        },
        {
          "output_type": "stream",
          "name": "stdout",
          "text": [
            "[273/500] Loss_D: -0.002 | Loss_G: -0.132 | Loss D real : -0.199 | Loss D fake : 0.139 | Loss D GP : 0.049 | Loss D CT : 0.009 | Time : 3.273\n"
          ]
        },
        {
          "output_type": "stream",
          "name": "stderr",
          "text": [
            "\rCT-GAN training loop:  55%|█████▍    | 274/500 [15:10<12:22,  3.29s/it]"
          ]
        },
        {
          "output_type": "stream",
          "name": "stdout",
          "text": [
            "[274/500] Loss_D: -0.010 | Loss_G: -0.131 | Loss D real : -0.193 | Loss D fake : 0.135 | Loss D GP : 0.042 | Loss D CT : 0.007 | Time : 3.261\n"
          ]
        },
        {
          "output_type": "stream",
          "name": "stderr",
          "text": [
            "\rCT-GAN training loop:  55%|█████▌    | 275/500 [15:13<12:21,  3.30s/it]"
          ]
        },
        {
          "output_type": "stream",
          "name": "stdout",
          "text": [
            "[275/500] Loss_D: -0.011 | Loss_G: -0.128 | Loss D real : -0.198 | Loss D fake : 0.136 | Loss D GP : 0.044 | Loss D CT : 0.008 | Time : 3.319\n"
          ]
        },
        {
          "output_type": "stream",
          "name": "stderr",
          "text": [
            "\rCT-GAN training loop:  55%|█████▌    | 276/500 [15:16<12:23,  3.32s/it]"
          ]
        },
        {
          "output_type": "stream",
          "name": "stdout",
          "text": [
            "[276/500] Loss_D: -0.017 | Loss_G: -0.139 | Loss D real : -0.206 | Loss D fake : 0.146 | Loss D GP : 0.037 | Loss D CT : 0.006 | Time : 3.365\n"
          ]
        },
        {
          "output_type": "stream",
          "name": "stderr",
          "text": [
            "\rCT-GAN training loop:  55%|█████▌    | 277/500 [15:20<12:21,  3.32s/it]"
          ]
        },
        {
          "output_type": "stream",
          "name": "stdout",
          "text": [
            "[277/500] Loss_D: -0.006 | Loss_G: -0.123 | Loss D real : -0.188 | Loss D fake : 0.127 | Loss D GP : 0.047 | Loss D CT : 0.008 | Time : 3.330\n"
          ]
        },
        {
          "output_type": "stream",
          "name": "stderr",
          "text": [
            "\rCT-GAN training loop:  56%|█████▌    | 278/500 [15:23<12:19,  3.33s/it]"
          ]
        },
        {
          "output_type": "stream",
          "name": "stdout",
          "text": [
            "[278/500] Loss_D: 0.000 | Loss_G: -0.125 | Loss D real : -0.192 | Loss D fake : 0.130 | Loss D GP : 0.054 | Loss D CT : 0.008 | Time : 3.344\n"
          ]
        },
        {
          "output_type": "stream",
          "name": "stderr",
          "text": [
            "\rCT-GAN training loop:  56%|█████▌    | 279/500 [15:26<12:19,  3.35s/it]"
          ]
        },
        {
          "output_type": "stream",
          "name": "stdout",
          "text": [
            "[279/500] Loss_D: 0.002 | Loss_G: -0.131 | Loss D real : -0.197 | Loss D fake : 0.139 | Loss D GP : 0.052 | Loss D CT : 0.008 | Time : 3.381\n"
          ]
        },
        {
          "output_type": "stream",
          "name": "stderr",
          "text": [
            "\rCT-GAN training loop:  56%|█████▌    | 280/500 [15:30<12:16,  3.35s/it]"
          ]
        },
        {
          "output_type": "stream",
          "name": "stdout",
          "text": [
            "[280/500] Loss_D: 0.006 | Loss_G: -0.127 | Loss D real : -0.197 | Loss D fake : 0.139 | Loss D GP : 0.054 | Loss D CT : 0.010 | Time : 3.341\n"
          ]
        },
        {
          "output_type": "stream",
          "name": "stderr",
          "text": [
            "\rCT-GAN training loop:  56%|█████▌    | 281/500 [15:33<12:12,  3.34s/it]"
          ]
        },
        {
          "output_type": "stream",
          "name": "stdout",
          "text": [
            "[281/500] Loss_D: -0.012 | Loss_G: -0.120 | Loss D real : -0.197 | Loss D fake : 0.134 | Loss D GP : 0.042 | Loss D CT : 0.010 | Time : 3.331\n"
          ]
        },
        {
          "output_type": "stream",
          "name": "stderr",
          "text": [
            "\rCT-GAN training loop:  56%|█████▋    | 282/500 [15:36<12:10,  3.35s/it]"
          ]
        },
        {
          "output_type": "stream",
          "name": "stdout",
          "text": [
            "[282/500] Loss_D: -0.013 | Loss_G: -0.135 | Loss D real : -0.197 | Loss D fake : 0.137 | Loss D GP : 0.042 | Loss D CT : 0.006 | Time : 3.361\n"
          ]
        },
        {
          "output_type": "stream",
          "name": "stderr",
          "text": [
            "\rCT-GAN training loop:  57%|█████▋    | 283/500 [15:40<12:09,  3.36s/it]"
          ]
        },
        {
          "output_type": "stream",
          "name": "stdout",
          "text": [
            "[283/500] Loss_D: -0.015 | Loss_G: -0.125 | Loss D real : -0.190 | Loss D fake : 0.127 | Loss D GP : 0.040 | Loss D CT : 0.008 | Time : 3.387\n"
          ]
        },
        {
          "output_type": "stream",
          "name": "stderr",
          "text": [
            "\rCT-GAN training loop:  57%|█████▋    | 284/500 [15:43<12:06,  3.36s/it]"
          ]
        },
        {
          "output_type": "stream",
          "name": "stdout",
          "text": [
            "[284/500] Loss_D: -0.013 | Loss_G: -0.123 | Loss D real : -0.188 | Loss D fake : 0.127 | Loss D GP : 0.040 | Loss D CT : 0.007 | Time : 3.364\n"
          ]
        },
        {
          "output_type": "stream",
          "name": "stderr",
          "text": [
            "\rCT-GAN training loop:  57%|█████▋    | 285/500 [15:46<12:02,  3.36s/it]"
          ]
        },
        {
          "output_type": "stream",
          "name": "stdout",
          "text": [
            "[285/500] Loss_D: -0.017 | Loss_G: -0.145 | Loss D real : -0.197 | Loss D fake : 0.141 | Loss D GP : 0.034 | Loss D CT : 0.005 | Time : 3.345\n"
          ]
        },
        {
          "output_type": "stream",
          "name": "stderr",
          "text": [
            "\rCT-GAN training loop:  57%|█████▋    | 286/500 [15:50<11:58,  3.36s/it]"
          ]
        },
        {
          "output_type": "stream",
          "name": "stdout",
          "text": [
            "[286/500] Loss_D: -0.018 | Loss_G: -0.134 | Loss D real : -0.194 | Loss D fake : 0.133 | Loss D GP : 0.036 | Loss D CT : 0.008 | Time : 3.343\n"
          ]
        },
        {
          "output_type": "stream",
          "name": "stderr",
          "text": [
            "\rCT-GAN training loop:  57%|█████▋    | 287/500 [15:53<11:53,  3.35s/it]"
          ]
        },
        {
          "output_type": "stream",
          "name": "stdout",
          "text": [
            "[287/500] Loss_D: 0.005 | Loss_G: -0.139 | Loss D real : -0.202 | Loss D fake : 0.141 | Loss D GP : 0.058 | Loss D CT : 0.008 | Time : 3.340\n"
          ]
        },
        {
          "output_type": "stream",
          "name": "stderr",
          "text": [
            "\rCT-GAN training loop:  58%|█████▊    | 288/500 [15:56<11:49,  3.35s/it]"
          ]
        },
        {
          "output_type": "stream",
          "name": "stdout",
          "text": [
            "[288/500] Loss_D: -0.014 | Loss_G: -0.134 | Loss D real : -0.185 | Loss D fake : 0.127 | Loss D GP : 0.039 | Loss D CT : 0.004 | Time : 3.329\n"
          ]
        },
        {
          "output_type": "stream",
          "name": "stderr",
          "text": [
            "\rCT-GAN training loop:  58%|█████▊    | 289/500 [16:00<11:46,  3.35s/it]"
          ]
        },
        {
          "output_type": "stream",
          "name": "stdout",
          "text": [
            "[289/500] Loss_D: -0.007 | Loss_G: -0.132 | Loss D real : -0.187 | Loss D fake : 0.129 | Loss D GP : 0.046 | Loss D CT : 0.004 | Time : 3.352\n"
          ]
        },
        {
          "output_type": "stream",
          "name": "stderr",
          "text": [
            "\rCT-GAN training loop:  58%|█████▊    | 290/500 [16:03<11:45,  3.36s/it]"
          ]
        },
        {
          "output_type": "stream",
          "name": "stdout",
          "text": [
            "[290/500] Loss_D: -0.005 | Loss_G: -0.127 | Loss D real : -0.193 | Loss D fake : 0.135 | Loss D GP : 0.045 | Loss D CT : 0.008 | Time : 3.383\n"
          ]
        },
        {
          "output_type": "stream",
          "name": "stderr",
          "text": [
            "\rCT-GAN training loop:  58%|█████▊    | 291/500 [16:07<11:41,  3.36s/it]"
          ]
        },
        {
          "output_type": "stream",
          "name": "stdout",
          "text": [
            "[291/500] Loss_D: -0.010 | Loss_G: -0.116 | Loss D real : -0.191 | Loss D fake : 0.122 | Loss D GP : 0.048 | Loss D CT : 0.012 | Time : 3.341\n"
          ]
        },
        {
          "output_type": "stream",
          "name": "stderr",
          "text": [
            "\rCT-GAN training loop:  58%|█████▊    | 292/500 [16:10<11:38,  3.36s/it]"
          ]
        },
        {
          "output_type": "stream",
          "name": "stdout",
          "text": [
            "[292/500] Loss_D: -0.001 | Loss_G: -0.123 | Loss D real : -0.179 | Loss D fake : 0.122 | Loss D GP : 0.050 | Loss D CT : 0.005 | Time : 3.354\n"
          ]
        },
        {
          "output_type": "stream",
          "name": "stderr",
          "text": [
            "\rCT-GAN training loop:  59%|█████▊    | 293/500 [16:13<11:34,  3.36s/it]"
          ]
        },
        {
          "output_type": "stream",
          "name": "stdout",
          "text": [
            "[293/500] Loss_D: 0.014 | Loss_G: -0.135 | Loss D real : -0.193 | Loss D fake : 0.138 | Loss D GP : 0.062 | Loss D CT : 0.007 | Time : 3.353\n"
          ]
        },
        {
          "output_type": "stream",
          "name": "stderr",
          "text": [
            "\rCT-GAN training loop:  59%|█████▉    | 294/500 [16:17<11:33,  3.37s/it]"
          ]
        },
        {
          "output_type": "stream",
          "name": "stdout",
          "text": [
            "[294/500] Loss_D: -0.009 | Loss_G: -0.132 | Loss D real : -0.198 | Loss D fake : 0.140 | Loss D GP : 0.042 | Loss D CT : 0.006 | Time : 3.391\n"
          ]
        },
        {
          "output_type": "stream",
          "name": "stderr",
          "text": [
            "\rCT-GAN training loop:  59%|█████▉    | 295/500 [16:20<11:29,  3.37s/it]"
          ]
        },
        {
          "output_type": "stream",
          "name": "stdout",
          "text": [
            "[295/500] Loss_D: -0.015 | Loss_G: -0.133 | Loss D real : -0.186 | Loss D fake : 0.129 | Loss D GP : 0.037 | Loss D CT : 0.005 | Time : 3.356\n"
          ]
        },
        {
          "output_type": "stream",
          "name": "stderr",
          "text": [
            "\rCT-GAN training loop:  59%|█████▉    | 296/500 [16:23<11:26,  3.37s/it]"
          ]
        },
        {
          "output_type": "stream",
          "name": "stdout",
          "text": [
            "[296/500] Loss_D: -0.023 | Loss_G: -0.139 | Loss D real : -0.201 | Loss D fake : 0.139 | Loss D GP : 0.034 | Loss D CT : 0.005 | Time : 3.361\n"
          ]
        },
        {
          "output_type": "stream",
          "name": "stderr",
          "text": [
            "\rCT-GAN training loop:  59%|█████▉    | 297/500 [16:27<11:22,  3.36s/it]"
          ]
        },
        {
          "output_type": "stream",
          "name": "stdout",
          "text": [
            "[297/500] Loss_D: -0.016 | Loss_G: -0.129 | Loss D real : -0.181 | Loss D fake : 0.124 | Loss D GP : 0.036 | Loss D CT : 0.005 | Time : 3.347\n"
          ]
        },
        {
          "output_type": "stream",
          "name": "stderr",
          "text": [
            "\rCT-GAN training loop:  60%|█████▉    | 298/500 [16:30<11:20,  3.37s/it]"
          ]
        },
        {
          "output_type": "stream",
          "name": "stdout",
          "text": [
            "[298/500] Loss_D: -0.017 | Loss_G: -0.133 | Loss D real : -0.183 | Loss D fake : 0.120 | Loss D GP : 0.039 | Loss D CT : 0.007 | Time : 3.381\n"
          ]
        },
        {
          "output_type": "stream",
          "name": "stderr",
          "text": [
            "\rCT-GAN training loop:  60%|█████▉    | 299/500 [16:33<11:15,  3.36s/it]"
          ]
        },
        {
          "output_type": "stream",
          "name": "stdout",
          "text": [
            "[299/500] Loss_D: -0.016 | Loss_G: -0.125 | Loss D real : -0.187 | Loss D fake : 0.129 | Loss D GP : 0.035 | Loss D CT : 0.007 | Time : 3.339\n"
          ]
        },
        {
          "output_type": "stream",
          "name": "stderr",
          "text": [
            "\rCT-GAN training loop:  60%|██████    | 300/500 [16:37<11:11,  3.36s/it]"
          ]
        },
        {
          "output_type": "stream",
          "name": "stdout",
          "text": [
            "[300/500] Loss_D: -0.002 | Loss_G: -0.121 | Loss D real : -0.194 | Loss D fake : 0.128 | Loss D GP : 0.057 | Loss D CT : 0.007 | Time : 3.348\n"
          ]
        },
        {
          "output_type": "stream",
          "name": "stderr",
          "text": [
            "\rCT-GAN training loop:  60%|██████    | 301/500 [16:40<11:08,  3.36s/it]"
          ]
        },
        {
          "output_type": "stream",
          "name": "stdout",
          "text": [
            "[301/500] Loss_D: -0.005 | Loss_G: -0.125 | Loss D real : -0.192 | Loss D fake : 0.134 | Loss D GP : 0.046 | Loss D CT : 0.006 | Time : 3.360\n"
          ]
        },
        {
          "output_type": "stream",
          "name": "stderr",
          "text": [
            "\rCT-GAN training loop:  60%|██████    | 302/500 [16:44<11:06,  3.37s/it]"
          ]
        },
        {
          "output_type": "stream",
          "name": "stdout",
          "text": [
            "[302/500] Loss_D: -0.010 | Loss_G: -0.140 | Loss D real : -0.200 | Loss D fake : 0.141 | Loss D GP : 0.043 | Loss D CT : 0.006 | Time : 3.380\n"
          ]
        },
        {
          "output_type": "stream",
          "name": "stderr",
          "text": [
            "\rCT-GAN training loop:  61%|██████    | 303/500 [16:47<11:02,  3.36s/it]"
          ]
        },
        {
          "output_type": "stream",
          "name": "stdout",
          "text": [
            "[303/500] Loss_D: 0.002 | Loss_G: -0.127 | Loss D real : -0.191 | Loss D fake : 0.130 | Loss D GP : 0.056 | Loss D CT : 0.006 | Time : 3.346\n"
          ]
        },
        {
          "output_type": "stream",
          "name": "stderr",
          "text": [
            "\rCT-GAN training loop:  61%|██████    | 304/500 [16:50<10:59,  3.37s/it]"
          ]
        },
        {
          "output_type": "stream",
          "name": "stdout",
          "text": [
            "[304/500] Loss_D: 0.009 | Loss_G: -0.107 | Loss D real : -0.161 | Loss D fake : 0.106 | Loss D GP : 0.054 | Loss D CT : 0.010 | Time : 3.372\n"
          ]
        },
        {
          "output_type": "stream",
          "name": "stderr",
          "text": [
            "\rCT-GAN training loop:  61%|██████    | 305/500 [16:54<10:55,  3.36s/it]"
          ]
        },
        {
          "output_type": "stream",
          "name": "stdout",
          "text": [
            "[305/500] Loss_D: -0.013 | Loss_G: -0.144 | Loss D real : -0.208 | Loss D fake : 0.148 | Loss D GP : 0.041 | Loss D CT : 0.006 | Time : 3.341\n"
          ]
        },
        {
          "output_type": "stream",
          "name": "stderr",
          "text": [
            "\rCT-GAN training loop:  61%|██████    | 306/500 [16:57<10:50,  3.36s/it]"
          ]
        },
        {
          "output_type": "stream",
          "name": "stdout",
          "text": [
            "[306/500] Loss_D: -0.014 | Loss_G: -0.125 | Loss D real : -0.196 | Loss D fake : 0.131 | Loss D GP : 0.042 | Loss D CT : 0.009 | Time : 3.343\n"
          ]
        },
        {
          "output_type": "stream",
          "name": "stderr",
          "text": [
            "\rCT-GAN training loop:  61%|██████▏   | 307/500 [17:00<10:46,  3.35s/it]"
          ]
        },
        {
          "output_type": "stream",
          "name": "stdout",
          "text": [
            "[307/500] Loss_D: -0.009 | Loss_G: -0.125 | Loss D real : -0.191 | Loss D fake : 0.128 | Loss D GP : 0.045 | Loss D CT : 0.008 | Time : 3.331\n"
          ]
        },
        {
          "output_type": "stream",
          "name": "stderr",
          "text": [
            "\rCT-GAN training loop:  62%|██████▏   | 308/500 [17:04<10:44,  3.36s/it]"
          ]
        },
        {
          "output_type": "stream",
          "name": "stdout",
          "text": [
            "[308/500] Loss_D: -0.007 | Loss_G: -0.132 | Loss D real : -0.199 | Loss D fake : 0.139 | Loss D GP : 0.045 | Loss D CT : 0.008 | Time : 3.375\n"
          ]
        },
        {
          "output_type": "stream",
          "name": "stderr",
          "text": [
            "\rCT-GAN training loop:  62%|██████▏   | 309/500 [17:07<10:39,  3.35s/it]"
          ]
        },
        {
          "output_type": "stream",
          "name": "stdout",
          "text": [
            "[309/500] Loss_D: -0.014 | Loss_G: -0.126 | Loss D real : -0.189 | Loss D fake : 0.130 | Loss D GP : 0.040 | Loss D CT : 0.005 | Time : 3.321\n"
          ]
        },
        {
          "output_type": "stream",
          "name": "stderr",
          "text": [
            "\rCT-GAN training loop:  62%|██████▏   | 310/500 [17:10<10:35,  3.35s/it]"
          ]
        },
        {
          "output_type": "stream",
          "name": "stdout",
          "text": [
            "[310/500] Loss_D: -0.014 | Loss_G: -0.121 | Loss D real : -0.183 | Loss D fake : 0.124 | Loss D GP : 0.038 | Loss D CT : 0.006 | Time : 3.338\n"
          ]
        },
        {
          "output_type": "stream",
          "name": "stderr",
          "text": [
            "\rCT-GAN training loop:  62%|██████▏   | 311/500 [17:14<10:30,  3.34s/it]"
          ]
        },
        {
          "output_type": "stream",
          "name": "stdout",
          "text": [
            "[311/500] Loss_D: -0.021 | Loss_G: -0.140 | Loss D real : -0.200 | Loss D fake : 0.139 | Loss D GP : 0.033 | Loss D CT : 0.007 | Time : 3.307\n"
          ]
        },
        {
          "output_type": "stream",
          "name": "stderr",
          "text": [
            "\rCT-GAN training loop:  62%|██████▏   | 312/500 [17:17<10:29,  3.35s/it]"
          ]
        },
        {
          "output_type": "stream",
          "name": "stdout",
          "text": [
            "[312/500] Loss_D: 0.003 | Loss_G: -0.118 | Loss D real : -0.181 | Loss D fake : 0.122 | Loss D GP : 0.055 | Loss D CT : 0.007 | Time : 3.379\n"
          ]
        },
        {
          "output_type": "stream",
          "name": "stderr",
          "text": [
            "\rCT-GAN training loop:  63%|██████▎   | 313/500 [17:20<10:27,  3.35s/it]"
          ]
        },
        {
          "output_type": "stream",
          "name": "stdout",
          "text": [
            "[313/500] Loss_D: -0.017 | Loss_G: -0.135 | Loss D real : -0.189 | Loss D fake : 0.133 | Loss D GP : 0.034 | Loss D CT : 0.005 | Time : 3.362\n"
          ]
        },
        {
          "output_type": "stream",
          "name": "stderr",
          "text": [
            "\rCT-GAN training loop:  63%|██████▎   | 314/500 [17:24<10:25,  3.36s/it]"
          ]
        },
        {
          "output_type": "stream",
          "name": "stdout",
          "text": [
            "[314/500] Loss_D: -0.015 | Loss_G: -0.136 | Loss D real : -0.197 | Loss D fake : 0.138 | Loss D GP : 0.035 | Loss D CT : 0.009 | Time : 3.378\n"
          ]
        },
        {
          "output_type": "stream",
          "name": "stderr",
          "text": [
            "\rCT-GAN training loop:  63%|██████▎   | 315/500 [17:27<10:21,  3.36s/it]"
          ]
        },
        {
          "output_type": "stream",
          "name": "stdout",
          "text": [
            "[315/500] Loss_D: -0.016 | Loss_G: -0.127 | Loss D real : -0.193 | Loss D fake : 0.135 | Loss D GP : 0.034 | Loss D CT : 0.007 | Time : 3.349\n"
          ]
        },
        {
          "output_type": "stream",
          "name": "stderr",
          "text": [
            "\rCT-GAN training loop:  63%|██████▎   | 316/500 [17:31<10:18,  3.36s/it]"
          ]
        },
        {
          "output_type": "stream",
          "name": "stdout",
          "text": [
            "[316/500] Loss_D: -0.014 | Loss_G: -0.140 | Loss D real : -0.200 | Loss D fake : 0.138 | Loss D GP : 0.041 | Loss D CT : 0.006 | Time : 3.357\n"
          ]
        },
        {
          "output_type": "stream",
          "name": "stderr",
          "text": [
            "\rCT-GAN training loop:  63%|██████▎   | 317/500 [17:34<10:15,  3.36s/it]"
          ]
        },
        {
          "output_type": "stream",
          "name": "stdout",
          "text": [
            "[317/500] Loss_D: -0.021 | Loss_G: -0.134 | Loss D real : -0.194 | Loss D fake : 0.133 | Loss D GP : 0.035 | Loss D CT : 0.006 | Time : 3.371\n"
          ]
        },
        {
          "output_type": "stream",
          "name": "stderr",
          "text": [
            "\rCT-GAN training loop:  64%|██████▎   | 318/500 [17:37<10:11,  3.36s/it]"
          ]
        },
        {
          "output_type": "stream",
          "name": "stdout",
          "text": [
            "[318/500] Loss_D: -0.010 | Loss_G: -0.122 | Loss D real : -0.190 | Loss D fake : 0.126 | Loss D GP : 0.050 | Loss D CT : 0.004 | Time : 3.353\n"
          ]
        },
        {
          "output_type": "stream",
          "name": "stderr",
          "text": [
            "\rCT-GAN training loop:  64%|██████▍   | 319/500 [17:41<10:08,  3.36s/it]"
          ]
        },
        {
          "output_type": "stream",
          "name": "stdout",
          "text": [
            "[319/500] Loss_D: -0.011 | Loss_G: -0.140 | Loss D real : -0.194 | Loss D fake : 0.137 | Loss D GP : 0.041 | Loss D CT : 0.005 | Time : 3.366\n"
          ]
        },
        {
          "output_type": "stream",
          "name": "stderr",
          "text": [
            "\rCT-GAN training loop:  64%|██████▍   | 320/500 [17:44<10:05,  3.36s/it]"
          ]
        },
        {
          "output_type": "stream",
          "name": "stdout",
          "text": [
            "[320/500] Loss_D: -0.019 | Loss_G: -0.134 | Loss D real : -0.202 | Loss D fake : 0.140 | Loss D GP : 0.034 | Loss D CT : 0.010 | Time : 3.356\n"
          ]
        },
        {
          "output_type": "stream",
          "name": "stderr",
          "text": [
            "\rCT-GAN training loop:  64%|██████▍   | 321/500 [17:47<10:01,  3.36s/it]"
          ]
        },
        {
          "output_type": "stream",
          "name": "stdout",
          "text": [
            "[321/500] Loss_D: -0.016 | Loss_G: -0.130 | Loss D real : -0.190 | Loss D fake : 0.130 | Loss D GP : 0.036 | Loss D CT : 0.007 | Time : 3.353\n"
          ]
        },
        {
          "output_type": "stream",
          "name": "stderr",
          "text": [
            "\rCT-GAN training loop:  64%|██████▍   | 322/500 [17:51<09:57,  3.36s/it]"
          ]
        },
        {
          "output_type": "stream",
          "name": "stdout",
          "text": [
            "[322/500] Loss_D: -0.009 | Loss_G: -0.132 | Loss D real : -0.192 | Loss D fake : 0.132 | Loss D GP : 0.045 | Loss D CT : 0.006 | Time : 3.339\n"
          ]
        },
        {
          "output_type": "stream",
          "name": "stderr",
          "text": [
            "\rCT-GAN training loop:  65%|██████▍   | 323/500 [17:54<09:52,  3.35s/it]"
          ]
        },
        {
          "output_type": "stream",
          "name": "stdout",
          "text": [
            "[323/500] Loss_D: -0.013 | Loss_G: -0.137 | Loss D real : -0.201 | Loss D fake : 0.142 | Loss D GP : 0.040 | Loss D CT : 0.007 | Time : 3.329\n"
          ]
        },
        {
          "output_type": "stream",
          "name": "stderr",
          "text": [
            "\rCT-GAN training loop:  65%|██████▍   | 324/500 [17:57<09:48,  3.35s/it]"
          ]
        },
        {
          "output_type": "stream",
          "name": "stdout",
          "text": [
            "[324/500] Loss_D: -0.016 | Loss_G: -0.134 | Loss D real : -0.193 | Loss D fake : 0.133 | Loss D GP : 0.037 | Loss D CT : 0.007 | Time : 3.335\n"
          ]
        },
        {
          "output_type": "stream",
          "name": "stderr",
          "text": [
            "\rCT-GAN training loop:  65%|██████▌   | 325/500 [18:01<09:44,  3.34s/it]"
          ]
        },
        {
          "output_type": "stream",
          "name": "stdout",
          "text": [
            "[325/500] Loss_D: -0.018 | Loss_G: -0.143 | Loss D real : -0.207 | Loss D fake : 0.147 | Loss D GP : 0.036 | Loss D CT : 0.006 | Time : 3.329\n"
          ]
        },
        {
          "output_type": "stream",
          "name": "stderr",
          "text": [
            "\rCT-GAN training loop:  65%|██████▌   | 326/500 [18:04<09:41,  3.34s/it]"
          ]
        },
        {
          "output_type": "stream",
          "name": "stdout",
          "text": [
            "[326/500] Loss_D: -0.016 | Loss_G: -0.132 | Loss D real : -0.201 | Loss D fake : 0.138 | Loss D GP : 0.039 | Loss D CT : 0.008 | Time : 3.340\n"
          ]
        },
        {
          "output_type": "stream",
          "name": "stderr",
          "text": [
            "\rCT-GAN training loop:  65%|██████▌   | 327/500 [18:07<09:38,  3.35s/it]"
          ]
        },
        {
          "output_type": "stream",
          "name": "stdout",
          "text": [
            "[327/500] Loss_D: -0.020 | Loss_G: -0.128 | Loss D real : -0.199 | Loss D fake : 0.135 | Loss D GP : 0.036 | Loss D CT : 0.008 | Time : 3.351\n"
          ]
        },
        {
          "output_type": "stream",
          "name": "stderr",
          "text": [
            "\rCT-GAN training loop:  66%|██████▌   | 328/500 [18:11<09:36,  3.35s/it]"
          ]
        },
        {
          "output_type": "stream",
          "name": "stdout",
          "text": [
            "[328/500] Loss_D: -0.019 | Loss_G: -0.146 | Loss D real : -0.190 | Loss D fake : 0.134 | Loss D GP : 0.033 | Loss D CT : 0.003 | Time : 3.353\n"
          ]
        },
        {
          "output_type": "stream",
          "name": "stderr",
          "text": [
            "\rCT-GAN training loop:  66%|██████▌   | 329/500 [18:14<09:32,  3.35s/it]"
          ]
        },
        {
          "output_type": "stream",
          "name": "stdout",
          "text": [
            "[329/500] Loss_D: -0.026 | Loss_G: -0.127 | Loss D real : -0.198 | Loss D fake : 0.139 | Loss D GP : 0.025 | Loss D CT : 0.007 | Time : 3.348\n"
          ]
        },
        {
          "output_type": "stream",
          "name": "stderr",
          "text": [
            "\rCT-GAN training loop:  66%|██████▌   | 330/500 [18:17<09:30,  3.36s/it]"
          ]
        },
        {
          "output_type": "stream",
          "name": "stdout",
          "text": [
            "[330/500] Loss_D: -0.020 | Loss_G: -0.128 | Loss D real : -0.189 | Loss D fake : 0.130 | Loss D GP : 0.032 | Loss D CT : 0.007 | Time : 3.376\n"
          ]
        },
        {
          "output_type": "stream",
          "name": "stderr",
          "text": [
            "\rCT-GAN training loop:  66%|██████▌   | 331/500 [18:21<09:27,  3.36s/it]"
          ]
        },
        {
          "output_type": "stream",
          "name": "stdout",
          "text": [
            "[331/500] Loss_D: -0.009 | Loss_G: -0.134 | Loss D real : -0.196 | Loss D fake : 0.139 | Loss D GP : 0.043 | Loss D CT : 0.006 | Time : 3.358\n"
          ]
        },
        {
          "output_type": "stream",
          "name": "stderr",
          "text": [
            "\rCT-GAN training loop:  66%|██████▋   | 332/500 [18:24<09:25,  3.37s/it]"
          ]
        },
        {
          "output_type": "stream",
          "name": "stdout",
          "text": [
            "[332/500] Loss_D: -0.019 | Loss_G: -0.122 | Loss D real : -0.179 | Loss D fake : 0.117 | Loss D GP : 0.036 | Loss D CT : 0.007 | Time : 3.380\n"
          ]
        },
        {
          "output_type": "stream",
          "name": "stderr",
          "text": [
            "\rCT-GAN training loop:  67%|██████▋   | 333/500 [18:28<09:22,  3.37s/it]"
          ]
        },
        {
          "output_type": "stream",
          "name": "stdout",
          "text": [
            "[333/500] Loss_D: -0.016 | Loss_G: -0.127 | Loss D real : -0.193 | Loss D fake : 0.134 | Loss D GP : 0.038 | Loss D CT : 0.005 | Time : 3.369\n"
          ]
        },
        {
          "output_type": "stream",
          "name": "stderr",
          "text": [
            "\rCT-GAN training loop:  67%|██████▋   | 334/500 [18:31<09:18,  3.36s/it]"
          ]
        },
        {
          "output_type": "stream",
          "name": "stdout",
          "text": [
            "[334/500] Loss_D: -0.008 | Loss_G: -0.143 | Loss D real : -0.202 | Loss D fake : 0.144 | Loss D GP : 0.044 | Loss D CT : 0.006 | Time : 3.344\n"
          ]
        },
        {
          "output_type": "stream",
          "name": "stderr",
          "text": [
            "\rCT-GAN training loop:  67%|██████▋   | 335/500 [18:34<09:13,  3.35s/it]"
          ]
        },
        {
          "output_type": "stream",
          "name": "stdout",
          "text": [
            "[335/500] Loss_D: -0.013 | Loss_G: -0.126 | Loss D real : -0.183 | Loss D fake : 0.127 | Loss D GP : 0.040 | Loss D CT : 0.004 | Time : 3.329\n"
          ]
        },
        {
          "output_type": "stream",
          "name": "stderr",
          "text": [
            "\rCT-GAN training loop:  67%|██████▋   | 336/500 [18:38<09:09,  3.35s/it]"
          ]
        },
        {
          "output_type": "stream",
          "name": "stdout",
          "text": [
            "[336/500] Loss_D: -0.012 | Loss_G: -0.150 | Loss D real : -0.210 | Loss D fake : 0.152 | Loss D GP : 0.040 | Loss D CT : 0.006 | Time : 3.344\n"
          ]
        },
        {
          "output_type": "stream",
          "name": "stderr",
          "text": [
            "\rCT-GAN training loop:  67%|██████▋   | 337/500 [18:41<09:06,  3.35s/it]"
          ]
        },
        {
          "output_type": "stream",
          "name": "stdout",
          "text": [
            "[337/500] Loss_D: -0.013 | Loss_G: -0.143 | Loss D real : -0.197 | Loss D fake : 0.139 | Loss D GP : 0.039 | Loss D CT : 0.006 | Time : 3.356\n"
          ]
        },
        {
          "output_type": "stream",
          "name": "stderr",
          "text": [
            "\rCT-GAN training loop:  68%|██████▊   | 338/500 [18:44<09:03,  3.35s/it]"
          ]
        },
        {
          "output_type": "stream",
          "name": "stdout",
          "text": [
            "[338/500] Loss_D: -0.022 | Loss_G: -0.135 | Loss D real : -0.195 | Loss D fake : 0.137 | Loss D GP : 0.031 | Loss D CT : 0.004 | Time : 3.351\n"
          ]
        },
        {
          "output_type": "stream",
          "name": "stderr",
          "text": [
            "\rCT-GAN training loop:  68%|██████▊   | 339/500 [18:48<09:00,  3.36s/it]"
          ]
        },
        {
          "output_type": "stream",
          "name": "stdout",
          "text": [
            "[339/500] Loss_D: -0.019 | Loss_G: -0.148 | Loss D real : -0.201 | Loss D fake : 0.144 | Loss D GP : 0.033 | Loss D CT : 0.005 | Time : 3.360\n"
          ]
        },
        {
          "output_type": "stream",
          "name": "stderr",
          "text": [
            "\rCT-GAN training loop:  68%|██████▊   | 340/500 [18:51<08:56,  3.35s/it]"
          ]
        },
        {
          "output_type": "stream",
          "name": "stdout",
          "text": [
            "[340/500] Loss_D: -0.016 | Loss_G: -0.132 | Loss D real : -0.195 | Loss D fake : 0.135 | Loss D GP : 0.037 | Loss D CT : 0.006 | Time : 3.342\n"
          ]
        },
        {
          "output_type": "stream",
          "name": "stderr",
          "text": [
            "\rCT-GAN training loop:  68%|██████▊   | 341/500 [18:54<08:54,  3.36s/it]"
          ]
        },
        {
          "output_type": "stream",
          "name": "stdout",
          "text": [
            "[341/500] Loss_D: -0.013 | Loss_G: -0.139 | Loss D real : -0.212 | Loss D fake : 0.153 | Loss D GP : 0.039 | Loss D CT : 0.008 | Time : 3.383\n"
          ]
        },
        {
          "output_type": "stream",
          "name": "stderr",
          "text": [
            "\rCT-GAN training loop:  68%|██████▊   | 342/500 [18:58<08:51,  3.36s/it]"
          ]
        },
        {
          "output_type": "stream",
          "name": "stdout",
          "text": [
            "[342/500] Loss_D: -0.014 | Loss_G: -0.125 | Loss D real : -0.186 | Loss D fake : 0.126 | Loss D GP : 0.040 | Loss D CT : 0.006 | Time : 3.352\n"
          ]
        },
        {
          "output_type": "stream",
          "name": "stderr",
          "text": [
            "\rCT-GAN training loop:  69%|██████▊   | 343/500 [19:01<08:46,  3.35s/it]"
          ]
        },
        {
          "output_type": "stream",
          "name": "stdout",
          "text": [
            "[343/500] Loss_D: -0.015 | Loss_G: -0.142 | Loss D real : -0.202 | Loss D fake : 0.144 | Loss D GP : 0.038 | Loss D CT : 0.005 | Time : 3.329\n"
          ]
        },
        {
          "output_type": "stream",
          "name": "stderr",
          "text": [
            "\rCT-GAN training loop:  69%|██████▉   | 344/500 [19:04<08:41,  3.34s/it]"
          ]
        },
        {
          "output_type": "stream",
          "name": "stdout",
          "text": [
            "[344/500] Loss_D: -0.017 | Loss_G: -0.139 | Loss D real : -0.197 | Loss D fake : 0.135 | Loss D GP : 0.037 | Loss D CT : 0.007 | Time : 3.321\n"
          ]
        },
        {
          "output_type": "stream",
          "name": "stderr",
          "text": [
            "\rCT-GAN training loop:  69%|██████▉   | 345/500 [19:08<08:39,  3.35s/it]"
          ]
        },
        {
          "output_type": "stream",
          "name": "stdout",
          "text": [
            "[345/500] Loss_D: -0.002 | Loss_G: -0.134 | Loss D real : -0.196 | Loss D fake : 0.134 | Loss D GP : 0.051 | Loss D CT : 0.009 | Time : 3.362\n"
          ]
        },
        {
          "output_type": "stream",
          "name": "stderr",
          "text": [
            "\rCT-GAN training loop:  69%|██████▉   | 346/500 [19:11<08:36,  3.35s/it]"
          ]
        },
        {
          "output_type": "stream",
          "name": "stdout",
          "text": [
            "[346/500] Loss_D: -0.016 | Loss_G: -0.140 | Loss D real : -0.197 | Loss D fake : 0.142 | Loss D GP : 0.035 | Loss D CT : 0.004 | Time : 3.360\n"
          ]
        },
        {
          "output_type": "stream",
          "name": "stderr",
          "text": [
            "\rCT-GAN training loop:  69%|██████▉   | 347/500 [19:14<08:31,  3.35s/it]"
          ]
        },
        {
          "output_type": "stream",
          "name": "stdout",
          "text": [
            "[347/500] Loss_D: -0.019 | Loss_G: -0.134 | Loss D real : -0.193 | Loss D fake : 0.134 | Loss D GP : 0.036 | Loss D CT : 0.003 | Time : 3.323\n"
          ]
        },
        {
          "output_type": "stream",
          "name": "stderr",
          "text": [
            "\rCT-GAN training loop:  70%|██████▉   | 348/500 [19:18<08:29,  3.35s/it]"
          ]
        },
        {
          "output_type": "stream",
          "name": "stdout",
          "text": [
            "[348/500] Loss_D: -0.009 | Loss_G: -0.132 | Loss D real : -0.205 | Loss D fake : 0.143 | Loss D GP : 0.044 | Loss D CT : 0.008 | Time : 3.366\n"
          ]
        },
        {
          "output_type": "stream",
          "name": "stderr",
          "text": [
            "\rCT-GAN training loop:  70%|██████▉   | 349/500 [19:21<08:26,  3.36s/it]"
          ]
        },
        {
          "output_type": "stream",
          "name": "stdout",
          "text": [
            "[349/500] Loss_D: -0.012 | Loss_G: -0.139 | Loss D real : -0.203 | Loss D fake : 0.143 | Loss D GP : 0.040 | Loss D CT : 0.008 | Time : 3.358\n"
          ]
        },
        {
          "output_type": "stream",
          "name": "stderr",
          "text": [
            "\rCT-GAN training loop:  70%|███████   | 350/500 [19:25<08:23,  3.36s/it]"
          ]
        },
        {
          "output_type": "stream",
          "name": "stdout",
          "text": [
            "[350/500] Loss_D: -0.021 | Loss_G: -0.130 | Loss D real : -0.196 | Loss D fake : 0.134 | Loss D GP : 0.035 | Loss D CT : 0.005 | Time : 3.354\n"
          ]
        },
        {
          "output_type": "stream",
          "name": "stderr",
          "text": [
            "\rCT-GAN training loop:  70%|███████   | 351/500 [19:28<08:18,  3.34s/it]"
          ]
        },
        {
          "output_type": "stream",
          "name": "stdout",
          "text": [
            "[351/500] Loss_D: 0.002 | Loss_G: -0.128 | Loss D real : -0.199 | Loss D fake : 0.135 | Loss D GP : 0.059 | Loss D CT : 0.007 | Time : 3.309\n"
          ]
        },
        {
          "output_type": "stream",
          "name": "stderr",
          "text": [
            "\rCT-GAN training loop:  70%|███████   | 352/500 [19:31<08:14,  3.34s/it]"
          ]
        },
        {
          "output_type": "stream",
          "name": "stdout",
          "text": [
            "[352/500] Loss_D: -0.023 | Loss_G: -0.124 | Loss D real : -0.202 | Loss D fake : 0.133 | Loss D GP : 0.038 | Loss D CT : 0.009 | Time : 3.334\n"
          ]
        },
        {
          "output_type": "stream",
          "name": "stderr",
          "text": [
            "\rCT-GAN training loop:  71%|███████   | 353/500 [19:35<08:11,  3.35s/it]"
          ]
        },
        {
          "output_type": "stream",
          "name": "stdout",
          "text": [
            "[353/500] Loss_D: -0.006 | Loss_G: -0.139 | Loss D real : -0.198 | Loss D fake : 0.139 | Loss D GP : 0.042 | Loss D CT : 0.010 | Time : 3.353\n"
          ]
        },
        {
          "output_type": "stream",
          "name": "stderr",
          "text": [
            "\rCT-GAN training loop:  71%|███████   | 354/500 [19:38<08:08,  3.35s/it]"
          ]
        },
        {
          "output_type": "stream",
          "name": "stdout",
          "text": [
            "[354/500] Loss_D: -0.008 | Loss_G: -0.141 | Loss D real : -0.202 | Loss D fake : 0.145 | Loss D GP : 0.044 | Loss D CT : 0.005 | Time : 3.353\n"
          ]
        },
        {
          "output_type": "stream",
          "name": "stderr",
          "text": [
            "\rCT-GAN training loop:  71%|███████   | 355/500 [19:41<08:06,  3.35s/it]"
          ]
        },
        {
          "output_type": "stream",
          "name": "stdout",
          "text": [
            "[355/500] Loss_D: -0.016 | Loss_G: -0.133 | Loss D real : -0.192 | Loss D fake : 0.136 | Loss D GP : 0.034 | Loss D CT : 0.006 | Time : 3.364\n"
          ]
        },
        {
          "output_type": "stream",
          "name": "stderr",
          "text": [
            "\rCT-GAN training loop:  71%|███████   | 356/500 [19:45<08:03,  3.36s/it]"
          ]
        },
        {
          "output_type": "stream",
          "name": "stdout",
          "text": [
            "[356/500] Loss_D: -0.012 | Loss_G: -0.134 | Loss D real : -0.194 | Loss D fake : 0.135 | Loss D GP : 0.041 | Loss D CT : 0.007 | Time : 3.368\n"
          ]
        },
        {
          "output_type": "stream",
          "name": "stderr",
          "text": [
            "\rCT-GAN training loop:  71%|███████▏  | 357/500 [19:48<08:00,  3.36s/it]"
          ]
        },
        {
          "output_type": "stream",
          "name": "stdout",
          "text": [
            "[357/500] Loss_D: -0.009 | Loss_G: -0.130 | Loss D real : -0.192 | Loss D fake : 0.136 | Loss D GP : 0.040 | Loss D CT : 0.007 | Time : 3.364\n"
          ]
        },
        {
          "output_type": "stream",
          "name": "stderr",
          "text": [
            "\rCT-GAN training loop:  72%|███████▏  | 358/500 [19:51<07:56,  3.35s/it]"
          ]
        },
        {
          "output_type": "stream",
          "name": "stdout",
          "text": [
            "[358/500] Loss_D: -0.010 | Loss_G: -0.128 | Loss D real : -0.193 | Loss D fake : 0.135 | Loss D GP : 0.041 | Loss D CT : 0.006 | Time : 3.326\n"
          ]
        },
        {
          "output_type": "stream",
          "name": "stderr",
          "text": [
            "\rCT-GAN training loop:  72%|███████▏  | 359/500 [19:55<07:52,  3.35s/it]"
          ]
        },
        {
          "output_type": "stream",
          "name": "stdout",
          "text": [
            "[359/500] Loss_D: -0.023 | Loss_G: -0.143 | Loss D real : -0.201 | Loss D fake : 0.139 | Loss D GP : 0.036 | Loss D CT : 0.004 | Time : 3.347\n"
          ]
        },
        {
          "output_type": "stream",
          "name": "stderr",
          "text": [
            "\rCT-GAN training loop:  72%|███████▏  | 360/500 [19:58<07:50,  3.36s/it]"
          ]
        },
        {
          "output_type": "stream",
          "name": "stdout",
          "text": [
            "[360/500] Loss_D: -0.016 | Loss_G: -0.143 | Loss D real : -0.212 | Loss D fake : 0.151 | Loss D GP : 0.037 | Loss D CT : 0.008 | Time : 3.371\n"
          ]
        },
        {
          "output_type": "stream",
          "name": "stderr",
          "text": [
            "\rCT-GAN training loop:  72%|███████▏  | 361/500 [20:01<07:47,  3.36s/it]"
          ]
        },
        {
          "output_type": "stream",
          "name": "stdout",
          "text": [
            "[361/500] Loss_D: -0.020 | Loss_G: -0.122 | Loss D real : -0.189 | Loss D fake : 0.123 | Loss D GP : 0.038 | Loss D CT : 0.008 | Time : 3.362\n"
          ]
        },
        {
          "output_type": "stream",
          "name": "stderr",
          "text": [
            "\rCT-GAN training loop:  72%|███████▏  | 362/500 [20:05<07:43,  3.36s/it]"
          ]
        },
        {
          "output_type": "stream",
          "name": "stdout",
          "text": [
            "[362/500] Loss_D: -0.011 | Loss_G: -0.141 | Loss D real : -0.204 | Loss D fake : 0.145 | Loss D GP : 0.042 | Loss D CT : 0.007 | Time : 3.353\n"
          ]
        },
        {
          "output_type": "stream",
          "name": "stderr",
          "text": [
            "\rCT-GAN training loop:  73%|███████▎  | 363/500 [20:08<07:40,  3.36s/it]"
          ]
        },
        {
          "output_type": "stream",
          "name": "stdout",
          "text": [
            "[363/500] Loss_D: -0.021 | Loss_G: -0.138 | Loss D real : -0.197 | Loss D fake : 0.135 | Loss D GP : 0.033 | Loss D CT : 0.008 | Time : 3.366\n"
          ]
        },
        {
          "output_type": "stream",
          "name": "stderr",
          "text": [
            "\rCT-GAN training loop:  73%|███████▎  | 364/500 [20:12<07:37,  3.36s/it]"
          ]
        },
        {
          "output_type": "stream",
          "name": "stdout",
          "text": [
            "[364/500] Loss_D: -0.016 | Loss_G: -0.127 | Loss D real : -0.196 | Loss D fake : 0.132 | Loss D GP : 0.040 | Loss D CT : 0.009 | Time : 3.359\n"
          ]
        },
        {
          "output_type": "stream",
          "name": "stderr",
          "text": [
            "\rCT-GAN training loop:  73%|███████▎  | 365/500 [20:15<07:33,  3.36s/it]"
          ]
        },
        {
          "output_type": "stream",
          "name": "stdout",
          "text": [
            "[365/500] Loss_D: -0.022 | Loss_G: -0.142 | Loss D real : -0.207 | Loss D fake : 0.146 | Loss D GP : 0.031 | Loss D CT : 0.008 | Time : 3.358\n"
          ]
        },
        {
          "output_type": "stream",
          "name": "stderr",
          "text": [
            "\rCT-GAN training loop:  73%|███████▎  | 366/500 [20:18<07:31,  3.37s/it]"
          ]
        },
        {
          "output_type": "stream",
          "name": "stdout",
          "text": [
            "[366/500] Loss_D: -0.019 | Loss_G: -0.141 | Loss D real : -0.188 | Loss D fake : 0.129 | Loss D GP : 0.031 | Loss D CT : 0.009 | Time : 3.372\n"
          ]
        },
        {
          "output_type": "stream",
          "name": "stderr",
          "text": [
            "\rCT-GAN training loop:  73%|███████▎  | 367/500 [20:22<07:26,  3.36s/it]"
          ]
        },
        {
          "output_type": "stream",
          "name": "stdout",
          "text": [
            "[367/500] Loss_D: -0.014 | Loss_G: -0.127 | Loss D real : -0.212 | Loss D fake : 0.147 | Loss D GP : 0.042 | Loss D CT : 0.010 | Time : 3.331\n"
          ]
        },
        {
          "output_type": "stream",
          "name": "stderr",
          "text": [
            "\rCT-GAN training loop:  74%|███████▎  | 368/500 [20:25<07:22,  3.35s/it]"
          ]
        },
        {
          "output_type": "stream",
          "name": "stdout",
          "text": [
            "[368/500] Loss_D: -0.025 | Loss_G: -0.141 | Loss D real : -0.205 | Loss D fake : 0.145 | Loss D GP : 0.030 | Loss D CT : 0.005 | Time : 3.344\n"
          ]
        },
        {
          "output_type": "stream",
          "name": "stderr",
          "text": [
            "\rCT-GAN training loop:  74%|███████▍  | 369/500 [20:28<07:20,  3.36s/it]"
          ]
        },
        {
          "output_type": "stream",
          "name": "stdout",
          "text": [
            "[369/500] Loss_D: -0.013 | Loss_G: -0.138 | Loss D real : -0.200 | Loss D fake : 0.136 | Loss D GP : 0.039 | Loss D CT : 0.012 | Time : 3.373\n"
          ]
        },
        {
          "output_type": "stream",
          "name": "stderr",
          "text": [
            "\rCT-GAN training loop:  74%|███████▍  | 370/500 [20:32<07:17,  3.37s/it]"
          ]
        },
        {
          "output_type": "stream",
          "name": "stdout",
          "text": [
            "[370/500] Loss_D: -0.015 | Loss_G: -0.130 | Loss D real : -0.201 | Loss D fake : 0.138 | Loss D GP : 0.040 | Loss D CT : 0.008 | Time : 3.377\n"
          ]
        },
        {
          "output_type": "stream",
          "name": "stderr",
          "text": [
            "\rCT-GAN training loop:  74%|███████▍  | 371/500 [20:35<07:13,  3.36s/it]"
          ]
        },
        {
          "output_type": "stream",
          "name": "stdout",
          "text": [
            "[371/500] Loss_D: -0.022 | Loss_G: -0.132 | Loss D real : -0.198 | Loss D fake : 0.137 | Loss D GP : 0.033 | Loss D CT : 0.007 | Time : 3.352\n"
          ]
        },
        {
          "output_type": "stream",
          "name": "stderr",
          "text": [
            "\rCT-GAN training loop:  74%|███████▍  | 372/500 [20:38<07:10,  3.36s/it]"
          ]
        },
        {
          "output_type": "stream",
          "name": "stdout",
          "text": [
            "[372/500] Loss_D: -0.021 | Loss_G: -0.126 | Loss D real : -0.198 | Loss D fake : 0.134 | Loss D GP : 0.035 | Loss D CT : 0.007 | Time : 3.347\n"
          ]
        },
        {
          "output_type": "stream",
          "name": "stderr",
          "text": [
            "\rCT-GAN training loop:  75%|███████▍  | 373/500 [20:42<07:07,  3.36s/it]"
          ]
        },
        {
          "output_type": "stream",
          "name": "stdout",
          "text": [
            "[373/500] Loss_D: -0.020 | Loss_G: -0.134 | Loss D real : -0.200 | Loss D fake : 0.134 | Loss D GP : 0.036 | Loss D CT : 0.010 | Time : 3.374\n"
          ]
        },
        {
          "output_type": "stream",
          "name": "stderr",
          "text": [
            "\rCT-GAN training loop:  75%|███████▍  | 374/500 [20:45<07:04,  3.37s/it]"
          ]
        },
        {
          "output_type": "stream",
          "name": "stdout",
          "text": [
            "[374/500] Loss_D: -0.022 | Loss_G: -0.125 | Loss D real : -0.195 | Loss D fake : 0.133 | Loss D GP : 0.034 | Loss D CT : 0.006 | Time : 3.381\n"
          ]
        },
        {
          "output_type": "stream",
          "name": "stderr",
          "text": [
            "\rCT-GAN training loop:  75%|███████▌  | 375/500 [20:49<07:01,  3.37s/it]"
          ]
        },
        {
          "output_type": "stream",
          "name": "stdout",
          "text": [
            "[375/500] Loss_D: -0.026 | Loss_G: -0.134 | Loss D real : -0.201 | Loss D fake : 0.139 | Loss D GP : 0.030 | Loss D CT : 0.006 | Time : 3.372\n"
          ]
        },
        {
          "output_type": "stream",
          "name": "stderr",
          "text": [
            "\rCT-GAN training loop:  75%|███████▌  | 376/500 [20:52<06:58,  3.37s/it]"
          ]
        },
        {
          "output_type": "stream",
          "name": "stdout",
          "text": [
            "[376/500] Loss_D: -0.017 | Loss_G: -0.147 | Loss D real : -0.206 | Loss D fake : 0.148 | Loss D GP : 0.035 | Loss D CT : 0.006 | Time : 3.368\n"
          ]
        },
        {
          "output_type": "stream",
          "name": "stderr",
          "text": [
            "\rCT-GAN training loop:  75%|███████▌  | 377/500 [20:55<06:54,  3.37s/it]"
          ]
        },
        {
          "output_type": "stream",
          "name": "stdout",
          "text": [
            "[377/500] Loss_D: -0.013 | Loss_G: -0.133 | Loss D real : -0.193 | Loss D fake : 0.129 | Loss D GP : 0.045 | Loss D CT : 0.006 | Time : 3.362\n"
          ]
        },
        {
          "output_type": "stream",
          "name": "stderr",
          "text": [
            "\rCT-GAN training loop:  76%|███████▌  | 378/500 [20:59<06:51,  3.37s/it]"
          ]
        },
        {
          "output_type": "stream",
          "name": "stdout",
          "text": [
            "[378/500] Loss_D: -0.018 | Loss_G: -0.137 | Loss D real : -0.210 | Loss D fake : 0.147 | Loss D GP : 0.036 | Loss D CT : 0.009 | Time : 3.367\n"
          ]
        },
        {
          "output_type": "stream",
          "name": "stderr",
          "text": [
            "\rCT-GAN training loop:  76%|███████▌  | 379/500 [21:02<06:47,  3.37s/it]"
          ]
        },
        {
          "output_type": "stream",
          "name": "stdout",
          "text": [
            "[379/500] Loss_D: -0.019 | Loss_G: -0.140 | Loss D real : -0.210 | Loss D fake : 0.145 | Loss D GP : 0.040 | Loss D CT : 0.005 | Time : 3.350\n"
          ]
        },
        {
          "output_type": "stream",
          "name": "stderr",
          "text": [
            "\rCT-GAN training loop:  76%|███████▌  | 380/500 [21:05<06:43,  3.36s/it]"
          ]
        },
        {
          "output_type": "stream",
          "name": "stdout",
          "text": [
            "[380/500] Loss_D: -0.015 | Loss_G: -0.143 | Loss D real : -0.213 | Loss D fake : 0.152 | Loss D GP : 0.040 | Loss D CT : 0.007 | Time : 3.341\n"
          ]
        },
        {
          "output_type": "stream",
          "name": "stderr",
          "text": [
            "\rCT-GAN training loop:  76%|███████▌  | 381/500 [21:09<06:39,  3.36s/it]"
          ]
        },
        {
          "output_type": "stream",
          "name": "stdout",
          "text": [
            "[381/500] Loss_D: -0.016 | Loss_G: -0.128 | Loss D real : -0.196 | Loss D fake : 0.133 | Loss D GP : 0.039 | Loss D CT : 0.007 | Time : 3.346\n"
          ]
        },
        {
          "output_type": "stream",
          "name": "stderr",
          "text": [
            "\rCT-GAN training loop:  76%|███████▋  | 382/500 [21:12<06:35,  3.35s/it]"
          ]
        },
        {
          "output_type": "stream",
          "name": "stdout",
          "text": [
            "[382/500] Loss_D: -0.017 | Loss_G: -0.135 | Loss D real : -0.200 | Loss D fake : 0.137 | Loss D GP : 0.037 | Loss D CT : 0.009 | Time : 3.341\n"
          ]
        },
        {
          "output_type": "stream",
          "name": "stderr",
          "text": [
            "\rCT-GAN training loop:  77%|███████▋  | 383/500 [21:15<06:31,  3.35s/it]"
          ]
        },
        {
          "output_type": "stream",
          "name": "stdout",
          "text": [
            "[383/500] Loss_D: -0.015 | Loss_G: -0.150 | Loss D real : -0.209 | Loss D fake : 0.148 | Loss D GP : 0.041 | Loss D CT : 0.005 | Time : 3.331\n"
          ]
        },
        {
          "output_type": "stream",
          "name": "stderr",
          "text": [
            "\rCT-GAN training loop:  77%|███████▋  | 384/500 [21:19<06:28,  3.35s/it]"
          ]
        },
        {
          "output_type": "stream",
          "name": "stdout",
          "text": [
            "[384/500] Loss_D: -0.013 | Loss_G: -0.134 | Loss D real : -0.198 | Loss D fake : 0.137 | Loss D GP : 0.038 | Loss D CT : 0.010 | Time : 3.338\n"
          ]
        },
        {
          "output_type": "stream",
          "name": "stderr",
          "text": [
            "\rCT-GAN training loop:  77%|███████▋  | 385/500 [21:22<06:24,  3.35s/it]"
          ]
        },
        {
          "output_type": "stream",
          "name": "stdout",
          "text": [
            "[385/500] Loss_D: -0.023 | Loss_G: -0.146 | Loss D real : -0.212 | Loss D fake : 0.151 | Loss D GP : 0.032 | Loss D CT : 0.006 | Time : 3.345\n"
          ]
        },
        {
          "output_type": "stream",
          "name": "stderr",
          "text": [
            "\rCT-GAN training loop:  77%|███████▋  | 386/500 [21:25<06:21,  3.35s/it]"
          ]
        },
        {
          "output_type": "stream",
          "name": "stdout",
          "text": [
            "[386/500] Loss_D: -0.026 | Loss_G: -0.142 | Loss D real : -0.208 | Loss D fake : 0.145 | Loss D GP : 0.031 | Loss D CT : 0.005 | Time : 3.342\n"
          ]
        },
        {
          "output_type": "stream",
          "name": "stderr",
          "text": [
            "\rCT-GAN training loop:  77%|███████▋  | 387/500 [21:29<06:17,  3.34s/it]"
          ]
        },
        {
          "output_type": "stream",
          "name": "stdout",
          "text": [
            "[387/500] Loss_D: -0.020 | Loss_G: -0.143 | Loss D real : -0.205 | Loss D fake : 0.141 | Loss D GP : 0.034 | Loss D CT : 0.009 | Time : 3.335\n"
          ]
        },
        {
          "output_type": "stream",
          "name": "stderr",
          "text": [
            "\rCT-GAN training loop:  78%|███████▊  | 388/500 [21:32<06:14,  3.35s/it]"
          ]
        },
        {
          "output_type": "stream",
          "name": "stdout",
          "text": [
            "[388/500] Loss_D: -0.020 | Loss_G: -0.130 | Loss D real : -0.195 | Loss D fake : 0.133 | Loss D GP : 0.035 | Loss D CT : 0.007 | Time : 3.345\n"
          ]
        },
        {
          "output_type": "stream",
          "name": "stderr",
          "text": [
            "\rCT-GAN training loop:  78%|███████▊  | 389/500 [21:36<06:12,  3.35s/it]"
          ]
        },
        {
          "output_type": "stream",
          "name": "stdout",
          "text": [
            "[389/500] Loss_D: -0.014 | Loss_G: -0.141 | Loss D real : -0.193 | Loss D fake : 0.135 | Loss D GP : 0.039 | Loss D CT : 0.005 | Time : 3.363\n"
          ]
        },
        {
          "output_type": "stream",
          "name": "stderr",
          "text": [
            "\rCT-GAN training loop:  78%|███████▊  | 390/500 [21:39<06:09,  3.36s/it]"
          ]
        },
        {
          "output_type": "stream",
          "name": "stdout",
          "text": [
            "[390/500] Loss_D: -0.021 | Loss_G: -0.128 | Loss D real : -0.192 | Loss D fake : 0.127 | Loss D GP : 0.038 | Loss D CT : 0.006 | Time : 3.368\n"
          ]
        },
        {
          "output_type": "stream",
          "name": "stderr",
          "text": [
            "\rCT-GAN training loop:  78%|███████▊  | 391/500 [21:42<06:06,  3.37s/it]"
          ]
        },
        {
          "output_type": "stream",
          "name": "stdout",
          "text": [
            "[391/500] Loss_D: -0.022 | Loss_G: -0.139 | Loss D real : -0.200 | Loss D fake : 0.140 | Loss D GP : 0.032 | Loss D CT : 0.005 | Time : 3.381\n"
          ]
        },
        {
          "output_type": "stream",
          "name": "stderr",
          "text": [
            "\rCT-GAN training loop:  78%|███████▊  | 392/500 [21:46<06:03,  3.37s/it]"
          ]
        },
        {
          "output_type": "stream",
          "name": "stdout",
          "text": [
            "[392/500] Loss_D: -0.031 | Loss_G: -0.148 | Loss D real : -0.210 | Loss D fake : 0.147 | Loss D GP : 0.025 | Loss D CT : 0.007 | Time : 3.361\n"
          ]
        },
        {
          "output_type": "stream",
          "name": "stderr",
          "text": [
            "\rCT-GAN training loop:  79%|███████▊  | 393/500 [21:49<06:00,  3.37s/it]"
          ]
        },
        {
          "output_type": "stream",
          "name": "stdout",
          "text": [
            "[393/500] Loss_D: -0.015 | Loss_G: -0.145 | Loss D real : -0.200 | Loss D fake : 0.139 | Loss D GP : 0.039 | Loss D CT : 0.007 | Time : 3.363\n"
          ]
        },
        {
          "output_type": "stream",
          "name": "stderr",
          "text": [
            "\rCT-GAN training loop:  79%|███████▉  | 394/500 [21:52<05:56,  3.36s/it]"
          ]
        },
        {
          "output_type": "stream",
          "name": "stdout",
          "text": [
            "[394/500] Loss_D: -0.019 | Loss_G: -0.136 | Loss D real : -0.204 | Loss D fake : 0.142 | Loss D GP : 0.036 | Loss D CT : 0.007 | Time : 3.354\n"
          ]
        },
        {
          "output_type": "stream",
          "name": "stderr",
          "text": [
            "\rCT-GAN training loop:  79%|███████▉  | 395/500 [21:56<05:51,  3.35s/it]"
          ]
        },
        {
          "output_type": "stream",
          "name": "stdout",
          "text": [
            "[395/500] Loss_D: -0.017 | Loss_G: -0.139 | Loss D real : -0.190 | Loss D fake : 0.129 | Loss D GP : 0.038 | Loss D CT : 0.006 | Time : 3.317\n"
          ]
        },
        {
          "output_type": "stream",
          "name": "stderr",
          "text": [
            "\rCT-GAN training loop:  79%|███████▉  | 396/500 [21:59<05:47,  3.35s/it]"
          ]
        },
        {
          "output_type": "stream",
          "name": "stdout",
          "text": [
            "[396/500] Loss_D: -0.018 | Loss_G: -0.143 | Loss D real : -0.207 | Loss D fake : 0.146 | Loss D GP : 0.036 | Loss D CT : 0.007 | Time : 3.328\n"
          ]
        },
        {
          "output_type": "stream",
          "name": "stderr",
          "text": [
            "\rCT-GAN training loop:  79%|███████▉  | 397/500 [22:02<05:44,  3.34s/it]"
          ]
        },
        {
          "output_type": "stream",
          "name": "stdout",
          "text": [
            "[397/500] Loss_D: -0.025 | Loss_G: -0.142 | Loss D real : -0.216 | Loss D fake : 0.151 | Loss D GP : 0.031 | Loss D CT : 0.008 | Time : 3.337\n"
          ]
        },
        {
          "output_type": "stream",
          "name": "stderr",
          "text": [
            "\rCT-GAN training loop:  80%|███████▉  | 398/500 [22:06<05:41,  3.35s/it]"
          ]
        },
        {
          "output_type": "stream",
          "name": "stdout",
          "text": [
            "[398/500] Loss_D: -0.021 | Loss_G: -0.134 | Loss D real : -0.198 | Loss D fake : 0.136 | Loss D GP : 0.036 | Loss D CT : 0.005 | Time : 3.350\n"
          ]
        },
        {
          "output_type": "stream",
          "name": "stderr",
          "text": [
            "\rCT-GAN training loop:  80%|███████▉  | 399/500 [22:09<05:38,  3.35s/it]"
          ]
        },
        {
          "output_type": "stream",
          "name": "stdout",
          "text": [
            "[399/500] Loss_D: -0.012 | Loss_G: -0.137 | Loss D real : -0.205 | Loss D fake : 0.143 | Loss D GP : 0.041 | Loss D CT : 0.009 | Time : 3.347\n"
          ]
        },
        {
          "output_type": "stream",
          "name": "stderr",
          "text": [
            "\rCT-GAN training loop:  80%|████████  | 400/500 [22:12<05:34,  3.34s/it]"
          ]
        },
        {
          "output_type": "stream",
          "name": "stdout",
          "text": [
            "[400/500] Loss_D: -0.022 | Loss_G: -0.143 | Loss D real : -0.211 | Loss D fake : 0.148 | Loss D GP : 0.034 | Loss D CT : 0.007 | Time : 3.327\n"
          ]
        },
        {
          "output_type": "stream",
          "name": "stderr",
          "text": [
            "\rCT-GAN training loop:  80%|████████  | 401/500 [22:16<05:30,  3.34s/it]"
          ]
        },
        {
          "output_type": "stream",
          "name": "stdout",
          "text": [
            "[401/500] Loss_D: -0.018 | Loss_G: -0.143 | Loss D real : -0.206 | Loss D fake : 0.147 | Loss D GP : 0.035 | Loss D CT : 0.006 | Time : 3.334\n"
          ]
        },
        {
          "output_type": "stream",
          "name": "stderr",
          "text": [
            "\rCT-GAN training loop:  80%|████████  | 402/500 [22:19<05:27,  3.34s/it]"
          ]
        },
        {
          "output_type": "stream",
          "name": "stdout",
          "text": [
            "[402/500] Loss_D: -0.020 | Loss_G: -0.146 | Loss D real : -0.211 | Loss D fake : 0.148 | Loss D GP : 0.034 | Loss D CT : 0.009 | Time : 3.327\n"
          ]
        },
        {
          "output_type": "stream",
          "name": "stderr",
          "text": [
            "\rCT-GAN training loop:  81%|████████  | 403/500 [22:22<05:25,  3.35s/it]"
          ]
        },
        {
          "output_type": "stream",
          "name": "stdout",
          "text": [
            "[403/500] Loss_D: -0.025 | Loss_G: -0.145 | Loss D real : -0.206 | Loss D fake : 0.144 | Loss D GP : 0.030 | Loss D CT : 0.007 | Time : 3.384\n"
          ]
        },
        {
          "output_type": "stream",
          "name": "stderr",
          "text": [
            "\rCT-GAN training loop:  81%|████████  | 404/500 [22:26<05:22,  3.36s/it]"
          ]
        },
        {
          "output_type": "stream",
          "name": "stdout",
          "text": [
            "[404/500] Loss_D: -0.003 | Loss_G: -0.130 | Loss D real : -0.195 | Loss D fake : 0.134 | Loss D GP : 0.053 | Loss D CT : 0.006 | Time : 3.358\n"
          ]
        },
        {
          "output_type": "stream",
          "name": "stderr",
          "text": [
            "\rCT-GAN training loop:  81%|████████  | 405/500 [22:29<05:19,  3.36s/it]"
          ]
        },
        {
          "output_type": "stream",
          "name": "stdout",
          "text": [
            "[405/500] Loss_D: -0.022 | Loss_G: -0.143 | Loss D real : -0.203 | Loss D fake : 0.143 | Loss D GP : 0.033 | Loss D CT : 0.005 | Time : 3.369\n"
          ]
        },
        {
          "output_type": "stream",
          "name": "stderr",
          "text": [
            "\rCT-GAN training loop:  81%|████████  | 406/500 [22:33<05:15,  3.36s/it]"
          ]
        },
        {
          "output_type": "stream",
          "name": "stdout",
          "text": [
            "[406/500] Loss_D: -0.019 | Loss_G: -0.133 | Loss D real : -0.201 | Loss D fake : 0.140 | Loss D GP : 0.037 | Loss D CT : 0.005 | Time : 3.359\n"
          ]
        },
        {
          "output_type": "stream",
          "name": "stderr",
          "text": [
            "\rCT-GAN training loop:  81%|████████▏ | 407/500 [22:36<05:13,  3.37s/it]"
          ]
        },
        {
          "output_type": "stream",
          "name": "stdout",
          "text": [
            "[407/500] Loss_D: -0.021 | Loss_G: -0.142 | Loss D real : -0.212 | Loss D fake : 0.150 | Loss D GP : 0.031 | Loss D CT : 0.011 | Time : 3.378\n"
          ]
        },
        {
          "output_type": "stream",
          "name": "stderr",
          "text": [
            "\rCT-GAN training loop:  82%|████████▏ | 408/500 [22:39<05:09,  3.36s/it]"
          ]
        },
        {
          "output_type": "stream",
          "name": "stdout",
          "text": [
            "[408/500] Loss_D: -0.021 | Loss_G: -0.132 | Loss D real : -0.198 | Loss D fake : 0.137 | Loss D GP : 0.032 | Loss D CT : 0.008 | Time : 3.337\n"
          ]
        },
        {
          "output_type": "stream",
          "name": "stderr",
          "text": [
            "\rCT-GAN training loop:  82%|████████▏ | 409/500 [22:43<05:06,  3.36s/it]"
          ]
        },
        {
          "output_type": "stream",
          "name": "stdout",
          "text": [
            "[409/500] Loss_D: -0.022 | Loss_G: -0.137 | Loss D real : -0.201 | Loss D fake : 0.139 | Loss D GP : 0.033 | Loss D CT : 0.007 | Time : 3.371\n"
          ]
        },
        {
          "output_type": "stream",
          "name": "stderr",
          "text": [
            "\rCT-GAN training loop:  82%|████████▏ | 410/500 [22:46<05:02,  3.36s/it]"
          ]
        },
        {
          "output_type": "stream",
          "name": "stdout",
          "text": [
            "[410/500] Loss_D: -0.023 | Loss_G: -0.128 | Loss D real : -0.188 | Loss D fake : 0.127 | Loss D GP : 0.032 | Loss D CT : 0.006 | Time : 3.360\n"
          ]
        },
        {
          "output_type": "stream",
          "name": "stderr",
          "text": [
            "\rCT-GAN training loop:  82%|████████▏ | 411/500 [22:49<04:59,  3.37s/it]"
          ]
        },
        {
          "output_type": "stream",
          "name": "stdout",
          "text": [
            "[411/500] Loss_D: -0.030 | Loss_G: -0.137 | Loss D real : -0.210 | Loss D fake : 0.143 | Loss D GP : 0.029 | Loss D CT : 0.008 | Time : 3.379\n"
          ]
        },
        {
          "output_type": "stream",
          "name": "stderr",
          "text": [
            "\rCT-GAN training loop:  82%|████████▏ | 412/500 [22:53<04:56,  3.37s/it]"
          ]
        },
        {
          "output_type": "stream",
          "name": "stdout",
          "text": [
            "[412/500] Loss_D: -0.023 | Loss_G: -0.130 | Loss D real : -0.201 | Loss D fake : 0.136 | Loss D GP : 0.035 | Loss D CT : 0.008 | Time : 3.352\n"
          ]
        },
        {
          "output_type": "stream",
          "name": "stderr",
          "text": [
            "\rCT-GAN training loop:  83%|████████▎ | 413/500 [22:56<04:53,  3.37s/it]"
          ]
        },
        {
          "output_type": "stream",
          "name": "stdout",
          "text": [
            "[413/500] Loss_D: -0.009 | Loss_G: -0.143 | Loss D real : -0.214 | Loss D fake : 0.150 | Loss D GP : 0.046 | Loss D CT : 0.008 | Time : 3.374\n"
          ]
        },
        {
          "output_type": "stream",
          "name": "stderr",
          "text": [
            "\rCT-GAN training loop:  83%|████████▎ | 414/500 [22:59<04:49,  3.37s/it]"
          ]
        },
        {
          "output_type": "stream",
          "name": "stdout",
          "text": [
            "[414/500] Loss_D: -0.020 | Loss_G: -0.145 | Loss D real : -0.203 | Loss D fake : 0.142 | Loss D GP : 0.037 | Loss D CT : 0.004 | Time : 3.366\n"
          ]
        },
        {
          "output_type": "stream",
          "name": "stderr",
          "text": [
            "\rCT-GAN training loop:  83%|████████▎ | 415/500 [23:03<04:46,  3.37s/it]"
          ]
        },
        {
          "output_type": "stream",
          "name": "stdout",
          "text": [
            "[415/500] Loss_D: -0.024 | Loss_G: -0.136 | Loss D real : -0.216 | Loss D fake : 0.151 | Loss D GP : 0.031 | Loss D CT : 0.011 | Time : 3.357\n"
          ]
        },
        {
          "output_type": "stream",
          "name": "stderr",
          "text": [
            "\rCT-GAN training loop:  83%|████████▎ | 416/500 [23:06<04:41,  3.35s/it]"
          ]
        },
        {
          "output_type": "stream",
          "name": "stdout",
          "text": [
            "[416/500] Loss_D: -0.025 | Loss_G: -0.136 | Loss D real : -0.205 | Loss D fake : 0.141 | Loss D GP : 0.032 | Loss D CT : 0.006 | Time : 3.322\n"
          ]
        },
        {
          "output_type": "stream",
          "name": "stderr",
          "text": [
            "\rCT-GAN training loop:  83%|████████▎ | 417/500 [23:10<04:39,  3.36s/it]"
          ]
        },
        {
          "output_type": "stream",
          "name": "stdout",
          "text": [
            "[417/500] Loss_D: -0.023 | Loss_G: -0.146 | Loss D real : -0.207 | Loss D fake : 0.145 | Loss D GP : 0.033 | Loss D CT : 0.006 | Time : 3.384\n"
          ]
        },
        {
          "output_type": "stream",
          "name": "stderr",
          "text": [
            "\rCT-GAN training loop:  84%|████████▎ | 418/500 [23:13<04:35,  3.36s/it]"
          ]
        },
        {
          "output_type": "stream",
          "name": "stdout",
          "text": [
            "[418/500] Loss_D: -0.023 | Loss_G: -0.141 | Loss D real : -0.213 | Loss D fake : 0.148 | Loss D GP : 0.032 | Loss D CT : 0.009 | Time : 3.341\n"
          ]
        },
        {
          "output_type": "stream",
          "name": "stderr",
          "text": [
            "\rCT-GAN training loop:  84%|████████▍ | 419/500 [23:16<04:32,  3.36s/it]"
          ]
        },
        {
          "output_type": "stream",
          "name": "stdout",
          "text": [
            "[419/500] Loss_D: -0.017 | Loss_G: -0.145 | Loss D real : -0.216 | Loss D fake : 0.155 | Loss D GP : 0.036 | Loss D CT : 0.009 | Time : 3.360\n"
          ]
        },
        {
          "output_type": "stream",
          "name": "stderr",
          "text": [
            "\rCT-GAN training loop:  84%|████████▍ | 420/500 [23:20<04:28,  3.36s/it]"
          ]
        },
        {
          "output_type": "stream",
          "name": "stdout",
          "text": [
            "[420/500] Loss_D: -0.026 | Loss_G: -0.142 | Loss D real : -0.214 | Loss D fake : 0.152 | Loss D GP : 0.029 | Loss D CT : 0.008 | Time : 3.341\n"
          ]
        },
        {
          "output_type": "stream",
          "name": "stderr",
          "text": [
            "\rCT-GAN training loop:  84%|████████▍ | 421/500 [23:23<04:25,  3.36s/it]"
          ]
        },
        {
          "output_type": "stream",
          "name": "stdout",
          "text": [
            "[421/500] Loss_D: -0.025 | Loss_G: -0.142 | Loss D real : -0.220 | Loss D fake : 0.156 | Loss D GP : 0.031 | Loss D CT : 0.008 | Time : 3.364\n"
          ]
        },
        {
          "output_type": "stream",
          "name": "stderr",
          "text": [
            "\rCT-GAN training loop:  84%|████████▍ | 422/500 [23:26<04:21,  3.36s/it]"
          ]
        },
        {
          "output_type": "stream",
          "name": "stdout",
          "text": [
            "[422/500] Loss_D: -0.026 | Loss_G: -0.145 | Loss D real : -0.202 | Loss D fake : 0.140 | Loss D GP : 0.031 | Loss D CT : 0.005 | Time : 3.351\n"
          ]
        },
        {
          "output_type": "stream",
          "name": "stderr",
          "text": [
            "\rCT-GAN training loop:  85%|████████▍ | 423/500 [23:30<04:17,  3.35s/it]"
          ]
        },
        {
          "output_type": "stream",
          "name": "stdout",
          "text": [
            "[423/500] Loss_D: -0.015 | Loss_G: -0.144 | Loss D real : -0.211 | Loss D fake : 0.145 | Loss D GP : 0.043 | Loss D CT : 0.009 | Time : 3.331\n"
          ]
        },
        {
          "output_type": "stream",
          "name": "stderr",
          "text": [
            "\rCT-GAN training loop:  85%|████████▍ | 424/500 [23:33<04:14,  3.35s/it]"
          ]
        },
        {
          "output_type": "stream",
          "name": "stdout",
          "text": [
            "[424/500] Loss_D: -0.018 | Loss_G: -0.149 | Loss D real : -0.212 | Loss D fake : 0.149 | Loss D GP : 0.038 | Loss D CT : 0.007 | Time : 3.343\n"
          ]
        },
        {
          "output_type": "stream",
          "name": "stderr",
          "text": [
            "\rCT-GAN training loop:  85%|████████▌ | 425/500 [23:36<04:11,  3.35s/it]"
          ]
        },
        {
          "output_type": "stream",
          "name": "stdout",
          "text": [
            "[425/500] Loss_D: -0.014 | Loss_G: -0.143 | Loss D real : -0.213 | Loss D fake : 0.150 | Loss D GP : 0.040 | Loss D CT : 0.008 | Time : 3.363\n"
          ]
        },
        {
          "output_type": "stream",
          "name": "stderr",
          "text": [
            "\rCT-GAN training loop:  85%|████████▌ | 426/500 [23:40<04:08,  3.35s/it]"
          ]
        },
        {
          "output_type": "stream",
          "name": "stdout",
          "text": [
            "[426/500] Loss_D: -0.002 | Loss_G: -0.151 | Loss D real : -0.224 | Loss D fake : 0.159 | Loss D GP : 0.056 | Loss D CT : 0.008 | Time : 3.349\n"
          ]
        },
        {
          "output_type": "stream",
          "name": "stderr",
          "text": [
            "\rCT-GAN training loop:  85%|████████▌ | 427/500 [23:43<04:05,  3.36s/it]"
          ]
        },
        {
          "output_type": "stream",
          "name": "stdout",
          "text": [
            "[427/500] Loss_D: -0.027 | Loss_G: -0.147 | Loss D real : -0.212 | Loss D fake : 0.150 | Loss D GP : 0.029 | Loss D CT : 0.006 | Time : 3.360\n"
          ]
        },
        {
          "output_type": "stream",
          "name": "stderr",
          "text": [
            "\rCT-GAN training loop:  86%|████████▌ | 428/500 [23:46<04:01,  3.36s/it]"
          ]
        },
        {
          "output_type": "stream",
          "name": "stdout",
          "text": [
            "[428/500] Loss_D: -0.015 | Loss_G: -0.141 | Loss D real : -0.198 | Loss D fake : 0.137 | Loss D GP : 0.042 | Loss D CT : 0.004 | Time : 3.354\n"
          ]
        },
        {
          "output_type": "stream",
          "name": "stderr",
          "text": [
            "\rCT-GAN training loop:  86%|████████▌ | 429/500 [23:50<03:58,  3.36s/it]"
          ]
        },
        {
          "output_type": "stream",
          "name": "stdout",
          "text": [
            "[429/500] Loss_D: -0.020 | Loss_G: -0.147 | Loss D real : -0.210 | Loss D fake : 0.150 | Loss D GP : 0.035 | Loss D CT : 0.005 | Time : 3.352\n"
          ]
        },
        {
          "output_type": "stream",
          "name": "stderr",
          "text": [
            "\rCT-GAN training loop:  86%|████████▌ | 430/500 [23:53<03:55,  3.36s/it]"
          ]
        },
        {
          "output_type": "stream",
          "name": "stdout",
          "text": [
            "[430/500] Loss_D: -0.020 | Loss_G: -0.137 | Loss D real : -0.202 | Loss D fake : 0.137 | Loss D GP : 0.036 | Loss D CT : 0.009 | Time : 3.361\n"
          ]
        },
        {
          "output_type": "stream",
          "name": "stderr",
          "text": [
            "\rCT-GAN training loop:  86%|████████▌ | 431/500 [23:57<03:52,  3.37s/it]"
          ]
        },
        {
          "output_type": "stream",
          "name": "stdout",
          "text": [
            "[431/500] Loss_D: -0.009 | Loss_G: -0.143 | Loss D real : -0.205 | Loss D fake : 0.146 | Loss D GP : 0.041 | Loss D CT : 0.009 | Time : 3.380\n"
          ]
        },
        {
          "output_type": "stream",
          "name": "stderr",
          "text": [
            "\rCT-GAN training loop:  86%|████████▋ | 432/500 [24:00<03:49,  3.37s/it]"
          ]
        },
        {
          "output_type": "stream",
          "name": "stdout",
          "text": [
            "[432/500] Loss_D: -0.010 | Loss_G: -0.140 | Loss D real : -0.199 | Loss D fake : 0.140 | Loss D GP : 0.046 | Loss D CT : 0.003 | Time : 3.369\n"
          ]
        },
        {
          "output_type": "stream",
          "name": "stderr",
          "text": [
            "\rCT-GAN training loop:  87%|████████▋ | 433/500 [24:03<03:45,  3.37s/it]"
          ]
        },
        {
          "output_type": "stream",
          "name": "stdout",
          "text": [
            "[433/500] Loss_D: -0.012 | Loss_G: -0.145 | Loss D real : -0.208 | Loss D fake : 0.151 | Loss D GP : 0.039 | Loss D CT : 0.006 | Time : 3.371\n"
          ]
        },
        {
          "output_type": "stream",
          "name": "stderr",
          "text": [
            "\rCT-GAN training loop:  87%|████████▋ | 434/500 [24:07<03:42,  3.37s/it]"
          ]
        },
        {
          "output_type": "stream",
          "name": "stdout",
          "text": [
            "[434/500] Loss_D: -0.025 | Loss_G: -0.145 | Loss D real : -0.207 | Loss D fake : 0.149 | Loss D GP : 0.028 | Loss D CT : 0.006 | Time : 3.356\n"
          ]
        },
        {
          "output_type": "stream",
          "name": "stderr",
          "text": [
            "\rCT-GAN training loop:  87%|████████▋ | 435/500 [24:10<03:38,  3.37s/it]"
          ]
        },
        {
          "output_type": "stream",
          "name": "stdout",
          "text": [
            "[435/500] Loss_D: -0.021 | Loss_G: -0.150 | Loss D real : -0.216 | Loss D fake : 0.158 | Loss D GP : 0.031 | Loss D CT : 0.006 | Time : 3.363\n"
          ]
        },
        {
          "output_type": "stream",
          "name": "stderr",
          "text": [
            "\rCT-GAN training loop:  87%|████████▋ | 436/500 [24:13<03:36,  3.39s/it]"
          ]
        },
        {
          "output_type": "stream",
          "name": "stdout",
          "text": [
            "[436/500] Loss_D: -0.020 | Loss_G: -0.145 | Loss D real : -0.216 | Loss D fake : 0.153 | Loss D GP : 0.037 | Loss D CT : 0.006 | Time : 3.430\n"
          ]
        },
        {
          "output_type": "stream",
          "name": "stderr",
          "text": [
            "\rCT-GAN training loop:  87%|████████▋ | 437/500 [24:17<03:32,  3.38s/it]"
          ]
        },
        {
          "output_type": "stream",
          "name": "stdout",
          "text": [
            "[437/500] Loss_D: -0.017 | Loss_G: -0.146 | Loss D real : -0.217 | Loss D fake : 0.154 | Loss D GP : 0.038 | Loss D CT : 0.008 | Time : 3.350\n"
          ]
        },
        {
          "output_type": "stream",
          "name": "stderr",
          "text": [
            "\rCT-GAN training loop:  88%|████████▊ | 438/500 [24:20<03:28,  3.37s/it]"
          ]
        },
        {
          "output_type": "stream",
          "name": "stdout",
          "text": [
            "[438/500] Loss_D: -0.009 | Loss_G: -0.124 | Loss D real : -0.203 | Loss D fake : 0.135 | Loss D GP : 0.047 | Loss D CT : 0.013 | Time : 3.349\n"
          ]
        },
        {
          "output_type": "stream",
          "name": "stderr",
          "text": [
            "\rCT-GAN training loop:  88%|████████▊ | 439/500 [24:24<03:25,  3.37s/it]"
          ]
        },
        {
          "output_type": "stream",
          "name": "stdout",
          "text": [
            "[439/500] Loss_D: -0.021 | Loss_G: -0.144 | Loss D real : -0.211 | Loss D fake : 0.146 | Loss D GP : 0.036 | Loss D CT : 0.009 | Time : 3.352\n"
          ]
        },
        {
          "output_type": "stream",
          "name": "stderr",
          "text": [
            "\rCT-GAN training loop:  88%|████████▊ | 440/500 [24:27<03:21,  3.36s/it]"
          ]
        },
        {
          "output_type": "stream",
          "name": "stdout",
          "text": [
            "[440/500] Loss_D: -0.013 | Loss_G: -0.130 | Loss D real : -0.199 | Loss D fake : 0.136 | Loss D GP : 0.045 | Loss D CT : 0.006 | Time : 3.354\n"
          ]
        },
        {
          "output_type": "stream",
          "name": "stderr",
          "text": [
            "\rCT-GAN training loop:  88%|████████▊ | 441/500 [24:30<03:18,  3.36s/it]"
          ]
        },
        {
          "output_type": "stream",
          "name": "stdout",
          "text": [
            "[441/500] Loss_D: -0.009 | Loss_G: -0.165 | Loss D real : -0.219 | Loss D fake : 0.160 | Loss D GP : 0.045 | Loss D CT : 0.004 | Time : 3.362\n"
          ]
        },
        {
          "output_type": "stream",
          "name": "stderr",
          "text": [
            "\rCT-GAN training loop:  88%|████████▊ | 442/500 [24:34<03:14,  3.35s/it]"
          ]
        },
        {
          "output_type": "stream",
          "name": "stdout",
          "text": [
            "[442/500] Loss_D: -0.024 | Loss_G: -0.130 | Loss D real : -0.188 | Loss D fake : 0.125 | Loss D GP : 0.032 | Loss D CT : 0.007 | Time : 3.329\n"
          ]
        },
        {
          "output_type": "stream",
          "name": "stderr",
          "text": [
            "\rCT-GAN training loop:  89%|████████▊ | 443/500 [24:37<03:10,  3.35s/it]"
          ]
        },
        {
          "output_type": "stream",
          "name": "stdout",
          "text": [
            "[443/500] Loss_D: -0.024 | Loss_G: -0.145 | Loss D real : -0.204 | Loss D fake : 0.145 | Loss D GP : 0.032 | Loss D CT : 0.003 | Time : 3.338\n"
          ]
        },
        {
          "output_type": "stream",
          "name": "stderr",
          "text": [
            "\rCT-GAN training loop:  89%|████████▉ | 444/500 [24:40<03:07,  3.36s/it]"
          ]
        },
        {
          "output_type": "stream",
          "name": "stdout",
          "text": [
            "[444/500] Loss_D: -0.014 | Loss_G: -0.144 | Loss D real : -0.211 | Loss D fake : 0.150 | Loss D GP : 0.039 | Loss D CT : 0.008 | Time : 3.366\n"
          ]
        },
        {
          "output_type": "stream",
          "name": "stderr",
          "text": [
            "\rCT-GAN training loop:  89%|████████▉ | 445/500 [24:44<03:04,  3.36s/it]"
          ]
        },
        {
          "output_type": "stream",
          "name": "stdout",
          "text": [
            "[445/500] Loss_D: -0.029 | Loss_G: -0.147 | Loss D real : -0.214 | Loss D fake : 0.154 | Loss D GP : 0.025 | Loss D CT : 0.006 | Time : 3.361\n"
          ]
        },
        {
          "output_type": "stream",
          "name": "stderr",
          "text": [
            "\rCT-GAN training loop:  89%|████████▉ | 446/500 [24:47<03:01,  3.36s/it]"
          ]
        },
        {
          "output_type": "stream",
          "name": "stdout",
          "text": [
            "[446/500] Loss_D: -0.021 | Loss_G: -0.142 | Loss D real : -0.212 | Loss D fake : 0.148 | Loss D GP : 0.034 | Loss D CT : 0.008 | Time : 3.360\n"
          ]
        },
        {
          "output_type": "stream",
          "name": "stderr",
          "text": [
            "\rCT-GAN training loop:  89%|████████▉ | 447/500 [24:50<02:57,  3.36s/it]"
          ]
        },
        {
          "output_type": "stream",
          "name": "stdout",
          "text": [
            "[447/500] Loss_D: -0.021 | Loss_G: -0.148 | Loss D real : -0.217 | Loss D fake : 0.153 | Loss D GP : 0.036 | Loss D CT : 0.008 | Time : 3.351\n"
          ]
        },
        {
          "output_type": "stream",
          "name": "stderr",
          "text": [
            "\rCT-GAN training loop:  90%|████████▉ | 448/500 [24:54<02:54,  3.35s/it]"
          ]
        },
        {
          "output_type": "stream",
          "name": "stdout",
          "text": [
            "[448/500] Loss_D: -0.012 | Loss_G: -0.138 | Loss D real : -0.206 | Loss D fake : 0.145 | Loss D GP : 0.043 | Loss D CT : 0.007 | Time : 3.338\n"
          ]
        },
        {
          "output_type": "stream",
          "name": "stderr",
          "text": [
            "\rCT-GAN training loop:  90%|████████▉ | 449/500 [24:57<02:50,  3.35s/it]"
          ]
        },
        {
          "output_type": "stream",
          "name": "stdout",
          "text": [
            "[449/500] Loss_D: -0.021 | Loss_G: -0.134 | Loss D real : -0.208 | Loss D fake : 0.144 | Loss D GP : 0.034 | Loss D CT : 0.009 | Time : 3.334\n"
          ]
        },
        {
          "output_type": "stream",
          "name": "stderr",
          "text": [
            "\rCT-GAN training loop:  90%|█████████ | 450/500 [25:00<02:47,  3.35s/it]"
          ]
        },
        {
          "output_type": "stream",
          "name": "stdout",
          "text": [
            "[450/500] Loss_D: -0.012 | Loss_G: -0.142 | Loss D real : -0.206 | Loss D fake : 0.145 | Loss D GP : 0.041 | Loss D CT : 0.009 | Time : 3.350\n"
          ]
        },
        {
          "output_type": "stream",
          "name": "stderr",
          "text": [
            "\rCT-GAN training loop:  90%|█████████ | 451/500 [25:04<02:44,  3.36s/it]"
          ]
        },
        {
          "output_type": "stream",
          "name": "stdout",
          "text": [
            "[451/500] Loss_D: -0.024 | Loss_G: -0.146 | Loss D real : -0.216 | Loss D fake : 0.150 | Loss D GP : 0.035 | Loss D CT : 0.007 | Time : 3.371\n"
          ]
        },
        {
          "output_type": "stream",
          "name": "stderr",
          "text": [
            "\rCT-GAN training loop:  90%|█████████ | 452/500 [25:07<02:41,  3.36s/it]"
          ]
        },
        {
          "output_type": "stream",
          "name": "stdout",
          "text": [
            "[452/500] Loss_D: -0.017 | Loss_G: -0.136 | Loss D real : -0.189 | Loss D fake : 0.130 | Loss D GP : 0.037 | Loss D CT : 0.006 | Time : 3.347\n"
          ]
        },
        {
          "output_type": "stream",
          "name": "stderr",
          "text": [
            "\rCT-GAN training loop:  91%|█████████ | 453/500 [25:10<02:37,  3.36s/it]"
          ]
        },
        {
          "output_type": "stream",
          "name": "stdout",
          "text": [
            "[453/500] Loss_D: -0.020 | Loss_G: -0.137 | Loss D real : -0.203 | Loss D fake : 0.135 | Loss D GP : 0.041 | Loss D CT : 0.007 | Time : 3.358\n"
          ]
        },
        {
          "output_type": "stream",
          "name": "stderr",
          "text": [
            "\rCT-GAN training loop:  91%|█████████ | 454/500 [25:14<02:34,  3.35s/it]"
          ]
        },
        {
          "output_type": "stream",
          "name": "stdout",
          "text": [
            "[454/500] Loss_D: -0.013 | Loss_G: -0.133 | Loss D real : -0.204 | Loss D fake : 0.142 | Loss D GP : 0.039 | Loss D CT : 0.010 | Time : 3.337\n"
          ]
        },
        {
          "output_type": "stream",
          "name": "stderr",
          "text": [
            "\rCT-GAN training loop:  91%|█████████ | 455/500 [25:17<02:31,  3.36s/it]"
          ]
        },
        {
          "output_type": "stream",
          "name": "stdout",
          "text": [
            "[455/500] Loss_D: -0.017 | Loss_G: -0.140 | Loss D real : -0.198 | Loss D fake : 0.136 | Loss D GP : 0.040 | Loss D CT : 0.006 | Time : 3.380\n"
          ]
        },
        {
          "output_type": "stream",
          "name": "stderr",
          "text": [
            "\rCT-GAN training loop:  91%|█████████ | 456/500 [25:21<02:27,  3.36s/it]"
          ]
        },
        {
          "output_type": "stream",
          "name": "stdout",
          "text": [
            "[456/500] Loss_D: -0.016 | Loss_G: -0.131 | Loss D real : -0.199 | Loss D fake : 0.137 | Loss D GP : 0.038 | Loss D CT : 0.008 | Time : 3.344\n"
          ]
        },
        {
          "output_type": "stream",
          "name": "stderr",
          "text": [
            "\rCT-GAN training loop:  91%|█████████▏| 457/500 [25:24<02:24,  3.36s/it]"
          ]
        },
        {
          "output_type": "stream",
          "name": "stdout",
          "text": [
            "[457/500] Loss_D: -0.021 | Loss_G: -0.144 | Loss D real : -0.205 | Loss D fake : 0.141 | Loss D GP : 0.036 | Loss D CT : 0.008 | Time : 3.371\n"
          ]
        },
        {
          "output_type": "stream",
          "name": "stderr",
          "text": [
            "\rCT-GAN training loop:  92%|█████████▏| 458/500 [25:27<02:21,  3.37s/it]"
          ]
        },
        {
          "output_type": "stream",
          "name": "stdout",
          "text": [
            "[458/500] Loss_D: -0.023 | Loss_G: -0.145 | Loss D real : -0.198 | Loss D fake : 0.139 | Loss D GP : 0.033 | Loss D CT : 0.004 | Time : 3.369\n"
          ]
        },
        {
          "output_type": "stream",
          "name": "stderr",
          "text": [
            "\rCT-GAN training loop:  92%|█████████▏| 459/500 [25:31<02:17,  3.36s/it]"
          ]
        },
        {
          "output_type": "stream",
          "name": "stdout",
          "text": [
            "[459/500] Loss_D: -0.022 | Loss_G: -0.137 | Loss D real : -0.198 | Loss D fake : 0.135 | Loss D GP : 0.034 | Loss D CT : 0.006 | Time : 3.350\n"
          ]
        },
        {
          "output_type": "stream",
          "name": "stderr",
          "text": [
            "\rCT-GAN training loop:  92%|█████████▏| 460/500 [25:34<02:14,  3.36s/it]"
          ]
        },
        {
          "output_type": "stream",
          "name": "stdout",
          "text": [
            "[460/500] Loss_D: -0.019 | Loss_G: -0.146 | Loss D real : -0.209 | Loss D fake : 0.148 | Loss D GP : 0.035 | Loss D CT : 0.007 | Time : 3.341\n"
          ]
        },
        {
          "output_type": "stream",
          "name": "stderr",
          "text": [
            "\rCT-GAN training loop:  92%|█████████▏| 461/500 [25:37<02:11,  3.36s/it]"
          ]
        },
        {
          "output_type": "stream",
          "name": "stdout",
          "text": [
            "[461/500] Loss_D: -0.023 | Loss_G: -0.149 | Loss D real : -0.207 | Loss D fake : 0.146 | Loss D GP : 0.031 | Loss D CT : 0.007 | Time : 3.366\n"
          ]
        },
        {
          "output_type": "stream",
          "name": "stderr",
          "text": [
            "\rCT-GAN training loop:  92%|█████████▏| 462/500 [25:41<02:07,  3.35s/it]"
          ]
        },
        {
          "output_type": "stream",
          "name": "stdout",
          "text": [
            "[462/500] Loss_D: -0.018 | Loss_G: -0.141 | Loss D real : -0.213 | Loss D fake : 0.151 | Loss D GP : 0.036 | Loss D CT : 0.007 | Time : 3.335\n"
          ]
        },
        {
          "output_type": "stream",
          "name": "stderr",
          "text": [
            "\rCT-GAN training loop:  93%|█████████▎| 463/500 [25:44<02:04,  3.35s/it]"
          ]
        },
        {
          "output_type": "stream",
          "name": "stdout",
          "text": [
            "[463/500] Loss_D: -0.019 | Loss_G: -0.131 | Loss D real : -0.211 | Loss D fake : 0.143 | Loss D GP : 0.040 | Loss D CT : 0.009 | Time : 3.346\n"
          ]
        },
        {
          "output_type": "stream",
          "name": "stderr",
          "text": [
            "\rCT-GAN training loop:  93%|█████████▎| 464/500 [25:47<02:00,  3.35s/it]"
          ]
        },
        {
          "output_type": "stream",
          "name": "stdout",
          "text": [
            "[464/500] Loss_D: -0.018 | Loss_G: -0.143 | Loss D real : -0.209 | Loss D fake : 0.147 | Loss D GP : 0.036 | Loss D CT : 0.008 | Time : 3.336\n"
          ]
        },
        {
          "output_type": "stream",
          "name": "stderr",
          "text": [
            "\rCT-GAN training loop:  93%|█████████▎| 465/500 [25:51<01:57,  3.35s/it]"
          ]
        },
        {
          "output_type": "stream",
          "name": "stdout",
          "text": [
            "[465/500] Loss_D: -0.028 | Loss_G: -0.135 | Loss D real : -0.205 | Loss D fake : 0.143 | Loss D GP : 0.028 | Loss D CT : 0.006 | Time : 3.354\n"
          ]
        },
        {
          "output_type": "stream",
          "name": "stderr",
          "text": [
            "\rCT-GAN training loop:  93%|█████████▎| 466/500 [25:54<01:53,  3.35s/it]"
          ]
        },
        {
          "output_type": "stream",
          "name": "stdout",
          "text": [
            "[466/500] Loss_D: -0.027 | Loss_G: -0.143 | Loss D real : -0.207 | Loss D fake : 0.144 | Loss D GP : 0.030 | Loss D CT : 0.006 | Time : 3.334\n"
          ]
        },
        {
          "output_type": "stream",
          "name": "stderr",
          "text": [
            "\rCT-GAN training loop:  93%|█████████▎| 467/500 [25:57<01:50,  3.35s/it]"
          ]
        },
        {
          "output_type": "stream",
          "name": "stdout",
          "text": [
            "[467/500] Loss_D: -0.015 | Loss_G: -0.146 | Loss D real : -0.205 | Loss D fake : 0.141 | Loss D GP : 0.043 | Loss D CT : 0.007 | Time : 3.362\n"
          ]
        },
        {
          "output_type": "stream",
          "name": "stderr",
          "text": [
            "\rCT-GAN training loop:  94%|█████████▎| 468/500 [26:01<01:47,  3.36s/it]"
          ]
        },
        {
          "output_type": "stream",
          "name": "stdout",
          "text": [
            "[468/500] Loss_D: -0.022 | Loss_G: -0.140 | Loss D real : -0.211 | Loss D fake : 0.149 | Loss D GP : 0.032 | Loss D CT : 0.008 | Time : 3.368\n"
          ]
        },
        {
          "output_type": "stream",
          "name": "stderr",
          "text": [
            "\rCT-GAN training loop:  94%|█████████▍| 469/500 [26:04<01:44,  3.36s/it]"
          ]
        },
        {
          "output_type": "stream",
          "name": "stdout",
          "text": [
            "[469/500] Loss_D: -0.017 | Loss_G: -0.144 | Loss D real : -0.207 | Loss D fake : 0.142 | Loss D GP : 0.039 | Loss D CT : 0.009 | Time : 3.376\n"
          ]
        },
        {
          "output_type": "stream",
          "name": "stderr",
          "text": [
            "\rCT-GAN training loop:  94%|█████████▍| 470/500 [26:08<01:40,  3.36s/it]"
          ]
        },
        {
          "output_type": "stream",
          "name": "stdout",
          "text": [
            "[470/500] Loss_D: -0.012 | Loss_G: -0.144 | Loss D real : -0.209 | Loss D fake : 0.148 | Loss D GP : 0.044 | Loss D CT : 0.005 | Time : 3.341\n"
          ]
        },
        {
          "output_type": "stream",
          "name": "stderr",
          "text": [
            "\rCT-GAN training loop:  94%|█████████▍| 471/500 [26:11<01:37,  3.36s/it]"
          ]
        },
        {
          "output_type": "stream",
          "name": "stdout",
          "text": [
            "[471/500] Loss_D: -0.024 | Loss_G: -0.144 | Loss D real : -0.204 | Loss D fake : 0.143 | Loss D GP : 0.030 | Loss D CT : 0.007 | Time : 3.355\n"
          ]
        },
        {
          "output_type": "stream",
          "name": "stderr",
          "text": [
            "\rCT-GAN training loop:  94%|█████████▍| 472/500 [26:14<01:33,  3.35s/it]"
          ]
        },
        {
          "output_type": "stream",
          "name": "stdout",
          "text": [
            "[472/500] Loss_D: -0.019 | Loss_G: -0.137 | Loss D real : -0.197 | Loss D fake : 0.137 | Loss D GP : 0.033 | Loss D CT : 0.007 | Time : 3.342\n"
          ]
        },
        {
          "output_type": "stream",
          "name": "stderr",
          "text": [
            "\rCT-GAN training loop:  95%|█████████▍| 473/500 [26:18<01:30,  3.36s/it]"
          ]
        },
        {
          "output_type": "stream",
          "name": "stdout",
          "text": [
            "[473/500] Loss_D: -0.026 | Loss_G: -0.151 | Loss D real : -0.218 | Loss D fake : 0.156 | Loss D GP : 0.030 | Loss D CT : 0.006 | Time : 3.370\n"
          ]
        },
        {
          "output_type": "stream",
          "name": "stderr",
          "text": [
            "\rCT-GAN training loop:  95%|█████████▍| 474/500 [26:21<01:27,  3.36s/it]"
          ]
        },
        {
          "output_type": "stream",
          "name": "stdout",
          "text": [
            "[474/500] Loss_D: -0.024 | Loss_G: -0.149 | Loss D real : -0.217 | Loss D fake : 0.155 | Loss D GP : 0.033 | Loss D CT : 0.006 | Time : 3.352\n"
          ]
        },
        {
          "output_type": "stream",
          "name": "stderr",
          "text": [
            "\rCT-GAN training loop:  95%|█████████▌| 475/500 [26:24<01:23,  3.36s/it]"
          ]
        },
        {
          "output_type": "stream",
          "name": "stdout",
          "text": [
            "[475/500] Loss_D: -0.023 | Loss_G: -0.137 | Loss D real : -0.207 | Loss D fake : 0.139 | Loss D GP : 0.037 | Loss D CT : 0.008 | Time : 3.347\n"
          ]
        },
        {
          "output_type": "stream",
          "name": "stderr",
          "text": [
            "\rCT-GAN training loop:  95%|█████████▌| 476/500 [26:28<01:20,  3.37s/it]"
          ]
        },
        {
          "output_type": "stream",
          "name": "stdout",
          "text": [
            "[476/500] Loss_D: -0.010 | Loss_G: -0.140 | Loss D real : -0.209 | Loss D fake : 0.149 | Loss D GP : 0.043 | Loss D CT : 0.007 | Time : 3.400\n"
          ]
        },
        {
          "output_type": "stream",
          "name": "stderr",
          "text": [
            "\rCT-GAN training loop:  95%|█████████▌| 477/500 [26:31<01:17,  3.37s/it]"
          ]
        },
        {
          "output_type": "stream",
          "name": "stdout",
          "text": [
            "[477/500] Loss_D: -0.021 | Loss_G: -0.149 | Loss D real : -0.213 | Loss D fake : 0.154 | Loss D GP : 0.032 | Loss D CT : 0.005 | Time : 3.377\n"
          ]
        },
        {
          "output_type": "stream",
          "name": "stderr",
          "text": [
            "\rCT-GAN training loop:  96%|█████████▌| 478/500 [26:34<01:14,  3.37s/it]"
          ]
        },
        {
          "output_type": "stream",
          "name": "stdout",
          "text": [
            "[478/500] Loss_D: -0.025 | Loss_G: -0.144 | Loss D real : -0.196 | Loss D fake : 0.135 | Loss D GP : 0.031 | Loss D CT : 0.005 | Time : 3.351\n"
          ]
        },
        {
          "output_type": "stream",
          "name": "stderr",
          "text": [
            "\rCT-GAN training loop:  96%|█████████▌| 479/500 [26:38<01:10,  3.36s/it]"
          ]
        },
        {
          "output_type": "stream",
          "name": "stdout",
          "text": [
            "[479/500] Loss_D: -0.017 | Loss_G: -0.139 | Loss D real : -0.210 | Loss D fake : 0.146 | Loss D GP : 0.041 | Loss D CT : 0.006 | Time : 3.347\n"
          ]
        },
        {
          "output_type": "stream",
          "name": "stderr",
          "text": [
            "\rCT-GAN training loop:  96%|█████████▌| 480/500 [26:41<01:07,  3.37s/it]"
          ]
        },
        {
          "output_type": "stream",
          "name": "stdout",
          "text": [
            "[480/500] Loss_D: -0.022 | Loss_G: -0.145 | Loss D real : -0.213 | Loss D fake : 0.150 | Loss D GP : 0.033 | Loss D CT : 0.008 | Time : 3.375\n"
          ]
        },
        {
          "output_type": "stream",
          "name": "stderr",
          "text": [
            "\rCT-GAN training loop:  96%|█████████▌| 481/500 [26:45<01:03,  3.37s/it]"
          ]
        },
        {
          "output_type": "stream",
          "name": "stdout",
          "text": [
            "[481/500] Loss_D: -0.024 | Loss_G: -0.149 | Loss D real : -0.208 | Loss D fake : 0.148 | Loss D GP : 0.030 | Loss D CT : 0.005 | Time : 3.366\n"
          ]
        },
        {
          "output_type": "stream",
          "name": "stderr",
          "text": [
            "\rCT-GAN training loop:  96%|█████████▋| 482/500 [26:48<01:00,  3.36s/it]"
          ]
        },
        {
          "output_type": "stream",
          "name": "stdout",
          "text": [
            "[482/500] Loss_D: -0.017 | Loss_G: -0.145 | Loss D real : -0.209 | Loss D fake : 0.146 | Loss D GP : 0.040 | Loss D CT : 0.006 | Time : 3.335\n"
          ]
        },
        {
          "output_type": "stream",
          "name": "stderr",
          "text": [
            "\rCT-GAN training loop:  97%|█████████▋| 483/500 [26:51<00:57,  3.36s/it]"
          ]
        },
        {
          "output_type": "stream",
          "name": "stdout",
          "text": [
            "[483/500] Loss_D: -0.030 | Loss_G: -0.147 | Loss D real : -0.209 | Loss D fake : 0.147 | Loss D GP : 0.026 | Loss D CT : 0.006 | Time : 3.348\n"
          ]
        },
        {
          "output_type": "stream",
          "name": "stderr",
          "text": [
            "\rCT-GAN training loop:  97%|█████████▋| 484/500 [26:55<00:53,  3.36s/it]"
          ]
        },
        {
          "output_type": "stream",
          "name": "stdout",
          "text": [
            "[484/500] Loss_D: -0.028 | Loss_G: -0.147 | Loss D real : -0.217 | Loss D fake : 0.151 | Loss D GP : 0.030 | Loss D CT : 0.007 | Time : 3.363\n"
          ]
        },
        {
          "output_type": "stream",
          "name": "stderr",
          "text": [
            "\rCT-GAN training loop:  97%|█████████▋| 485/500 [26:58<00:50,  3.36s/it]"
          ]
        },
        {
          "output_type": "stream",
          "name": "stdout",
          "text": [
            "[485/500] Loss_D: -0.023 | Loss_G: -0.139 | Loss D real : -0.211 | Loss D fake : 0.144 | Loss D GP : 0.036 | Loss D CT : 0.008 | Time : 3.344\n"
          ]
        },
        {
          "output_type": "stream",
          "name": "stderr",
          "text": [
            "\rCT-GAN training loop:  97%|█████████▋| 486/500 [27:01<00:46,  3.35s/it]"
          ]
        },
        {
          "output_type": "stream",
          "name": "stdout",
          "text": [
            "[486/500] Loss_D: -0.021 | Loss_G: -0.144 | Loss D real : -0.214 | Loss D fake : 0.147 | Loss D GP : 0.039 | Loss D CT : 0.007 | Time : 3.330\n"
          ]
        },
        {
          "output_type": "stream",
          "name": "stderr",
          "text": [
            "\rCT-GAN training loop:  97%|█████████▋| 487/500 [27:05<00:43,  3.36s/it]"
          ]
        },
        {
          "output_type": "stream",
          "name": "stdout",
          "text": [
            "[487/500] Loss_D: -0.021 | Loss_G: -0.136 | Loss D real : -0.205 | Loss D fake : 0.143 | Loss D GP : 0.033 | Loss D CT : 0.008 | Time : 3.368\n"
          ]
        },
        {
          "output_type": "stream",
          "name": "stderr",
          "text": [
            "\rCT-GAN training loop:  98%|█████████▊| 488/500 [27:08<00:40,  3.35s/it]"
          ]
        },
        {
          "output_type": "stream",
          "name": "stdout",
          "text": [
            "[488/500] Loss_D: -0.021 | Loss_G: -0.153 | Loss D real : -0.206 | Loss D fake : 0.144 | Loss D GP : 0.036 | Loss D CT : 0.006 | Time : 3.344\n"
          ]
        },
        {
          "output_type": "stream",
          "name": "stderr",
          "text": [
            "\rCT-GAN training loop:  98%|█████████▊| 489/500 [27:11<00:36,  3.35s/it]"
          ]
        },
        {
          "output_type": "stream",
          "name": "stdout",
          "text": [
            "[489/500] Loss_D: -0.031 | Loss_G: -0.148 | Loss D real : -0.214 | Loss D fake : 0.151 | Loss D GP : 0.027 | Loss D CT : 0.005 | Time : 3.355\n"
          ]
        },
        {
          "output_type": "stream",
          "name": "stderr",
          "text": [
            "\rCT-GAN training loop:  98%|█████████▊| 490/500 [27:15<00:33,  3.35s/it]"
          ]
        },
        {
          "output_type": "stream",
          "name": "stdout",
          "text": [
            "[490/500] Loss_D: -0.019 | Loss_G: -0.134 | Loss D real : -0.196 | Loss D fake : 0.135 | Loss D GP : 0.035 | Loss D CT : 0.008 | Time : 3.346\n"
          ]
        },
        {
          "output_type": "stream",
          "name": "stderr",
          "text": [
            "\rCT-GAN training loop:  98%|█████████▊| 491/500 [27:18<00:30,  3.36s/it]"
          ]
        },
        {
          "output_type": "stream",
          "name": "stdout",
          "text": [
            "[491/500] Loss_D: -0.016 | Loss_G: -0.149 | Loss D real : -0.215 | Loss D fake : 0.154 | Loss D GP : 0.037 | Loss D CT : 0.008 | Time : 3.374\n"
          ]
        },
        {
          "output_type": "stream",
          "name": "stderr",
          "text": [
            "\rCT-GAN training loop:  98%|█████████▊| 492/500 [27:21<00:26,  3.37s/it]"
          ]
        },
        {
          "output_type": "stream",
          "name": "stdout",
          "text": [
            "[492/500] Loss_D: -0.019 | Loss_G: -0.149 | Loss D real : -0.214 | Loss D fake : 0.151 | Loss D GP : 0.037 | Loss D CT : 0.006 | Time : 3.381\n"
          ]
        },
        {
          "output_type": "stream",
          "name": "stderr",
          "text": [
            "\rCT-GAN training loop:  99%|█████████▊| 493/500 [27:25<00:23,  3.37s/it]"
          ]
        },
        {
          "output_type": "stream",
          "name": "stdout",
          "text": [
            "[493/500] Loss_D: -0.017 | Loss_G: -0.137 | Loss D real : -0.206 | Loss D fake : 0.141 | Loss D GP : 0.039 | Loss D CT : 0.010 | Time : 3.372\n"
          ]
        },
        {
          "output_type": "stream",
          "name": "stderr",
          "text": [
            "\rCT-GAN training loop:  99%|█████████▉| 494/500 [27:28<00:20,  3.36s/it]"
          ]
        },
        {
          "output_type": "stream",
          "name": "stdout",
          "text": [
            "[494/500] Loss_D: -0.021 | Loss_G: -0.150 | Loss D real : -0.217 | Loss D fake : 0.156 | Loss D GP : 0.032 | Loss D CT : 0.008 | Time : 3.323\n"
          ]
        },
        {
          "output_type": "stream",
          "name": "stderr",
          "text": [
            "\rCT-GAN training loop:  99%|█████████▉| 495/500 [27:32<00:16,  3.35s/it]"
          ]
        },
        {
          "output_type": "stream",
          "name": "stdout",
          "text": [
            "[495/500] Loss_D: -0.013 | Loss_G: -0.116 | Loss D real : -0.185 | Loss D fake : 0.118 | Loss D GP : 0.047 | Loss D CT : 0.006 | Time : 3.334\n"
          ]
        },
        {
          "output_type": "stream",
          "name": "stderr",
          "text": [
            "\rCT-GAN training loop:  99%|█████████▉| 496/500 [27:35<00:13,  3.35s/it]"
          ]
        },
        {
          "output_type": "stream",
          "name": "stdout",
          "text": [
            "[496/500] Loss_D: -0.020 | Loss_G: -0.146 | Loss D real : -0.211 | Loss D fake : 0.152 | Loss D GP : 0.033 | Loss D CT : 0.006 | Time : 3.340\n"
          ]
        },
        {
          "output_type": "stream",
          "name": "stderr",
          "text": [
            "\rCT-GAN training loop:  99%|█████████▉| 497/500 [27:38<00:10,  3.34s/it]"
          ]
        },
        {
          "output_type": "stream",
          "name": "stdout",
          "text": [
            "[497/500] Loss_D: -0.023 | Loss_G: -0.154 | Loss D real : -0.215 | Loss D fake : 0.152 | Loss D GP : 0.036 | Loss D CT : 0.004 | Time : 3.333\n"
          ]
        },
        {
          "output_type": "stream",
          "name": "stderr",
          "text": [
            "\rCT-GAN training loop: 100%|█████████▉| 498/500 [27:42<00:06,  3.35s/it]"
          ]
        },
        {
          "output_type": "stream",
          "name": "stdout",
          "text": [
            "[498/500] Loss_D: -0.025 | Loss_G: -0.146 | Loss D real : -0.215 | Loss D fake : 0.152 | Loss D GP : 0.031 | Loss D CT : 0.007 | Time : 3.371\n"
          ]
        },
        {
          "output_type": "stream",
          "name": "stderr",
          "text": [
            "\rCT-GAN training loop: 100%|█████████▉| 499/500 [27:45<00:03,  3.34s/it]"
          ]
        },
        {
          "output_type": "stream",
          "name": "stdout",
          "text": [
            "[499/500] Loss_D: -0.023 | Loss_G: -0.136 | Loss D real : -0.202 | Loss D fake : 0.138 | Loss D GP : 0.033 | Loss D CT : 0.007 | Time : 3.319\n"
          ]
        },
        {
          "output_type": "stream",
          "name": "stderr",
          "text": [
            "CT-GAN training loop: 100%|██████████| 500/500 [27:48<00:00,  3.34s/it]"
          ]
        },
        {
          "output_type": "stream",
          "name": "stdout",
          "text": [
            "[500/500] Loss_D: -0.023 | Loss_G: -0.146 | Loss D real : -0.208 | Loss D fake : 0.148 | Loss D GP : 0.031 | Loss D CT : 0.006 | Time : 3.352\n"
          ]
        },
        {
          "output_type": "stream",
          "name": "stderr",
          "text": [
            "\n"
          ]
        }
      ]
    },
    {
      "cell_type": "code",
      "source": [
        "# take a look at a result using a random latent vector as input\n",
        "\n",
        "random_input = torch.randn(100).to(device)\n",
        "x = gen_sine(random_input.unsqueeze(1).unsqueeze(0))\n",
        "x = x.detach().cpu()\n",
        "\n",
        "plt.plot(x.squeeze(0).squeeze(0))"
      ],
      "metadata": {
        "id": "-kXpZHX_ZLZr",
        "colab": {
          "base_uri": "https://localhost:8080/",
          "height": 467
        },
        "outputId": "936ba1a9-b751-43c2-daec-7295d8a3a584"
      },
      "execution_count": 15,
      "outputs": [
        {
          "output_type": "execute_result",
          "data": {
            "text/plain": [
              "[<matplotlib.lines.Line2D at 0x7fb8eec89880>]"
            ]
          },
          "metadata": {},
          "execution_count": 15
        },
        {
          "output_type": "display_data",
          "data": {
            "text/plain": [
              "<Figure size 640x480 with 1 Axes>"
            ],
            "image/png": "[encoded data removed]"
          },
          "metadata": {}
        }
      ]
    },
    {
      "cell_type": "code",
      "source": [
        "# save the weights of the models/generators\n",
        "torch.save(gen_sine.state_dict(), save_dir + 'Model Weights/sine_generator_weights.pkl')\n",
        "torch.save(gen_gaussian.state_dict(), save_dir + 'Model Weights/gaussian_generator_weights.pkl')"
      ],
      "metadata": {
        "id": "teV410Uz2MjT"
      },
      "execution_count": 16,
      "outputs": []
    }
  ]
}